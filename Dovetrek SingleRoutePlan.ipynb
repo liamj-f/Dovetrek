{
 "cells": [
  {
   "cell_type": "markdown",
   "metadata": {
    "application/vnd.databricks.v1+cell": {
     "cellMetadata": {
      "byteLimit": 2048000,
      "rowLimit": 10000
     },
     "inputWidgets": {},
     "nuid": "034b041b-0347-4bf4-811a-1b27f5c5c50d",
     "showTitle": false,
     "tableResultSettingsMap": {},
     "title": ""
    },
    "id": "7a_jyVYqZYAX"
   },
   "source": [
    "This notebook is for calculating distances, elevations and timings between Dovetrek checkpoints. It then produces a routecard for a set route.\n",
    "\n",
    "###Contents:\n",
    "* [Imports](#Imports)\n",
    "* [Start SparkSession](#Start-SparkSession)\n",
    "* [Set Parameters](#set-params)\n",
    "* [Get Secrets](#get-secrets)\n",
    "* [Fetch Checkpoint Information](#fetch-cp-info)\n",
    "* [Fetch Distances from Filestore](#)\n",
    "* [Calculate leg timings for each Checkpoint Combination](#cp-combo-times)\n",
    "* [Pick a route](#pick-route)\n",
    "* [Calculate route timings](#route-timings)\n",
    "* [Calculate checkpoint arrival and departure times for route](#route-times)"
   ]
  },
  {
   "cell_type": "markdown",
   "metadata": {
    "application/vnd.databricks.v1+cell": {
     "cellMetadata": {
      "byteLimit": 2048000,
      "rowLimit": 10000
     },
     "inputWidgets": {},
     "nuid": "974bdc0f-952f-42ad-998d-771f9c457da5",
     "showTitle": false,
     "tableResultSettingsMap": {},
     "title": ""
    },
    "id": "QAc_bwqZZaGL"
   },
   "source": [
    "### Imports"
   ]
  },
  {
   "cell_type": "code",
   "execution_count": 0,
   "metadata": {
    "application/vnd.databricks.v1+cell": {
     "cellMetadata": {
      "byteLimit": 2048000,
      "rowLimit": 10000
     },
     "inputWidgets": {},
     "nuid": "af05a933-18fa-48f8-8438-daecd4fe97c4",
     "showTitle": false,
     "tableResultSettingsMap": {},
     "title": ""
    },
    "id": "YApO83OGZOji"
   },
   "outputs": [],
   "source": [
    "from pyspark.sql.functions import col, expr, first\n",
    "from pyspark.sql import functions as F, DataFrame, Window, SparkSession\n",
    "from pyspark.sql.types import StructType, StructField, StringType, DoubleType, FloatType, ArrayType, TimestampType\n",
    "from datetime import datetime, time, timedelta\n",
    "import requests\n",
    "import time\n",
    "import ipywidgets\n",
    "import base64\n",
    "import getpass\n",
    "import builtins\n",
    "import json\n",
    "from io import BytesIO, StringIO\n",
    "import itertools\n",
    "from functools import reduce\n",
    "import numpy as np"
   ]
  },
  {
   "cell_type": "markdown",
   "metadata": {
    "application/vnd.databricks.v1+cell": {
     "cellMetadata": {
      "byteLimit": 2048000,
      "rowLimit": 10000
     },
     "inputWidgets": {},
     "nuid": "71915dae-0963-4246-a3ec-c43a31443c61",
     "showTitle": false,
     "tableResultSettingsMap": {},
     "title": ""
    },
    "id": "wa4P4R38ZiJB"
   },
   "source": [
    "### Start SparkSession"
   ]
  },
  {
   "cell_type": "code",
   "execution_count": 0,
   "metadata": {
    "application/vnd.databricks.v1+cell": {
     "cellMetadata": {
      "byteLimit": 2048000,
      "rowLimit": 10000
     },
     "inputWidgets": {},
     "nuid": "c561ed46-1f70-4e34-a340-5df2ff94f437",
     "showTitle": false,
     "tableResultSettingsMap": {},
     "title": ""
    },
    "id": "yx0kFjIVZOjl",
    "outputId": "35be56e4-03bb-4b26-b091-a73acc6a055e"
   },
   "outputs": [
    {
     "output_type": "stream",
     "name": "stdout",
     "output_type": "stream",
     "text": [
      "+---+-----+\n| id| name|\n+---+-----+\n|  1|Alice|\n|  2|  Bob|\n+---+-----+\n\n"
     ]
    }
   ],
   "source": [
    "try:\n",
    "    SparkSession.active()\n",
    "except:\n",
    "    spark = SparkSession.builder \\\n",
    "        .appName(\"BinderPySpark\") \\\n",
    "        .config(\"spark.sql.execution.arrow.pyspark.enabled\", \"true\") \\\n",
    "        .getOrCreate()\n",
    "else:\n",
    "    SparkSession.active()\n",
    "finally:\n",
    "    # Test if Spark is working\n",
    "    df = spark.createDataFrame([(1, \"Alice\"), (2, \"Bob\")], [\"id\", \"name\"])\n",
    "    df.show()\n",
    "    df.unpersist()"
   ]
  },
  {
   "cell_type": "markdown",
   "metadata": {
    "application/vnd.databricks.v1+cell": {
     "cellMetadata": {
      "byteLimit": 2048000,
      "rowLimit": 10000
     },
     "inputWidgets": {},
     "nuid": "1ed04aa7-1247-4b7d-b51c-00ddf52249db",
     "showTitle": false,
     "tableResultSettingsMap": {},
     "title": ""
    },
    "id": "BWoF_LmEZpMj"
   },
   "source": [
    "### Set Parameters"
   ]
  },
  {
   "cell_type": "code",
   "execution_count": 0,
   "metadata": {
    "application/vnd.databricks.v1+cell": {
     "cellMetadata": {
      "byteLimit": 2048000,
      "rowLimit": 10000
     },
     "inputWidgets": {},
     "nuid": "4fa98d0e-d3ed-4eb5-9a4e-7c531fac5b79",
     "showTitle": false,
     "tableResultSettingsMap": {},
     "title": ""
    },
    "colab": {
     "referenced_widgets": [
      "e8d622abd61244929633f9eb93f6960e",
      "9b144f4d46834015b8942cb6a77dd064",
      "56d33737e6954af1bc81b1d1308dd39f",
      "d293bc84854240c4a818e58bb547a467",
      "7238619f07944aebaacf43cf3b8e255b",
      "76517253c8344979932253b8fc5520d1"
     ]
    },
    "id": "0vovZWvDZOjn",
    "outputId": "fd0d53e2-39ba-4dc5-dc0b-5851fdcf3a93"
   },
   "outputs": [
    {
     "output_type": "stream",
     "name": "stdout",
     "output_type": "stream",
     "text": [
      "Competition Year: 2025 \nAPI Service: Azure Maps & OpenTopoData \nStopTimeAtCheckPoints: 7 minutes \nAddMinutesPer100mHeight: 10 minutes \nSpeed: 5.30 km/h \nStartTime: 1900-01-01 10:00:00\n"
     ]
    }
   ],
   "source": [
    "Year_List = [\"2025\", \"2024\", \"2019\", \"2018\", \"2017\"]\n",
    "API_Service_List = [\"Bing Maps\",\"Google Maps\", \"OpenRouteService\",\"Azure Maps & OpenTopoData\"]\n",
    "\n",
    "try:\n",
    "  dbutils.widgets.dropdown(\"Competition_Year\", \"2025\", Year_List)\n",
    "  Competition_Year = dbutils.widgets.get(\"Competition_Year\")\n",
    "\n",
    "  dbutils.widgets.dropdown(\"API_Service\", \"Google Maps\", API_Service_List)\n",
    "  API_Service = dbutils.widgets.get(\"API_Service\")\n",
    "\n",
    "  dbutils.widgets.text(\"Dwell\", \"7\")\n",
    "  StopTimeAtCheckPoints = dbutils.widgets.get(\"Dwell\")\n",
    "\n",
    "  dbutils.widgets.text(\"Speed\", \"5.30\")\n",
    "  Speed = dbutils.widgets.get(\"Speed\")\n",
    "\n",
    "  dbutils.widgets.text(\"StartTime\", \"10:00:00\")\n",
    "  StartTime =  datetime.strptime(dbutils.widgets.get(\"StartTime\"), '%H:%M:%S')\n",
    "\n",
    "  dbutils.widgets.text(\"Naismith\", \"10\")\n",
    "  AddMinutesPer100mHeight = dbutils.widgets.get(\"Naismith\")\n",
    "\n",
    "except:\n",
    "  Competition_Year_Picker = ipywidgets.Dropdown(options=Year_List, value = '2024', description = 'Pick a competition year:')\n",
    "  API_Service_Picker = ipywidgets.Dropdown(options=API_Service_List, value = \"Google Maps\", description = 'Pick an API Service for distance & elevations:')\n",
    "  StopTimePicker = ipywidgets.IntSlider(value = 7\n",
    "                                            , min = 0\n",
    "                                            , max= 20\n",
    "                                            , description = 'Pick a time in minutes to stop at checkpoints'\n",
    "                                            , readout = True\n",
    "                                          , step = 1)\n",
    "  NaismithPicker = ipywidgets.IntSlider(value = 10\n",
    "                                            , min = 0\n",
    "                                            , max= 20\n",
    "                                            , description = 'Add minutes per 100m elevation gain'\n",
    "                                            , readout = True\n",
    "                                          , step = 1)\n",
    "  SpeedPicker = ipywidgets.FloatSlider(\n",
    "                                          value=5.3,\n",
    "                                          min=0,\n",
    "                                          max=10.0,\n",
    "                                          step=0.1,\n",
    "                                          description='Hiking speed:',\n",
    "                                          disabled=False,\n",
    "                                          continuous_update=False,\n",
    "                                          orientation='horizontal',\n",
    "                                          readout=True,\n",
    "                                          readout_format='.1f',\n",
    "                                      )\n",
    "  StartTimePicker = ipywidgets.Text(\n",
    "                                              description='Type a StartTime in the format HH:MM:SS',\n",
    "                                              value = '10:00:00',\n",
    "                                              disabled=False\n",
    "                                          )\n",
    "  display(Competition_Year_Picker)\n",
    "  display(API_Service_Picker)\n",
    "  display(StopTimePicker)\n",
    "  display(NaismithPicker)\n",
    "  display(StartTimePicker)\n",
    "  display(SpeedPicker)\n",
    "\n",
    "  input(\"Fill and ctrl + enter when all parameters are set to the desired state\")\n",
    "\n",
    "  Competition_Year = Competition_Year_Picker.value\n",
    "  API_Service = API_Service_Picker.value\n",
    "  StopTimeAtCheckPoints = StopTimePicker.value\n",
    "  AddMinutesPer100mHeight = NaismithPicker.value\n",
    "  Speed = SpeedPicker.value\n",
    "  StartTime = datetime.strptime(StartTimePicker.value, '%H:%M:%S')\n",
    "\n",
    "finally:\n",
    "\n",
    "  FinishTime = StartTime + timedelta(hours=7)\n",
    "  print(f\"Competition Year: {Competition_Year} \\nAPI Service: {API_Service} \\nStopTimeAtCheckPoints: {StopTimeAtCheckPoints} minutes \\nAddMinutesPer100mHeight: {AddMinutesPer100mHeight} minutes \\nSpeed: {Speed} km/h \\nStartTime: {StartTime}\")\n"
   ]
  },
  {
   "cell_type": "markdown",
   "metadata": {
    "application/vnd.databricks.v1+cell": {
     "cellMetadata": {
      "byteLimit": 2048000,
      "rowLimit": 10000
     },
     "inputWidgets": {},
     "nuid": "a3c45915-ce7b-4e0c-a784-4a009f3e5e3d",
     "showTitle": false,
     "tableResultSettingsMap": {},
     "title": ""
    },
    "id": "lMkpnzqVZu6W"
   },
   "source": [
    "### Get Secrets"
   ]
  },
  {
   "cell_type": "code",
   "execution_count": 0,
   "metadata": {
    "application/vnd.databricks.v1+cell": {
     "cellMetadata": {
      "byteLimit": 2048000,
      "rowLimit": 10000
     },
     "inputWidgets": {},
     "nuid": "660733c6-b8a4-4e17-9bb5-ba533297d8b0",
     "showTitle": false,
     "tableResultSettingsMap": {},
     "title": ""
    },
    "id": "UkBI5kXJZOjn",
    "outputId": "3698814d-2b3d-4cd2-ff88-3be990b0f3ad"
   },
   "outputs": [
    {
     "output_type": "display_data",
     "data": {
      "text/plain": [
       "Enter your GitHub Secrets Repo PAT:  [REDACTED]"
      ]
     },
     "metadata": {},
     "output_type": "display_data"
    },
    {
     "output_type": "stream",
     "name": "stdout",
     "output_type": "stream",
     "text": [
      "✅ Secrets loaded successfully!\n"
     ]
    }
   ],
   "source": [
    "GitHubPAT = getpass.getpass(\"Enter your GitHub Secrets Repo PAT: \")  # Prompt for PAT if not set\n",
    "\n",
    "# 🔹 GitHub API URL to get the file\n",
    "url = f\"https://api.github.com/repos/liamj-f/Secrets/contents/Dovetrek_Secrets.json\"\n",
    "\n",
    "# 🔹 GitHub API headers\n",
    "headers = {\"Authorization\": f\"token {GitHubPAT}\"}\n",
    "\n",
    "# 🔹 Fetch the secrets file\n",
    "response = requests.get(url, headers=headers)\n",
    "\n",
    "if response.status_code == 200:\n",
    "    # Decode Base64 content\n",
    "    content = response.json()[\"content\"]\n",
    "    decoded_content = base64.b64decode(content).decode(\"utf-8\")\n",
    "\n",
    "    # Load JSON into a dictionary\n",
    "    secrets = json.loads(decoded_content)\n",
    "\n",
    "    # 🔹 Assign values to variables\n",
    "    BingMapsAPIKey = secrets.get(\"BingMApsAPIKey\", \"\")\n",
    "    AzureMapsAPIKey = secrets.get(\"AzureMapsAPIKey\", \"\")\n",
    "    OrdnanceSurveyAPIKey = secrets.get(\"OrdnanceSurveyAPIKey\", \"\")\n",
    "    OpenRouteServiceAPIKey = secrets.get(\"OpenRouteServiceAPIKey\", \"\")\n",
    "    GoogleMapsAPIKey = secrets.get(\"GoogleMapsAPIKey\", \"\")\n",
    "    DovetrekRepoPAT = secrets.get(\"DovetrekRepoPAT\", \"\")\n",
    "\n",
    "    print(\"✅ Secrets loaded successfully!\")\n",
    "\n",
    "else:\n",
    "    print(f\"❌ Error: {response.status_code} - {response.text}\")\n"
   ]
  },
  {
   "cell_type": "markdown",
   "metadata": {
    "application/vnd.databricks.v1+cell": {
     "cellMetadata": {
      "byteLimit": 2048000,
      "rowLimit": 10000
     },
     "inputWidgets": {},
     "nuid": "316cf1e3-a2c3-42b4-b086-5b3001d30c31",
     "showTitle": false,
     "tableResultSettingsMap": {},
     "title": ""
    },
    "id": "n5Ey-Z8caLSx"
   },
   "source": [
    "### Fetch Checkpoint information"
   ]
  },
  {
   "cell_type": "code",
   "execution_count": 0,
   "metadata": {
    "application/vnd.databricks.v1+cell": {
     "cellMetadata": {
      "byteLimit": 2048000,
      "rowLimit": 10000
     },
     "inputWidgets": {},
     "nuid": "c89cd91e-5df2-4de3-9adb-a2030859bfe6",
     "showTitle": false,
     "tableResultSettingsMap": {},
     "title": ""
    },
    "id": "ntc4Wr6rZOjo"
   },
   "outputs": [],
   "source": [
    "# GitHub API URL for file content\n",
    "url = f\"https://api.github.com/repos/liamj-f/Dovetrek/contents/CheckpointData/Openings_{Competition_Year}.csv\"\n",
    "\n",
    "# Fetch file content\n",
    "response = requests.get(url)\n",
    "content = response.json()[\"content\"]\n",
    "decoded_content = base64.b64decode(content).decode(\"utf-8\")\n",
    "csv_lines = decoded_content.split(\"\\n\")\n",
    "# Create an RDD from the list\n",
    "rdd = spark.sparkContext.parallelize(csv_lines)\n",
    "# Convert RDD to DataFrame\n",
    "openings_df = spark.read.csv(rdd, header=True, inferSchema=True)"
   ]
  },
  {
   "cell_type": "markdown",
   "metadata": {
    "application/vnd.databricks.v1+cell": {
     "cellMetadata": {},
     "inputWidgets": {},
     "nuid": "42184de3-8959-4ec2-976e-98d7285cb5aa",
     "showTitle": false,
     "tableResultSettingsMap": {},
     "title": ""
    }
   },
   "source": [
    "### List Filestore contents"
   ]
  },
  {
   "cell_type": "code",
   "execution_count": 0,
   "metadata": {
    "application/vnd.databricks.v1+cell": {
     "cellMetadata": {
      "byteLimit": 2048000,
      "rowLimit": 10000
     },
     "inputWidgets": {},
     "nuid": "585ae3a0-4628-4e47-a296-b4b4b4d41219",
     "showTitle": false,
     "tableResultSettingsMap": {},
     "title": ""
    }
   },
   "outputs": [
    {
     "output_type": "execute_result",
     "data": {
      "text/plain": [
       "[{'name': 'Distances_DF_2025_Azure Maps & OpenTopoData_2025-02-23.csv',\n",
       "  'path': 'DataFrames/Distances_DF_2025_Azure Maps & OpenTopoData_2025-02-23.csv',\n",
       "  'sha': '7d1d3a863ac353970da56c8576bc6fcb64642c78',\n",
       "  'size': 8170,\n",
       "  'url': 'https://api.github.com/repos/liamj-f/Dovetrek/contents/DataFrames/Distances_DF_2025_Azure%20Maps%20&%20OpenTopoData_2025-02-23.csv?ref=FileStore',\n",
       "  'html_url': 'https://github.com/liamj-f/Dovetrek/blob/FileStore/DataFrames/Distances_DF_2025_Azure%20Maps%20&%20OpenTopoData_2025-02-23.csv',\n",
       "  'git_url': 'https://api.github.com/repos/liamj-f/Dovetrek/git/blobs/7d1d3a863ac353970da56c8576bc6fcb64642c78',\n",
       "  'download_url': 'https://raw.githubusercontent.com/liamj-f/Dovetrek/FileStore/DataFrames/Distances_DF_2025_Azure%20Maps%20%26%20OpenTopoData_2025-02-23.csv',\n",
       "  'type': 'file',\n",
       "  '_links': {'self': 'https://api.github.com/repos/liamj-f/Dovetrek/contents/DataFrames/Distances_DF_2025_Azure%20Maps%20&%20OpenTopoData_2025-02-23.csv?ref=FileStore',\n",
       "   'git': 'https://api.github.com/repos/liamj-f/Dovetrek/git/blobs/7d1d3a863ac353970da56c8576bc6fcb64642c78',\n",
       "   'html': 'https://github.com/liamj-f/Dovetrek/blob/FileStore/DataFrames/Distances_DF_2025_Azure%20Maps%20&%20OpenTopoData_2025-02-23.csv'}},\n",
       " {'name': 'Distances_DF_2025_Bing Maps_2025-02-25.csv',\n",
       "  'path': 'DataFrames/Distances_DF_2025_Bing Maps_2025-02-25.csv',\n",
       "  'sha': '1c853506100ab1e34504e5169bd8044891dcf8b0',\n",
       "  'size': 5962,\n",
       "  'url': 'https://api.github.com/repos/liamj-f/Dovetrek/contents/DataFrames/Distances_DF_2025_Bing%20Maps_2025-02-25.csv?ref=FileStore',\n",
       "  'html_url': 'https://github.com/liamj-f/Dovetrek/blob/FileStore/DataFrames/Distances_DF_2025_Bing%20Maps_2025-02-25.csv',\n",
       "  'git_url': 'https://api.github.com/repos/liamj-f/Dovetrek/git/blobs/1c853506100ab1e34504e5169bd8044891dcf8b0',\n",
       "  'download_url': 'https://raw.githubusercontent.com/liamj-f/Dovetrek/FileStore/DataFrames/Distances_DF_2025_Bing%20Maps_2025-02-25.csv',\n",
       "  'type': 'file',\n",
       "  '_links': {'self': 'https://api.github.com/repos/liamj-f/Dovetrek/contents/DataFrames/Distances_DF_2025_Bing%20Maps_2025-02-25.csv?ref=FileStore',\n",
       "   'git': 'https://api.github.com/repos/liamj-f/Dovetrek/git/blobs/1c853506100ab1e34504e5169bd8044891dcf8b0',\n",
       "   'html': 'https://github.com/liamj-f/Dovetrek/blob/FileStore/DataFrames/Distances_DF_2025_Bing%20Maps_2025-02-25.csv'}}]"
      ]
     },
     "execution_count": 118,
     "metadata": {},
     "output_type": "execute_result"
    }
   ],
   "source": [
    "url = f\"https://api.github.com/repos/liamj-f/Dovetrek/contents/DataFrames\"\n",
    "\n",
    "params = {\"ref\": \"FileStore\", \n",
    "          \"Authorization\": DovetrekRepoPAT}\n",
    "\n",
    "response = requests.get(url, params=params, headers=headers)\n",
    "\n",
    "response.json()\n",
    "\n"
   ]
  },
  {
   "cell_type": "markdown",
   "metadata": {
    "application/vnd.databricks.v1+cell": {
     "cellMetadata": {},
     "inputWidgets": {},
     "nuid": "069ea423-8b71-4611-b672-ac3d63b94eca",
     "showTitle": false,
     "tableResultSettingsMap": {},
     "title": ""
    }
   },
   "source": [
    "### Get the Latest File"
   ]
  },
  {
   "cell_type": "code",
   "execution_count": 0,
   "metadata": {
    "application/vnd.databricks.v1+cell": {
     "cellMetadata": {
      "byteLimit": 2048000,
      "rowLimit": 10000
     },
     "inputWidgets": {},
     "nuid": "7077bfe4-e975-4d75-b3aa-ef4e7636123e",
     "showTitle": false,
     "tableResultSettingsMap": {},
     "title": ""
    }
   },
   "outputs": [
    {
     "output_type": "stream",
     "name": "stdout",
     "output_type": "stream",
     "text": [
      "Latest matching file: Distances_DF_2025_Azure Maps & OpenTopoData_2025-02-23.csv\nDownload URL: https://raw.githubusercontent.com/liamj-f/Dovetrek/FileStore/DataFrames/Distances_DF_2025_Azure%20Maps%20%26%20OpenTopoData_2025-02-23.csv\n"
     ]
    }
   ],
   "source": [
    "import fnmatch\n",
    "import urllib\n",
    "# Define the pattern with wildcard\n",
    "pattern = \"Distances_DF_2025_Azure Maps & OpenTopoData_*.csv\"\n",
    "\n",
    "# Filter files matching the pattern\n",
    "matched_files = [file for file in response.json() if fnmatch.fnmatch(file[\"name\"], pattern)]\n",
    "\n",
    "# Sort by date in filename (YYYY-MM-DD at the end)\n",
    "matched_files.sort(key=lambda x: x[\"name\"].split(\"_\")[-1], reverse=True)\n",
    "\n",
    "# Get the latest matching file\n",
    "latest_file = matched_files[0] if matched_files else None\n",
    "\n",
    "if latest_file:\n",
    "    print(\"Latest matching file:\", latest_file[\"name\"])\n",
    "    print(\"Download URL:\", latest_file[\"download_url\"])\n",
    "else:\n",
    "    print(\"No matching files found.\")\n",
    "\n",
    "latest_file = latest_file['name']\n",
    "latest_file = urllib.parse.quote(latest_file)\n"
   ]
  },
  {
   "cell_type": "markdown",
   "metadata": {
    "application/vnd.databricks.v1+cell": {
     "cellMetadata": {
      "byteLimit": 2048000,
      "rowLimit": 10000
     },
     "inputWidgets": {},
     "nuid": "d5435621-b167-466b-8e7b-3c1494332e2d",
     "showTitle": false,
     "tableResultSettingsMap": {},
     "title": ""
    },
    "id": "oMV1YQAeH8-F"
   },
   "source": [
    "### Fetch Distances_DF csv to GitHub filestore"
   ]
  },
  {
   "cell_type": "code",
   "execution_count": 0,
   "metadata": {
    "application/vnd.databricks.v1+cell": {
     "cellMetadata": {
      "byteLimit": 2048000,
      "rowLimit": 10000
     },
     "inputWidgets": {},
     "nuid": "d78d845d-183c-4361-8c3b-0dfe82f02b62",
     "showTitle": false,
     "tableResultSettingsMap": {},
     "title": ""
    },
    "id": "X9QXGu2xH8p8"
   },
   "outputs": [
    {
     "output_type": "display_data",
     "data": {
      "text/html": [
       "<style scoped>\n",
       "  .table-result-container {\n",
       "    max-height: 300px;\n",
       "    overflow: auto;\n",
       "  }\n",
       "  table, th, td {\n",
       "    border: 1px solid black;\n",
       "    border-collapse: collapse;\n",
       "  }\n",
       "  th, td {\n",
       "    padding: 5px;\n",
       "  }\n",
       "  th {\n",
       "    text-align: left;\n",
       "  }\n",
       "</style><div class='table-result-container'><table class='table-result'><thead style='background-color: white'><tr><th>StartCP</th><th>FinishCP</th><th>Distance</th><th>Height_Gain</th></tr></thead><tbody><tr><td>CP1</td><td>CP2</td><td>1.997</td><td>47.820038</td></tr><tr><td>CP1</td><td>CP3</td><td>3.288</td><td>81.472595</td></tr><tr><td>CP1</td><td>CP4</td><td>10.511</td><td>260.00488</td></tr><tr><td>CP1</td><td>CP5</td><td>5.531</td><td>82.841</td></tr><tr><td>CP1</td><td>CP6</td><td>4.331</td><td>47.787582</td></tr><tr><td>CP1</td><td>CP7</td><td>0.458</td><td>1.0333252</td></tr><tr><td>CP1</td><td>E1</td><td>0.956</td><td>32.138275</td></tr><tr><td>CP1</td><td>E10U</td><td>2.758</td><td>107.77533</td></tr><tr><td>CP1</td><td>E2R</td><td>3.405</td><td>135.88821</td></tr><tr><td>CP1</td><td>E3</td><td>3.515</td><td>5.1418915</td></tr><tr><td>CP1</td><td>E4R</td><td>5.317</td><td>87.27507</td></tr><tr><td>CP1</td><td>E5</td><td>5.216</td><td>48.097046</td></tr><tr><td>CP1</td><td>E6</td><td>7.476</td><td>84.72043</td></tr><tr><td>CP1</td><td>E7U</td><td>10.038</td><td>215.43356</td></tr><tr><td>CP1</td><td>E8</td><td>9.48</td><td>110.054245</td></tr><tr><td>CP1</td><td>E9U</td><td>3.194</td><td>46.693512</td></tr><tr><td>CP1</td><td>Finish</td><td>1.528</td><td>7.3472595</td></tr><tr><td>CP1</td><td>Start</td><td>4.965</td><td>81.472595</td></tr><tr><td>CP2</td><td>CP1</td><td>1.997</td><td>23.68158</td></tr><tr><td>CP2</td><td>CP3</td><td>1.737</td><td>42.677673</td></tr><tr><td>CP2</td><td>CP4</td><td>8.96</td><td>221.20996</td></tr><tr><td>CP2</td><td>CP5</td><td>3.98</td><td>44.04608</td></tr><tr><td>CP2</td><td>CP6</td><td>2.511</td><td>5.9979706</td></tr><tr><td>CP2</td><td>CP7</td><td>2.455</td><td>24.714905</td></tr><tr><td>CP2</td><td>E1</td><td>2.953</td><td>55.819855</td></tr><tr><td>CP2</td><td>E10U</td><td>4.755</td><td>131.45691</td></tr><tr><td>CP2</td><td>E2R</td><td>1.854</td><td>97.09329</td></tr><tr><td>CP2</td><td>E3</td><td>5.511</td><td>28.823471</td></tr><tr><td>CP2</td><td>E4R</td><td>3.496</td><td>45.48546</td></tr><tr><td>CP2</td><td>E5</td><td>3.396</td><td>6.307434</td></tr><tr><td>CP2</td><td>E6</td><td>5.925</td><td>45.925507</td></tr><tr><td>CP2</td><td>E7U</td><td>8.487</td><td>176.63864</td></tr><tr><td>CP2</td><td>E8</td><td>7.66</td><td>68.26463</td></tr><tr><td>CP2</td><td>E9U</td><td>1.373</td><td>4.9039</td></tr><tr><td>CP2</td><td>Finish</td><td>3.524</td><td>31.02884</td></tr><tr><td>CP2</td><td>Start</td><td>3.414</td><td>42.677673</td></tr><tr><td>CP3</td><td>CP1</td><td>3.288</td><td>27.417755</td></tr><tr><td>CP3</td><td>CP2</td><td>1.737</td><td>12.7612915</td></tr><tr><td>CP3</td><td>CP4</td><td>7.223</td><td>178.53229</td></tr><tr><td>CP3</td><td>CP5</td><td>2.243</td><td>1.3684082</td></tr><tr><td>CP3</td><td>CP6</td><td>4.071</td><td>12.728836</td></tr><tr><td>CP3</td><td>CP7</td><td>3.746</td><td>28.45108</td></tr><tr><td>CP3</td><td>E1</td><td>4.244</td><td>59.55603</td></tr><tr><td>CP3</td><td>E10U</td><td>6.046</td><td>135.19308</td></tr><tr><td>CP3</td><td>E2R</td><td>2.86</td><td>89.77756</td></tr><tr><td>CP3</td><td>E3</td><td>6.802</td><td>32.559647</td></tr><tr><td>CP3</td><td>E4R</td><td>5.056</td><td>52.216324</td></tr><tr><td>CP3</td><td>E5</td><td>4.956</td><td>13.0383</td></tr><tr><td>CP3</td><td>E6</td><td>4.188</td><td>3.2478333</td></tr><tr><td>CP3</td><td>E7U</td><td>6.751</td><td>133.96097</td></tr><tr><td>CP3</td><td>E8</td><td>6.352</td><td>17.950798</td></tr><tr><td>CP3</td><td>E9U</td><td>2.934</td><td>11.634766</td></tr><tr><td>CP3</td><td>Finish</td><td>4.816</td><td>34.765015</td></tr><tr><td>CP3</td><td>Start</td><td>1.677</td><td>0.0</td></tr><tr><td>CP4</td><td>CP1</td><td>10.511</td><td>256.02798</td></tr><tr><td>CP4</td><td>CP2</td><td>8.96</td><td>241.37152</td></tr><tr><td>CP4</td><td>CP3</td><td>7.223</td><td>228.61023</td></tr><tr><td>CP4</td><td>CP5</td><td>4.98</td><td>139.13629</td></tr><tr><td>CP4</td><td>CP6</td><td>6.527</td><td>112.468346</td></tr><tr><td>CP4</td><td>CP7</td><td>10.969</td><td>257.0613</td></tr><tr><td>CP4</td><td>E1</td><td>11.467</td><td>288.16626</td></tr><tr><td>CP4</td><td>E10U</td><td>12.333</td><td>345.1745</td></tr><tr><td>CP4</td><td>E2R</td><td>10.083</td><td>318.3878</td></tr><tr><td>CP4</td><td>E3</td><td>8.692</td><td>123.902626</td></tr><tr><td>CP4</td><td>E4R</td><td>7.062</td><td>140.22617</td></tr><tr><td>CP4</td><td>E5</td><td>5.642</td><td>56.940773</td></tr><tr><td>CP4</td><td>E6</td><td>3.035</td><td>37.003403</td></tr><tr><td>CP4</td><td>E7U</td><td>0.473</td><td>0.0</td></tr><tr><td>CP4</td><td>E8</td><td>2.035</td><td>5.496788</td></tr><tr><td>CP4</td><td>E9U</td><td>7.665</td><td>186.07724</td></tr><tr><td>CP4</td><td>Finish</td><td>10.643</td><td>227.28336</td></tr><tr><td>CP4</td><td>Start</td><td>5.546</td><td>168.77472</td></tr><tr><td>CP5</td><td>CP1</td><td>5.531</td><td>116.89169</td></tr><tr><td>CP5</td><td>CP2</td><td>3.98</td><td>102.23523</td></tr><tr><td>CP5</td><td>CP3</td><td>2.243</td><td>89.47394</td></tr><tr><td>CP5</td><td>CP4</td><td>4.98</td><td>177.16388</td></tr><tr><td>CP5</td><td>CP6</td><td>5.632</td><td>105.74305</td></tr><tr><td>CP5</td><td>CP7</td><td>5.989</td><td>117.92502</td></tr><tr><td>CP5</td><td>E1</td><td>6.487</td><td>149.02997</td></tr><tr><td>CP5</td><td>E10U</td><td>8.289</td><td>224.66702</td></tr><tr><td>CP5</td><td>E2R</td><td>5.103</td><td>179.2515</td></tr><tr><td>CP5</td><td>E3</td><td>7.797</td><td>117.17733</td></tr><tr><td>CP5</td><td>E4R</td><td>6.167</td><td>133.50089</td></tr><tr><td>CP5</td><td>E5</td><td>4.746</td><td>50.215477</td></tr><tr><td>CP5</td><td>E6</td><td>1.945</td><td>1.879425</td></tr><tr><td>CP5</td><td>E7U</td><td>4.507</td><td>132.59256</td></tr><tr><td>CP5</td><td>E8</td><td>4.109</td><td>16.58239</td></tr><tr><td>CP5</td><td>E9U</td><td>5.177</td><td>101.1087</td></tr><tr><td>CP5</td><td>Finish</td><td>7.059</td><td>124.23895</td></tr><tr><td>CP5</td><td>Start</td><td>0.566</td><td>29.638428</td></tr><tr><td>CP6</td><td>CP1</td><td>4.331</td><td>162.80408</td></tr><tr><td>CP6</td><td>CP2</td><td>2.511</td><td>145.15292</td></tr><tr><td>CP6</td><td>CP3</td><td>4.071</td><td>181.80017</td></tr><tr><td>CP6</td><td>CP4</td><td>6.527</td><td>231.46173</td></tr><tr><td>CP6</td><td>CP5</td><td>5.632</td><td>186.70886</td></tr><tr><td>CP6</td><td>CP7</td><td>4.789</td><td>163.8374</td></tr><tr><td>CP6</td><td>E1</td><td>5.287</td><td>194.94235</td></tr><tr><td>CP6</td><td>E10U</td><td>7.089</td><td>270.5794</td></tr><tr><td>CP6</td><td>E2R</td><td>4.189</td><td>236.21579</td></tr><tr><td>CP6</td><td>E3</td><td>4.698</td><td>79.41576</td></tr><tr><td>CP6</td><td>E4R</td><td>0.985</td><td>39.487488</td></tr><tr><td>CP6</td><td>E5</td><td>0.885</td><td>0.3094635</td></tr><tr><td>CP6</td><td>E6</td><td>4.09</td><td>90.24265</td></tr><tr><td>CP6</td><td>E7U</td><td>6.055</td><td>186.89041</td></tr><tr><td>CP6</td><td>E8</td><td>5.149</td><td>62.266663</td></tr><tr><td>CP6</td><td>E9U</td><td>1.137</td><td>73.60889</td></tr><tr><td>CP6</td><td>Finish</td><td>5.859</td><td>170.15134</td></tr><tr><td>CP6</td><td>Start</td><td>5.748</td><td>181.80017</td></tr><tr><td>CP7</td><td>CP1</td><td>0.458</td><td>12.316406</td></tr><tr><td>CP7</td><td>CP2</td><td>2.455</td><td>60.136444</td></tr><tr><td>CP7</td><td>CP3</td><td>3.746</td><td>93.789</td></tr><tr><td>CP7</td><td>CP4</td><td>10.969</td><td>272.3213</td></tr><tr><td>CP7</td><td>CP5</td><td>5.989</td><td>95.15741</td></tr><tr><td>CP7</td><td>CP6</td><td>4.789</td><td>60.10399</td></tr><tr><td>CP7</td><td>E1</td><td>0.533</td><td>32.862335</td></tr><tr><td>CP7</td><td>E10U</td><td>2.3</td><td>106.742004</td></tr><tr><td>CP7</td><td>E2R</td><td>3.864</td><td>148.20462</td></tr><tr><td>CP7</td><td>E3</td><td>3.056</td><td>4.1085663</td></tr><tr><td>CP7</td><td>E4R</td><td>5.775</td><td>99.59148</td></tr><tr><td>CP7</td><td>E5</td><td>5.675</td><td>60.413452</td></tr><tr><td>CP7</td><td>E6</td><td>7.934</td><td>97.036835</td></tr><tr><td>CP7</td><td>E7U</td><td>10.496</td><td>227.74997</td></tr><tr><td>CP7</td><td>E8</td><td>9.938</td><td>122.37065</td></tr><tr><td>CP7</td><td>E9U</td><td>3.652</td><td>59.00992</td></tr><tr><td>CP7</td><td>Finish</td><td>1.07</td><td>6.3139343</td></tr><tr><td>CP7</td><td>Start</td><td>5.423</td><td>93.789</td></tr><tr><td>E1</td><td>CP1</td><td>0.956</td><td>11.151825</td></tr><tr><td>E1</td><td>CP2</td><td>2.953</td><td>58.971863</td></tr><tr><td>E1</td><td>CP3</td><td>4.244</td><td>92.62442</td></tr><tr><td>E1</td><td>CP4</td><td>11.467</td><td>271.1567</td></tr><tr><td>E1</td><td>CP5</td><td>6.487</td><td>93.99283</td></tr><tr><td>E1</td><td>CP6</td><td>5.287</td><td>58.939407</td></tr><tr><td>E1</td><td>CP7</td><td>0.533</td><td>0.59280396</td></tr><tr><td>E1</td><td>E10U</td><td>2.794</td><td>106.742004</td></tr><tr><td>E1</td><td>E2R</td><td>4.362</td><td>147.04004</td></tr><tr><td>E1</td><td>E3</td><td>3.551</td><td>4.1085663</td></tr><tr><td>E1</td><td>E4R</td><td>6.273</td><td>98.426895</td></tr><tr><td>E1</td><td>E5</td><td>6.173</td><td>59.24887</td></tr><tr><td>E1</td><td>E6</td><td>8.432</td><td>95.87225</td></tr><tr><td>E1</td><td>E7U</td><td>10.994</td><td>226.58539</td></tr><tr><td>E1</td><td>E8</td><td>10.436</td><td>121.20607</td></tr><tr><td>E1</td><td>E9U</td><td>4.15</td><td>57.845337</td></tr><tr><td>E1</td><td>Finish</td><td>1.564</td><td>6.3139343</td></tr><tr><td>E1</td><td>Start</td><td>5.921</td><td>92.62442</td></tr><tr><td>E10U</td><td>CP1</td><td>2.758</td><td>58.14096</td></tr><tr><td>E10U</td><td>CP2</td><td>4.755</td><td>105.961</td></tr><tr><td>E10U</td><td>CP3</td><td>6.046</td><td>139.61356</td></tr><tr><td>E10U</td><td>CP4</td><td>12.333</td><td>299.51703</td></tr><tr><td>E10U</td><td>CP5</td><td>8.289</td><td>140.98196</td></tr><tr><td>E10U</td><td>CP6</td><td>7.089</td><td>105.92854</td></tr><tr><td>E10U</td><td>CP7</td><td>2.3</td><td>45.824554</td></tr><tr><td>E10U</td><td>E1</td><td>2.794</td><td>78.094086</td></tr><tr><td>E10U</td><td>E2R</td><td>6.163</td><td>194.02917</td></tr><tr><td>E10U</td><td>E3</td><td>3.692</td><td>4.733795</td></tr><tr><td>E10U</td><td>E4R</td><td>8.074</td><td>145.41603</td></tr><tr><td>E10U</td><td>E5</td><td>7.454</td><td>80.5092</td></tr><tr><td>E10U</td><td>E6</td><td>9.896</td><td>158.29794</td></tr><tr><td>E10U</td><td>E7U</td><td>11.861</td><td>254.94571</td></tr><tr><td>E10U</td><td>E8</td><td>10.955</td><td>130.32196</td></tr><tr><td>E10U</td><td>E9U</td><td>5.952</td><td>104.83447</td></tr><tr><td>E10U</td><td>Finish</td><td>1.7</td><td>4.4695435</td></tr><tr><td>E10U</td><td>Start</td><td>7.723</td><td>139.61356</td></tr><tr><td>E2R</td><td>CP1</td><td>3.405</td><td>16.143158</td></tr><tr><td>E2R</td><td>CP2</td><td>1.854</td><td>1.4866943</td></tr><tr><td>E2R</td><td>CP3</td><td>2.86</td><td>24.087341</td></tr><tr><td>E2R</td><td>CP4</td><td>10.083</td><td>202.61963</td></tr><tr><td>E2R</td><td>CP5</td><td>5.103</td><td>25.45575</td></tr><tr><td>E2R</td><td>CP6</td><td>4.189</td><td>1.4542389</td></tr><tr><td>E2R</td><td>CP7</td><td>3.864</td><td>17.176483</td></tr><tr><td>E2R</td><td>E1</td><td>4.362</td><td>48.281433</td></tr><tr><td>E2R</td><td>E10U</td><td>6.163</td><td>123.91849</td></tr><tr><td>E2R</td><td>E3</td><td>6.92</td><td>21.28505</td></tr><tr><td>E2R</td><td>E4R</td><td>5.174</td><td>40.941727</td></tr><tr><td>E2R</td><td>E5</td><td>5.074</td><td>1.7637024</td></tr><tr><td>E2R</td><td>E6</td><td>7.048</td><td>27.335175</td></tr><tr><td>E2R</td><td>E7U</td><td>9.61</td><td>158.04831</td></tr><tr><td>E2R</td><td>E8</td><td>9.212</td><td>42.03814</td></tr><tr><td>E2R</td><td>E9U</td><td>3.051</td><td>0.36016846</td></tr><tr><td>E2R</td><td>Finish</td><td>4.933</td><td>23.490417</td></tr><tr><td>E2R</td><td>Start</td><td>4.537</td><td>24.087341</td></tr><tr><td>E3</td><td>CP1</td><td>3.515</td><td>171.75548</td></tr><tr><td>E3</td><td>CP2</td><td>5.511</td><td>219.57552</td></tr><tr><td>E3</td><td>CP3</td><td>6.802</td><td>253.22807</td></tr><tr><td>E3</td><td>CP4</td><td>8.692</td><td>294.4931</td></tr><tr><td>E3</td><td>CP5</td><td>7.797</td><td>249.74023</td></tr><tr><td>E3</td><td>CP6</td><td>4.698</td><td>131.01285</td></tr><tr><td>E3</td><td>CP7</td><td>3.056</td><td>159.43907</td></tr><tr><td>E3</td><td>E1</td><td>3.551</td><td>191.7086</td></tr><tr><td>E3</td><td>E10U</td><td>3.692</td><td>220.98175</td></tr><tr><td>E3</td><td>E2R</td><td>6.92</td><td>307.64368</td></tr><tr><td>E3</td><td>E4R</td><td>5.233</td><td>158.77068</td></tr><tr><td>E3</td><td>E5</td><td>3.812</td><td>75.485275</td></tr><tr><td>E3</td><td>E6</td><td>6.254</td><td>153.27402</td></tr><tr><td>E3</td><td>E7U</td><td>8.22</td><td>249.92178</td></tr><tr><td>E3</td><td>E8</td><td>7.314</td><td>125.298035</td></tr><tr><td>E3</td><td>E9U</td><td>5.835</td><td>204.62173</td></tr><tr><td>E3</td><td>Finish</td><td>2.002</td><td>103.09059</td></tr><tr><td>E3</td><td>Start</td><td>8.363</td><td>279.37866</td></tr><tr><td>E4R</td><td>CP1</td><td>5.317</td><td>185.5064</td></tr><tr><td>E4R</td><td>CP2</td><td>3.496</td><td>167.85524</td></tr><tr><td>E4R</td><td>CP3</td><td>5.056</td><td>204.50249</td></tr><tr><td>E4R</td><td>CP4</td><td>7.062</td><td>242.43439</td></tr><tr><td>E4R</td><td>CP5</td><td>6.167</td><td>197.68152</td></tr><tr><td>E4R</td><td>CP6</td><td>0.985</td><td>22.702316</td></tr><tr><td>E4R</td><td>CP7</td><td>5.775</td><td>186.53972</td></tr><tr><td>E4R</td><td>E1</td><td>6.273</td><td>217.64467</td></tr><tr><td>E4R</td><td>E10U</td><td>8.074</td><td>293.28174</td></tr><tr><td>E4R</td><td>E2R</td><td>5.174</td><td>258.9181</td></tr><tr><td>E4R</td><td>E3</td><td>5.233</td><td>90.38841</td></tr><tr><td>E4R</td><td>E5</td><td>1.42</td><td>11.28212</td></tr><tr><td>E4R</td><td>E6</td><td>4.625</td><td>101.21531</td></tr><tr><td>E4R</td><td>E7U</td><td>6.59</td><td>197.86307</td></tr><tr><td>E4R</td><td>E8</td><td>5.684</td><td>73.23932</td></tr><tr><td>E4R</td><td>E9U</td><td>2.123</td><td>96.3112</td></tr><tr><td>E4R</td><td>Finish</td><td>6.844</td><td>192.85365</td></tr><tr><td>E4R</td><td>Start</td><td>6.734</td><td>204.50249</td></tr><tr><td>E5</td><td>CP1</td><td>5.216</td><td>218.33165</td></tr><tr><td>E5</td><td>CP2</td><td>3.396</td><td>200.6805</td></tr><tr><td>E5</td><td>CP3</td><td>4.956</td><td>237.32774</td></tr><tr><td>E5</td><td>CP4</td><td>5.642</td><td>231.15228</td></tr><tr><td>E5</td><td>CP5</td><td>4.746</td><td>186.39938</td></tr><tr><td>E5</td><td>CP6</td><td>0.885</td><td>55.527573</td></tr><tr><td>E5</td><td>CP7</td><td>5.675</td><td>219.36497</td></tr><tr><td>E5</td><td>E1</td><td>6.173</td><td>250.46992</td></tr><tr><td>E5</td><td>E10U</td><td>7.454</td><td>300.37817</td></tr><tr><td>E5</td><td>E2R</td><td>5.074</td><td>291.74335</td></tr><tr><td>E5</td><td>E3</td><td>3.812</td><td>79.10629</td></tr><tr><td>E5</td><td>E4R</td><td>1.42</td><td>83.2854</td></tr><tr><td>E5</td><td>E6</td><td>3.204</td><td>89.93319</td></tr><tr><td>E5</td><td>E7U</td><td>5.169</td><td>186.58096</td></tr><tr><td>E5</td><td>E8</td><td>4.264</td><td>61.9572</td></tr><tr><td>E5</td><td>E9U</td><td>2.023</td><td>129.13646</td></tr><tr><td>E5</td><td>Finish</td><td>5.764</td><td>182.48701</td></tr><tr><td>E5</td><td>Start</td><td>5.312</td><td>216.03781</td></tr><tr><td>E6</td><td>CP1</td><td>7.476</td><td>219.02458</td></tr><tr><td>E6</td><td>CP2</td><td>5.925</td><td>204.36812</td></tr><tr><td>E6</td><td>CP3</td><td>4.188</td><td>191.60683</td></tr><tr><td>E6</td><td>CP4</td><td>3.035</td><td>175.28445</td></tr><tr><td>E6</td><td>CP5</td><td>1.945</td><td>102.13289</td></tr><tr><td>E6</td><td>CP6</td><td>4.09</td><td>109.53031</td></tr><tr><td>E6</td><td>CP7</td><td>7.934</td><td>220.0579</td></tr><tr><td>E6</td><td>E1</td><td>8.432</td><td>251.16286</td></tr><tr><td>E6</td><td>E10U</td><td>9.896</td><td>342.23648</td></tr><tr><td>E6</td><td>E2R</td><td>7.048</td><td>281.3844</td></tr><tr><td>E6</td><td>E3</td><td>6.254</td><td>120.96459</td></tr><tr><td>E6</td><td>E4R</td><td>4.625</td><td>137.28815</td></tr><tr><td>E6</td><td>E5</td><td>3.204</td><td>54.00274</td></tr><tr><td>E6</td><td>E7U</td><td>2.562</td><td>130.71313</td></tr><tr><td>E6</td><td>E8</td><td>2.164</td><td>14.702965</td></tr><tr><td>E6</td><td>E9U</td><td>5.227</td><td>183.13919</td></tr><tr><td>E6</td><td>Finish</td><td>8.206</td><td>224.3453</td></tr><tr><td>E6</td><td>Start</td><td>2.511</td><td>131.77132</td></tr><tr><td>E7U</td><td>CP1</td><td>10.038</td><td>256.02798</td></tr><tr><td>E7U</td><td>CP2</td><td>8.487</td><td>241.37152</td></tr><tr><td>E7U</td><td>CP3</td><td>6.751</td><td>228.61023</td></tr><tr><td>E7U</td><td>CP4</td><td>0.473</td><td>44.57132</td></tr><tr><td>E7U</td><td>CP5</td><td>4.507</td><td>139.13629</td></tr><tr><td>E7U</td><td>CP6</td><td>6.055</td><td>112.468346</td></tr><tr><td>E7U</td><td>CP7</td><td>10.496</td><td>257.0613</td></tr><tr><td>E7U</td><td>E1</td><td>10.994</td><td>288.16626</td></tr><tr><td>E7U</td><td>E10U</td><td>11.861</td><td>345.1745</td></tr><tr><td>E7U</td><td>E2R</td><td>9.61</td><td>318.3878</td></tr><tr><td>E7U</td><td>E3</td><td>8.22</td><td>123.902626</td></tr><tr><td>E7U</td><td>E4R</td><td>6.59</td><td>140.22617</td></tr><tr><td>E7U</td><td>E5</td><td>5.169</td><td>56.940773</td></tr><tr><td>E7U</td><td>E6</td><td>2.562</td><td>37.003403</td></tr><tr><td>E7U</td><td>E8</td><td>1.562</td><td>5.496788</td></tr><tr><td>E7U</td><td>E9U</td><td>7.192</td><td>186.07724</td></tr><tr><td>E7U</td><td>Finish</td><td>10.171</td><td>227.28336</td></tr><tr><td>E7U</td><td>Start</td><td>5.073</td><td>168.77472</td></tr><tr><td>E8</td><td>CP1</td><td>9.48</td><td>287.8257</td></tr><tr><td>E8</td><td>CP2</td><td>7.66</td><td>270.17456</td></tr><tr><td>E8</td><td>CP3</td><td>6.352</td><td>249.77711</td></tr><tr><td>E8</td><td>CP4</td><td>2.035</td><td>187.24516</td></tr><tr><td>E8</td><td>CP5</td><td>4.109</td><td>160.30318</td></tr><tr><td>E8</td><td>CP6</td><td>5.149</td><td>125.021645</td></tr><tr><td>E8</td><td>CP7</td><td>9.938</td><td>288.85904</td></tr><tr><td>E8</td><td>E1</td><td>10.436</td><td>319.964</td></tr><tr><td>E8</td><td>E10U</td><td>10.955</td><td>357.7278</td></tr><tr><td>E8</td><td>E2R</td><td>9.212</td><td>339.5547</td></tr><tr><td>E8</td><td>E3</td><td>7.314</td><td>136.45593</td></tr><tr><td>E8</td><td>E4R</td><td>5.684</td><td>152.77948</td></tr><tr><td>E8</td><td>E5</td><td>4.264</td><td>69.49407</td></tr><tr><td>E8</td><td>E6</td><td>2.164</td><td>58.170288</td></tr><tr><td>E8</td><td>E7U</td><td>1.562</td><td>142.67384</td></tr><tr><td>E8</td><td>E9U</td><td>6.286</td><td>198.63052</td></tr><tr><td>E8</td><td>Finish</td><td>9.265</td><td>239.83664</td></tr><tr><td>E8</td><td>Start</td><td>4.675</td><td>189.9416</td></tr><tr><td>E9U</td><td>CP1</td><td>3.194</td><td>89.19519</td></tr><tr><td>E9U</td><td>CP2</td><td>1.373</td><td>71.54404</td></tr><tr><td>E9U</td><td>CP3</td><td>2.934</td><td>108.191284</td></tr><tr><td>E9U</td><td>CP4</td><td>7.665</td><td>232.55582</td></tr><tr><td>E9U</td><td>CP5</td><td>5.177</td><td>109.55969</td></tr><tr><td>E9U</td><td>CP6</td><td>1.137</td><td>1.0940704</td></tr><tr><td>E9U</td><td>CP7</td><td>3.652</td><td>90.228516</td></tr><tr><td>E9U</td><td>E1</td><td>4.15</td><td>121.333466</td></tr><tr><td>E9U</td><td>E10U</td><td>5.952</td><td>196.97052</td></tr><tr><td>E9U</td><td>E2R</td><td>3.051</td><td>162.6069</td></tr><tr><td>E9U</td><td>E3</td><td>5.835</td><td>80.50983</td></tr><tr><td>E9U</td><td>E4R</td><td>2.123</td><td>40.58156</td></tr><tr><td>E9U</td><td>E5</td><td>2.023</td><td>1.4035339</td></tr><tr><td>E9U</td><td>E6</td><td>5.227</td><td>91.33672</td></tr><tr><td>E9U</td><td>E7U</td><td>7.192</td><td>187.9845</td></tr><tr><td>E9U</td><td>E8</td><td>6.286</td><td>63.360733</td></tr><tr><td>E9U</td><td>Finish</td><td>4.722</td><td>96.54245</td></tr><tr><td>E9U</td><td>Start</td><td>4.611</td><td>108.191284</td></tr><tr><td>Finish</td><td>CP1</td><td>1.528</td><td>71.77464</td></tr><tr><td>Finish</td><td>CP2</td><td>3.524</td><td>119.59468</td></tr><tr><td>Finish</td><td>CP3</td><td>4.816</td><td>153.24724</td></tr><tr><td>Finish</td><td>CP4</td><td>10.643</td><td>295.68762</td></tr><tr><td>Finish</td><td>CP5</td><td>7.059</td><td>154.61565</td></tr><tr><td>Finish</td><td>CP6</td><td>5.859</td><td>119.562225</td></tr><tr><td>Finish</td><td>CP7</td><td>1.07</td><td>59.458237</td></tr><tr><td>Finish</td><td>E1</td><td>1.564</td><td>91.72777</td></tr><tr><td>Finish</td><td>E10U</td><td>1.7</td><td>118.531296</td></tr><tr><td>Finish</td><td>E2R</td><td>4.933</td><td>207.66286</td></tr><tr><td>Finish</td><td>E3</td><td>2.002</td><td>0.9043884</td></tr><tr><td>Finish</td><td>E4R</td><td>6.844</td><td>159.04971</td></tr><tr><td>Finish</td><td>E5</td><td>5.764</td><td>76.679794</td></tr><tr><td>Finish</td><td>E6</td><td>8.206</td><td>154.46854</td></tr><tr><td>Finish</td><td>E7U</td><td>10.171</td><td>251.1163</td></tr><tr><td>Finish</td><td>E8</td><td>9.265</td><td>126.49255</td></tr><tr><td>Finish</td><td>E9U</td><td>4.722</td><td>118.468155</td></tr><tr><td>Finish</td><td>Start</td><td>6.493</td><td>153.24724</td></tr><tr><td>Start</td><td>CP1</td><td>4.965</td><td>87.253265</td></tr><tr><td>Start</td><td>CP2</td><td>3.414</td><td>72.5968</td></tr><tr><td>Start</td><td>CP3</td><td>1.677</td><td>59.83551</td></tr><tr><td>Start</td><td>CP4</td><td>5.546</td><td>178.53229</td></tr><tr><td>Start</td><td>CP5</td><td>0.566</td><td>1.3684082</td></tr><tr><td>Start</td><td>CP6</td><td>5.748</td><td>72.56435</td></tr><tr><td>Start</td><td>CP7</td><td>5.423</td><td>88.28659</td></tr><tr><td>Start</td><td>E1</td><td>5.921</td><td>119.39154</td></tr><tr><td>Start</td><td>E10U</td><td>7.723</td><td>195.0286</td></tr><tr><td>Start</td><td>E2R</td><td>4.537</td><td>149.61307</td></tr><tr><td>Start</td><td>E3</td><td>8.363</td><td>118.54574</td></tr><tr><td>Start</td><td>E4R</td><td>6.734</td><td>112.051834</td></tr><tr><td>Start</td><td>E5</td><td>5.312</td><td>51.583885</td></tr><tr><td>Start</td><td>E6</td><td>2.511</td><td>3.2478333</td></tr><tr><td>Start</td><td>E7U</td><td>5.073</td><td>133.96097</td></tr><tr><td>Start</td><td>E8</td><td>4.675</td><td>17.950798</td></tr><tr><td>Start</td><td>E9U</td><td>4.611</td><td>71.470276</td></tr><tr><td>Start</td><td>Finish</td><td>6.493</td><td>94.600525</td></tr></tbody></table></div>"
      ]
     },
     "metadata": {
      "application/vnd.databricks.v1+output": {
       "addedWidgets": {},
       "aggData": [],
       "aggError": "",
       "aggOverflow": false,
       "aggSchema": [],
       "aggSeriesLimitReached": false,
       "aggType": "",
       "arguments": {},
       "columnCustomDisplayInfos": {},
       "data": [
        [
         "CP1",
         "CP2",
         1.997,
         47.820038
        ],
        [
         "CP1",
         "CP3",
         3.288,
         81.472595
        ],
        [
         "CP1",
         "CP4",
         10.511,
         260.00488
        ],
        [
         "CP1",
         "CP5",
         5.531,
         82.841
        ],
        [
         "CP1",
         "CP6",
         4.331,
         47.787582
        ],
        [
         "CP1",
         "CP7",
         0.458,
         1.0333252
        ],
        [
         "CP1",
         "E1",
         0.956,
         32.138275
        ],
        [
         "CP1",
         "E10U",
         2.758,
         107.77533
        ],
        [
         "CP1",
         "E2R",
         3.405,
         135.88821
        ],
        [
         "CP1",
         "E3",
         3.515,
         5.1418915
        ],
        [
         "CP1",
         "E4R",
         5.317,
         87.27507
        ],
        [
         "CP1",
         "E5",
         5.216,
         48.097046
        ],
        [
         "CP1",
         "E6",
         7.476,
         84.72043
        ],
        [
         "CP1",
         "E7U",
         10.038,
         215.43356
        ],
        [
         "CP1",
         "E8",
         9.48,
         110.054245
        ],
        [
         "CP1",
         "E9U",
         3.194,
         46.693512
        ],
        [
         "CP1",
         "Finish",
         1.528,
         7.3472595
        ],
        [
         "CP1",
         "Start",
         4.965,
         81.472595
        ],
        [
         "CP2",
         "CP1",
         1.997,
         23.68158
        ],
        [
         "CP2",
         "CP3",
         1.737,
         42.677673
        ],
        [
         "CP2",
         "CP4",
         8.96,
         221.20996
        ],
        [
         "CP2",
         "CP5",
         3.98,
         44.04608
        ],
        [
         "CP2",
         "CP6",
         2.511,
         5.9979706
        ],
        [
         "CP2",
         "CP7",
         2.455,
         24.714905
        ],
        [
         "CP2",
         "E1",
         2.953,
         55.819855
        ],
        [
         "CP2",
         "E10U",
         4.755,
         131.45691
        ],
        [
         "CP2",
         "E2R",
         1.854,
         97.09329
        ],
        [
         "CP2",
         "E3",
         5.511,
         28.823471
        ],
        [
         "CP2",
         "E4R",
         3.496,
         45.48546
        ],
        [
         "CP2",
         "E5",
         3.396,
         6.307434
        ],
        [
         "CP2",
         "E6",
         5.925,
         45.925507
        ],
        [
         "CP2",
         "E7U",
         8.487,
         176.63864
        ],
        [
         "CP2",
         "E8",
         7.66,
         68.26463
        ],
        [
         "CP2",
         "E9U",
         1.373,
         4.9039
        ],
        [
         "CP2",
         "Finish",
         3.524,
         31.02884
        ],
        [
         "CP2",
         "Start",
         3.414,
         42.677673
        ],
        [
         "CP3",
         "CP1",
         3.288,
         27.417755
        ],
        [
         "CP3",
         "CP2",
         1.737,
         12.7612915
        ],
        [
         "CP3",
         "CP4",
         7.223,
         178.53229
        ],
        [
         "CP3",
         "CP5",
         2.243,
         1.3684082
        ],
        [
         "CP3",
         "CP6",
         4.071,
         12.728836
        ],
        [
         "CP3",
         "CP7",
         3.746,
         28.45108
        ],
        [
         "CP3",
         "E1",
         4.244,
         59.55603
        ],
        [
         "CP3",
         "E10U",
         6.046,
         135.19308
        ],
        [
         "CP3",
         "E2R",
         2.86,
         89.77756
        ],
        [
         "CP3",
         "E3",
         6.802,
         32.559647
        ],
        [
         "CP3",
         "E4R",
         5.056,
         52.216324
        ],
        [
         "CP3",
         "E5",
         4.956,
         13.0383
        ],
        [
         "CP3",
         "E6",
         4.188,
         3.2478333
        ],
        [
         "CP3",
         "E7U",
         6.751,
         133.96097
        ],
        [
         "CP3",
         "E8",
         6.352,
         17.950798
        ],
        [
         "CP3",
         "E9U",
         2.934,
         11.634766
        ],
        [
         "CP3",
         "Finish",
         4.816,
         34.765015
        ],
        [
         "CP3",
         "Start",
         1.677,
         0.0
        ],
        [
         "CP4",
         "CP1",
         10.511,
         256.02798
        ],
        [
         "CP4",
         "CP2",
         8.96,
         241.37152
        ],
        [
         "CP4",
         "CP3",
         7.223,
         228.61023
        ],
        [
         "CP4",
         "CP5",
         4.98,
         139.13629
        ],
        [
         "CP4",
         "CP6",
         6.527,
         112.468346
        ],
        [
         "CP4",
         "CP7",
         10.969,
         257.0613
        ],
        [
         "CP4",
         "E1",
         11.467,
         288.16626
        ],
        [
         "CP4",
         "E10U",
         12.333,
         345.1745
        ],
        [
         "CP4",
         "E2R",
         10.083,
         318.3878
        ],
        [
         "CP4",
         "E3",
         8.692,
         123.902626
        ],
        [
         "CP4",
         "E4R",
         7.062,
         140.22617
        ],
        [
         "CP4",
         "E5",
         5.642,
         56.940773
        ],
        [
         "CP4",
         "E6",
         3.035,
         37.003403
        ],
        [
         "CP4",
         "E7U",
         0.473,
         0.0
        ],
        [
         "CP4",
         "E8",
         2.035,
         5.496788
        ],
        [
         "CP4",
         "E9U",
         7.665,
         186.07724
        ],
        [
         "CP4",
         "Finish",
         10.643,
         227.28336
        ],
        [
         "CP4",
         "Start",
         5.546,
         168.77472
        ],
        [
         "CP5",
         "CP1",
         5.531,
         116.89169
        ],
        [
         "CP5",
         "CP2",
         3.98,
         102.23523
        ],
        [
         "CP5",
         "CP3",
         2.243,
         89.47394
        ],
        [
         "CP5",
         "CP4",
         4.98,
         177.16388
        ],
        [
         "CP5",
         "CP6",
         5.632,
         105.74305
        ],
        [
         "CP5",
         "CP7",
         5.989,
         117.92502
        ],
        [
         "CP5",
         "E1",
         6.487,
         149.02997
        ],
        [
         "CP5",
         "E10U",
         8.289,
         224.66702
        ],
        [
         "CP5",
         "E2R",
         5.103,
         179.2515
        ],
        [
         "CP5",
         "E3",
         7.797,
         117.17733
        ],
        [
         "CP5",
         "E4R",
         6.167,
         133.50089
        ],
        [
         "CP5",
         "E5",
         4.746,
         50.215477
        ],
        [
         "CP5",
         "E6",
         1.945,
         1.879425
        ],
        [
         "CP5",
         "E7U",
         4.507,
         132.59256
        ],
        [
         "CP5",
         "E8",
         4.109,
         16.58239
        ],
        [
         "CP5",
         "E9U",
         5.177,
         101.1087
        ],
        [
         "CP5",
         "Finish",
         7.059,
         124.23895
        ],
        [
         "CP5",
         "Start",
         0.566,
         29.638428
        ],
        [
         "CP6",
         "CP1",
         4.331,
         162.80408
        ],
        [
         "CP6",
         "CP2",
         2.511,
         145.15292
        ],
        [
         "CP6",
         "CP3",
         4.071,
         181.80017
        ],
        [
         "CP6",
         "CP4",
         6.527,
         231.46173
        ],
        [
         "CP6",
         "CP5",
         5.632,
         186.70886
        ],
        [
         "CP6",
         "CP7",
         4.789,
         163.8374
        ],
        [
         "CP6",
         "E1",
         5.287,
         194.94235
        ],
        [
         "CP6",
         "E10U",
         7.089,
         270.5794
        ],
        [
         "CP6",
         "E2R",
         4.189,
         236.21579
        ],
        [
         "CP6",
         "E3",
         4.698,
         79.41576
        ],
        [
         "CP6",
         "E4R",
         0.985,
         39.487488
        ],
        [
         "CP6",
         "E5",
         0.885,
         0.3094635
        ],
        [
         "CP6",
         "E6",
         4.09,
         90.24265
        ],
        [
         "CP6",
         "E7U",
         6.055,
         186.89041
        ],
        [
         "CP6",
         "E8",
         5.149,
         62.266663
        ],
        [
         "CP6",
         "E9U",
         1.137,
         73.60889
        ],
        [
         "CP6",
         "Finish",
         5.859,
         170.15134
        ],
        [
         "CP6",
         "Start",
         5.748,
         181.80017
        ],
        [
         "CP7",
         "CP1",
         0.458,
         12.316406
        ],
        [
         "CP7",
         "CP2",
         2.455,
         60.136444
        ],
        [
         "CP7",
         "CP3",
         3.746,
         93.789
        ],
        [
         "CP7",
         "CP4",
         10.969,
         272.3213
        ],
        [
         "CP7",
         "CP5",
         5.989,
         95.15741
        ],
        [
         "CP7",
         "CP6",
         4.789,
         60.10399
        ],
        [
         "CP7",
         "E1",
         0.533,
         32.862335
        ],
        [
         "CP7",
         "E10U",
         2.3,
         106.742004
        ],
        [
         "CP7",
         "E2R",
         3.864,
         148.20462
        ],
        [
         "CP7",
         "E3",
         3.056,
         4.1085663
        ],
        [
         "CP7",
         "E4R",
         5.775,
         99.59148
        ],
        [
         "CP7",
         "E5",
         5.675,
         60.413452
        ],
        [
         "CP7",
         "E6",
         7.934,
         97.036835
        ],
        [
         "CP7",
         "E7U",
         10.496,
         227.74997
        ],
        [
         "CP7",
         "E8",
         9.938,
         122.37065
        ],
        [
         "CP7",
         "E9U",
         3.652,
         59.00992
        ],
        [
         "CP7",
         "Finish",
         1.07,
         6.3139343
        ],
        [
         "CP7",
         "Start",
         5.423,
         93.789
        ],
        [
         "E1",
         "CP1",
         0.956,
         11.151825
        ],
        [
         "E1",
         "CP2",
         2.953,
         58.971863
        ],
        [
         "E1",
         "CP3",
         4.244,
         92.62442
        ],
        [
         "E1",
         "CP4",
         11.467,
         271.1567
        ],
        [
         "E1",
         "CP5",
         6.487,
         93.99283
        ],
        [
         "E1",
         "CP6",
         5.287,
         58.939407
        ],
        [
         "E1",
         "CP7",
         0.533,
         0.59280396
        ],
        [
         "E1",
         "E10U",
         2.794,
         106.742004
        ],
        [
         "E1",
         "E2R",
         4.362,
         147.04004
        ],
        [
         "E1",
         "E3",
         3.551,
         4.1085663
        ],
        [
         "E1",
         "E4R",
         6.273,
         98.426895
        ],
        [
         "E1",
         "E5",
         6.173,
         59.24887
        ],
        [
         "E1",
         "E6",
         8.432,
         95.87225
        ],
        [
         "E1",
         "E7U",
         10.994,
         226.58539
        ],
        [
         "E1",
         "E8",
         10.436,
         121.20607
        ],
        [
         "E1",
         "E9U",
         4.15,
         57.845337
        ],
        [
         "E1",
         "Finish",
         1.564,
         6.3139343
        ],
        [
         "E1",
         "Start",
         5.921,
         92.62442
        ],
        [
         "E10U",
         "CP1",
         2.758,
         58.14096
        ],
        [
         "E10U",
         "CP2",
         4.755,
         105.961
        ],
        [
         "E10U",
         "CP3",
         6.046,
         139.61356
        ],
        [
         "E10U",
         "CP4",
         12.333,
         299.51703
        ],
        [
         "E10U",
         "CP5",
         8.289,
         140.98196
        ],
        [
         "E10U",
         "CP6",
         7.089,
         105.92854
        ],
        [
         "E10U",
         "CP7",
         2.3,
         45.824554
        ],
        [
         "E10U",
         "E1",
         2.794,
         78.094086
        ],
        [
         "E10U",
         "E2R",
         6.163,
         194.02917
        ],
        [
         "E10U",
         "E3",
         3.692,
         4.733795
        ],
        [
         "E10U",
         "E4R",
         8.074,
         145.41603
        ],
        [
         "E10U",
         "E5",
         7.454,
         80.5092
        ],
        [
         "E10U",
         "E6",
         9.896,
         158.29794
        ],
        [
         "E10U",
         "E7U",
         11.861,
         254.94571
        ],
        [
         "E10U",
         "E8",
         10.955,
         130.32196
        ],
        [
         "E10U",
         "E9U",
         5.952,
         104.83447
        ],
        [
         "E10U",
         "Finish",
         1.7,
         4.4695435
        ],
        [
         "E10U",
         "Start",
         7.723,
         139.61356
        ],
        [
         "E2R",
         "CP1",
         3.405,
         16.143158
        ],
        [
         "E2R",
         "CP2",
         1.854,
         1.4866943
        ],
        [
         "E2R",
         "CP3",
         2.86,
         24.087341
        ],
        [
         "E2R",
         "CP4",
         10.083,
         202.61963
        ],
        [
         "E2R",
         "CP5",
         5.103,
         25.45575
        ],
        [
         "E2R",
         "CP6",
         4.189,
         1.4542389
        ],
        [
         "E2R",
         "CP7",
         3.864,
         17.176483
        ],
        [
         "E2R",
         "E1",
         4.362,
         48.281433
        ],
        [
         "E2R",
         "E10U",
         6.163,
         123.91849
        ],
        [
         "E2R",
         "E3",
         6.92,
         21.28505
        ],
        [
         "E2R",
         "E4R",
         5.174,
         40.941727
        ],
        [
         "E2R",
         "E5",
         5.074,
         1.7637024
        ],
        [
         "E2R",
         "E6",
         7.048,
         27.335175
        ],
        [
         "E2R",
         "E7U",
         9.61,
         158.04831
        ],
        [
         "E2R",
         "E8",
         9.212,
         42.03814
        ],
        [
         "E2R",
         "E9U",
         3.051,
         0.36016846
        ],
        [
         "E2R",
         "Finish",
         4.933,
         23.490417
        ],
        [
         "E2R",
         "Start",
         4.537,
         24.087341
        ],
        [
         "E3",
         "CP1",
         3.515,
         171.75548
        ],
        [
         "E3",
         "CP2",
         5.511,
         219.57552
        ],
        [
         "E3",
         "CP3",
         6.802,
         253.22807
        ],
        [
         "E3",
         "CP4",
         8.692,
         294.4931
        ],
        [
         "E3",
         "CP5",
         7.797,
         249.74023
        ],
        [
         "E3",
         "CP6",
         4.698,
         131.01285
        ],
        [
         "E3",
         "CP7",
         3.056,
         159.43907
        ],
        [
         "E3",
         "E1",
         3.551,
         191.7086
        ],
        [
         "E3",
         "E10U",
         3.692,
         220.98175
        ],
        [
         "E3",
         "E2R",
         6.92,
         307.64368
        ],
        [
         "E3",
         "E4R",
         5.233,
         158.77068
        ],
        [
         "E3",
         "E5",
         3.812,
         75.485275
        ],
        [
         "E3",
         "E6",
         6.254,
         153.27402
        ],
        [
         "E3",
         "E7U",
         8.22,
         249.92178
        ],
        [
         "E3",
         "E8",
         7.314,
         125.298035
        ],
        [
         "E3",
         "E9U",
         5.835,
         204.62173
        ],
        [
         "E3",
         "Finish",
         2.002,
         103.09059
        ],
        [
         "E3",
         "Start",
         8.363,
         279.37866
        ],
        [
         "E4R",
         "CP1",
         5.317,
         185.5064
        ],
        [
         "E4R",
         "CP2",
         3.496,
         167.85524
        ],
        [
         "E4R",
         "CP3",
         5.056,
         204.50249
        ],
        [
         "E4R",
         "CP4",
         7.062,
         242.43439
        ],
        [
         "E4R",
         "CP5",
         6.167,
         197.68152
        ],
        [
         "E4R",
         "CP6",
         0.985,
         22.702316
        ],
        [
         "E4R",
         "CP7",
         5.775,
         186.53972
        ],
        [
         "E4R",
         "E1",
         6.273,
         217.64467
        ],
        [
         "E4R",
         "E10U",
         8.074,
         293.28174
        ],
        [
         "E4R",
         "E2R",
         5.174,
         258.9181
        ],
        [
         "E4R",
         "E3",
         5.233,
         90.38841
        ],
        [
         "E4R",
         "E5",
         1.42,
         11.28212
        ],
        [
         "E4R",
         "E6",
         4.625,
         101.21531
        ],
        [
         "E4R",
         "E7U",
         6.59,
         197.86307
        ],
        [
         "E4R",
         "E8",
         5.684,
         73.23932
        ],
        [
         "E4R",
         "E9U",
         2.123,
         96.3112
        ],
        [
         "E4R",
         "Finish",
         6.844,
         192.85365
        ],
        [
         "E4R",
         "Start",
         6.734,
         204.50249
        ],
        [
         "E5",
         "CP1",
         5.216,
         218.33165
        ],
        [
         "E5",
         "CP2",
         3.396,
         200.6805
        ],
        [
         "E5",
         "CP3",
         4.956,
         237.32774
        ],
        [
         "E5",
         "CP4",
         5.642,
         231.15228
        ],
        [
         "E5",
         "CP5",
         4.746,
         186.39938
        ],
        [
         "E5",
         "CP6",
         0.885,
         55.527573
        ],
        [
         "E5",
         "CP7",
         5.675,
         219.36497
        ],
        [
         "E5",
         "E1",
         6.173,
         250.46992
        ],
        [
         "E5",
         "E10U",
         7.454,
         300.37817
        ],
        [
         "E5",
         "E2R",
         5.074,
         291.74335
        ],
        [
         "E5",
         "E3",
         3.812,
         79.10629
        ],
        [
         "E5",
         "E4R",
         1.42,
         83.2854
        ],
        [
         "E5",
         "E6",
         3.204,
         89.93319
        ],
        [
         "E5",
         "E7U",
         5.169,
         186.58096
        ],
        [
         "E5",
         "E8",
         4.264,
         61.9572
        ],
        [
         "E5",
         "E9U",
         2.023,
         129.13646
        ],
        [
         "E5",
         "Finish",
         5.764,
         182.48701
        ],
        [
         "E5",
         "Start",
         5.312,
         216.03781
        ],
        [
         "E6",
         "CP1",
         7.476,
         219.02458
        ],
        [
         "E6",
         "CP2",
         5.925,
         204.36812
        ],
        [
         "E6",
         "CP3",
         4.188,
         191.60683
        ],
        [
         "E6",
         "CP4",
         3.035,
         175.28445
        ],
        [
         "E6",
         "CP5",
         1.945,
         102.13289
        ],
        [
         "E6",
         "CP6",
         4.09,
         109.53031
        ],
        [
         "E6",
         "CP7",
         7.934,
         220.0579
        ],
        [
         "E6",
         "E1",
         8.432,
         251.16286
        ],
        [
         "E6",
         "E10U",
         9.896,
         342.23648
        ],
        [
         "E6",
         "E2R",
         7.048,
         281.3844
        ],
        [
         "E6",
         "E3",
         6.254,
         120.96459
        ],
        [
         "E6",
         "E4R",
         4.625,
         137.28815
        ],
        [
         "E6",
         "E5",
         3.204,
         54.00274
        ],
        [
         "E6",
         "E7U",
         2.562,
         130.71313
        ],
        [
         "E6",
         "E8",
         2.164,
         14.702965
        ],
        [
         "E6",
         "E9U",
         5.227,
         183.13919
        ],
        [
         "E6",
         "Finish",
         8.206,
         224.3453
        ],
        [
         "E6",
         "Start",
         2.511,
         131.77132
        ],
        [
         "E7U",
         "CP1",
         10.038,
         256.02798
        ],
        [
         "E7U",
         "CP2",
         8.487,
         241.37152
        ],
        [
         "E7U",
         "CP3",
         6.751,
         228.61023
        ],
        [
         "E7U",
         "CP4",
         0.473,
         44.57132
        ],
        [
         "E7U",
         "CP5",
         4.507,
         139.13629
        ],
        [
         "E7U",
         "CP6",
         6.055,
         112.468346
        ],
        [
         "E7U",
         "CP7",
         10.496,
         257.0613
        ],
        [
         "E7U",
         "E1",
         10.994,
         288.16626
        ],
        [
         "E7U",
         "E10U",
         11.861,
         345.1745
        ],
        [
         "E7U",
         "E2R",
         9.61,
         318.3878
        ],
        [
         "E7U",
         "E3",
         8.22,
         123.902626
        ],
        [
         "E7U",
         "E4R",
         6.59,
         140.22617
        ],
        [
         "E7U",
         "E5",
         5.169,
         56.940773
        ],
        [
         "E7U",
         "E6",
         2.562,
         37.003403
        ],
        [
         "E7U",
         "E8",
         1.562,
         5.496788
        ],
        [
         "E7U",
         "E9U",
         7.192,
         186.07724
        ],
        [
         "E7U",
         "Finish",
         10.171,
         227.28336
        ],
        [
         "E7U",
         "Start",
         5.073,
         168.77472
        ],
        [
         "E8",
         "CP1",
         9.48,
         287.8257
        ],
        [
         "E8",
         "CP2",
         7.66,
         270.17456
        ],
        [
         "E8",
         "CP3",
         6.352,
         249.77711
        ],
        [
         "E8",
         "CP4",
         2.035,
         187.24516
        ],
        [
         "E8",
         "CP5",
         4.109,
         160.30318
        ],
        [
         "E8",
         "CP6",
         5.149,
         125.021645
        ],
        [
         "E8",
         "CP7",
         9.938,
         288.85904
        ],
        [
         "E8",
         "E1",
         10.436,
         319.964
        ],
        [
         "E8",
         "E10U",
         10.955,
         357.7278
        ],
        [
         "E8",
         "E2R",
         9.212,
         339.5547
        ],
        [
         "E8",
         "E3",
         7.314,
         136.45593
        ],
        [
         "E8",
         "E4R",
         5.684,
         152.77948
        ],
        [
         "E8",
         "E5",
         4.264,
         69.49407
        ],
        [
         "E8",
         "E6",
         2.164,
         58.170288
        ],
        [
         "E8",
         "E7U",
         1.562,
         142.67384
        ],
        [
         "E8",
         "E9U",
         6.286,
         198.63052
        ],
        [
         "E8",
         "Finish",
         9.265,
         239.83664
        ],
        [
         "E8",
         "Start",
         4.675,
         189.9416
        ],
        [
         "E9U",
         "CP1",
         3.194,
         89.19519
        ],
        [
         "E9U",
         "CP2",
         1.373,
         71.54404
        ],
        [
         "E9U",
         "CP3",
         2.934,
         108.191284
        ],
        [
         "E9U",
         "CP4",
         7.665,
         232.55582
        ],
        [
         "E9U",
         "CP5",
         5.177,
         109.55969
        ],
        [
         "E9U",
         "CP6",
         1.137,
         1.0940704
        ],
        [
         "E9U",
         "CP7",
         3.652,
         90.228516
        ],
        [
         "E9U",
         "E1",
         4.15,
         121.333466
        ],
        [
         "E9U",
         "E10U",
         5.952,
         196.97052
        ],
        [
         "E9U",
         "E2R",
         3.051,
         162.6069
        ],
        [
         "E9U",
         "E3",
         5.835,
         80.50983
        ],
        [
         "E9U",
         "E4R",
         2.123,
         40.58156
        ],
        [
         "E9U",
         "E5",
         2.023,
         1.4035339
        ],
        [
         "E9U",
         "E6",
         5.227,
         91.33672
        ],
        [
         "E9U",
         "E7U",
         7.192,
         187.9845
        ],
        [
         "E9U",
         "E8",
         6.286,
         63.360733
        ],
        [
         "E9U",
         "Finish",
         4.722,
         96.54245
        ],
        [
         "E9U",
         "Start",
         4.611,
         108.191284
        ],
        [
         "Finish",
         "CP1",
         1.528,
         71.77464
        ],
        [
         "Finish",
         "CP2",
         3.524,
         119.59468
        ],
        [
         "Finish",
         "CP3",
         4.816,
         153.24724
        ],
        [
         "Finish",
         "CP4",
         10.643,
         295.68762
        ],
        [
         "Finish",
         "CP5",
         7.059,
         154.61565
        ],
        [
         "Finish",
         "CP6",
         5.859,
         119.562225
        ],
        [
         "Finish",
         "CP7",
         1.07,
         59.458237
        ],
        [
         "Finish",
         "E1",
         1.564,
         91.72777
        ],
        [
         "Finish",
         "E10U",
         1.7,
         118.531296
        ],
        [
         "Finish",
         "E2R",
         4.933,
         207.66286
        ],
        [
         "Finish",
         "E3",
         2.002,
         0.9043884
        ],
        [
         "Finish",
         "E4R",
         6.844,
         159.04971
        ],
        [
         "Finish",
         "E5",
         5.764,
         76.679794
        ],
        [
         "Finish",
         "E6",
         8.206,
         154.46854
        ],
        [
         "Finish",
         "E7U",
         10.171,
         251.1163
        ],
        [
         "Finish",
         "E8",
         9.265,
         126.49255
        ],
        [
         "Finish",
         "E9U",
         4.722,
         118.468155
        ],
        [
         "Finish",
         "Start",
         6.493,
         153.24724
        ],
        [
         "Start",
         "CP1",
         4.965,
         87.253265
        ],
        [
         "Start",
         "CP2",
         3.414,
         72.5968
        ],
        [
         "Start",
         "CP3",
         1.677,
         59.83551
        ],
        [
         "Start",
         "CP4",
         5.546,
         178.53229
        ],
        [
         "Start",
         "CP5",
         0.566,
         1.3684082
        ],
        [
         "Start",
         "CP6",
         5.748,
         72.56435
        ],
        [
         "Start",
         "CP7",
         5.423,
         88.28659
        ],
        [
         "Start",
         "E1",
         5.921,
         119.39154
        ],
        [
         "Start",
         "E10U",
         7.723,
         195.0286
        ],
        [
         "Start",
         "E2R",
         4.537,
         149.61307
        ],
        [
         "Start",
         "E3",
         8.363,
         118.54574
        ],
        [
         "Start",
         "E4R",
         6.734,
         112.051834
        ],
        [
         "Start",
         "E5",
         5.312,
         51.583885
        ],
        [
         "Start",
         "E6",
         2.511,
         3.2478333
        ],
        [
         "Start",
         "E7U",
         5.073,
         133.96097
        ],
        [
         "Start",
         "E8",
         4.675,
         17.950798
        ],
        [
         "Start",
         "E9U",
         4.611,
         71.470276
        ],
        [
         "Start",
         "Finish",
         6.493,
         94.600525
        ]
       ],
       "datasetInfos": [],
       "dbfsResultPath": null,
       "isJsonSchema": true,
       "metadata": {},
       "overflow": false,
       "plotOptions": {
        "customPlotOptions": {},
        "displayType": "table",
        "pivotAggregation": null,
        "pivotColumns": null,
        "xColumns": null,
        "yColumns": null
       },
       "removedWidgets": [],
       "schema": [
        {
         "metadata": "{}",
         "name": "StartCP",
         "type": "\"string\""
        },
        {
         "metadata": "{}",
         "name": "FinishCP",
         "type": "\"string\""
        },
        {
         "metadata": "{}",
         "name": "Distance",
         "type": "\"double\""
        },
        {
         "metadata": "{}",
         "name": "Height_Gain",
         "type": "\"double\""
        }
       ],
       "type": "table"
      }
     },
     "output_type": "display_data"
    }
   ],
   "source": [
    "\n",
    "url = f\"https://api.github.com/repos/liamj-f/Dovetrek/contents/DataFrames/{latest_file}\"\n",
    "\n",
    "params = {\"ref\": \"FileStore\"}\n",
    "# Get the latest SHA (if the file exists)\n",
    "response = requests.get(url, params=params)\n",
    "content = response.json()[\"content\"]\n",
    "decoded_content = base64.b64decode(content).decode(\"utf-8\")\n",
    "csv_lines = decoded_content.split(\"\\n\")\n",
    "# Create an RDD from the list\n",
    "rdd = spark.sparkContext.parallelize(csv_lines)\n",
    "# Convert RDD to DataFrame\n",
    "Distances_DF = spark.read.csv(rdd, header=True, inferSchema=True)\n",
    "\n",
    "display(Distances_DF)"
   ]
  },
  {
   "cell_type": "markdown",
   "metadata": {
    "application/vnd.databricks.v1+cell": {
     "cellMetadata": {
      "byteLimit": 2048000,
      "rowLimit": 10000
     },
     "inputWidgets": {},
     "nuid": "c2906201-b98d-4e24-8fc0-95b0d92de939",
     "showTitle": false,
     "tableResultSettingsMap": {},
     "title": ""
    },
    "id": "j8fHkR2Qa9jR"
   },
   "source": [
    "### Calculate leg timings for each Checkpoint Combination"
   ]
  },
  {
   "cell_type": "code",
   "execution_count": 0,
   "metadata": {
    "application/vnd.databricks.v1+cell": {
     "cellMetadata": {
      "byteLimit": 2048000,
      "rowLimit": 10000
     },
     "inputWidgets": {},
     "nuid": "51921329-df6c-48f8-af63-e073dcdd5f8d",
     "showTitle": false,
     "tableResultSettingsMap": {},
     "title": ""
    },
    "id": "5htF-2JVZOjq",
    "outputId": "3e5f1c82-698b-47b9-c5ca-9145369e76dd"
   },
   "outputs": [
    {
     "output_type": "display_data",
     "data": {
      "text/html": [
       "<style scoped>\n",
       "  .table-result-container {\n",
       "    max-height: 300px;\n",
       "    overflow: auto;\n",
       "  }\n",
       "  table, th, td {\n",
       "    border: 1px solid black;\n",
       "    border-collapse: collapse;\n",
       "  }\n",
       "  th, td {\n",
       "    padding: 5px;\n",
       "  }\n",
       "  th {\n",
       "    text-align: left;\n",
       "  }\n",
       "</style><div class='table-result-container'><table class='table-result'><thead style='background-color: white'><tr><th>StartCP</th><th>FinishCP</th><th>Distance</th><th>Height_Gain</th><th>TimeInMinutes</th></tr></thead><tbody><tr><td>CP1</td><td>CP2</td><td>1.997</td><td>47.820038</td><td>27.389550969811324</td></tr><tr><td>CP1</td><td>CP3</td><td>3.288</td><td>81.472595</td><td>45.36990100943396</td></tr><tr><td>CP1</td><td>CP4</td><td>10.511</td><td>260.00488</td><td>144.99294083018867</td></tr><tr><td>CP1</td><td>CP5</td><td>5.531</td><td>82.841</td><td>70.89919433962264</td></tr><tr><td>CP1</td><td>CP6</td><td>4.331</td><td>47.787582</td><td>53.80894687924529</td></tr><tr><td>CP1</td><td>CP7</td><td>0.458</td><td>1.0333252</td><td>5.288238180377359</td></tr><tr><td>CP1</td><td>E1</td><td>0.956</td><td>32.138275</td><td>14.036469009433961</td></tr><tr><td>CP1</td><td>E10U</td><td>2.758</td><td>107.77533</td><td>42.00017450943397</td></tr><tr><td>CP1</td><td>E2R</td><td>3.405</td><td>135.88821</td><td>52.13599081132075</td></tr><tr><td>CP1</td><td>E3</td><td>3.515</td><td>5.1418915</td><td>40.30664198018868</td></tr><tr><td>CP1</td><td>E4R</td><td>5.317</td><td>87.27507</td><td>68.91995983018869</td></tr><tr><td>CP1</td><td>E5</td><td>5.216</td><td>48.097046</td><td>63.85876120377358</td></tr><tr><td>CP1</td><td>E6</td><td>7.476</td><td>84.72043</td><td>93.10600526415095</td></tr><tr><td>CP1</td><td>E7U</td><td>10.038</td><td>215.43356</td><td>135.1810918490566</td></tr><tr><td>CP1</td><td>E8</td><td>9.48</td><td>110.054245</td><td>118.32617921698113</td></tr><tr><td>CP1</td><td>E9U</td><td>3.194</td><td>46.693512</td><td>40.82784176603774</td></tr><tr><td>CP1</td><td>Finish</td><td>1.528</td><td>7.3472595</td><td>18.032839157547173</td></tr><tr><td>CP1</td><td>Start</td><td>4.965</td><td>81.472595</td><td>64.35480666981132</td></tr><tr><td>CP2</td><td>CP1</td><td>1.997</td><td>23.68158</td><td>24.975705169811324</td></tr><tr><td>CP2</td><td>CP3</td><td>1.737</td><td>42.677673</td><td>23.93191824339623</td></tr><tr><td>CP2</td><td>CP4</td><td>8.96</td><td>221.20996</td><td>123.55495826415097</td></tr><tr><td>CP2</td><td>CP5</td><td>3.98</td><td>44.04608</td><td>49.461211773584914</td></tr><tr><td>CP2</td><td>CP6</td><td>2.511</td><td>5.9979706</td><td>29.026212154339625</td></tr><tr><td>CP2</td><td>CP7</td><td>2.455</td><td>24.714905</td><td>30.26394333018868</td></tr><tr><td>CP2</td><td>E1</td><td>2.953</td><td>55.819855</td><td>39.012174179245285</td></tr><tr><td>CP2</td><td>E10U</td><td>4.755</td><td>131.45691</td><td>66.97587967924528</td></tr><tr><td>CP2</td><td>E2R</td><td>1.854</td><td>97.09329</td><td>30.69800824528302</td></tr><tr><td>CP2</td><td>E3</td><td>5.511</td><td>28.823471</td><td>65.27102634528302</td></tr><tr><td>CP2</td><td>E4R</td><td>3.496</td><td>45.48546</td><td>44.125904490566036</td></tr><tr><td>CP2</td><td>E5</td><td>3.396</td><td>6.307434</td><td>39.076026418867926</td></tr><tr><td>CP2</td><td>E6</td><td>5.925</td><td>45.925507</td><td>71.66802239811321</td></tr><tr><td>CP2</td><td>E7U</td><td>8.487</td><td>176.63864</td><td>113.74310928301888</td></tr><tr><td>CP2</td><td>E8</td><td>7.66</td><td>68.26463</td><td>93.54344413207548</td></tr><tr><td>CP2</td><td>E9U</td><td>1.373</td><td>4.9039</td><td>16.033786226415096</td></tr><tr><td>CP2</td><td>Finish</td><td>3.524</td><td>31.02884</td><td>42.99722362264151</td></tr><tr><td>CP2</td><td>Start</td><td>3.414</td><td>42.677673</td><td>42.91682390377359</td></tr><tr><td>CP3</td><td>CP1</td><td>3.288</td><td>27.417755</td><td>39.964417009433966</td></tr><tr><td>CP3</td><td>CP2</td><td>1.737</td><td>12.7612915</td><td>20.94028009339623</td></tr><tr><td>CP3</td><td>CP4</td><td>7.223</td><td>178.53229</td><td>99.62304032075471</td></tr><tr><td>CP3</td><td>CP5</td><td>2.243</td><td>1.3684082</td><td>25.529293650188677</td></tr><tr><td>CP3</td><td>CP6</td><td>4.071</td><td>12.728836</td><td>47.35967605283019</td></tr><tr><td>CP3</td><td>CP7</td><td>3.746</td><td>28.45108</td><td>45.25265516981132</td></tr><tr><td>CP3</td><td>E1</td><td>4.244</td><td>59.55603</td><td>54.00088601886793</td></tr><tr><td>CP3</td><td>E10U</td><td>6.046</td><td>135.19308</td><td>81.96459101886792</td></tr><tr><td>CP3</td><td>E2R</td><td>2.86</td><td>89.77756</td><td>41.35511449056604</td></tr><tr><td>CP3</td><td>E3</td><td>6.802</td><td>32.559647</td><td>80.25973828490567</td></tr><tr><td>CP3</td><td>E4R</td><td>5.056</td><td>52.216324</td><td>62.4593682490566</td></tr><tr><td>CP3</td><td>E5</td><td>4.956</td><td>13.0383</td><td>57.409490377358495</td></tr><tr><td>CP3</td><td>E6</td><td>4.188</td><td>3.2478333</td><td>47.736104084716985</td></tr><tr><td>CP3</td><td>E7U</td><td>6.751</td><td>133.96097</td><td>89.82251209433961</td></tr><tr><td>CP3</td><td>E8</td><td>6.352</td><td>17.950798</td><td>73.70451376226414</td></tr><tr><td>CP3</td><td>E9U</td><td>2.934</td><td>11.634766</td><td>34.37857093962265</td></tr><tr><td>CP3</td><td>Finish</td><td>4.816</td><td>34.765015</td><td>57.997256216981135</td></tr><tr><td>CP3</td><td>Start</td><td>1.677</td><td>0.0</td><td>18.98490566037736</td></tr><tr><td>CP4</td><td>CP1</td><td>10.511</td><td>256.02798</td><td>144.59525083018866</td></tr><tr><td>CP4</td><td>CP2</td><td>8.96</td><td>241.37152</td><td>125.57111426415096</td></tr><tr><td>CP4</td><td>CP3</td><td>7.223</td><td>228.61023</td><td>104.63083432075472</td></tr><tr><td>CP4</td><td>CP5</td><td>4.98</td><td>139.13629</td><td>70.29098749056604</td></tr><tr><td>CP4</td><td>CP6</td><td>6.527</td><td>112.468346</td><td>85.13740063773585</td></tr><tr><td>CP4</td><td>CP7</td><td>10.969</td><td>257.0613</td><td>149.88348849056604</td></tr><tr><td>CP4</td><td>E1</td><td>11.467</td><td>288.16626</td><td>158.63172033962266</td></tr><tr><td>CP4</td><td>E10U</td><td>12.333</td><td>345.1745</td><td>174.1363179245283</td></tr><tr><td>CP4</td><td>E2R</td><td>10.083</td><td>318.3878</td><td>145.98594981132078</td></tr><tr><td>CP4</td><td>E3</td><td>8.692</td><td>123.902626</td><td>110.7902626</td></tr><tr><td>CP4</td><td>E4R</td><td>7.062</td><td>140.22617</td><td>93.96978681132076</td></tr><tr><td>CP4</td><td>E5</td><td>5.642</td><td>56.940773</td><td>69.56577541320756</td></tr><tr><td>CP4</td><td>E6</td><td>3.035</td><td>37.003403</td><td>38.05883086603774</td></tr><tr><td>CP4</td><td>E7U</td><td>0.473</td><td>0.0</td><td>5.354716981132076</td></tr><tr><td>CP4</td><td>E8</td><td>2.035</td><td>5.496788</td><td>23.587414649056605</td></tr><tr><td>CP4</td><td>E9U</td><td>7.665</td><td>186.07724</td><td>105.38130890566038</td></tr><tr><td>CP4</td><td>Finish</td><td>10.643</td><td>227.28336</td><td>143.21512845283019</td></tr><tr><td>CP4</td><td>Start</td><td>5.546</td><td>168.77472</td><td>79.66237766037736</td></tr><tr><td>CP5</td><td>CP1</td><td>5.531</td><td>116.89169</td><td>74.30426333962265</td></tr><tr><td>CP5</td><td>CP2</td><td>3.98</td><td>102.23523</td><td>55.28012677358491</td></tr><tr><td>CP5</td><td>CP3</td><td>2.243</td><td>89.47394</td><td>34.33984683018868</td></tr><tr><td>CP5</td><td>CP4</td><td>4.98</td><td>177.16388</td><td>74.09374649056605</td></tr><tr><td>CP5</td><td>CP6</td><td>5.632</td><td>105.74305</td><td>74.33279556603773</td></tr><tr><td>CP5</td><td>CP7</td><td>5.989</td><td>117.92502</td><td>79.59250200000001</td></tr><tr><td>CP5</td><td>E1</td><td>6.487</td><td>149.02997</td><td>88.34073284905661</td></tr><tr><td>CP5</td><td>E10U</td><td>8.289</td><td>224.66702</td><td>116.3044378490566</td></tr><tr><td>CP5</td><td>E2R</td><td>5.103</td><td>179.2515</td><td>75.69496132075471</td></tr><tr><td>CP5</td><td>E3</td><td>7.797</td><td>117.17733</td><td>99.98565752830189</td></tr><tr><td>CP5</td><td>E4R</td><td>6.167</td><td>133.50089</td><td>83.16518333962263</td></tr><tr><td>CP5</td><td>E5</td><td>4.746</td><td>50.215477</td><td>58.749849586792465</td></tr><tr><td>CP5</td><td>E6</td><td>1.945</td><td>1.879425</td><td>22.206810424528303</td></tr><tr><td>CP5</td><td>E7U</td><td>4.507</td><td>132.59256</td><td>64.28189750943396</td></tr><tr><td>CP5</td><td>E8</td><td>4.109</td><td>16.58239</td><td>48.175220132075474</td></tr><tr><td>CP5</td><td>E9U</td><td>5.177</td><td>101.1087</td><td>68.71841716981132</td></tr><tr><td>CP5</td><td>Finish</td><td>7.059</td><td>124.23895</td><td>92.33710254716982</td></tr><tr><td>CP5</td><td>Start</td><td>0.566</td><td>29.638428</td><td>9.371389969811322</td></tr><tr><td>CP6</td><td>CP1</td><td>4.331</td><td>162.80408</td><td>65.3105966792453</td></tr><tr><td>CP6</td><td>CP2</td><td>2.511</td><td>145.15292</td><td>42.94170709433962</td></tr><tr><td>CP6</td><td>CP3</td><td>4.071</td><td>181.80017</td><td>64.26680945283019</td></tr><tr><td>CP6</td><td>CP4</td><td>6.527</td><td>231.46173</td><td>97.03673903773586</td></tr><tr><td>CP6</td><td>CP5</td><td>5.632</td><td>186.70886</td><td>82.42937656603773</td></tr><tr><td>CP6</td><td>CP7</td><td>4.789</td><td>163.8374</td><td>70.59883433962264</td></tr><tr><td>CP6</td><td>E1</td><td>5.287</td><td>194.94235</td><td>79.34706518867924</td></tr><tr><td>CP6</td><td>E10U</td><td>7.089</td><td>270.5794</td><td>107.31077018867926</td></tr><tr><td>CP6</td><td>E2R</td><td>4.189</td><td>236.21579</td><td>71.04422050943397</td></tr><tr><td>CP6</td><td>E3</td><td>4.698</td><td>79.41576</td><td>61.126481660377365</td></tr><tr><td>CP6</td><td>E4R</td><td>0.985</td><td>39.487488</td><td>15.099692196226417</td></tr><tr><td>CP6</td><td>E5</td><td>0.885</td><td>0.3094635</td><td>10.049814274528304</td></tr><tr><td>CP6</td><td>E6</td><td>4.09</td><td>90.24265</td><td>55.32615179245283</td></tr><tr><td>CP6</td><td>E7U</td><td>6.055</td><td>186.89041</td><td>87.23621081132075</td></tr><tr><td>CP6</td><td>E8</td><td>5.149</td><td>62.266663</td><td>64.51723233773585</td></tr><tr><td>CP6</td><td>E9U</td><td>1.137</td><td>73.60889</td><td>20.232587113207547</td></tr><tr><td>CP6</td><td>Finish</td><td>5.859</td><td>170.15134</td><td>83.34343588679246</td></tr><tr><td>CP6</td><td>Start</td><td>5.748</td><td>181.80017</td><td>83.25171511320755</td></tr><tr><td>CP7</td><td>CP1</td><td>0.458</td><td>12.316406</td><td>6.416546260377359</td></tr><tr><td>CP7</td><td>CP2</td><td>2.455</td><td>60.136444</td><td>33.806097230188676</td></tr><tr><td>CP7</td><td>CP3</td><td>3.746</td><td>93.789</td><td>51.78644716981132</td></tr><tr><td>CP7</td><td>CP4</td><td>10.969</td><td>272.3213</td><td>151.40948849056605</td></tr><tr><td>CP7</td><td>CP5</td><td>5.989</td><td>95.15741</td><td>77.31574100000002</td></tr><tr><td>CP7</td><td>CP6</td><td>4.789</td><td>60.10399</td><td>60.22549333962264</td></tr><tr><td>CP7</td><td>E1</td><td>0.533</td><td>32.862335</td><td>9.320195764150943</td></tr><tr><td>CP7</td><td>E10U</td><td>2.3</td><td>106.742004</td><td>36.711936249056606</td></tr><tr><td>CP7</td><td>E2R</td><td>3.864</td><td>148.20462</td><td>58.56385822641509</td></tr><tr><td>CP7</td><td>E3</td><td>3.056</td><td>4.1085663</td><td>35.00708304509434</td></tr><tr><td>CP7</td><td>E4R</td><td>5.775</td><td>99.59148</td><td>75.33650649056605</td></tr><tr><td>CP7</td><td>E5</td><td>5.675</td><td>60.413452</td><td>70.28662821886792</td></tr><tr><td>CP7</td><td>E6</td><td>7.934</td><td>97.036835</td><td>99.5225514245283</td></tr><tr><td>CP7</td><td>E7U</td><td>10.496</td><td>227.74997</td><td>141.59763850943398</td></tr><tr><td>CP7</td><td>E8</td><td>9.938</td><td>122.37065</td><td>124.7427253773585</td></tr><tr><td>CP7</td><td>E9U</td><td>3.652</td><td>59.00992</td><td>47.2443882264151</td></tr><tr><td>CP7</td><td>Finish</td><td>1.07</td><td>6.3139343</td><td>12.744600977169812</td></tr><tr><td>CP7</td><td>Start</td><td>5.423</td><td>93.789</td><td>70.77135283018869</td></tr><tr><td>E1</td><td>CP1</td><td>0.956</td><td>11.151825</td><td>11.937824009433962</td></tr><tr><td>E1</td><td>CP2</td><td>2.953</td><td>58.971863</td><td>39.327374979245285</td></tr><tr><td>E1</td><td>CP3</td><td>4.244</td><td>92.62442</td><td>57.30772501886793</td></tr><tr><td>E1</td><td>CP4</td><td>11.467</td><td>271.1567</td><td>156.93076433962264</td></tr><tr><td>E1</td><td>CP5</td><td>6.487</td><td>93.99283</td><td>82.8370188490566</td></tr><tr><td>E1</td><td>CP6</td><td>5.287</td><td>58.939407</td><td>65.74677088867924</td></tr><tr><td>E1</td><td>CP7</td><td>0.533</td><td>0.59280396</td><td>6.093242660150944</td></tr><tr><td>E1</td><td>E10U</td><td>2.794</td><td>106.742004</td><td>42.30438907924528</td></tr><tr><td>E1</td><td>E2R</td><td>4.362</td><td>147.04004</td><td>64.08513607547171</td></tr><tr><td>E1</td><td>E3</td><td>3.551</td><td>4.1085663</td><td>40.61085663</td></tr><tr><td>E1</td><td>E4R</td><td>6.273</td><td>98.426895</td><td>80.85778383962264</td></tr><tr><td>E1</td><td>E5</td><td>6.173</td><td>59.24887</td><td>75.80790586792453</td></tr><tr><td>E1</td><td>E6</td><td>8.432</td><td>95.87225</td><td>105.04382877358492</td></tr><tr><td>E1</td><td>E7U</td><td>10.994</td><td>226.58539</td><td>147.11891635849057</td></tr><tr><td>E1</td><td>E8</td><td>10.436</td><td>121.20607</td><td>130.2640032264151</td></tr><tr><td>E1</td><td>E9U</td><td>4.15</td><td>57.845337</td><td>52.765665775471696</td></tr><tr><td>E1</td><td>Finish</td><td>1.564</td><td>6.3139343</td><td>18.33705380735849</td></tr><tr><td>E1</td><td>Start</td><td>5.921</td><td>92.62442</td><td>76.29263067924529</td></tr><tr><td>E10U</td><td>CP1</td><td>2.758</td><td>58.14096</td><td>37.03673750943397</td></tr><tr><td>E10U</td><td>CP2</td><td>4.755</td><td>105.961</td><td>64.42628867924529</td></tr><tr><td>E10U</td><td>CP3</td><td>6.046</td><td>139.61356</td><td>82.40663901886792</td></tr><tr><td>E10U</td><td>CP4</td><td>12.333</td><td>299.51703</td><td>169.5705709245283</td></tr><tr><td>E10U</td><td>CP5</td><td>8.289</td><td>140.98196</td><td>107.9359318490566</td></tr><tr><td>E10U</td><td>CP6</td><td>7.089</td><td>105.92854</td><td>90.84568418867926</td></tr><tr><td>E10U</td><td>CP7</td><td>2.3</td><td>45.824554</td><td>30.620191249056603</td></tr><tr><td>E10U</td><td>E1</td><td>2.794</td><td>78.094086</td><td>39.439597279245284</td></tr><tr><td>E10U</td><td>E2R</td><td>6.163</td><td>194.02917</td><td>89.17272832075473</td></tr><tr><td>E10U</td><td>E3</td><td>3.692</td><td>4.733795</td><td>42.26960591509434</td></tr><tr><td>E10U</td><td>E4R</td><td>8.074</td><td>145.41603</td><td>105.94537658490566</td></tr><tr><td>E10U</td><td>E5</td><td>7.454</td><td>80.5092</td><td>92.43582566037736</td></tr><tr><td>E10U</td><td>E6</td><td>9.896</td><td>158.29794</td><td>127.8599826792453</td></tr><tr><td>E10U</td><td>E7U</td><td>11.861</td><td>254.94571</td><td>159.77004269811323</td></tr><tr><td>E10U</td><td>E8</td><td>10.955</td><td>130.32196</td><td>137.0510639245283</td></tr><tr><td>E10U</td><td>E9U</td><td>5.952</td><td>104.83447</td><td>77.8645790754717</td></tr><tr><td>E10U</td><td>Finish</td><td>1.7</td><td>4.4695435</td><td>19.69223736886792</td></tr><tr><td>E10U</td><td>Start</td><td>7.723</td><td>139.61356</td><td>101.39154467924529</td></tr><tr><td>E2R</td><td>CP1</td><td>3.405</td><td>16.143158</td><td>40.16148561132076</td></tr><tr><td>E2R</td><td>CP2</td><td>1.854</td><td>1.4866943</td><td>21.13734867528302</td></tr><tr><td>E2R</td><td>CP3</td><td>2.86</td><td>24.087341</td><td>34.786092590566035</td></tr><tr><td>E2R</td><td>CP4</td><td>10.083</td><td>202.61963</td><td>134.40913281132077</td></tr><tr><td>E2R</td><td>CP5</td><td>5.103</td><td>25.45575</td><td>60.31538632075472</td></tr><tr><td>E2R</td><td>CP6</td><td>4.189</td><td>1.4542389</td><td>47.56806539943396</td></tr><tr><td>E2R</td><td>CP7</td><td>3.864</td><td>17.176483</td><td>45.461044526415094</td></tr><tr><td>E2R</td><td>E1</td><td>4.362</td><td>48.281433</td><td>54.209275375471705</td></tr><tr><td>E2R</td><td>E10U</td><td>6.163</td><td>123.91849</td><td>82.16166032075472</td></tr><tr><td>E2R</td><td>E3</td><td>6.92</td><td>21.28505</td><td>80.46812764150944</td></tr><tr><td>E2R</td><td>E4R</td><td>5.174</td><td>40.941727</td><td>62.667757605660384</td></tr><tr><td>E2R</td><td>E5</td><td>5.074</td><td>1.7637024</td><td>57.617879673962264</td></tr><tr><td>E2R</td><td>E6</td><td>7.048</td><td>27.335175</td><td>82.52219674528303</td></tr><tr><td>E2R</td><td>E7U</td><td>9.61</td><td>158.04831</td><td>124.59728383018867</td></tr><tr><td>E2R</td><td>E8</td><td>9.212</td><td>42.03814</td><td>108.49060645283019</td></tr><tr><td>E2R</td><td>E9U</td><td>3.051</td><td>0.36016846</td><td>34.57563948750944</td></tr><tr><td>E2R</td><td>Finish</td><td>4.933</td><td>23.490417</td><td>58.194324718867925</td></tr><tr><td>E2R</td><td>Start</td><td>4.537</td><td>24.087341</td><td>53.77099825094339</td></tr><tr><td>E3</td><td>CP1</td><td>3.515</td><td>171.75548</td><td>56.96800083018868</td></tr><tr><td>E3</td><td>CP2</td><td>5.511</td><td>219.57552</td><td>84.34623124528302</td></tr><tr><td>E3</td><td>CP3</td><td>6.802</td><td>253.22807</td><td>102.32658058490566</td></tr><tr><td>E3</td><td>CP4</td><td>8.692</td><td>294.4931</td><td>127.84931</td></tr><tr><td>E3</td><td>CP5</td><td>7.797</td><td>249.74023</td><td>113.24194752830189</td></tr><tr><td>E3</td><td>CP6</td><td>4.698</td><td>131.01285</td><td>66.28619066037737</td></tr><tr><td>E3</td><td>CP7</td><td>3.056</td><td>159.43907</td><td>50.540133415094346</td></tr><tr><td>E3</td><td>E1</td><td>3.551</td><td>191.7086</td><td>59.37086</td></tr><tr><td>E3</td><td>E10U</td><td>3.692</td><td>220.98175</td><td>63.894401415094336</td></tr><tr><td>E3</td><td>E2R</td><td>6.92</td><td>307.64368</td><td>109.10399064150944</td></tr><tr><td>E3</td><td>E4R</td><td>5.233</td><td>158.77068</td><td>75.11857743396226</td></tr><tr><td>E3</td><td>E5</td><td>3.812</td><td>75.485275</td><td>50.703244481132074</td></tr><tr><td>E3</td><td>E6</td><td>6.254</td><td>153.27402</td><td>86.127402</td></tr><tr><td>E3</td><td>E7U</td><td>8.22</td><td>249.92178</td><td>118.04878177358492</td></tr><tr><td>E3</td><td>E8</td><td>7.314</td><td>125.298035</td><td>95.32980350000001</td></tr><tr><td>E3</td><td>E9U</td><td>5.835</td><td>204.62173</td><td>86.5187767735849</td></tr><tr><td>E3</td><td>Finish</td><td>2.002</td><td>103.09059</td><td>32.97320994339623</td></tr><tr><td>E3</td><td>Start</td><td>8.363</td><td>279.37866</td><td>122.61333769811321</td></tr><tr><td>E4R</td><td>CP1</td><td>5.317</td><td>185.5064</td><td>78.74309283018869</td></tr><tr><td>E4R</td><td>CP2</td><td>3.496</td><td>167.85524</td><td>56.36288249056604</td></tr><tr><td>E4R</td><td>CP3</td><td>5.056</td><td>204.50249</td><td>77.6879848490566</td></tr><tr><td>E4R</td><td>CP4</td><td>7.062</td><td>242.43439</td><td>104.19060881132077</td></tr><tr><td>E4R</td><td>CP5</td><td>6.167</td><td>197.68152</td><td>89.58324633962263</td></tr><tr><td>E4R</td><td>CP6</td><td>0.985</td><td>22.702316</td><td>13.421174996226416</td></tr><tr><td>E4R</td><td>CP7</td><td>5.775</td><td>186.53972</td><td>84.03133049056605</td></tr><tr><td>E4R</td><td>E1</td><td>6.273</td><td>217.64467</td><td>92.77956133962263</td></tr><tr><td>E4R</td><td>E10U</td><td>8.074</td><td>293.28174</td><td>120.73194758490567</td></tr><tr><td>E4R</td><td>E2R</td><td>5.174</td><td>258.9181</td><td>84.46539490566039</td></tr><tr><td>E4R</td><td>E3</td><td>5.233</td><td>90.38841</td><td>68.28035043396227</td></tr><tr><td>E4R</td><td>E5</td><td>1.42</td><td>11.28212</td><td>17.20368369811321</td></tr><tr><td>E4R</td><td>E6</td><td>4.625</td><td>101.21531</td><td>62.48002156603775</td></tr><tr><td>E4R</td><td>E7U</td><td>6.59</td><td>197.86307</td><td>94.39008058490566</td></tr><tr><td>E4R</td><td>E8</td><td>5.684</td><td>73.23932</td><td>71.67110181132075</td></tr><tr><td>E4R</td><td>E9U</td><td>2.123</td><td>96.3112</td><td>33.66508226415094</td></tr><tr><td>E4R</td><td>Finish</td><td>6.844</td><td>192.85365</td><td>96.76461028301887</td></tr><tr><td>E4R</td><td>Start</td><td>6.734</td><td>204.50249</td><td>96.68421126415095</td></tr><tr><td>E5</td><td>CP1</td><td>5.216</td><td>218.33165</td><td>80.88222160377359</td></tr><tr><td>E5</td><td>CP2</td><td>3.396</td><td>200.6805</td><td>58.513333018867925</td></tr><tr><td>E5</td><td>CP3</td><td>4.956</td><td>237.32774</td><td>79.8384343773585</td></tr><tr><td>E5</td><td>CP4</td><td>5.642</td><td>231.15228</td><td>86.98692611320756</td></tr><tr><td>E5</td><td>CP5</td><td>4.746</td><td>186.39938</td><td>72.36823988679247</td></tr><tr><td>E5</td><td>CP6</td><td>0.885</td><td>55.527573</td><td>15.571625224528303</td></tr><tr><td>E5</td><td>CP7</td><td>5.675</td><td>219.36497</td><td>86.18178001886793</td></tr><tr><td>E5</td><td>E1</td><td>6.173</td><td>250.46992</td><td>94.93001086792454</td></tr><tr><td>E5</td><td>E10U</td><td>7.454</td><td>300.37817</td><td>114.42272266037736</td></tr><tr><td>E5</td><td>E2R</td><td>5.074</td><td>291.74335</td><td>86.61584443396227</td></tr><tr><td>E5</td><td>E3</td><td>3.812</td><td>79.10629</td><td>51.065345981132076</td></tr><tr><td>E5</td><td>E4R</td><td>1.42</td><td>83.2854</td><td>24.40401169811321</td></tr><tr><td>E5</td><td>E6</td><td>3.204</td><td>89.93319</td><td>45.26501711320755</td></tr><tr><td>E5</td><td>E7U</td><td>5.169</td><td>186.58096</td><td>77.17507713207547</td></tr><tr><td>E5</td><td>E8</td><td>4.264</td><td>61.9572</td><td>54.46741811320755</td></tr><tr><td>E5</td><td>E9U</td><td>2.023</td><td>129.13646</td><td>35.81553279245283</td></tr><tr><td>E5</td><td>Finish</td><td>5.764</td><td>182.48701</td><td>83.50153118867925</td></tr><tr><td>E5</td><td>Start</td><td>5.312</td><td>216.03781</td><td>81.73963005660377</td></tr><tr><td>E6</td><td>CP1</td><td>7.476</td><td>219.02458</td><td>106.53642026415095</td></tr><tr><td>E6</td><td>CP2</td><td>5.925</td><td>204.36812</td><td>87.51228369811321</td></tr><tr><td>E6</td><td>CP3</td><td>4.188</td><td>191.60683</td><td>66.57200375471697</td></tr><tr><td>E6</td><td>CP4</td><td>3.035</td><td>175.28445</td><td>51.886935566037735</td></tr><tr><td>E6</td><td>CP5</td><td>1.945</td><td>102.13289</td><td>32.232156924528304</td></tr><tr><td>E6</td><td>CP6</td><td>4.09</td><td>109.53031</td><td>57.25491779245283</td></tr><tr><td>E6</td><td>CP7</td><td>7.934</td><td>220.0579</td><td>111.82465792452831</td></tr><tr><td>E6</td><td>E1</td><td>8.432</td><td>251.16286</td><td>120.57288977358492</td></tr><tr><td>E6</td><td>E10U</td><td>9.896</td><td>342.23648</td><td>146.2538366792453</td></tr><tr><td>E6</td><td>E2R</td><td>7.048</td><td>281.3844</td><td>107.92711924528302</td></tr><tr><td>E6</td><td>E3</td><td>6.254</td><td>120.96459</td><td>82.896459</td></tr><tr><td>E6</td><td>E4R</td><td>4.625</td><td>137.28815</td><td>66.08730556603774</td></tr><tr><td>E6</td><td>E5</td><td>3.204</td><td>54.00274</td><td>41.67197211320755</td></tr><tr><td>E6</td><td>E7U</td><td>2.562</td><td>130.71313</td><td>42.07508658490566</td></tr><tr><td>E6</td><td>E8</td><td>2.164</td><td>14.702965</td><td>25.968409707547174</td></tr><tr><td>E6</td><td>E9U</td><td>5.227</td><td>183.13919</td><td>77.48750390566039</td></tr><tr><td>E6</td><td>Finish</td><td>8.206</td><td>224.3453</td><td>115.33264320754716</td></tr><tr><td>E6</td><td>Start</td><td>2.511</td><td>131.77132</td><td>41.603547094339625</td></tr><tr><td>E7U</td><td>CP1</td><td>10.038</td><td>256.02798</td><td>139.24053384905662</td></tr><tr><td>E7U</td><td>CP2</td><td>8.487</td><td>241.37152</td><td>120.21639728301888</td></tr><tr><td>E7U</td><td>CP3</td><td>6.751</td><td>228.61023</td><td>99.28743809433962</td></tr><tr><td>E7U</td><td>CP4</td><td>0.473</td><td>44.57132</td><td>9.811848981132076</td></tr><tr><td>E7U</td><td>CP5</td><td>4.507</td><td>139.13629</td><td>64.93627050943397</td></tr><tr><td>E7U</td><td>CP6</td><td>6.055</td><td>112.468346</td><td>79.79400441132074</td></tr><tr><td>E7U</td><td>CP7</td><td>10.496</td><td>257.0613</td><td>144.52877150943397</td></tr><tr><td>E7U</td><td>E1</td><td>10.994</td><td>288.16626</td><td>153.2770033584906</td></tr><tr><td>E7U</td><td>E10U</td><td>11.861</td><td>345.1745</td><td>168.79292169811322</td></tr><tr><td>E7U</td><td>E2R</td><td>9.61</td><td>318.3878</td><td>140.63123283018868</td></tr><tr><td>E7U</td><td>E3</td><td>8.22</td><td>123.902626</td><td>105.44686637358491</td></tr><tr><td>E7U</td><td>E4R</td><td>6.59</td><td>140.22617</td><td>88.62639058490566</td></tr><tr><td>E7U</td><td>E5</td><td>5.169</td><td>56.940773</td><td>64.21105843207546</td></tr><tr><td>E7U</td><td>E6</td><td>2.562</td><td>37.003403</td><td>32.70411388490566</td></tr><tr><td>E7U</td><td>E8</td><td>1.562</td><td>5.496788</td><td>18.23269766792453</td></tr><tr><td>E7U</td><td>E9U</td><td>7.192</td><td>186.07724</td><td>100.0265919245283</td></tr><tr><td>E7U</td><td>Finish</td><td>10.171</td><td>227.28336</td><td>137.87173222641508</td></tr><tr><td>E7U</td><td>Start</td><td>5.073</td><td>168.77472</td><td>74.30766067924529</td></tr><tr><td>E8</td><td>CP1</td><td>9.48</td><td>287.8257</td><td>136.10332471698112</td></tr><tr><td>E8</td><td>CP2</td><td>7.66</td><td>270.17456</td><td>113.73443713207547</td></tr><tr><td>E8</td><td>CP3</td><td>6.352</td><td>249.77711</td><td>96.88714496226414</td></tr><tr><td>E8</td><td>CP4</td><td>2.035</td><td>187.24516</td><td>41.76225184905661</td></tr><tr><td>E8</td><td>CP5</td><td>4.109</td><td>160.30318</td><td>62.54729913207547</td></tr><tr><td>E8</td><td>CP6</td><td>5.149</td><td>125.021645</td><td>70.79273053773585</td></tr><tr><td>E8</td><td>CP7</td><td>9.938</td><td>288.85904</td><td>141.3915643773585</td></tr><tr><td>E8</td><td>E1</td><td>10.436</td><td>319.964</td><td>150.13979622641511</td></tr><tr><td>E8</td><td>E10U</td><td>10.955</td><td>357.7278</td><td>159.7916479245283</td></tr><tr><td>E8</td><td>E2R</td><td>9.212</td><td>339.5547</td><td>138.2422624528302</td></tr><tr><td>E8</td><td>E3</td><td>7.314</td><td>136.45593</td><td>96.44559300000002</td></tr><tr><td>E8</td><td>E4R</td><td>5.684</td><td>152.77948</td><td>79.62511781132075</td></tr><tr><td>E8</td><td>E5</td><td>4.264</td><td>69.49407</td><td>55.22110511320755</td></tr><tr><td>E8</td><td>E6</td><td>2.164</td><td>58.170288</td><td>30.315142007547173</td></tr><tr><td>E8</td><td>E7U</td><td>1.562</td><td>142.67384</td><td>31.95040286792453</td></tr><tr><td>E8</td><td>E9U</td><td>6.286</td><td>198.63052</td><td>91.0253161509434</td></tr><tr><td>E8</td><td>Finish</td><td>9.265</td><td>239.83664</td><td>128.87045645283018</td></tr><tr><td>E8</td><td>Start</td><td>4.675</td><td>189.9416</td><td>71.91868830188679</td></tr><tr><td>E9U</td><td>CP1</td><td>3.194</td><td>89.19519</td><td>45.07800956603774</td></tr><tr><td>E9U</td><td>CP2</td><td>1.373</td><td>71.54404</td><td>22.697800226415094</td></tr><tr><td>E9U</td><td>CP3</td><td>2.934</td><td>108.191284</td><td>44.03422273962265</td></tr><tr><td>E9U</td><td>CP4</td><td>7.665</td><td>232.55582</td><td>110.02916690566038</td></tr><tr><td>E9U</td><td>CP5</td><td>5.177</td><td>109.55969</td><td>69.56351616981132</td></tr><tr><td>E9U</td><td>CP6</td><td>1.137</td><td>1.0940704</td><td>12.981105153207547</td></tr><tr><td>E9U</td><td>CP7</td><td>3.652</td><td>90.228516</td><td>50.36624782641509</td></tr><tr><td>E9U</td><td>E1</td><td>4.15</td><td>121.333466</td><td>59.1144786754717</td></tr><tr><td>E9U</td><td>E10U</td><td>5.952</td><td>196.97052</td><td>87.0781840754717</td></tr><tr><td>E9U</td><td>E2R</td><td>3.051</td><td>162.6069</td><td>50.800312641509436</td></tr><tr><td>E9U</td><td>E3</td><td>5.835</td><td>80.50983</td><td>74.1075867735849</td></tr><tr><td>E9U</td><td>E4R</td><td>2.123</td><td>40.58156</td><td>28.092118264150944</td></tr><tr><td>E9U</td><td>E5</td><td>2.023</td><td>1.4035339</td><td>23.042240182452833</td></tr><tr><td>E9U</td><td>E6</td><td>5.227</td><td>91.33672</td><td>68.30725690566038</td></tr><tr><td>E9U</td><td>E7U</td><td>7.192</td><td>187.9845</td><td>100.21731792452832</td></tr><tr><td>E9U</td><td>E8</td><td>6.286</td><td>63.360733</td><td>77.4983374509434</td></tr><tr><td>E9U</td><td>Finish</td><td>4.722</td><td>96.54245</td><td>63.110848773584905</td></tr><tr><td>E9U</td><td>Start</td><td>4.611</td><td>108.191284</td><td>63.0191284</td></tr><tr><td>Finish</td><td>CP1</td><td>1.528</td><td>71.77464</td><td>24.475577207547172</td></tr><tr><td>Finish</td><td>CP2</td><td>3.524</td><td>119.59468</td><td>51.85380762264151</td></tr><tr><td>Finish</td><td>CP3</td><td>4.816</td><td>153.24724</td><td>69.84547871698113</td></tr><tr><td>Finish</td><td>CP4</td><td>10.643</td><td>295.68762</td><td>150.0555544528302</td></tr><tr><td>Finish</td><td>CP5</td><td>7.059</td><td>154.61565</td><td>95.37477254716981</td></tr><tr><td>Finish</td><td>CP6</td><td>5.859</td><td>119.562225</td><td>78.28452438679246</td></tr><tr><td>Finish</td><td>CP7</td><td>1.07</td><td>59.458237</td><td>18.059031247169813</td></tr><tr><td>Finish</td><td>E1</td><td>1.564</td><td>91.72777</td><td>26.87843737735849</td></tr><tr><td>Finish</td><td>E10U</td><td>1.7</td><td>118.531296</td><td>31.098412618867922</td></tr><tr><td>Finish</td><td>E2R</td><td>4.933</td><td>207.66286</td><td>76.61156901886793</td></tr><tr><td>Finish</td><td>E3</td><td>2.002</td><td>0.9043884</td><td>22.754589783396224</td></tr><tr><td>Finish</td><td>E4R</td><td>6.844</td><td>159.04971</td><td>93.38421628301887</td></tr><tr><td>Finish</td><td>E5</td><td>5.764</td><td>76.679794</td><td>72.92080958867925</td></tr><tr><td>Finish</td><td>E6</td><td>8.206</td><td>154.46854</td><td>108.34496720754717</td></tr><tr><td>Finish</td><td>E7U</td><td>10.171</td><td>251.1163</td><td>140.25502622641508</td></tr><tr><td>Finish</td><td>E8</td><td>9.265</td><td>126.49255</td><td>117.53604745283019</td></tr><tr><td>Finish</td><td>E9U</td><td>4.722</td><td>118.468155</td><td>65.30341927358491</td></tr><tr><td>Finish</td><td>Start</td><td>6.493</td><td>153.24724</td><td>88.8303843773585</td></tr><tr><td>Start</td><td>CP1</td><td>4.965</td><td>87.253265</td><td>64.93287366981131</td></tr><tr><td>Start</td><td>CP2</td><td>3.414</td><td>72.5968</td><td>45.90873660377359</td></tr><tr><td>Start</td><td>CP3</td><td>1.677</td><td>59.83551</td><td>24.968456660377363</td></tr><tr><td>Start</td><td>CP4</td><td>5.546</td><td>178.53229</td><td>80.63813466037736</td></tr><tr><td>Start</td><td>CP5</td><td>0.566</td><td>1.3684082</td><td>6.54438798981132</td></tr><tr><td>Start</td><td>CP6</td><td>5.748</td><td>72.56435</td><td>72.32813311320756</td></tr><tr><td>Start</td><td>CP7</td><td>5.423</td><td>88.28659</td><td>70.22111183018869</td></tr><tr><td>Start</td><td>E1</td><td>5.921</td><td>119.39154</td><td>78.9693426792453</td></tr><tr><td>Start</td><td>E10U</td><td>7.723</td><td>195.0286</td><td>106.93304867924529</td></tr><tr><td>Start</td><td>E2R</td><td>4.537</td><td>149.61307</td><td>66.3235711509434</td></tr><tr><td>Start</td><td>E3</td><td>8.363</td><td>118.54574</td><td>106.53004569811321</td></tr><tr><td>Start</td><td>E4R</td><td>6.734</td><td>112.051834</td><td>87.43914566415094</td></tr><tr><td>Start</td><td>E5</td><td>5.312</td><td>51.583885</td><td>65.29423755660378</td></tr><tr><td>Start</td><td>E6</td><td>2.511</td><td>3.2478333</td><td>28.751198424339623</td></tr><tr><td>Start</td><td>E7U</td><td>5.073</td><td>133.96097</td><td>70.82628567924529</td></tr><tr><td>Start</td><td>E8</td><td>4.675</td><td>17.950798</td><td>54.71960810188679</td></tr><tr><td>Start</td><td>E9U</td><td>4.611</td><td>71.470276</td><td>59.347027600000004</td></tr><tr><td>Start</td><td>Finish</td><td>6.493</td><td>94.600525</td><td>82.9657128773585</td></tr></tbody></table></div>"
      ]
     },
     "metadata": {
      "application/vnd.databricks.v1+output": {
       "addedWidgets": {},
       "aggData": [],
       "aggError": "",
       "aggOverflow": false,
       "aggSchema": [],
       "aggSeriesLimitReached": false,
       "aggType": "",
       "arguments": {},
       "columnCustomDisplayInfos": {},
       "data": [
        [
         "CP1",
         "CP2",
         1.997,
         47.820038,
         27.389550969811324
        ],
        [
         "CP1",
         "CP3",
         3.288,
         81.472595,
         45.36990100943396
        ],
        [
         "CP1",
         "CP4",
         10.511,
         260.00488,
         144.99294083018867
        ],
        [
         "CP1",
         "CP5",
         5.531,
         82.841,
         70.89919433962264
        ],
        [
         "CP1",
         "CP6",
         4.331,
         47.787582,
         53.80894687924529
        ],
        [
         "CP1",
         "CP7",
         0.458,
         1.0333252,
         5.288238180377359
        ],
        [
         "CP1",
         "E1",
         0.956,
         32.138275,
         14.036469009433961
        ],
        [
         "CP1",
         "E10U",
         2.758,
         107.77533,
         42.00017450943397
        ],
        [
         "CP1",
         "E2R",
         3.405,
         135.88821,
         52.13599081132075
        ],
        [
         "CP1",
         "E3",
         3.515,
         5.1418915,
         40.30664198018868
        ],
        [
         "CP1",
         "E4R",
         5.317,
         87.27507,
         68.91995983018869
        ],
        [
         "CP1",
         "E5",
         5.216,
         48.097046,
         63.85876120377358
        ],
        [
         "CP1",
         "E6",
         7.476,
         84.72043,
         93.10600526415095
        ],
        [
         "CP1",
         "E7U",
         10.038,
         215.43356,
         135.1810918490566
        ],
        [
         "CP1",
         "E8",
         9.48,
         110.054245,
         118.32617921698113
        ],
        [
         "CP1",
         "E9U",
         3.194,
         46.693512,
         40.82784176603774
        ],
        [
         "CP1",
         "Finish",
         1.528,
         7.3472595,
         18.032839157547173
        ],
        [
         "CP1",
         "Start",
         4.965,
         81.472595,
         64.35480666981132
        ],
        [
         "CP2",
         "CP1",
         1.997,
         23.68158,
         24.975705169811324
        ],
        [
         "CP2",
         "CP3",
         1.737,
         42.677673,
         23.93191824339623
        ],
        [
         "CP2",
         "CP4",
         8.96,
         221.20996,
         123.55495826415097
        ],
        [
         "CP2",
         "CP5",
         3.98,
         44.04608,
         49.461211773584914
        ],
        [
         "CP2",
         "CP6",
         2.511,
         5.9979706,
         29.026212154339625
        ],
        [
         "CP2",
         "CP7",
         2.455,
         24.714905,
         30.26394333018868
        ],
        [
         "CP2",
         "E1",
         2.953,
         55.819855,
         39.012174179245285
        ],
        [
         "CP2",
         "E10U",
         4.755,
         131.45691,
         66.97587967924528
        ],
        [
         "CP2",
         "E2R",
         1.854,
         97.09329,
         30.69800824528302
        ],
        [
         "CP2",
         "E3",
         5.511,
         28.823471,
         65.27102634528302
        ],
        [
         "CP2",
         "E4R",
         3.496,
         45.48546,
         44.125904490566036
        ],
        [
         "CP2",
         "E5",
         3.396,
         6.307434,
         39.076026418867926
        ],
        [
         "CP2",
         "E6",
         5.925,
         45.925507,
         71.66802239811321
        ],
        [
         "CP2",
         "E7U",
         8.487,
         176.63864,
         113.74310928301888
        ],
        [
         "CP2",
         "E8",
         7.66,
         68.26463,
         93.54344413207548
        ],
        [
         "CP2",
         "E9U",
         1.373,
         4.9039,
         16.033786226415096
        ],
        [
         "CP2",
         "Finish",
         3.524,
         31.02884,
         42.99722362264151
        ],
        [
         "CP2",
         "Start",
         3.414,
         42.677673,
         42.91682390377359
        ],
        [
         "CP3",
         "CP1",
         3.288,
         27.417755,
         39.964417009433966
        ],
        [
         "CP3",
         "CP2",
         1.737,
         12.7612915,
         20.94028009339623
        ],
        [
         "CP3",
         "CP4",
         7.223,
         178.53229,
         99.62304032075471
        ],
        [
         "CP3",
         "CP5",
         2.243,
         1.3684082,
         25.529293650188677
        ],
        [
         "CP3",
         "CP6",
         4.071,
         12.728836,
         47.35967605283019
        ],
        [
         "CP3",
         "CP7",
         3.746,
         28.45108,
         45.25265516981132
        ],
        [
         "CP3",
         "E1",
         4.244,
         59.55603,
         54.00088601886793
        ],
        [
         "CP3",
         "E10U",
         6.046,
         135.19308,
         81.96459101886792
        ],
        [
         "CP3",
         "E2R",
         2.86,
         89.77756,
         41.35511449056604
        ],
        [
         "CP3",
         "E3",
         6.802,
         32.559647,
         80.25973828490567
        ],
        [
         "CP3",
         "E4R",
         5.056,
         52.216324,
         62.4593682490566
        ],
        [
         "CP3",
         "E5",
         4.956,
         13.0383,
         57.409490377358495
        ],
        [
         "CP3",
         "E6",
         4.188,
         3.2478333,
         47.736104084716985
        ],
        [
         "CP3",
         "E7U",
         6.751,
         133.96097,
         89.82251209433961
        ],
        [
         "CP3",
         "E8",
         6.352,
         17.950798,
         73.70451376226414
        ],
        [
         "CP3",
         "E9U",
         2.934,
         11.634766,
         34.37857093962265
        ],
        [
         "CP3",
         "Finish",
         4.816,
         34.765015,
         57.997256216981135
        ],
        [
         "CP3",
         "Start",
         1.677,
         0.0,
         18.98490566037736
        ],
        [
         "CP4",
         "CP1",
         10.511,
         256.02798,
         144.59525083018866
        ],
        [
         "CP4",
         "CP2",
         8.96,
         241.37152,
         125.57111426415096
        ],
        [
         "CP4",
         "CP3",
         7.223,
         228.61023,
         104.63083432075472
        ],
        [
         "CP4",
         "CP5",
         4.98,
         139.13629,
         70.29098749056604
        ],
        [
         "CP4",
         "CP6",
         6.527,
         112.468346,
         85.13740063773585
        ],
        [
         "CP4",
         "CP7",
         10.969,
         257.0613,
         149.88348849056604
        ],
        [
         "CP4",
         "E1",
         11.467,
         288.16626,
         158.63172033962266
        ],
        [
         "CP4",
         "E10U",
         12.333,
         345.1745,
         174.1363179245283
        ],
        [
         "CP4",
         "E2R",
         10.083,
         318.3878,
         145.98594981132078
        ],
        [
         "CP4",
         "E3",
         8.692,
         123.902626,
         110.7902626
        ],
        [
         "CP4",
         "E4R",
         7.062,
         140.22617,
         93.96978681132076
        ],
        [
         "CP4",
         "E5",
         5.642,
         56.940773,
         69.56577541320756
        ],
        [
         "CP4",
         "E6",
         3.035,
         37.003403,
         38.05883086603774
        ],
        [
         "CP4",
         "E7U",
         0.473,
         0.0,
         5.354716981132076
        ],
        [
         "CP4",
         "E8",
         2.035,
         5.496788,
         23.587414649056605
        ],
        [
         "CP4",
         "E9U",
         7.665,
         186.07724,
         105.38130890566038
        ],
        [
         "CP4",
         "Finish",
         10.643,
         227.28336,
         143.21512845283019
        ],
        [
         "CP4",
         "Start",
         5.546,
         168.77472,
         79.66237766037736
        ],
        [
         "CP5",
         "CP1",
         5.531,
         116.89169,
         74.30426333962265
        ],
        [
         "CP5",
         "CP2",
         3.98,
         102.23523,
         55.28012677358491
        ],
        [
         "CP5",
         "CP3",
         2.243,
         89.47394,
         34.33984683018868
        ],
        [
         "CP5",
         "CP4",
         4.98,
         177.16388,
         74.09374649056605
        ],
        [
         "CP5",
         "CP6",
         5.632,
         105.74305,
         74.33279556603773
        ],
        [
         "CP5",
         "CP7",
         5.989,
         117.92502,
         79.59250200000001
        ],
        [
         "CP5",
         "E1",
         6.487,
         149.02997,
         88.34073284905661
        ],
        [
         "CP5",
         "E10U",
         8.289,
         224.66702,
         116.3044378490566
        ],
        [
         "CP5",
         "E2R",
         5.103,
         179.2515,
         75.69496132075471
        ],
        [
         "CP5",
         "E3",
         7.797,
         117.17733,
         99.98565752830189
        ],
        [
         "CP5",
         "E4R",
         6.167,
         133.50089,
         83.16518333962263
        ],
        [
         "CP5",
         "E5",
         4.746,
         50.215477,
         58.749849586792465
        ],
        [
         "CP5",
         "E6",
         1.945,
         1.879425,
         22.206810424528303
        ],
        [
         "CP5",
         "E7U",
         4.507,
         132.59256,
         64.28189750943396
        ],
        [
         "CP5",
         "E8",
         4.109,
         16.58239,
         48.175220132075474
        ],
        [
         "CP5",
         "E9U",
         5.177,
         101.1087,
         68.71841716981132
        ],
        [
         "CP5",
         "Finish",
         7.059,
         124.23895,
         92.33710254716982
        ],
        [
         "CP5",
         "Start",
         0.566,
         29.638428,
         9.371389969811322
        ],
        [
         "CP6",
         "CP1",
         4.331,
         162.80408,
         65.3105966792453
        ],
        [
         "CP6",
         "CP2",
         2.511,
         145.15292,
         42.94170709433962
        ],
        [
         "CP6",
         "CP3",
         4.071,
         181.80017,
         64.26680945283019
        ],
        [
         "CP6",
         "CP4",
         6.527,
         231.46173,
         97.03673903773586
        ],
        [
         "CP6",
         "CP5",
         5.632,
         186.70886,
         82.42937656603773
        ],
        [
         "CP6",
         "CP7",
         4.789,
         163.8374,
         70.59883433962264
        ],
        [
         "CP6",
         "E1",
         5.287,
         194.94235,
         79.34706518867924
        ],
        [
         "CP6",
         "E10U",
         7.089,
         270.5794,
         107.31077018867926
        ],
        [
         "CP6",
         "E2R",
         4.189,
         236.21579,
         71.04422050943397
        ],
        [
         "CP6",
         "E3",
         4.698,
         79.41576,
         61.126481660377365
        ],
        [
         "CP6",
         "E4R",
         0.985,
         39.487488,
         15.099692196226417
        ],
        [
         "CP6",
         "E5",
         0.885,
         0.3094635,
         10.049814274528304
        ],
        [
         "CP6",
         "E6",
         4.09,
         90.24265,
         55.32615179245283
        ],
        [
         "CP6",
         "E7U",
         6.055,
         186.89041,
         87.23621081132075
        ],
        [
         "CP6",
         "E8",
         5.149,
         62.266663,
         64.51723233773585
        ],
        [
         "CP6",
         "E9U",
         1.137,
         73.60889,
         20.232587113207547
        ],
        [
         "CP6",
         "Finish",
         5.859,
         170.15134,
         83.34343588679246
        ],
        [
         "CP6",
         "Start",
         5.748,
         181.80017,
         83.25171511320755
        ],
        [
         "CP7",
         "CP1",
         0.458,
         12.316406,
         6.416546260377359
        ],
        [
         "CP7",
         "CP2",
         2.455,
         60.136444,
         33.806097230188676
        ],
        [
         "CP7",
         "CP3",
         3.746,
         93.789,
         51.78644716981132
        ],
        [
         "CP7",
         "CP4",
         10.969,
         272.3213,
         151.40948849056605
        ],
        [
         "CP7",
         "CP5",
         5.989,
         95.15741,
         77.31574100000002
        ],
        [
         "CP7",
         "CP6",
         4.789,
         60.10399,
         60.22549333962264
        ],
        [
         "CP7",
         "E1",
         0.533,
         32.862335,
         9.320195764150943
        ],
        [
         "CP7",
         "E10U",
         2.3,
         106.742004,
         36.711936249056606
        ],
        [
         "CP7",
         "E2R",
         3.864,
         148.20462,
         58.56385822641509
        ],
        [
         "CP7",
         "E3",
         3.056,
         4.1085663,
         35.00708304509434
        ],
        [
         "CP7",
         "E4R",
         5.775,
         99.59148,
         75.33650649056605
        ],
        [
         "CP7",
         "E5",
         5.675,
         60.413452,
         70.28662821886792
        ],
        [
         "CP7",
         "E6",
         7.934,
         97.036835,
         99.5225514245283
        ],
        [
         "CP7",
         "E7U",
         10.496,
         227.74997,
         141.59763850943398
        ],
        [
         "CP7",
         "E8",
         9.938,
         122.37065,
         124.7427253773585
        ],
        [
         "CP7",
         "E9U",
         3.652,
         59.00992,
         47.2443882264151
        ],
        [
         "CP7",
         "Finish",
         1.07,
         6.3139343,
         12.744600977169812
        ],
        [
         "CP7",
         "Start",
         5.423,
         93.789,
         70.77135283018869
        ],
        [
         "E1",
         "CP1",
         0.956,
         11.151825,
         11.937824009433962
        ],
        [
         "E1",
         "CP2",
         2.953,
         58.971863,
         39.327374979245285
        ],
        [
         "E1",
         "CP3",
         4.244,
         92.62442,
         57.30772501886793
        ],
        [
         "E1",
         "CP4",
         11.467,
         271.1567,
         156.93076433962264
        ],
        [
         "E1",
         "CP5",
         6.487,
         93.99283,
         82.8370188490566
        ],
        [
         "E1",
         "CP6",
         5.287,
         58.939407,
         65.74677088867924
        ],
        [
         "E1",
         "CP7",
         0.533,
         0.59280396,
         6.093242660150944
        ],
        [
         "E1",
         "E10U",
         2.794,
         106.742004,
         42.30438907924528
        ],
        [
         "E1",
         "E2R",
         4.362,
         147.04004,
         64.08513607547171
        ],
        [
         "E1",
         "E3",
         3.551,
         4.1085663,
         40.61085663
        ],
        [
         "E1",
         "E4R",
         6.273,
         98.426895,
         80.85778383962264
        ],
        [
         "E1",
         "E5",
         6.173,
         59.24887,
         75.80790586792453
        ],
        [
         "E1",
         "E6",
         8.432,
         95.87225,
         105.04382877358492
        ],
        [
         "E1",
         "E7U",
         10.994,
         226.58539,
         147.11891635849057
        ],
        [
         "E1",
         "E8",
         10.436,
         121.20607,
         130.2640032264151
        ],
        [
         "E1",
         "E9U",
         4.15,
         57.845337,
         52.765665775471696
        ],
        [
         "E1",
         "Finish",
         1.564,
         6.3139343,
         18.33705380735849
        ],
        [
         "E1",
         "Start",
         5.921,
         92.62442,
         76.29263067924529
        ],
        [
         "E10U",
         "CP1",
         2.758,
         58.14096,
         37.03673750943397
        ],
        [
         "E10U",
         "CP2",
         4.755,
         105.961,
         64.42628867924529
        ],
        [
         "E10U",
         "CP3",
         6.046,
         139.61356,
         82.40663901886792
        ],
        [
         "E10U",
         "CP4",
         12.333,
         299.51703,
         169.5705709245283
        ],
        [
         "E10U",
         "CP5",
         8.289,
         140.98196,
         107.9359318490566
        ],
        [
         "E10U",
         "CP6",
         7.089,
         105.92854,
         90.84568418867926
        ],
        [
         "E10U",
         "CP7",
         2.3,
         45.824554,
         30.620191249056603
        ],
        [
         "E10U",
         "E1",
         2.794,
         78.094086,
         39.439597279245284
        ],
        [
         "E10U",
         "E2R",
         6.163,
         194.02917,
         89.17272832075473
        ],
        [
         "E10U",
         "E3",
         3.692,
         4.733795,
         42.26960591509434
        ],
        [
         "E10U",
         "E4R",
         8.074,
         145.41603,
         105.94537658490566
        ],
        [
         "E10U",
         "E5",
         7.454,
         80.5092,
         92.43582566037736
        ],
        [
         "E10U",
         "E6",
         9.896,
         158.29794,
         127.8599826792453
        ],
        [
         "E10U",
         "E7U",
         11.861,
         254.94571,
         159.77004269811323
        ],
        [
         "E10U",
         "E8",
         10.955,
         130.32196,
         137.0510639245283
        ],
        [
         "E10U",
         "E9U",
         5.952,
         104.83447,
         77.8645790754717
        ],
        [
         "E10U",
         "Finish",
         1.7,
         4.4695435,
         19.69223736886792
        ],
        [
         "E10U",
         "Start",
         7.723,
         139.61356,
         101.39154467924529
        ],
        [
         "E2R",
         "CP1",
         3.405,
         16.143158,
         40.16148561132076
        ],
        [
         "E2R",
         "CP2",
         1.854,
         1.4866943,
         21.13734867528302
        ],
        [
         "E2R",
         "CP3",
         2.86,
         24.087341,
         34.786092590566035
        ],
        [
         "E2R",
         "CP4",
         10.083,
         202.61963,
         134.40913281132077
        ],
        [
         "E2R",
         "CP5",
         5.103,
         25.45575,
         60.31538632075472
        ],
        [
         "E2R",
         "CP6",
         4.189,
         1.4542389,
         47.56806539943396
        ],
        [
         "E2R",
         "CP7",
         3.864,
         17.176483,
         45.461044526415094
        ],
        [
         "E2R",
         "E1",
         4.362,
         48.281433,
         54.209275375471705
        ],
        [
         "E2R",
         "E10U",
         6.163,
         123.91849,
         82.16166032075472
        ],
        [
         "E2R",
         "E3",
         6.92,
         21.28505,
         80.46812764150944
        ],
        [
         "E2R",
         "E4R",
         5.174,
         40.941727,
         62.667757605660384
        ],
        [
         "E2R",
         "E5",
         5.074,
         1.7637024,
         57.617879673962264
        ],
        [
         "E2R",
         "E6",
         7.048,
         27.335175,
         82.52219674528303
        ],
        [
         "E2R",
         "E7U",
         9.61,
         158.04831,
         124.59728383018867
        ],
        [
         "E2R",
         "E8",
         9.212,
         42.03814,
         108.49060645283019
        ],
        [
         "E2R",
         "E9U",
         3.051,
         0.36016846,
         34.57563948750944
        ],
        [
         "E2R",
         "Finish",
         4.933,
         23.490417,
         58.194324718867925
        ],
        [
         "E2R",
         "Start",
         4.537,
         24.087341,
         53.77099825094339
        ],
        [
         "E3",
         "CP1",
         3.515,
         171.75548,
         56.96800083018868
        ],
        [
         "E3",
         "CP2",
         5.511,
         219.57552,
         84.34623124528302
        ],
        [
         "E3",
         "CP3",
         6.802,
         253.22807,
         102.32658058490566
        ],
        [
         "E3",
         "CP4",
         8.692,
         294.4931,
         127.84931
        ],
        [
         "E3",
         "CP5",
         7.797,
         249.74023,
         113.24194752830189
        ],
        [
         "E3",
         "CP6",
         4.698,
         131.01285,
         66.28619066037737
        ],
        [
         "E3",
         "CP7",
         3.056,
         159.43907,
         50.540133415094346
        ],
        [
         "E3",
         "E1",
         3.551,
         191.7086,
         59.37086
        ],
        [
         "E3",
         "E10U",
         3.692,
         220.98175,
         63.894401415094336
        ],
        [
         "E3",
         "E2R",
         6.92,
         307.64368,
         109.10399064150944
        ],
        [
         "E3",
         "E4R",
         5.233,
         158.77068,
         75.11857743396226
        ],
        [
         "E3",
         "E5",
         3.812,
         75.485275,
         50.703244481132074
        ],
        [
         "E3",
         "E6",
         6.254,
         153.27402,
         86.127402
        ],
        [
         "E3",
         "E7U",
         8.22,
         249.92178,
         118.04878177358492
        ],
        [
         "E3",
         "E8",
         7.314,
         125.298035,
         95.32980350000001
        ],
        [
         "E3",
         "E9U",
         5.835,
         204.62173,
         86.5187767735849
        ],
        [
         "E3",
         "Finish",
         2.002,
         103.09059,
         32.97320994339623
        ],
        [
         "E3",
         "Start",
         8.363,
         279.37866,
         122.61333769811321
        ],
        [
         "E4R",
         "CP1",
         5.317,
         185.5064,
         78.74309283018869
        ],
        [
         "E4R",
         "CP2",
         3.496,
         167.85524,
         56.36288249056604
        ],
        [
         "E4R",
         "CP3",
         5.056,
         204.50249,
         77.6879848490566
        ],
        [
         "E4R",
         "CP4",
         7.062,
         242.43439,
         104.19060881132077
        ],
        [
         "E4R",
         "CP5",
         6.167,
         197.68152,
         89.58324633962263
        ],
        [
         "E4R",
         "CP6",
         0.985,
         22.702316,
         13.421174996226416
        ],
        [
         "E4R",
         "CP7",
         5.775,
         186.53972,
         84.03133049056605
        ],
        [
         "E4R",
         "E1",
         6.273,
         217.64467,
         92.77956133962263
        ],
        [
         "E4R",
         "E10U",
         8.074,
         293.28174,
         120.73194758490567
        ],
        [
         "E4R",
         "E2R",
         5.174,
         258.9181,
         84.46539490566039
        ],
        [
         "E4R",
         "E3",
         5.233,
         90.38841,
         68.28035043396227
        ],
        [
         "E4R",
         "E5",
         1.42,
         11.28212,
         17.20368369811321
        ],
        [
         "E4R",
         "E6",
         4.625,
         101.21531,
         62.48002156603775
        ],
        [
         "E4R",
         "E7U",
         6.59,
         197.86307,
         94.39008058490566
        ],
        [
         "E4R",
         "E8",
         5.684,
         73.23932,
         71.67110181132075
        ],
        [
         "E4R",
         "E9U",
         2.123,
         96.3112,
         33.66508226415094
        ],
        [
         "E4R",
         "Finish",
         6.844,
         192.85365,
         96.76461028301887
        ],
        [
         "E4R",
         "Start",
         6.734,
         204.50249,
         96.68421126415095
        ],
        [
         "E5",
         "CP1",
         5.216,
         218.33165,
         80.88222160377359
        ],
        [
         "E5",
         "CP2",
         3.396,
         200.6805,
         58.513333018867925
        ],
        [
         "E5",
         "CP3",
         4.956,
         237.32774,
         79.8384343773585
        ],
        [
         "E5",
         "CP4",
         5.642,
         231.15228,
         86.98692611320756
        ],
        [
         "E5",
         "CP5",
         4.746,
         186.39938,
         72.36823988679247
        ],
        [
         "E5",
         "CP6",
         0.885,
         55.527573,
         15.571625224528303
        ],
        [
         "E5",
         "CP7",
         5.675,
         219.36497,
         86.18178001886793
        ],
        [
         "E5",
         "E1",
         6.173,
         250.46992,
         94.93001086792454
        ],
        [
         "E5",
         "E10U",
         7.454,
         300.37817,
         114.42272266037736
        ],
        [
         "E5",
         "E2R",
         5.074,
         291.74335,
         86.61584443396227
        ],
        [
         "E5",
         "E3",
         3.812,
         79.10629,
         51.065345981132076
        ],
        [
         "E5",
         "E4R",
         1.42,
         83.2854,
         24.40401169811321
        ],
        [
         "E5",
         "E6",
         3.204,
         89.93319,
         45.26501711320755
        ],
        [
         "E5",
         "E7U",
         5.169,
         186.58096,
         77.17507713207547
        ],
        [
         "E5",
         "E8",
         4.264,
         61.9572,
         54.46741811320755
        ],
        [
         "E5",
         "E9U",
         2.023,
         129.13646,
         35.81553279245283
        ],
        [
         "E5",
         "Finish",
         5.764,
         182.48701,
         83.50153118867925
        ],
        [
         "E5",
         "Start",
         5.312,
         216.03781,
         81.73963005660377
        ],
        [
         "E6",
         "CP1",
         7.476,
         219.02458,
         106.53642026415095
        ],
        [
         "E6",
         "CP2",
         5.925,
         204.36812,
         87.51228369811321
        ],
        [
         "E6",
         "CP3",
         4.188,
         191.60683,
         66.57200375471697
        ],
        [
         "E6",
         "CP4",
         3.035,
         175.28445,
         51.886935566037735
        ],
        [
         "E6",
         "CP5",
         1.945,
         102.13289,
         32.232156924528304
        ],
        [
         "E6",
         "CP6",
         4.09,
         109.53031,
         57.25491779245283
        ],
        [
         "E6",
         "CP7",
         7.934,
         220.0579,
         111.82465792452831
        ],
        [
         "E6",
         "E1",
         8.432,
         251.16286,
         120.57288977358492
        ],
        [
         "E6",
         "E10U",
         9.896,
         342.23648,
         146.2538366792453
        ],
        [
         "E6",
         "E2R",
         7.048,
         281.3844,
         107.92711924528302
        ],
        [
         "E6",
         "E3",
         6.254,
         120.96459,
         82.896459
        ],
        [
         "E6",
         "E4R",
         4.625,
         137.28815,
         66.08730556603774
        ],
        [
         "E6",
         "E5",
         3.204,
         54.00274,
         41.67197211320755
        ],
        [
         "E6",
         "E7U",
         2.562,
         130.71313,
         42.07508658490566
        ],
        [
         "E6",
         "E8",
         2.164,
         14.702965,
         25.968409707547174
        ],
        [
         "E6",
         "E9U",
         5.227,
         183.13919,
         77.48750390566039
        ],
        [
         "E6",
         "Finish",
         8.206,
         224.3453,
         115.33264320754716
        ],
        [
         "E6",
         "Start",
         2.511,
         131.77132,
         41.603547094339625
        ],
        [
         "E7U",
         "CP1",
         10.038,
         256.02798,
         139.24053384905662
        ],
        [
         "E7U",
         "CP2",
         8.487,
         241.37152,
         120.21639728301888
        ],
        [
         "E7U",
         "CP3",
         6.751,
         228.61023,
         99.28743809433962
        ],
        [
         "E7U",
         "CP4",
         0.473,
         44.57132,
         9.811848981132076
        ],
        [
         "E7U",
         "CP5",
         4.507,
         139.13629,
         64.93627050943397
        ],
        [
         "E7U",
         "CP6",
         6.055,
         112.468346,
         79.79400441132074
        ],
        [
         "E7U",
         "CP7",
         10.496,
         257.0613,
         144.52877150943397
        ],
        [
         "E7U",
         "E1",
         10.994,
         288.16626,
         153.2770033584906
        ],
        [
         "E7U",
         "E10U",
         11.861,
         345.1745,
         168.79292169811322
        ],
        [
         "E7U",
         "E2R",
         9.61,
         318.3878,
         140.63123283018868
        ],
        [
         "E7U",
         "E3",
         8.22,
         123.902626,
         105.44686637358491
        ],
        [
         "E7U",
         "E4R",
         6.59,
         140.22617,
         88.62639058490566
        ],
        [
         "E7U",
         "E5",
         5.169,
         56.940773,
         64.21105843207546
        ],
        [
         "E7U",
         "E6",
         2.562,
         37.003403,
         32.70411388490566
        ],
        [
         "E7U",
         "E8",
         1.562,
         5.496788,
         18.23269766792453
        ],
        [
         "E7U",
         "E9U",
         7.192,
         186.07724,
         100.0265919245283
        ],
        [
         "E7U",
         "Finish",
         10.171,
         227.28336,
         137.87173222641508
        ],
        [
         "E7U",
         "Start",
         5.073,
         168.77472,
         74.30766067924529
        ],
        [
         "E8",
         "CP1",
         9.48,
         287.8257,
         136.10332471698112
        ],
        [
         "E8",
         "CP2",
         7.66,
         270.17456,
         113.73443713207547
        ],
        [
         "E8",
         "CP3",
         6.352,
         249.77711,
         96.88714496226414
        ],
        [
         "E8",
         "CP4",
         2.035,
         187.24516,
         41.76225184905661
        ],
        [
         "E8",
         "CP5",
         4.109,
         160.30318,
         62.54729913207547
        ],
        [
         "E8",
         "CP6",
         5.149,
         125.021645,
         70.79273053773585
        ],
        [
         "E8",
         "CP7",
         9.938,
         288.85904,
         141.3915643773585
        ],
        [
         "E8",
         "E1",
         10.436,
         319.964,
         150.13979622641511
        ],
        [
         "E8",
         "E10U",
         10.955,
         357.7278,
         159.7916479245283
        ],
        [
         "E8",
         "E2R",
         9.212,
         339.5547,
         138.2422624528302
        ],
        [
         "E8",
         "E3",
         7.314,
         136.45593,
         96.44559300000002
        ],
        [
         "E8",
         "E4R",
         5.684,
         152.77948,
         79.62511781132075
        ],
        [
         "E8",
         "E5",
         4.264,
         69.49407,
         55.22110511320755
        ],
        [
         "E8",
         "E6",
         2.164,
         58.170288,
         30.315142007547173
        ],
        [
         "E8",
         "E7U",
         1.562,
         142.67384,
         31.95040286792453
        ],
        [
         "E8",
         "E9U",
         6.286,
         198.63052,
         91.0253161509434
        ],
        [
         "E8",
         "Finish",
         9.265,
         239.83664,
         128.87045645283018
        ],
        [
         "E8",
         "Start",
         4.675,
         189.9416,
         71.91868830188679
        ],
        [
         "E9U",
         "CP1",
         3.194,
         89.19519,
         45.07800956603774
        ],
        [
         "E9U",
         "CP2",
         1.373,
         71.54404,
         22.697800226415094
        ],
        [
         "E9U",
         "CP3",
         2.934,
         108.191284,
         44.03422273962265
        ],
        [
         "E9U",
         "CP4",
         7.665,
         232.55582,
         110.02916690566038
        ],
        [
         "E9U",
         "CP5",
         5.177,
         109.55969,
         69.56351616981132
        ],
        [
         "E9U",
         "CP6",
         1.137,
         1.0940704,
         12.981105153207547
        ],
        [
         "E9U",
         "CP7",
         3.652,
         90.228516,
         50.36624782641509
        ],
        [
         "E9U",
         "E1",
         4.15,
         121.333466,
         59.1144786754717
        ],
        [
         "E9U",
         "E10U",
         5.952,
         196.97052,
         87.0781840754717
        ],
        [
         "E9U",
         "E2R",
         3.051,
         162.6069,
         50.800312641509436
        ],
        [
         "E9U",
         "E3",
         5.835,
         80.50983,
         74.1075867735849
        ],
        [
         "E9U",
         "E4R",
         2.123,
         40.58156,
         28.092118264150944
        ],
        [
         "E9U",
         "E5",
         2.023,
         1.4035339,
         23.042240182452833
        ],
        [
         "E9U",
         "E6",
         5.227,
         91.33672,
         68.30725690566038
        ],
        [
         "E9U",
         "E7U",
         7.192,
         187.9845,
         100.21731792452832
        ],
        [
         "E9U",
         "E8",
         6.286,
         63.360733,
         77.4983374509434
        ],
        [
         "E9U",
         "Finish",
         4.722,
         96.54245,
         63.110848773584905
        ],
        [
         "E9U",
         "Start",
         4.611,
         108.191284,
         63.0191284
        ],
        [
         "Finish",
         "CP1",
         1.528,
         71.77464,
         24.475577207547172
        ],
        [
         "Finish",
         "CP2",
         3.524,
         119.59468,
         51.85380762264151
        ],
        [
         "Finish",
         "CP3",
         4.816,
         153.24724,
         69.84547871698113
        ],
        [
         "Finish",
         "CP4",
         10.643,
         295.68762,
         150.0555544528302
        ],
        [
         "Finish",
         "CP5",
         7.059,
         154.61565,
         95.37477254716981
        ],
        [
         "Finish",
         "CP6",
         5.859,
         119.562225,
         78.28452438679246
        ],
        [
         "Finish",
         "CP7",
         1.07,
         59.458237,
         18.059031247169813
        ],
        [
         "Finish",
         "E1",
         1.564,
         91.72777,
         26.87843737735849
        ],
        [
         "Finish",
         "E10U",
         1.7,
         118.531296,
         31.098412618867922
        ],
        [
         "Finish",
         "E2R",
         4.933,
         207.66286,
         76.61156901886793
        ],
        [
         "Finish",
         "E3",
         2.002,
         0.9043884,
         22.754589783396224
        ],
        [
         "Finish",
         "E4R",
         6.844,
         159.04971,
         93.38421628301887
        ],
        [
         "Finish",
         "E5",
         5.764,
         76.679794,
         72.92080958867925
        ],
        [
         "Finish",
         "E6",
         8.206,
         154.46854,
         108.34496720754717
        ],
        [
         "Finish",
         "E7U",
         10.171,
         251.1163,
         140.25502622641508
        ],
        [
         "Finish",
         "E8",
         9.265,
         126.49255,
         117.53604745283019
        ],
        [
         "Finish",
         "E9U",
         4.722,
         118.468155,
         65.30341927358491
        ],
        [
         "Finish",
         "Start",
         6.493,
         153.24724,
         88.8303843773585
        ],
        [
         "Start",
         "CP1",
         4.965,
         87.253265,
         64.93287366981131
        ],
        [
         "Start",
         "CP2",
         3.414,
         72.5968,
         45.90873660377359
        ],
        [
         "Start",
         "CP3",
         1.677,
         59.83551,
         24.968456660377363
        ],
        [
         "Start",
         "CP4",
         5.546,
         178.53229,
         80.63813466037736
        ],
        [
         "Start",
         "CP5",
         0.566,
         1.3684082,
         6.54438798981132
        ],
        [
         "Start",
         "CP6",
         5.748,
         72.56435,
         72.32813311320756
        ],
        [
         "Start",
         "CP7",
         5.423,
         88.28659,
         70.22111183018869
        ],
        [
         "Start",
         "E1",
         5.921,
         119.39154,
         78.9693426792453
        ],
        [
         "Start",
         "E10U",
         7.723,
         195.0286,
         106.93304867924529
        ],
        [
         "Start",
         "E2R",
         4.537,
         149.61307,
         66.3235711509434
        ],
        [
         "Start",
         "E3",
         8.363,
         118.54574,
         106.53004569811321
        ],
        [
         "Start",
         "E4R",
         6.734,
         112.051834,
         87.43914566415094
        ],
        [
         "Start",
         "E5",
         5.312,
         51.583885,
         65.29423755660378
        ],
        [
         "Start",
         "E6",
         2.511,
         3.2478333,
         28.751198424339623
        ],
        [
         "Start",
         "E7U",
         5.073,
         133.96097,
         70.82628567924529
        ],
        [
         "Start",
         "E8",
         4.675,
         17.950798,
         54.71960810188679
        ],
        [
         "Start",
         "E9U",
         4.611,
         71.470276,
         59.347027600000004
        ],
        [
         "Start",
         "Finish",
         6.493,
         94.600525,
         82.9657128773585
        ]
       ],
       "datasetInfos": [],
       "dbfsResultPath": null,
       "isJsonSchema": true,
       "metadata": {},
       "overflow": false,
       "plotOptions": {
        "customPlotOptions": {},
        "displayType": "table",
        "pivotAggregation": null,
        "pivotColumns": null,
        "xColumns": null,
        "yColumns": null
       },
       "removedWidgets": [],
       "schema": [
        {
         "metadata": "{}",
         "name": "StartCP",
         "type": "\"string\""
        },
        {
         "metadata": "{}",
         "name": "FinishCP",
         "type": "\"string\""
        },
        {
         "metadata": "{}",
         "name": "Distance",
         "type": "\"double\""
        },
        {
         "metadata": "{}",
         "name": "Height_Gain",
         "type": "\"double\""
        },
        {
         "metadata": "{}",
         "name": "TimeInMinutes",
         "type": "\"double\""
        }
       ],
       "type": "table"
      }
     },
     "output_type": "display_data"
    }
   ],
   "source": [
    "Distances_DF = Distances_DF.withColumn(\"TimeInMinutes\",(col(\"Distance\")/ Speed)*60 + (col(\"Height_Gain\") / AddMinutesPer100mHeight ) )\n",
    "display(Distances_DF)"
   ]
  },
  {
   "cell_type": "markdown",
   "metadata": {
    "application/vnd.databricks.v1+cell": {
     "cellMetadata": {
      "byteLimit": 2048000,
      "rowLimit": 10000
     },
     "inputWidgets": {},
     "nuid": "353c8ec7-4be4-404a-8d51-081f485454fc",
     "showTitle": false,
     "tableResultSettingsMap": {},
     "title": ""
    },
    "id": "gPQafU7FbklF"
   },
   "source": [
    "### Pick a Route"
   ]
  },
  {
   "cell_type": "code",
   "execution_count": 0,
   "metadata": {
    "application/vnd.databricks.v1+cell": {
     "cellMetadata": {
      "byteLimit": 2048000,
      "rowLimit": 10000
     },
     "inputWidgets": {},
     "nuid": "e2b72f31-88e4-4006-ba11-155410046dff",
     "showTitle": false,
     "tableResultSettingsMap": {},
     "title": ""
    },
    "id": "Ql212b29bjBZ"
   },
   "outputs": [],
   "source": [
    "# Define the route and start time\n",
    "route = [\"Start\",\"CP3\", \"E7U\", \"CP4\", \"E8\", \"E6\", \"CP5\", \"E5\", \"E4R\", \"CP6\", \"E9U\",\"CP2\",\"E2R\",\"E10U\", \"E1\", \"CP1\", \"CP7\", \"E3\", \"Finish\"]"
   ]
  },
  {
   "cell_type": "markdown",
   "metadata": {
    "application/vnd.databricks.v1+cell": {
     "cellMetadata": {
      "byteLimit": 2048000,
      "rowLimit": 10000
     },
     "inputWidgets": {},
     "nuid": "507cbf76-591e-461b-890e-947fdced18fd",
     "showTitle": false,
     "tableResultSettingsMap": {},
     "title": ""
    },
    "id": "EaQHIyeIba8C"
   },
   "source": [
    "### Calculate route timings"
   ]
  },
  {
   "cell_type": "code",
   "execution_count": 0,
   "metadata": {
    "application/vnd.databricks.v1+cell": {
     "cellMetadata": {
      "byteLimit": 2048000,
      "rowLimit": 10000
     },
     "inputWidgets": {},
     "nuid": "ed1bece0-7e8d-4a54-9a9f-418dc5c18a99",
     "showTitle": false,
     "tableResultSettingsMap": {},
     "title": ""
    },
    "id": "adVODXtKZOjq",
    "outputId": "4ff42de6-108c-49c3-a2f9-b6a97289d91d"
   },
   "outputs": [
    {
     "output_type": "display_data",
     "data": {
      "text/html": [
       "<style scoped>\n",
       "  .table-result-container {\n",
       "    max-height: 300px;\n",
       "    overflow: auto;\n",
       "  }\n",
       "  table, th, td {\n",
       "    border: 1px solid black;\n",
       "    border-collapse: collapse;\n",
       "  }\n",
       "  th, td {\n",
       "    padding: 5px;\n",
       "  }\n",
       "  th {\n",
       "    text-align: left;\n",
       "  }\n",
       "</style><div class='table-result-container'><table class='table-result'><thead style='background-color: white'><tr><th>StartCP</th><th>FinishCP</th><th>RouteOrder</th><th>Distance</th><th>Height_Gain</th><th>TimeInMinutes</th><th>CumulativeTime</th></tr></thead><tbody><tr><td>Start</td><td>CP3</td><td>0</td><td>1.677</td><td>59.83551</td><td>24.968456660377363</td><td>24.968456660377363</td></tr><tr><td>CP3</td><td>E7U</td><td>1</td><td>6.751</td><td>133.96097</td><td>89.82251209433961</td><td>114.79096875471697</td></tr><tr><td>E7U</td><td>CP4</td><td>2</td><td>0.473</td><td>44.57132</td><td>9.811848981132076</td><td>124.60281773584904</td></tr><tr><td>CP4</td><td>E8</td><td>3</td><td>2.035</td><td>5.496788</td><td>23.587414649056605</td><td>148.19023238490564</td></tr><tr><td>E8</td><td>E6</td><td>4</td><td>2.164</td><td>58.170288</td><td>30.315142007547173</td><td>178.5053743924528</td></tr><tr><td>E6</td><td>CP5</td><td>5</td><td>1.945</td><td>102.13289</td><td>32.232156924528304</td><td>210.73753131698112</td></tr><tr><td>CP5</td><td>E5</td><td>6</td><td>4.746</td><td>50.215477</td><td>58.749849586792465</td><td>269.48738090377356</td></tr><tr><td>E5</td><td>E4R</td><td>7</td><td>1.42</td><td>83.2854</td><td>24.40401169811321</td><td>293.89139260188676</td></tr><tr><td>E4R</td><td>CP6</td><td>8</td><td>0.985</td><td>22.702316</td><td>13.421174996226416</td><td>307.31256759811316</td></tr><tr><td>CP6</td><td>E9U</td><td>9</td><td>1.137</td><td>73.60889</td><td>20.232587113207547</td><td>327.5451547113207</td></tr><tr><td>E9U</td><td>CP2</td><td>10</td><td>1.373</td><td>71.54404</td><td>22.697800226415094</td><td>350.2429549377358</td></tr><tr><td>CP2</td><td>E2R</td><td>11</td><td>1.854</td><td>97.09329</td><td>30.69800824528302</td><td>380.9409631830188</td></tr><tr><td>E2R</td><td>E10U</td><td>12</td><td>6.163</td><td>123.91849</td><td>82.16166032075472</td><td>463.10262350377354</td></tr><tr><td>E10U</td><td>E1</td><td>13</td><td>2.794</td><td>78.094086</td><td>39.439597279245284</td><td>502.5422207830188</td></tr><tr><td>E1</td><td>CP1</td><td>14</td><td>0.956</td><td>11.151825</td><td>11.937824009433962</td><td>514.4800447924528</td></tr><tr><td>CP1</td><td>CP7</td><td>15</td><td>0.458</td><td>1.0333252</td><td>5.288238180377359</td><td>519.7682829728301</td></tr><tr><td>CP7</td><td>E3</td><td>16</td><td>3.056</td><td>4.1085663</td><td>35.00708304509434</td><td>554.7753660179244</td></tr><tr><td>E3</td><td>Finish</td><td>17</td><td>2.002</td><td>103.09059</td><td>32.97320994339623</td><td>587.7485759613206</td></tr></tbody></table></div>"
      ]
     },
     "metadata": {
      "application/vnd.databricks.v1+output": {
       "addedWidgets": {},
       "aggData": [],
       "aggError": "",
       "aggOverflow": false,
       "aggSchema": [],
       "aggSeriesLimitReached": false,
       "aggType": "",
       "arguments": {},
       "columnCustomDisplayInfos": {},
       "data": [
        [
         "Start",
         "CP3",
         0,
         1.677,
         59.83551,
         24.968456660377363,
         24.968456660377363
        ],
        [
         "CP3",
         "E7U",
         1,
         6.751,
         133.96097,
         89.82251209433961,
         114.79096875471697
        ],
        [
         "E7U",
         "CP4",
         2,
         0.473,
         44.57132,
         9.811848981132076,
         124.60281773584904
        ],
        [
         "CP4",
         "E8",
         3,
         2.035,
         5.496788,
         23.587414649056605,
         148.19023238490564
        ],
        [
         "E8",
         "E6",
         4,
         2.164,
         58.170288,
         30.315142007547173,
         178.5053743924528
        ],
        [
         "E6",
         "CP5",
         5,
         1.945,
         102.13289,
         32.232156924528304,
         210.73753131698112
        ],
        [
         "CP5",
         "E5",
         6,
         4.746,
         50.215477,
         58.749849586792465,
         269.48738090377356
        ],
        [
         "E5",
         "E4R",
         7,
         1.42,
         83.2854,
         24.40401169811321,
         293.89139260188676
        ],
        [
         "E4R",
         "CP6",
         8,
         0.985,
         22.702316,
         13.421174996226416,
         307.31256759811316
        ],
        [
         "CP6",
         "E9U",
         9,
         1.137,
         73.60889,
         20.232587113207547,
         327.5451547113207
        ],
        [
         "E9U",
         "CP2",
         10,
         1.373,
         71.54404,
         22.697800226415094,
         350.2429549377358
        ],
        [
         "CP2",
         "E2R",
         11,
         1.854,
         97.09329,
         30.69800824528302,
         380.9409631830188
        ],
        [
         "E2R",
         "E10U",
         12,
         6.163,
         123.91849,
         82.16166032075472,
         463.10262350377354
        ],
        [
         "E10U",
         "E1",
         13,
         2.794,
         78.094086,
         39.439597279245284,
         502.5422207830188
        ],
        [
         "E1",
         "CP1",
         14,
         0.956,
         11.151825,
         11.937824009433962,
         514.4800447924528
        ],
        [
         "CP1",
         "CP7",
         15,
         0.458,
         1.0333252,
         5.288238180377359,
         519.7682829728301
        ],
        [
         "CP7",
         "E3",
         16,
         3.056,
         4.1085663,
         35.00708304509434,
         554.7753660179244
        ],
        [
         "E3",
         "Finish",
         17,
         2.002,
         103.09059,
         32.97320994339623,
         587.7485759613206
        ]
       ],
       "datasetInfos": [],
       "dbfsResultPath": null,
       "isJsonSchema": true,
       "metadata": {},
       "overflow": false,
       "plotOptions": {
        "customPlotOptions": {},
        "displayType": "table",
        "pivotAggregation": null,
        "pivotColumns": null,
        "xColumns": null,
        "yColumns": null
       },
       "removedWidgets": [],
       "schema": [
        {
         "metadata": "{}",
         "name": "StartCP",
         "type": "\"string\""
        },
        {
         "metadata": "{}",
         "name": "FinishCP",
         "type": "\"string\""
        },
        {
         "metadata": "{}",
         "name": "RouteOrder",
         "type": "\"long\""
        },
        {
         "metadata": "{}",
         "name": "Distance",
         "type": "\"double\""
        },
        {
         "metadata": "{}",
         "name": "Height_Gain",
         "type": "\"double\""
        },
        {
         "metadata": "{}",
         "name": "TimeInMinutes",
         "type": "\"double\""
        },
        {
         "metadata": "{}",
         "name": "CumulativeTime",
         "type": "\"double\""
        }
       ],
       "type": "table"
      }
     },
     "output_type": "display_data"
    }
   ],
   "source": [
    "# Create a DataFrame for the route sequence\n",
    "route_df = spark.createDataFrame([(route[i], route[i+1], i) for i in range(len(route)-1)],\n",
    "                                 [\"StartCP\", \"FinishCP\", \"RouteOrder\"])\n",
    "\n",
    "# Join with Distances_Df to get TimeInMinutes for each leg\n",
    "timing_results_df = (route_df\n",
    "      .join(Distances_DF, [\"StartCP\", \"FinishCP\"], \"left\")\n",
    "      .orderBy(\"RouteOrder\"))\n",
    "\n",
    "# Use a window function to calculate cumulative time\n",
    "window_spec = Window.orderBy(\"RouteOrder\").rowsBetween(Window.unboundedPreceding, 0)\n",
    "timing_results_df = timing_results_df.withColumn(\"CumulativeTime\", F.sum(\"TimeInMinutes\").over(window_spec))\n",
    "\n",
    "# Show results\n",
    "display(timing_results_df)"
   ]
  },
  {
   "cell_type": "markdown",
   "metadata": {
    "application/vnd.databricks.v1+cell": {
     "cellMetadata": {
      "byteLimit": 2048000,
      "rowLimit": 10000
     },
     "inputWidgets": {},
     "nuid": "6af79542-b727-4b3f-b003-804fdfe072e1",
     "showTitle": false,
     "tableResultSettingsMap": {},
     "title": ""
    },
    "id": "u0lbWSqzb0Dg"
   },
   "source": [
    "### Calculate checkpoint arrival and departure times for route"
   ]
  },
  {
   "cell_type": "code",
   "execution_count": 0,
   "metadata": {
    "application/vnd.databricks.v1+cell": {
     "cellMetadata": {
      "byteLimit": 2048000,
      "rowLimit": 10000
     },
     "inputWidgets": {},
     "nuid": "c7f07b79-71d5-46d4-ba36-cc6036e8c710",
     "showTitle": false,
     "tableResultSettingsMap": {},
     "title": ""
    },
    "id": "OSxo-Z2gZOjr",
    "outputId": "aa90bcf9-84eb-4166-97a3-117e36f334e7"
   },
   "outputs": [
    {
     "output_type": "display_data",
     "data": {
      "text/html": [
       "<style scoped>\n",
       "  .table-result-container {\n",
       "    max-height: 300px;\n",
       "    overflow: auto;\n",
       "  }\n",
       "  table, th, td {\n",
       "    border: 1px solid black;\n",
       "    border-collapse: collapse;\n",
       "  }\n",
       "  th, td {\n",
       "    padding: 5px;\n",
       "  }\n",
       "  th {\n",
       "    text-align: left;\n",
       "  }\n",
       "</style><div class='table-result-container'><table class='table-result'><thead style='background-color: white'><tr><th>StartCP</th><th>FinishCP</th><th>RouteOrder</th><th>Distance</th><th>Height_Gain</th><th>TimeInMinutes</th><th>CumulativeTime</th><th>CumulativeTimeWithDwell</th><th>LeavingTime</th><th>ArrivalTime</th></tr></thead><tbody><tr><td>Start</td><td>CP3</td><td>0</td><td>1.677</td><td>59.83551</td><td>24.968456660377363</td><td>24.968456660377363</td><td>24.968456660377363</td><td>1900-01-01T10:24:00Z</td><td>1900-01-01T10:17:00Z</td></tr><tr><td>CP3</td><td>E7U</td><td>1</td><td>6.751</td><td>133.96097</td><td>89.82251209433961</td><td>114.79096875471697</td><td>121.79096875471697</td><td>1900-01-01T12:01:00Z</td><td>1900-01-01T11:54:00Z</td></tr><tr><td>E7U</td><td>CP4</td><td>2</td><td>0.473</td><td>44.57132</td><td>9.811848981132076</td><td>124.60281773584904</td><td>138.60281773584904</td><td>1900-01-01T12:18:00Z</td><td>1900-01-01T12:11:00Z</td></tr><tr><td>CP4</td><td>E8</td><td>3</td><td>2.035</td><td>5.496788</td><td>23.587414649056605</td><td>148.19023238490564</td><td>169.19023238490564</td><td>1900-01-01T12:49:00Z</td><td>1900-01-01T12:42:00Z</td></tr><tr><td>E8</td><td>E6</td><td>4</td><td>2.164</td><td>58.170288</td><td>30.315142007547173</td><td>178.5053743924528</td><td>206.5053743924528</td><td>1900-01-01T13:26:00Z</td><td>1900-01-01T13:19:00Z</td></tr><tr><td>E6</td><td>CP5</td><td>5</td><td>1.945</td><td>102.13289</td><td>32.232156924528304</td><td>210.73753131698112</td><td>245.73753131698112</td><td>1900-01-01T14:05:00Z</td><td>1900-01-01T13:58:00Z</td></tr><tr><td>CP5</td><td>E5</td><td>6</td><td>4.746</td><td>50.215477</td><td>58.749849586792465</td><td>269.48738090377356</td><td>311.48738090377356</td><td>1900-01-01T15:11:00Z</td><td>1900-01-01T15:04:00Z</td></tr><tr><td>E5</td><td>E4R</td><td>7</td><td>1.42</td><td>83.2854</td><td>24.40401169811321</td><td>293.89139260188676</td><td>342.89139260188676</td><td>1900-01-01T15:42:00Z</td><td>1900-01-01T15:35:00Z</td></tr><tr><td>E4R</td><td>CP6</td><td>8</td><td>0.985</td><td>22.702316</td><td>13.421174996226416</td><td>307.31256759811316</td><td>363.31256759811316</td><td>1900-01-01T16:03:00Z</td><td>1900-01-01T15:56:00Z</td></tr><tr><td>CP6</td><td>E9U</td><td>9</td><td>1.137</td><td>73.60889</td><td>20.232587113207547</td><td>327.5451547113207</td><td>390.5451547113207</td><td>1900-01-01T16:30:00Z</td><td>1900-01-01T16:23:00Z</td></tr><tr><td>E9U</td><td>CP2</td><td>10</td><td>1.373</td><td>71.54404</td><td>22.697800226415094</td><td>350.2429549377358</td><td>420.2429549377358</td><td>1900-01-01T17:00:00Z</td><td>1900-01-01T16:53:00Z</td></tr><tr><td>CP2</td><td>E2R</td><td>11</td><td>1.854</td><td>97.09329</td><td>30.69800824528302</td><td>380.9409631830188</td><td>457.9409631830188</td><td>1900-01-01T17:37:00Z</td><td>1900-01-01T17:30:00Z</td></tr><tr><td>E2R</td><td>E10U</td><td>12</td><td>6.163</td><td>123.91849</td><td>82.16166032075472</td><td>463.10262350377354</td><td>547.1026235037735</td><td>1900-01-01T19:07:00Z</td><td>1900-01-01T19:00:00Z</td></tr><tr><td>E10U</td><td>E1</td><td>13</td><td>2.794</td><td>78.094086</td><td>39.439597279245284</td><td>502.5422207830188</td><td>593.5422207830188</td><td>1900-01-01T19:53:00Z</td><td>1900-01-01T19:46:00Z</td></tr><tr><td>E1</td><td>CP1</td><td>14</td><td>0.956</td><td>11.151825</td><td>11.937824009433962</td><td>514.4800447924528</td><td>612.4800447924528</td><td>1900-01-01T20:12:00Z</td><td>1900-01-01T20:05:00Z</td></tr><tr><td>CP1</td><td>CP7</td><td>15</td><td>0.458</td><td>1.0333252</td><td>5.288238180377359</td><td>519.7682829728301</td><td>624.7682829728301</td><td>1900-01-01T20:24:00Z</td><td>1900-01-01T20:17:00Z</td></tr><tr><td>CP7</td><td>E3</td><td>16</td><td>3.056</td><td>4.1085663</td><td>35.00708304509434</td><td>554.7753660179244</td><td>666.7753660179244</td><td>1900-01-01T21:06:00Z</td><td>1900-01-01T20:59:00Z</td></tr><tr><td>E3</td><td>Finish</td><td>17</td><td>2.002</td><td>103.09059</td><td>32.97320994339623</td><td>587.7485759613206</td><td>706.7485759613206</td><td>1900-01-01T21:46:00Z</td><td>1900-01-01T21:39:00Z</td></tr></tbody></table></div>"
      ]
     },
     "metadata": {
      "application/vnd.databricks.v1+output": {
       "addedWidgets": {},
       "aggData": [],
       "aggError": "",
       "aggOverflow": false,
       "aggSchema": [],
       "aggSeriesLimitReached": false,
       "aggType": "",
       "arguments": {},
       "columnCustomDisplayInfos": {},
       "data": [
        [
         "Start",
         "CP3",
         0,
         1.677,
         59.83551,
         24.968456660377363,
         24.968456660377363,
         24.968456660377363,
         "1900-01-01T10:24:00Z",
         "1900-01-01T10:17:00Z"
        ],
        [
         "CP3",
         "E7U",
         1,
         6.751,
         133.96097,
         89.82251209433961,
         114.79096875471697,
         121.79096875471697,
         "1900-01-01T12:01:00Z",
         "1900-01-01T11:54:00Z"
        ],
        [
         "E7U",
         "CP4",
         2,
         0.473,
         44.57132,
         9.811848981132076,
         124.60281773584904,
         138.60281773584904,
         "1900-01-01T12:18:00Z",
         "1900-01-01T12:11:00Z"
        ],
        [
         "CP4",
         "E8",
         3,
         2.035,
         5.496788,
         23.587414649056605,
         148.19023238490564,
         169.19023238490564,
         "1900-01-01T12:49:00Z",
         "1900-01-01T12:42:00Z"
        ],
        [
         "E8",
         "E6",
         4,
         2.164,
         58.170288,
         30.315142007547173,
         178.5053743924528,
         206.5053743924528,
         "1900-01-01T13:26:00Z",
         "1900-01-01T13:19:00Z"
        ],
        [
         "E6",
         "CP5",
         5,
         1.945,
         102.13289,
         32.232156924528304,
         210.73753131698112,
         245.73753131698112,
         "1900-01-01T14:05:00Z",
         "1900-01-01T13:58:00Z"
        ],
        [
         "CP5",
         "E5",
         6,
         4.746,
         50.215477,
         58.749849586792465,
         269.48738090377356,
         311.48738090377356,
         "1900-01-01T15:11:00Z",
         "1900-01-01T15:04:00Z"
        ],
        [
         "E5",
         "E4R",
         7,
         1.42,
         83.2854,
         24.40401169811321,
         293.89139260188676,
         342.89139260188676,
         "1900-01-01T15:42:00Z",
         "1900-01-01T15:35:00Z"
        ],
        [
         "E4R",
         "CP6",
         8,
         0.985,
         22.702316,
         13.421174996226416,
         307.31256759811316,
         363.31256759811316,
         "1900-01-01T16:03:00Z",
         "1900-01-01T15:56:00Z"
        ],
        [
         "CP6",
         "E9U",
         9,
         1.137,
         73.60889,
         20.232587113207547,
         327.5451547113207,
         390.5451547113207,
         "1900-01-01T16:30:00Z",
         "1900-01-01T16:23:00Z"
        ],
        [
         "E9U",
         "CP2",
         10,
         1.373,
         71.54404,
         22.697800226415094,
         350.2429549377358,
         420.2429549377358,
         "1900-01-01T17:00:00Z",
         "1900-01-01T16:53:00Z"
        ],
        [
         "CP2",
         "E2R",
         11,
         1.854,
         97.09329,
         30.69800824528302,
         380.9409631830188,
         457.9409631830188,
         "1900-01-01T17:37:00Z",
         "1900-01-01T17:30:00Z"
        ],
        [
         "E2R",
         "E10U",
         12,
         6.163,
         123.91849,
         82.16166032075472,
         463.10262350377354,
         547.1026235037735,
         "1900-01-01T19:07:00Z",
         "1900-01-01T19:00:00Z"
        ],
        [
         "E10U",
         "E1",
         13,
         2.794,
         78.094086,
         39.439597279245284,
         502.5422207830188,
         593.5422207830188,
         "1900-01-01T19:53:00Z",
         "1900-01-01T19:46:00Z"
        ],
        [
         "E1",
         "CP1",
         14,
         0.956,
         11.151825,
         11.937824009433962,
         514.4800447924528,
         612.4800447924528,
         "1900-01-01T20:12:00Z",
         "1900-01-01T20:05:00Z"
        ],
        [
         "CP1",
         "CP7",
         15,
         0.458,
         1.0333252,
         5.288238180377359,
         519.7682829728301,
         624.7682829728301,
         "1900-01-01T20:24:00Z",
         "1900-01-01T20:17:00Z"
        ],
        [
         "CP7",
         "E3",
         16,
         3.056,
         4.1085663,
         35.00708304509434,
         554.7753660179244,
         666.7753660179244,
         "1900-01-01T21:06:00Z",
         "1900-01-01T20:59:00Z"
        ],
        [
         "E3",
         "Finish",
         17,
         2.002,
         103.09059,
         32.97320994339623,
         587.7485759613206,
         706.7485759613206,
         "1900-01-01T21:46:00Z",
         "1900-01-01T21:39:00Z"
        ]
       ],
       "datasetInfos": [],
       "dbfsResultPath": null,
       "isJsonSchema": true,
       "metadata": {},
       "overflow": false,
       "plotOptions": {
        "customPlotOptions": {},
        "displayType": "table",
        "pivotAggregation": null,
        "pivotColumns": null,
        "xColumns": null,
        "yColumns": null
       },
       "removedWidgets": [],
       "schema": [
        {
         "metadata": "{}",
         "name": "StartCP",
         "type": "\"string\""
        },
        {
         "metadata": "{}",
         "name": "FinishCP",
         "type": "\"string\""
        },
        {
         "metadata": "{}",
         "name": "RouteOrder",
         "type": "\"long\""
        },
        {
         "metadata": "{}",
         "name": "Distance",
         "type": "\"double\""
        },
        {
         "metadata": "{}",
         "name": "Height_Gain",
         "type": "\"double\""
        },
        {
         "metadata": "{}",
         "name": "TimeInMinutes",
         "type": "\"double\""
        },
        {
         "metadata": "{}",
         "name": "CumulativeTime",
         "type": "\"double\""
        },
        {
         "metadata": "{}",
         "name": "CumulativeTimeWithDwell",
         "type": "\"double\""
        },
        {
         "metadata": "{}",
         "name": "LeavingTime",
         "type": "\"timestamp\""
        },
        {
         "metadata": "{}",
         "name": "ArrivalTime",
         "type": "\"timestamp\""
        }
       ],
       "type": "table"
      }
     },
     "output_type": "display_data"
    }
   ],
   "source": [
    "# Define window specification to order rows by RouteOrder\n",
    "window_spec = Window.orderBy(\"RouteOrder\")\n",
    "\n",
    "# Calculate the CumulativeTimeWithDwell (CumulativeTime + StopTimeAtCheckpoints)\n",
    "timing_results_df = timing_results_df.withColumn(\n",
    "    \"CumulativeTimeWithDwell\",\n",
    "    F.col(\"CumulativeTime\") + (F.col(\"RouteOrder\") * F.lit(StopTimeAtCheckPoints))\n",
    ")\n",
    "\n",
    "# Calculate the LeavingTime (StartTime + CumulativeTimeWithDwell)\n",
    "timing_results_df = timing_results_df.withColumn(\n",
    "    \"LeavingTime\",\n",
    "    F.to_timestamp(F.lit(StartTime)) + F.col(\"CumulativeTimeWithDwell\").cast(\"int\").cast(\"interval minute\")\n",
    ")\n",
    "\n",
    "# Calculate the ArrivalTime (LeavingTime - StopTimeAtCheckpoints)\n",
    "timing_results_df = timing_results_df.withColumn(\n",
    "    \"ArrivalTime\",\n",
    "    F.col(\"LeavingTime\") - F.expr(f\"INTERVAL {StopTimeAtCheckPoints} MINUTE\")\n",
    ")\n",
    "\n",
    "# Show the results\n",
    "display(timing_results_df)\n"
   ]
  }
 ],
 "metadata": {
  "application/vnd.databricks.v1+notebook": {
   "computePreferences": null,
   "dashboards": [],
   "environmentMetadata": {
    "base_environment": "",
    "environment_version": "2"
   },
   "language": "python",
   "notebookMetadata": {
    "pythonIndentUnit": 2
   },
   "notebookName": "Dovetrek SingleRoutePlan",
   "widgets": {
    "API_Service": {
     "currentValue": "Azure Maps & OpenTopoData",
     "nuid": "4af94965-bf6a-4581-9869-4c3791367508",
     "typedWidgetInfo": {
      "autoCreated": false,
      "defaultValue": "Google Maps",
      "label": null,
      "name": "API_Service",
      "options": {
       "widgetDisplayType": "Dropdown",
       "choices": [
        "Bing Maps",
        "Google Maps",
        "OpenRouteService",
        "Azure Maps & OpenTopoData"
       ],
       "fixedDomain": true,
       "multiselect": false
      },
      "parameterDataType": "String"
     },
     "widgetInfo": {
      "widgetType": "dropdown",
      "defaultValue": "Google Maps",
      "label": null,
      "name": "API_Service",
      "options": {
       "widgetType": "dropdown",
       "autoCreated": null,
       "choices": [
        "Bing Maps",
        "Google Maps",
        "OpenRouteService",
        "Azure Maps & OpenTopoData"
       ]
      }
     }
    },
    "Competition_Year": {
     "currentValue": "2025",
     "nuid": "fa25c94e-f505-4fec-9214-3aa56df90164",
     "typedWidgetInfo": {
      "autoCreated": false,
      "defaultValue": "2025",
      "label": null,
      "name": "Competition_Year",
      "options": {
       "widgetDisplayType": "Dropdown",
       "choices": [
        "2025",
        "2024",
        "2019",
        "2018",
        "2017"
       ],
       "fixedDomain": true,
       "multiselect": false
      },
      "parameterDataType": "String"
     },
     "widgetInfo": {
      "widgetType": "dropdown",
      "defaultValue": "2025",
      "label": null,
      "name": "Competition_Year",
      "options": {
       "widgetType": "dropdown",
       "autoCreated": null,
       "choices": [
        "2025",
        "2024",
        "2019",
        "2018",
        "2017"
       ]
      }
     }
    },
    "Dwell": {
     "currentValue": "7",
     "nuid": "8e4cf1c1-4867-4426-99bf-cb59dc1b6a68",
     "typedWidgetInfo": {
      "autoCreated": false,
      "defaultValue": "7",
      "label": null,
      "name": "Dwell",
      "options": {
       "widgetDisplayType": "Text",
       "validationRegex": null
      },
      "parameterDataType": "String"
     },
     "widgetInfo": {
      "widgetType": "text",
      "defaultValue": "7",
      "label": null,
      "name": "Dwell",
      "options": {
       "widgetType": "text",
       "autoCreated": null,
       "validationRegex": null
      }
     }
    },
    "Naismith": {
     "currentValue": "10",
     "nuid": "08181c21-a809-4806-8f85-26975cec26bb",
     "typedWidgetInfo": {
      "autoCreated": false,
      "defaultValue": "10",
      "label": null,
      "name": "Naismith",
      "options": {
       "widgetDisplayType": "Text",
       "validationRegex": null
      },
      "parameterDataType": "String"
     },
     "widgetInfo": {
      "widgetType": "text",
      "defaultValue": "10",
      "label": null,
      "name": "Naismith",
      "options": {
       "widgetType": "text",
       "autoCreated": null,
       "validationRegex": null
      }
     }
    },
    "Speed": {
     "currentValue": "5.30",
     "nuid": "913a2353-d92d-4a4e-96ff-1542a57ce1d8",
     "typedWidgetInfo": {
      "autoCreated": false,
      "defaultValue": "5.30",
      "label": null,
      "name": "Speed",
      "options": {
       "widgetDisplayType": "Text",
       "validationRegex": null
      },
      "parameterDataType": "String"
     },
     "widgetInfo": {
      "widgetType": "text",
      "defaultValue": "5.30",
      "label": null,
      "name": "Speed",
      "options": {
       "widgetType": "text",
       "autoCreated": null,
       "validationRegex": null
      }
     }
    },
    "StartTime": {
     "currentValue": "10:00:00",
     "nuid": "0905dee2-20bb-474d-bb53-f0ad4769492d",
     "typedWidgetInfo": {
      "autoCreated": false,
      "defaultValue": "10:00:00",
      "label": null,
      "name": "StartTime",
      "options": {
       "widgetDisplayType": "Text",
       "validationRegex": null
      },
      "parameterDataType": "String"
     },
     "widgetInfo": {
      "widgetType": "text",
      "defaultValue": "10:00:00",
      "label": null,
      "name": "StartTime",
      "options": {
       "widgetType": "text",
       "autoCreated": null,
       "validationRegex": null
      }
     }
    }
   }
  },
  "colab": {
   "provenance": [],
   "toc_visible": true
  },
  "kernelspec": {
   "display_name": "Python 3",
   "name": "python3"
  },
  "language_info": {
   "name": "python"
  }
 },
 "nbformat": 4,
 "nbformat_minor": 0
}
