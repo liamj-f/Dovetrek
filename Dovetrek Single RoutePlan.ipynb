{
  "cells": [
    {
      "cell_type": "markdown",
      "source": [
        "This notebook is for calculating distances, elevations and timings between Dovetrek checkpoints. It then produces a routecard for a set route.\n",
        "\n",
        "###Contents:\n",
        "* [Imports](#Imports)\n",
        "* [Start SparkSession](#Start-SparkSession)\n",
        "* [Set Parameters](#set-params)\n",
        "* [Get Secrets](#get-secrets)\n",
        "* [Fetch Checkpoint Information](#fetch-cp-info)\n",
        "* [Convert BNG to NGR](#bgn-to-ngr)\n",
        "* [Convert NGR to Latitude/Logitude](#ngr-to-latlong)\n",
        "* [Create Matrix of Checkpoint combinations](#cp-combos)\n",
        "* [Fetch Distances & Elevations from Google Maps API](#D&E-google)\n",
        "* [Fetch Distances & Elevations from OpenRouteService API](#D&E-ors)\n",
        "* [Fetch Distances & Elevations from Bing Maps API](#D&E-bing)\n",
        "* [Calculate leg timings for each Checkpoint Combination](#cp-combo-times)\n",
        "* [Pick a route](#pick-route)\n",
        "* [Calculate route timings](#route-timings)\n",
        "* [Calculate checkpoint arrival and departure times for route](#route-times)"
      ],
      "metadata": {
        "id": "7a_jyVYqZYAX"
      }
    },
    {
      "cell_type": "markdown",
      "source": [
        "### Imports <a class=\"anchor\" id=\"imports\"></a>"
      ],
      "metadata": {
        "id": "QAc_bwqZZaGL"
      }
    },
    {
      "cell_type": "code",
      "execution_count": null,
      "metadata": {
        "application/vnd.databricks.v1+cell": {
          "cellMetadata": {
            "byteLimit": 2048000,
            "rowLimit": 10000
          },
          "inputWidgets": {},
          "nuid": "af05a933-18fa-48f8-8438-daecd4fe97c4",
          "showTitle": true,
          "tableResultSettingsMap": {},
          "title": "Imports"
        },
        "id": "YApO83OGZOji"
      },
      "outputs": [],
      "source": [
        "from pyspark.sql.functions import col, expr, first\n",
        "from pyspark.sql import functions as F, DataFrame, Window, SparkSession\n",
        "from pyspark.sql.types import StructType, StructField, StringType, DoubleType, FloatType, ArrayType, TimestampType\n",
        "from datetime import datetime, time, timedelta\n",
        "import requests\n",
        "import time\n",
        "import ipywidgets\n",
        "import base64\n",
        "import getpass\n",
        "import builtins\n",
        "import json\n",
        "import itertools\n",
        "from functools import reduce\n",
        "import numpy as np"
      ]
    },
    {
      "cell_type": "markdown",
      "source": [
        "### Start SparkSession <a class=\"anchor\" id=\"start-sparksession\"></a>"
      ],
      "metadata": {
        "id": "wa4P4R38ZiJB"
      }
    },
    {
      "cell_type": "code",
      "execution_count": null,
      "metadata": {
        "application/vnd.databricks.v1+cell": {
          "cellMetadata": {
            "byteLimit": 2048000,
            "rowLimit": 10000
          },
          "inputWidgets": {},
          "nuid": "c561ed46-1f70-4e34-a340-5df2ff94f437",
          "showTitle": true,
          "tableResultSettingsMap": {},
          "title": "Create sparksession"
        },
        "id": "yx0kFjIVZOjl",
        "outputId": "35be56e4-03bb-4b26-b091-a73acc6a055e"
      },
      "outputs": [
        {
          "output_type": "stream",
          "name": "stdout",
          "text": [
            "+---+-----+\n| id| name|\n+---+-----+\n|  1|Alice|\n|  2|  Bob|\n+---+-----+\n\n"
          ]
        }
      ],
      "source": [
        "try:\n",
        "    SparkSession.active()\n",
        "except:\n",
        "    spark = SparkSession.builder \\\n",
        "        .appName(\"BinderPySpark\") \\\n",
        "        .config(\"spark.sql.execution.arrow.pyspark.enabled\", \"true\") \\\n",
        "        .getOrCreate()\n",
        "else:\n",
        "    SparkSession.active()\n",
        "finally:\n",
        "    # Test if Spark is working\n",
        "    df = spark.createDataFrame([(1, \"Alice\"), (2, \"Bob\")], [\"id\", \"name\"])\n",
        "    df.show()\n",
        "    df.unpersist()"
      ]
    },
    {
      "cell_type": "markdown",
      "source": [
        "### Set Parameters <a class=\"anchor\" id=\"set-params\"></a>"
      ],
      "metadata": {
        "id": "BWoF_LmEZpMj"
      }
    },
    {
      "cell_type": "code",
      "execution_count": null,
      "metadata": {
        "application/vnd.databricks.v1+cell": {
          "cellMetadata": {
            "byteLimit": 2048000,
            "rowLimit": 10000
          },
          "inputWidgets": {},
          "nuid": "4fa98d0e-d3ed-4eb5-9a4e-7c531fac5b79",
          "showTitle": true,
          "tableResultSettingsMap": {},
          "title": "widgets and variables"
        },
        "id": "0vovZWvDZOjn",
        "outputId": "fd0d53e2-39ba-4dc5-dc0b-5851fdcf3a93",
        "colab": {
          "referenced_widgets": [
            "e8d622abd61244929633f9eb93f6960e",
            "9b144f4d46834015b8942cb6a77dd064",
            "56d33737e6954af1bc81b1d1308dd39f",
            "d293bc84854240c4a818e58bb547a467",
            "7238619f07944aebaacf43cf3b8e255b",
            "76517253c8344979932253b8fc5520d1"
          ]
        }
      },
      "outputs": [
        {
          "output_type": "display_data",
          "data": {
            "application/vnd.jupyter.widget-view+json": {
              "model_id": "e8d622abd61244929633f9eb93f6960e",
              "version_major": 2,
              "version_minor": 0
            },
            "text/plain": [
              "Dropdown(description='Pick a competition year:', index=1, options=('2025', '2024', '2019', '2018', '2017'), va…"
            ]
          },
          "metadata": {}
        },
        {
          "output_type": "display_data",
          "data": {
            "application/vnd.jupyter.widget-view+json": {
              "model_id": "9b144f4d46834015b8942cb6a77dd064",
              "version_major": 2,
              "version_minor": 0
            },
            "text/plain": [
              "Dropdown(description='Pick an API Service for distance & elevations:', index=1, options=('Bing Maps', 'Google …"
            ]
          },
          "metadata": {}
        },
        {
          "output_type": "display_data",
          "data": {
            "application/vnd.jupyter.widget-view+json": {
              "model_id": "56d33737e6954af1bc81b1d1308dd39f",
              "version_major": 2,
              "version_minor": 0
            },
            "text/plain": [
              "IntSlider(value=7, description='Pick a time in minutes to stop at checkpoints', max=20)"
            ]
          },
          "metadata": {}
        },
        {
          "output_type": "display_data",
          "data": {
            "application/vnd.jupyter.widget-view+json": {
              "model_id": "d293bc84854240c4a818e58bb547a467",
              "version_major": 2,
              "version_minor": 0
            },
            "text/plain": [
              "IntSlider(value=10, description='Add minutes per 100m elevation gain', max=20)"
            ]
          },
          "metadata": {}
        },
        {
          "output_type": "display_data",
          "data": {
            "application/vnd.jupyter.widget-view+json": {
              "model_id": "7238619f07944aebaacf43cf3b8e255b",
              "version_major": 2,
              "version_minor": 0
            },
            "text/plain": [
              "Text(value='10:00:00', description='Type a StartTime in the format HH:MM:SS')"
            ]
          },
          "metadata": {}
        },
        {
          "output_type": "display_data",
          "data": {
            "application/vnd.jupyter.widget-view+json": {
              "model_id": "76517253c8344979932253b8fc5520d1",
              "version_major": 2,
              "version_minor": 0
            },
            "text/plain": [
              "FloatSlider(value=5.3, continuous_update=False, description='Hiking speed:', max=10.0, readout_format='.1f')"
            ]
          },
          "metadata": {}
        },
        {
          "output_type": "display_data",
          "data": {
            "text/plain": [
              "Fill and ctrl + enter when all parameters are set to the desired state "
            ]
          },
          "metadata": {}
        }
      ],
      "source": [
        "Year_List = [\"2025\", \"2024\", \"2019\", \"2018\", \"2017\"]\n",
        "API_Service_List = [\"Bing Maps\",\"Google Maps\", \"OpenRouteService\"]\n",
        "\n",
        "try:\n",
        "  dbutils.widgets.dropdown(\"Competition_Year\", \"2025\", Year_List)\n",
        "  Competition_Year = dbutils.widgets.get(\"Competition_Year\")\n",
        "\n",
        "  dbutils.widgets.dropdown(\"API_Service\", \"Google Maps\", API_Service_List)\n",
        "  API_Service = dbutils.widgets.get(\"API_Service\")\n",
        "\n",
        "  dbutils.widgets.text(\"Dwell\", \"7\")\n",
        "  StopTimeAtCheckPoints = dbutils.widgets.get(\"Dwell\")\n",
        "\n",
        "  dbutils.widgets.text(\"Speed\", \"5.30\")\n",
        "  Speed = dbutils.widgets.get(\"Speed\")\n",
        "\n",
        "  dbutils.widgets.text(\"StartTime\", \"10:00:00\")\n",
        "  StartTime =  datetime.strptime(dbutils.widgets.get(\"StartTime\"), '%H:%M:%S')\n",
        "\n",
        "  dbutils.widgets.text(\"Naismith\", \"10\")\n",
        "  AddMinutesPer100mHeight = dbutils.widgets.get(\"Naismith\")\n",
        "\n",
        "except:\n",
        "  Competition_Year_Picker = ipywidgets.Dropdown(options=Year_List, value = '2024', description = 'Pick a competition year:')\n",
        "  API_Service_Picker = ipywidgets.Dropdown(options=API_Service_List, value = \"Google Maps\", description = 'Pick an API Service for distance & elevations:')\n",
        "  StopTimePicker = ipywidgets.IntSlider(value = 7\n",
        "                                            , min = 0\n",
        "                                            , max= 20\n",
        "                                            , description = 'Pick a time in minutes to stop at checkpoints'\n",
        "                                            , readout = True\n",
        "                                          , step = 1)\n",
        "  NaismithPicker = ipywidgets.IntSlider(value = 10\n",
        "                                            , min = 0\n",
        "                                            , max= 20\n",
        "                                            , description = 'Add minutes per 100m elevation gain'\n",
        "                                            , readout = True\n",
        "                                          , step = 1)\n",
        "  SpeedPicker = ipywidgets.FloatSlider(\n",
        "                                          value=5.3,\n",
        "                                          min=0,\n",
        "                                          max=10.0,\n",
        "                                          step=0.1,\n",
        "                                          description='Hiking speed:',\n",
        "                                          disabled=False,\n",
        "                                          continuous_update=False,\n",
        "                                          orientation='horizontal',\n",
        "                                          readout=True,\n",
        "                                          readout_format='.1f',\n",
        "                                      )\n",
        "  StartTimePicker = ipywidgets.Text(\n",
        "                                              description='Type a StartTime in the format HH:MM:SS',\n",
        "                                              value = '10:00:00',\n",
        "                                              disabled=False\n",
        "                                          )\n",
        "  display(Competition_Year_Picker)\n",
        "  display(API_Service_Picker)\n",
        "  display(StopTimePicker)\n",
        "  display(NaismithPicker)\n",
        "  display(StartTimePicker)\n",
        "  display(SpeedPicker)\n",
        "\n",
        "  input(\"Fill and ctrl + enter when all parameters are set to the desired state\")\n",
        "\n",
        "  Competition_Year = Competition_Year_Picker.value\n",
        "  API_Service = API_Service_Picker.value\n",
        "  StopTimeAtCheckPoints = StopTimePicker.value\n",
        "  AddMinutesPer100mHeight = NaismithPicker.value\n",
        "  Speed = SpeedPicker.value\n",
        "  StartTime = datetime.strptime(StartTimePicker.value, '%H:%M:%S')\n",
        "\n",
        "finally:\n",
        "\n",
        "  FinishTime = StartTime + timedelta(hours=7)\n"
      ]
    },
    {
      "cell_type": "markdown",
      "source": [
        "### Get Secrets <a class=\"anchor\" id=\"get-secrets\"></a>"
      ],
      "metadata": {
        "id": "lMkpnzqVZu6W"
      }
    },
    {
      "cell_type": "code",
      "execution_count": null,
      "metadata": {
        "application/vnd.databricks.v1+cell": {
          "cellMetadata": {},
          "inputWidgets": {},
          "nuid": "660733c6-b8a4-4e17-9bb5-ba533297d8b0",
          "showTitle": true,
          "tableResultSettingsMap": {},
          "title": "Get API Keys from secret repo"
        },
        "id": "UkBI5kXJZOjn",
        "outputId": "3698814d-2b3d-4cd2-ff88-3be990b0f3ad"
      },
      "outputs": [
        {
          "output_type": "display_data",
          "data": {
            "text/plain": [
              "Enter your GitHub Secrets Repo PAT:  [REDACTED]"
            ]
          },
          "metadata": {}
        },
        {
          "output_type": "stream",
          "name": "stdout",
          "text": [
            "✅ Secrets loaded successfully!\n"
          ]
        }
      ],
      "source": [
        "GitHubPAT = getpass.getpass(\"Enter your GitHub Secrets Repo PAT: \")  # Prompt for PAT if not set\n",
        "\n",
        "# 🔹 GitHub API URL to get the file\n",
        "url = f\"https://api.github.com/repos/liamj-f/Secrets/contents/Dovetrek_Secrets.json\"\n",
        "\n",
        "# 🔹 GitHub API headers\n",
        "headers = {\"Authorization\": f\"token {GitHubPAT}\"}\n",
        "\n",
        "# 🔹 Fetch the secrets file\n",
        "response = requests.get(url, headers=headers)\n",
        "\n",
        "if response.status_code == 200:\n",
        "    # Decode Base64 content\n",
        "    content = response.json()[\"content\"]\n",
        "    decoded_content = base64.b64decode(content).decode(\"utf-8\")\n",
        "\n",
        "    # Load JSON into a dictionary\n",
        "    secrets = json.loads(decoded_content)\n",
        "\n",
        "    # 🔹 Assign values to variables\n",
        "    BingMapsAPIKey = secrets.get(\"BingMApsAPIKey\", \"\")\n",
        "    AzureMapsAPIKey = secrets.get(\"AzureMapsAPIKey\", \"\")\n",
        "    OrdnanceSurveyAPIKey = secrets.get(\"OrdnanceSurveyAPIKey\", \"\")\n",
        "    OpenRouteServiceAPIKey = secrets.get(\"OpenRouteServiceAPIKey\", \"\")\n",
        "    GoogleMapsAPIKey = secrets.get(\"GoogleMapsAPIKey\", \"\")\n",
        "    GitHubRepo_Dovetrek_LJF_PAT = secrets.get(\"GitHubRepo-Dovetrek-LJF-PAT\", \"\")\n",
        "\n",
        "    print(\"✅ Secrets loaded successfully!\")\n",
        "\n",
        "else:\n",
        "    print(f\"❌ Error: {response.status_code} - {response.text}\")\n"
      ]
    },
    {
      "cell_type": "markdown",
      "source": [
        "### Fetch Checkpoint information <a class=\"anchor\" id=\"fetch-cp-info\"></a>"
      ],
      "metadata": {
        "id": "n5Ey-Z8caLSx"
      }
    },
    {
      "cell_type": "code",
      "execution_count": null,
      "metadata": {
        "application/vnd.databricks.v1+cell": {
          "cellMetadata": {},
          "inputWidgets": {},
          "nuid": "c89cd91e-5df2-4de3-9adb-a2030859bfe6",
          "showTitle": true,
          "tableResultSettingsMap": {},
          "title": "Get the Openings_DF from github"
        },
        "id": "ntc4Wr6rZOjo"
      },
      "outputs": [],
      "source": [
        "# GitHub API URL for file content\n",
        "url = f\"https://api.github.com/repos/liamj-f/Dovetrek/contents/Openings_{Competition_Year}.csv\"\n",
        "\n",
        "# Headers with authentication\n",
        "headers = {\"Authorization\": f\"token {GitHubRepo_Dovetrek_LJF_PAT}\"}\n",
        "\n",
        "# Fetch file content\n",
        "response = requests.get(url, headers=headers)\n",
        "content = response.json()[\"content\"]\n",
        "decoded_content = base64.b64decode(content).decode(\"utf-8\")\n",
        "csv_lines = decoded_content.split(\"\\n\")\n",
        "# Create an RDD from the list\n",
        "rdd = spark.sparkContext.parallelize(csv_lines)\n",
        "# Convert RDD to DataFrame\n",
        "openings_df = spark.read.csv(rdd, header=True, inferSchema=True)"
      ]
    },
    {
      "cell_type": "markdown",
      "source": [
        "### Convert BNG to NGR <a class=\"anchor\" id=\"bng-to-ngr\"></a>\n",
        "The actual grid square identifiers are missing from the datasets because Dovetrek always takes place in the same area, so conversion from letter to number not necessary."
      ],
      "metadata": {
        "id": "HhoozVryaNzW"
      }
    },
    {
      "cell_type": "code",
      "execution_count": null,
      "metadata": {
        "application/vnd.databricks.v1+cell": {
          "cellMetadata": {
            "byteLimit": 2048000,
            "rowLimit": 10000
          },
          "inputWidgets": {},
          "nuid": "4402ee60-5261-4d6f-a282-7fe82bdaefd6",
          "showTitle": true,
          "tableResultSettingsMap": {},
          "title": "BNG to NGR"
        },
        "id": "3HmzSfT4ZOjo",
        "outputId": "4b0a2aa5-d323-4ec6-8571-fea372bb3dc2"
      },
      "outputs": [
        {
          "output_type": "display_data",
          "data": {
            "text/html": [
              "<style scoped>\n",
              "  .table-result-container {\n",
              "    max-height: 300px;\n",
              "    overflow: auto;\n",
              "  }\n",
              "  table, th, td {\n",
              "    border: 1px solid black;\n",
              "    border-collapse: collapse;\n",
              "  }\n",
              "  th, td {\n",
              "    padding: 5px;\n",
              "  }\n",
              "  th {\n",
              "    text-align: left;\n",
              "  }\n",
              "</style><div class='table-result-container'><table class='table-result'><thead style='background-color: white'><tr><th>CP</th><th>BNG</th><th>1000</th><th>1030</th><th>1100</th><th>1130</th><th>1200</th><th>1230</th><th>1300</th><th>1330</th><th>1400</th><th>1430</th><th>1500</th><th>1530</th><th>1600</th><th>1630</th><th>1700</th><th>NGR_Easting</th><th>NGR_Northing</th></tr></thead><tbody><tr><td>Start</td><td>258 779</td><td>1</td><td>1</td><td>1</td><td>1</td><td>1</td><td>1</td><td>1</td><td>1</td><td>1</td><td>1</td><td>1</td><td>1</td><td>1</td><td>1</td><td>1</td><td>425800.0</td><td>377900.0</td></tr><tr><td>CP1</td><td>251 801</td><td>0</td><td>0</td><td>1</td><td>1</td><td>1</td><td>0</td><td>0</td><td>0</td><td>0</td><td>0</td><td>1</td><td>1</td><td>1</td><td>1</td><td>1</td><td>425100.0</td><td>380100.0</td></tr><tr><td>CP2</td><td>265 801</td><td>1</td><td>1</td><td>1</td><td>1</td><td>1</td><td>1</td><td>0</td><td>0</td><td>0</td><td>1</td><td>1</td><td>0</td><td>0</td><td>0</td><td>0</td><td>426500.0</td><td>380100.0</td></tr><tr><td>CP3</td><td>268 789</td><td>1</td><td>1</td><td>0</td><td>0</td><td>0</td><td>0</td><td>0</td><td>0</td><td>0</td><td>0</td><td>0</td><td>0</td><td>1</td><td>1</td><td>1</td><td>426800.0</td><td>378900.0</td></tr><tr><td>CP4</td><td>262 747</td><td>0</td><td>0</td><td>0</td><td>1</td><td>1</td><td>0</td><td>0</td><td>0</td><td>1</td><td>1</td><td>1</td><td>1</td><td>1</td><td>0</td><td>0</td><td>426200.0</td><td>374700.0</td></tr><tr><td>CP5</td><td>254 775</td><td>0</td><td>0</td><td>0</td><td>0</td><td>0</td><td>1</td><td>1</td><td>0</td><td>0</td><td>0</td><td>0</td><td>0</td><td>0</td><td>0</td><td>0</td><td>425400.0</td><td>377500.0</td></tr><tr><td>CP6</td><td>251 786</td><td>0</td><td>1</td><td>1</td><td>0</td><td>0</td><td>1</td><td>1</td><td>1</td><td>1</td><td>1</td><td>0</td><td>0</td><td>1</td><td>0</td><td>0</td><td>425100.0</td><td>378600.0</td></tr><tr><td>CP7</td><td>247 801</td><td>0</td><td>0</td><td>1</td><td>1</td><td>1</td><td>1</td><td>1</td><td>1</td><td>0</td><td>0</td><td>0</td><td>0</td><td>0</td><td>1</td><td>1</td><td>424700.0</td><td>380100.0</td></tr><tr><td>E1</td><td>251 807</td><td>0</td><td>1</td><td>1</td><td>1</td><td>0</td><td>0</td><td>1</td><td>1</td><td>1</td><td>0</td><td>0</td><td>1</td><td>1</td><td>1</td><td>0</td><td>425100.0</td><td>380700.0</td></tr><tr><td>E2R</td><td>274 814</td><td>0</td><td>0</td><td>0</td><td>0</td><td>0</td><td>0</td><td>0</td><td>0</td><td>0</td><td>0</td><td>1</td><td>1</td><td>1</td><td>1</td><td>0</td><td>427400.0</td><td>381400.0</td></tr><tr><td>E3</td><td>234 807</td><td>0</td><td>0</td><td>0</td><td>0</td><td>0</td><td>0</td><td>0</td><td>0</td><td>0</td><td>0</td><td>0</td><td>0</td><td>1</td><td>1</td><td>1</td><td>423400.0</td><td>380700.0</td></tr><tr><td>E4R</td><td>249 792</td><td>0</td><td>0</td><td>1</td><td>1</td><td>1</td><td>0</td><td>0</td><td>1</td><td>1</td><td>0</td><td>0</td><td>1</td><td>1</td><td>0</td><td>0</td><td>424900.0</td><td>379200.0</td></tr><tr><td>E5</td><td>246 779</td><td>0</td><td>0</td><td>0</td><td>0</td><td>0</td><td>0</td><td>1</td><td>1</td><td>1</td><td>0</td><td>0</td><td>0</td><td>0</td><td>0</td><td>0</td><td>424600.0</td><td>377900.0</td></tr><tr><td>E6</td><td>247 761</td><td>0</td><td>0</td><td>0</td><td>1</td><td>1</td><td>1</td><td>1</td><td>0</td><td>0</td><td>0</td><td>0</td><td>0</td><td>0</td><td>0</td><td>0</td><td>424700.0</td><td>376100.0</td></tr><tr><td>E7U</td><td>263 758</td><td>1</td><td>1</td><td>1</td><td>1</td><td>1</td><td>1</td><td>1</td><td>1</td><td>1</td><td>1</td><td>1</td><td>1</td><td>1</td><td>1</td><td>1</td><td>426300.0</td><td>375800.0</td></tr><tr><td>E8</td><td>245 745</td><td>0</td><td>0</td><td>0</td><td>1</td><td>1</td><td>1</td><td>0</td><td>0</td><td>0</td><td>0</td><td>0</td><td>0</td><td>0</td><td>0</td><td>0</td><td>424500.0</td><td>374500.0</td></tr><tr><td>E9U</td><td>258 794</td><td>1</td><td>1</td><td>1</td><td>1</td><td>1</td><td>1</td><td>1</td><td>1</td><td>1</td><td>1</td><td>1</td><td>1</td><td>1</td><td>1</td><td>1</td><td>425800.0</td><td>379400.0</td></tr><tr><td>E10U</td><td>252 817</td><td>1</td><td>1</td><td>1</td><td>1</td><td>1</td><td>1</td><td>1</td><td>1</td><td>1</td><td>1</td><td>1</td><td>1</td><td>1</td><td>1</td><td>1</td><td>425200.0</td><td>381700.0</td></tr><tr><td>Finish</td><td>241 808</td><td>0</td><td>0</td><td>0</td><td>0</td><td>0</td><td>0</td><td>0</td><td>0</td><td>0</td><td>0</td><td>1</td><td>1</td><td>1</td><td>1</td><td>1</td><td>424100.0</td><td>380800.0</td></tr></tbody></table></div>"
            ]
          },
          "metadata": {
            "application/vnd.databricks.v1+output": {
              "addedWidgets": {},
              "aggData": [],
              "aggError": "",
              "aggOverflow": false,
              "aggSchema": [],
              "aggSeriesLimitReached": false,
              "aggType": "",
              "arguments": {},
              "columnCustomDisplayInfos": {},
              "data": [
                [
                  "Start",
                  "258 779",
                  1,
                  1,
                  1,
                  1,
                  1,
                  1,
                  1,
                  1,
                  1,
                  1,
                  1,
                  1,
                  1,
                  1,
                  1,
                  425800,
                  377900
                ],
                [
                  "CP1",
                  "251 801",
                  0,
                  0,
                  1,
                  1,
                  1,
                  0,
                  0,
                  0,
                  0,
                  0,
                  1,
                  1,
                  1,
                  1,
                  1,
                  425100,
                  380100
                ],
                [
                  "CP2",
                  "265 801",
                  1,
                  1,
                  1,
                  1,
                  1,
                  1,
                  0,
                  0,
                  0,
                  1,
                  1,
                  0,
                  0,
                  0,
                  0,
                  426500,
                  380100
                ],
                [
                  "CP3",
                  "268 789",
                  1,
                  1,
                  0,
                  0,
                  0,
                  0,
                  0,
                  0,
                  0,
                  0,
                  0,
                  0,
                  1,
                  1,
                  1,
                  426800,
                  378900
                ],
                [
                  "CP4",
                  "262 747",
                  0,
                  0,
                  0,
                  1,
                  1,
                  0,
                  0,
                  0,
                  1,
                  1,
                  1,
                  1,
                  1,
                  0,
                  0,
                  426200,
                  374700
                ],
                [
                  "CP5",
                  "254 775",
                  0,
                  0,
                  0,
                  0,
                  0,
                  1,
                  1,
                  0,
                  0,
                  0,
                  0,
                  0,
                  0,
                  0,
                  0,
                  425400,
                  377500
                ],
                [
                  "CP6",
                  "251 786",
                  0,
                  1,
                  1,
                  0,
                  0,
                  1,
                  1,
                  1,
                  1,
                  1,
                  0,
                  0,
                  1,
                  0,
                  0,
                  425100,
                  378600
                ],
                [
                  "CP7",
                  "247 801",
                  0,
                  0,
                  1,
                  1,
                  1,
                  1,
                  1,
                  1,
                  0,
                  0,
                  0,
                  0,
                  0,
                  1,
                  1,
                  424700,
                  380100
                ],
                [
                  "E1",
                  "251 807",
                  0,
                  1,
                  1,
                  1,
                  0,
                  0,
                  1,
                  1,
                  1,
                  0,
                  0,
                  1,
                  1,
                  1,
                  0,
                  425100,
                  380700
                ],
                [
                  "E2R",
                  "274 814",
                  0,
                  0,
                  0,
                  0,
                  0,
                  0,
                  0,
                  0,
                  0,
                  0,
                  1,
                  1,
                  1,
                  1,
                  0,
                  427400,
                  381400
                ],
                [
                  "E3",
                  "234 807",
                  0,
                  0,
                  0,
                  0,
                  0,
                  0,
                  0,
                  0,
                  0,
                  0,
                  0,
                  0,
                  1,
                  1,
                  1,
                  423400,
                  380700
                ],
                [
                  "E4R",
                  "249 792",
                  0,
                  0,
                  1,
                  1,
                  1,
                  0,
                  0,
                  1,
                  1,
                  0,
                  0,
                  1,
                  1,
                  0,
                  0,
                  424900,
                  379200
                ],
                [
                  "E5",
                  "246 779",
                  0,
                  0,
                  0,
                  0,
                  0,
                  0,
                  1,
                  1,
                  1,
                  0,
                  0,
                  0,
                  0,
                  0,
                  0,
                  424600,
                  377900
                ],
                [
                  "E6",
                  "247 761",
                  0,
                  0,
                  0,
                  1,
                  1,
                  1,
                  1,
                  0,
                  0,
                  0,
                  0,
                  0,
                  0,
                  0,
                  0,
                  424700,
                  376100
                ],
                [
                  "E7U",
                  "263 758",
                  1,
                  1,
                  1,
                  1,
                  1,
                  1,
                  1,
                  1,
                  1,
                  1,
                  1,
                  1,
                  1,
                  1,
                  1,
                  426300,
                  375800
                ],
                [
                  "E8",
                  "245 745",
                  0,
                  0,
                  0,
                  1,
                  1,
                  1,
                  0,
                  0,
                  0,
                  0,
                  0,
                  0,
                  0,
                  0,
                  0,
                  424500,
                  374500
                ],
                [
                  "E9U",
                  "258 794",
                  1,
                  1,
                  1,
                  1,
                  1,
                  1,
                  1,
                  1,
                  1,
                  1,
                  1,
                  1,
                  1,
                  1,
                  1,
                  425800,
                  379400
                ],
                [
                  "E10U",
                  "252 817",
                  1,
                  1,
                  1,
                  1,
                  1,
                  1,
                  1,
                  1,
                  1,
                  1,
                  1,
                  1,
                  1,
                  1,
                  1,
                  425200,
                  381700
                ],
                [
                  "Finish",
                  "241 808",
                  0,
                  0,
                  0,
                  0,
                  0,
                  0,
                  0,
                  0,
                  0,
                  0,
                  1,
                  1,
                  1,
                  1,
                  1,
                  424100,
                  380800
                ]
              ],
              "datasetInfos": [],
              "dbfsResultPath": null,
              "isJsonSchema": true,
              "metadata": {},
              "overflow": false,
              "plotOptions": {
                "customPlotOptions": {},
                "displayType": "table",
                "pivotAggregation": null,
                "pivotColumns": null,
                "xColumns": null,
                "yColumns": null
              },
              "removedWidgets": [],
              "schema": [
                {
                  "metadata": "{}",
                  "name": "CP",
                  "type": "\"string\""
                },
                {
                  "metadata": "{}",
                  "name": "BNG",
                  "type": "\"string\""
                },
                {
                  "metadata": "{}",
                  "name": "1000",
                  "type": "\"integer\""
                },
                {
                  "metadata": "{}",
                  "name": "1030",
                  "type": "\"integer\""
                },
                {
                  "metadata": "{}",
                  "name": "1100",
                  "type": "\"integer\""
                },
                {
                  "metadata": "{}",
                  "name": "1130",
                  "type": "\"integer\""
                },
                {
                  "metadata": "{}",
                  "name": "1200",
                  "type": "\"integer\""
                },
                {
                  "metadata": "{}",
                  "name": "1230",
                  "type": "\"integer\""
                },
                {
                  "metadata": "{}",
                  "name": "1300",
                  "type": "\"integer\""
                },
                {
                  "metadata": "{}",
                  "name": "1330",
                  "type": "\"integer\""
                },
                {
                  "metadata": "{}",
                  "name": "1400",
                  "type": "\"integer\""
                },
                {
                  "metadata": "{}",
                  "name": "1430",
                  "type": "\"integer\""
                },
                {
                  "metadata": "{}",
                  "name": "1500",
                  "type": "\"integer\""
                },
                {
                  "metadata": "{}",
                  "name": "1530",
                  "type": "\"integer\""
                },
                {
                  "metadata": "{}",
                  "name": "1600",
                  "type": "\"integer\""
                },
                {
                  "metadata": "{}",
                  "name": "1630",
                  "type": "\"integer\""
                },
                {
                  "metadata": "{}",
                  "name": "1700",
                  "type": "\"integer\""
                },
                {
                  "metadata": "{}",
                  "name": "NGR_Easting",
                  "type": "\"double\""
                },
                {
                  "metadata": "{}",
                  "name": "NGR_Northing",
                  "type": "\"double\""
                }
              ],
              "type": "table"
            }
          }
        }
      ],
      "source": [
        "openings_df = openings_df.withColumn(\"NGR_Easting\", F.concat(F.lit(\"4\"), F.substring(openings_df.BNG, 1, 3), F.lit(\"00\")).cast(\"double\")) \\\n",
        "                    .withColumn(\"NGR_Northing\", F.concat(F.lit(\"3\"), F.substring(openings_df.BNG, 5, 3), F.lit(\"00\")).cast(\"double\"))\n",
        "display(openings_df)"
      ]
    },
    {
      "cell_type": "markdown",
      "source": [
        "### Convert NGR to Latitude/Longitude <a class=\"anchor\" id=\"NGR-to-LatLong\"></a>"
      ],
      "metadata": {
        "id": "RIuBgBkJaS1G"
      }
    },
    {
      "cell_type": "code",
      "execution_count": null,
      "metadata": {
        "application/vnd.databricks.v1+cell": {
          "cellMetadata": {
            "byteLimit": 2048000,
            "rowLimit": 10000
          },
          "inputWidgets": {},
          "nuid": "8b98be36-e1f3-427d-a67a-6c50e03823b6",
          "showTitle": true,
          "tableResultSettingsMap": {},
          "title": "NGR to Lat/Long"
        },
        "id": "xLDpXR5eZOjp",
        "outputId": "f6df3236-091e-45d8-abda-72c8964fbe72"
      },
      "outputs": [
        {
          "output_type": "display_data",
          "data": {
            "text/html": [
              "<style scoped>\n",
              "  .table-result-container {\n",
              "    max-height: 300px;\n",
              "    overflow: auto;\n",
              "  }\n",
              "  table, th, td {\n",
              "    border: 1px solid black;\n",
              "    border-collapse: collapse;\n",
              "  }\n",
              "  th, td {\n",
              "    padding: 5px;\n",
              "  }\n",
              "  th {\n",
              "    text-align: left;\n",
              "  }\n",
              "</style><div class='table-result-container'><table class='table-result'><thead style='background-color: white'><tr><th>CP</th><th>BNG</th><th>1000</th><th>1030</th><th>1100</th><th>1130</th><th>1200</th><th>1230</th><th>1300</th><th>1330</th><th>1400</th><th>1430</th><th>1500</th><th>1530</th><th>1600</th><th>1630</th><th>1700</th><th>NGR_Easting</th><th>NGR_Northing</th><th>Latitude</th><th>Longitude</th></tr></thead><tbody><tr><td>Start</td><td>258 779</td><td>1</td><td>1</td><td>1</td><td>1</td><td>1</td><td>1</td><td>1</td><td>1</td><td>1</td><td>1</td><td>1</td><td>1</td><td>1</td><td>1</td><td>1</td><td>425800.0</td><td>377900.0</td><td>53.297432</td><td>-1.6143645</td></tr><tr><td>CP1</td><td>251 801</td><td>0</td><td>0</td><td>1</td><td>1</td><td>1</td><td>0</td><td>0</td><td>0</td><td>0</td><td>0</td><td>1</td><td>1</td><td>1</td><td>1</td><td>1</td><td>425100.0</td><td>380100.0</td><td>53.31724</td><td>-1.6246936</td></tr><tr><td>CP2</td><td>265 801</td><td>1</td><td>1</td><td>1</td><td>1</td><td>1</td><td>1</td><td>0</td><td>0</td><td>0</td><td>1</td><td>1</td><td>0</td><td>0</td><td>0</td><td>0</td><td>426500.0</td><td>380100.0</td><td>53.317173</td><td>-1.6036792</td></tr><tr><td>CP3</td><td>268 789</td><td>1</td><td>1</td><td>0</td><td>0</td><td>0</td><td>0</td><td>0</td><td>0</td><td>0</td><td>0</td><td>0</td><td>0</td><td>1</td><td>1</td><td>1</td><td>426800.0</td><td>378900.0</td><td>53.30637</td><td>-1.5992771</td></tr><tr><td>CP4</td><td>262 747</td><td>0</td><td>0</td><td>0</td><td>1</td><td>1</td><td>0</td><td>0</td><td>0</td><td>1</td><td>1</td><td>1</td><td>1</td><td>1</td><td>0</td><td>0</td><td>426200.0</td><td>374700.0</td><td>53.26865</td><td>-1.6086259</td></tr><tr><td>CP5</td><td>254 775</td><td>0</td><td>0</td><td>0</td><td>0</td><td>0</td><td>1</td><td>1</td><td>0</td><td>0</td><td>0</td><td>0</td><td>0</td><td>0</td><td>0</td><td>0</td><td>425400.0</td><td>377500.0</td><td>53.293858</td><td>-1.6203977</td></tr><tr><td>CP6</td><td>251 786</td><td>0</td><td>1</td><td>1</td><td>0</td><td>0</td><td>1</td><td>1</td><td>1</td><td>1</td><td>1</td><td>0</td><td>0</td><td>1</td><td>0</td><td>0</td><td>425100.0</td><td>378600.0</td><td>53.303757</td><td>-1.6248118</td></tr><tr><td>CP7</td><td>247 801</td><td>0</td><td>0</td><td>1</td><td>1</td><td>1</td><td>1</td><td>1</td><td>1</td><td>0</td><td>0</td><td>0</td><td>0</td><td>0</td><td>1</td><td>1</td><td>424700.0</td><td>380100.0</td><td>53.31726</td><td>-1.6306977</td></tr><tr><td>E1</td><td>251 807</td><td>0</td><td>1</td><td>1</td><td>1</td><td>0</td><td>0</td><td>1</td><td>1</td><td>1</td><td>0</td><td>0</td><td>1</td><td>1</td><td>1</td><td>0</td><td>425100.0</td><td>380700.0</td><td>53.32263</td><td>-1.6246463</td></tr><tr><td>E2R</td><td>274 814</td><td>0</td><td>0</td><td>0</td><td>0</td><td>0</td><td>0</td><td>0</td><td>0</td><td>0</td><td>0</td><td>1</td><td>1</td><td>1</td><td>1</td><td>0</td><td>427400.0</td><td>381400.0</td><td>53.32881</td><td>-1.5900581</td></tr><tr><td>E3</td><td>234 807</td><td>0</td><td>0</td><td>0</td><td>0</td><td>0</td><td>0</td><td>0</td><td>0</td><td>0</td><td>0</td><td>0</td><td>0</td><td>1</td><td>1</td><td>1</td><td>423400.0</td><td>380700.0</td><td>53.322712</td><td>-1.6501671</td></tr><tr><td>E4R</td><td>249 792</td><td>0</td><td>0</td><td>1</td><td>1</td><td>1</td><td>0</td><td>0</td><td>1</td><td>1</td><td>0</td><td>0</td><td>1</td><td>1</td><td>0</td><td>0</td><td>424900.0</td><td>379200.0</td><td>53.30916</td><td>-1.627766</td></tr><tr><td>E5</td><td>246 779</td><td>0</td><td>0</td><td>0</td><td>0</td><td>0</td><td>0</td><td>1</td><td>1</td><td>1</td><td>0</td><td>0</td><td>0</td><td>0</td><td>0</td><td>0</td><td>424600.0</td><td>377900.0</td><td>53.29749</td><td>-1.6323686</td></tr><tr><td>E6</td><td>247 761</td><td>0</td><td>0</td><td>0</td><td>1</td><td>1</td><td>1</td><td>1</td><td>0</td><td>0</td><td>0</td><td>0</td><td>0</td><td>0</td><td>0</td><td>0</td><td>424700.0</td><td>376100.0</td><td>53.281303</td><td>-1.6310076</td></tr><tr><td>E7U</td><td>263 758</td><td>1</td><td>1</td><td>1</td><td>1</td><td>1</td><td>1</td><td>1</td><td>1</td><td>1</td><td>1</td><td>1</td><td>1</td><td>1</td><td>1</td><td>1</td><td>426300.0</td><td>375800.0</td><td>53.27853</td><td>-1.607036</td></tr><tr><td>E8</td><td>245 745</td><td>0</td><td>0</td><td>0</td><td>1</td><td>1</td><td>1</td><td>0</td><td>0</td><td>0</td><td>0</td><td>0</td><td>0</td><td>0</td><td>0</td><td>0</td><td>424500.0</td><td>374500.0</td><td>53.266933</td><td>-1.6341299</td></tr><tr><td>E9U</td><td>258 794</td><td>1</td><td>1</td><td>1</td><td>1</td><td>1</td><td>1</td><td>1</td><td>1</td><td>1</td><td>1</td><td>1</td><td>1</td><td>1</td><td>1</td><td>1</td><td>425800.0</td><td>379400.0</td><td>53.310913</td><td>-1.6142431</td></tr><tr><td>E10U</td><td>252 817</td><td>1</td><td>1</td><td>1</td><td>1</td><td>1</td><td>1</td><td>1</td><td>1</td><td>1</td><td>1</td><td>1</td><td>1</td><td>1</td><td>1</td><td>1</td><td>425200.0</td><td>381700.0</td><td>53.331615</td><td>-1.623066</td></tr><tr><td>Finish</td><td>241 808</td><td>0</td><td>0</td><td>0</td><td>0</td><td>0</td><td>0</td><td>0</td><td>0</td><td>0</td><td>0</td><td>1</td><td>1</td><td>1</td><td>1</td><td>1</td><td>424100.0</td><td>380800.0</td><td>53.323578</td><td>-1.6396511</td></tr></tbody></table></div>"
            ]
          },
          "metadata": {
            "application/vnd.databricks.v1+output": {
              "addedWidgets": {},
              "aggData": [],
              "aggError": "",
              "aggOverflow": false,
              "aggSchema": [],
              "aggSeriesLimitReached": false,
              "aggType": "",
              "arguments": {},
              "columnCustomDisplayInfos": {},
              "data": [
                [
                  "Start",
                  "258 779",
                  1,
                  1,
                  1,
                  1,
                  1,
                  1,
                  1,
                  1,
                  1,
                  1,
                  1,
                  1,
                  1,
                  1,
                  1,
                  425800,
                  377900,
                  53.297432,
                  -1.6143645
                ],
                [
                  "CP1",
                  "251 801",
                  0,
                  0,
                  1,
                  1,
                  1,
                  0,
                  0,
                  0,
                  0,
                  0,
                  1,
                  1,
                  1,
                  1,
                  1,
                  425100,
                  380100,
                  53.31724,
                  -1.6246936
                ],
                [
                  "CP2",
                  "265 801",
                  1,
                  1,
                  1,
                  1,
                  1,
                  1,
                  0,
                  0,
                  0,
                  1,
                  1,
                  0,
                  0,
                  0,
                  0,
                  426500,
                  380100,
                  53.317173,
                  -1.6036792
                ],
                [
                  "CP3",
                  "268 789",
                  1,
                  1,
                  0,
                  0,
                  0,
                  0,
                  0,
                  0,
                  0,
                  0,
                  0,
                  0,
                  1,
                  1,
                  1,
                  426800,
                  378900,
                  53.30637,
                  -1.5992771
                ],
                [
                  "CP4",
                  "262 747",
                  0,
                  0,
                  0,
                  1,
                  1,
                  0,
                  0,
                  0,
                  1,
                  1,
                  1,
                  1,
                  1,
                  0,
                  0,
                  426200,
                  374700,
                  53.26865,
                  -1.6086259
                ],
                [
                  "CP5",
                  "254 775",
                  0,
                  0,
                  0,
                  0,
                  0,
                  1,
                  1,
                  0,
                  0,
                  0,
                  0,
                  0,
                  0,
                  0,
                  0,
                  425400,
                  377500,
                  53.293858,
                  -1.6203977
                ],
                [
                  "CP6",
                  "251 786",
                  0,
                  1,
                  1,
                  0,
                  0,
                  1,
                  1,
                  1,
                  1,
                  1,
                  0,
                  0,
                  1,
                  0,
                  0,
                  425100,
                  378600,
                  53.303757,
                  -1.6248118
                ],
                [
                  "CP7",
                  "247 801",
                  0,
                  0,
                  1,
                  1,
                  1,
                  1,
                  1,
                  1,
                  0,
                  0,
                  0,
                  0,
                  0,
                  1,
                  1,
                  424700,
                  380100,
                  53.31726,
                  -1.6306977
                ],
                [
                  "E1",
                  "251 807",
                  0,
                  1,
                  1,
                  1,
                  0,
                  0,
                  1,
                  1,
                  1,
                  0,
                  0,
                  1,
                  1,
                  1,
                  0,
                  425100,
                  380700,
                  53.32263,
                  -1.6246463
                ],
                [
                  "E2R",
                  "274 814",
                  0,
                  0,
                  0,
                  0,
                  0,
                  0,
                  0,
                  0,
                  0,
                  0,
                  1,
                  1,
                  1,
                  1,
                  0,
                  427400,
                  381400,
                  53.32881,
                  -1.5900581
                ],
                [
                  "E3",
                  "234 807",
                  0,
                  0,
                  0,
                  0,
                  0,
                  0,
                  0,
                  0,
                  0,
                  0,
                  0,
                  0,
                  1,
                  1,
                  1,
                  423400,
                  380700,
                  53.322712,
                  -1.6501671
                ],
                [
                  "E4R",
                  "249 792",
                  0,
                  0,
                  1,
                  1,
                  1,
                  0,
                  0,
                  1,
                  1,
                  0,
                  0,
                  1,
                  1,
                  0,
                  0,
                  424900,
                  379200,
                  53.30916,
                  -1.627766
                ],
                [
                  "E5",
                  "246 779",
                  0,
                  0,
                  0,
                  0,
                  0,
                  0,
                  1,
                  1,
                  1,
                  0,
                  0,
                  0,
                  0,
                  0,
                  0,
                  424600,
                  377900,
                  53.29749,
                  -1.6323686
                ],
                [
                  "E6",
                  "247 761",
                  0,
                  0,
                  0,
                  1,
                  1,
                  1,
                  1,
                  0,
                  0,
                  0,
                  0,
                  0,
                  0,
                  0,
                  0,
                  424700,
                  376100,
                  53.281303,
                  -1.6310076
                ],
                [
                  "E7U",
                  "263 758",
                  1,
                  1,
                  1,
                  1,
                  1,
                  1,
                  1,
                  1,
                  1,
                  1,
                  1,
                  1,
                  1,
                  1,
                  1,
                  426300,
                  375800,
                  53.27853,
                  -1.607036
                ],
                [
                  "E8",
                  "245 745",
                  0,
                  0,
                  0,
                  1,
                  1,
                  1,
                  0,
                  0,
                  0,
                  0,
                  0,
                  0,
                  0,
                  0,
                  0,
                  424500,
                  374500,
                  53.266933,
                  -1.6341299
                ],
                [
                  "E9U",
                  "258 794",
                  1,
                  1,
                  1,
                  1,
                  1,
                  1,
                  1,
                  1,
                  1,
                  1,
                  1,
                  1,
                  1,
                  1,
                  1,
                  425800,
                  379400,
                  53.310913,
                  -1.6142431
                ],
                [
                  "E10U",
                  "252 817",
                  1,
                  1,
                  1,
                  1,
                  1,
                  1,
                  1,
                  1,
                  1,
                  1,
                  1,
                  1,
                  1,
                  1,
                  1,
                  425200,
                  381700,
                  53.331615,
                  -1.623066
                ],
                [
                  "Finish",
                  "241 808",
                  0,
                  0,
                  0,
                  0,
                  0,
                  0,
                  0,
                  0,
                  0,
                  0,
                  1,
                  1,
                  1,
                  1,
                  1,
                  424100,
                  380800,
                  53.323578,
                  -1.6396511
                ]
              ],
              "datasetInfos": [],
              "dbfsResultPath": null,
              "isJsonSchema": true,
              "metadata": {},
              "overflow": false,
              "plotOptions": {
                "customPlotOptions": {},
                "displayType": "table",
                "pivotAggregation": null,
                "pivotColumns": null,
                "xColumns": null,
                "yColumns": null
              },
              "removedWidgets": [],
              "schema": [
                {
                  "metadata": "{}",
                  "name": "CP",
                  "type": "\"string\""
                },
                {
                  "metadata": "{}",
                  "name": "BNG",
                  "type": "\"string\""
                },
                {
                  "metadata": "{}",
                  "name": "1000",
                  "type": "\"integer\""
                },
                {
                  "metadata": "{}",
                  "name": "1030",
                  "type": "\"integer\""
                },
                {
                  "metadata": "{}",
                  "name": "1100",
                  "type": "\"integer\""
                },
                {
                  "metadata": "{}",
                  "name": "1130",
                  "type": "\"integer\""
                },
                {
                  "metadata": "{}",
                  "name": "1200",
                  "type": "\"integer\""
                },
                {
                  "metadata": "{}",
                  "name": "1230",
                  "type": "\"integer\""
                },
                {
                  "metadata": "{}",
                  "name": "1300",
                  "type": "\"integer\""
                },
                {
                  "metadata": "{}",
                  "name": "1330",
                  "type": "\"integer\""
                },
                {
                  "metadata": "{}",
                  "name": "1400",
                  "type": "\"integer\""
                },
                {
                  "metadata": "{}",
                  "name": "1430",
                  "type": "\"integer\""
                },
                {
                  "metadata": "{}",
                  "name": "1500",
                  "type": "\"integer\""
                },
                {
                  "metadata": "{}",
                  "name": "1530",
                  "type": "\"integer\""
                },
                {
                  "metadata": "{}",
                  "name": "1600",
                  "type": "\"integer\""
                },
                {
                  "metadata": "{}",
                  "name": "1630",
                  "type": "\"integer\""
                },
                {
                  "metadata": "{}",
                  "name": "1700",
                  "type": "\"integer\""
                },
                {
                  "metadata": "{}",
                  "name": "NGR_Easting",
                  "type": "\"double\""
                },
                {
                  "metadata": "{}",
                  "name": "NGR_Northing",
                  "type": "\"double\""
                },
                {
                  "metadata": "{}",
                  "name": "Latitude",
                  "type": "\"float\""
                },
                {
                  "metadata": "{}",
                  "name": "Longitude",
                  "type": "\"float\""
                }
              ],
              "type": "table"
            }
          }
        }
      ],
      "source": [
        "LatLong_Df = spark.createDataFrame(\n",
        "    [(1, 1.0, 1.0)],\n",
        "    schema='CP string, Latitude float, Longitude float'\n",
        ")\n",
        "LatLong_Df = LatLong_Df.filter('1!=1')\n",
        "\n",
        "# Convert DataFrame to a list\n",
        "gridrefs_list = openings_df.select(\n",
        "    openings_df.CP,\n",
        "    openings_df.NGR_Easting,\n",
        "    openings_df.NGR_Northing\n",
        ").collect()\n",
        "\n",
        "# Iterate over the list\n",
        "for row in gridrefs_list:\n",
        "    # Perform desired operations with the column values\n",
        "    resp = requests.get(\n",
        "        \"http://webapps.bgs.ac.uk/data/webservices/CoordConvert_LL_BNG.cfc?method=BNGtoLatLng&easting=\"\n",
        "        + str(row.NGR_Easting)\n",
        "        + \"&northing=\"\n",
        "        + str(row.NGR_Northing)\n",
        "    )\n",
        "\n",
        "    # Parse the JSON response\n",
        "    json_resp = json.loads(resp.text)\n",
        "\n",
        "    # Check if 'LATITUDE' and 'LONGITUDE' keys exist in the response\n",
        "    if 'LATITUDE' in json_resp and 'LONGITUDE' in json_resp:\n",
        "        # Extract latitude and longitude values\n",
        "        latitude = json_resp['LATITUDE']\n",
        "        longitude = json_resp['LONGITUDE']\n",
        "        cp = row[\"CP\"]\n",
        "\n",
        "        df = spark.createDataFrame(\n",
        "            [(cp, latitude, longitude)],\n",
        "            'CP string, Latitude float, Longitude float'\n",
        "        )\n",
        "        LatLong_Df = LatLong_Df.union(df)\n",
        "\n",
        "openings_df = openings_df.join(LatLong_Df, openings_df.CP == LatLong_Df.CP).drop(LatLong_Df.CP)\n",
        "\n",
        "LatLong_Df.unpersist()\n",
        "# Show DataFrame\n",
        "display(openings_df)"
      ]
    },
    {
      "cell_type": "markdown",
      "source": [
        "### Create Matrix of Checkpoint combinations <a class=\"anchor\" id=\"cp-combos\"></a>"
      ],
      "metadata": {
        "id": "rzH9dfeBaUw_"
      }
    },
    {
      "cell_type": "code",
      "execution_count": null,
      "metadata": {
        "application/vnd.databricks.v1+cell": {
          "cellMetadata": {
            "byteLimit": 2048000,
            "rowLimit": 10000
          },
          "inputWidgets": {},
          "nuid": "c5e965e0-fc57-4ba2-8a51-903621f984ea",
          "showTitle": true,
          "tableResultSettingsMap": {},
          "title": "Create all checkpoint combinations"
        },
        "id": "XHj6f09TZOjp",
        "outputId": "89c3a6e8-ee7c-4ba8-837f-7867bfb4a494"
      },
      "outputs": [
        {
          "output_type": "display_data",
          "data": {
            "text/html": [
              "<style scoped>\n",
              "  .table-result-container {\n",
              "    max-height: 300px;\n",
              "    overflow: auto;\n",
              "  }\n",
              "  table, th, td {\n",
              "    border: 1px solid black;\n",
              "    border-collapse: collapse;\n",
              "  }\n",
              "  th, td {\n",
              "    padding: 5px;\n",
              "  }\n",
              "  th {\n",
              "    text-align: left;\n",
              "  }\n",
              "</style><div class='table-result-container'><table class='table-result'><thead style='background-color: white'><tr><th>StartCP</th><th>FinishCP</th><th>StartLatitude</th><th>StartLongitude</th><th>FinishLatitude</th><th>FinishLongitude</th></tr></thead><tbody><tr><td>CP2</td><td>CP1</td><td>53.317173</td><td>-1.6036792</td><td>53.31724</td><td>-1.6246936</td></tr><tr><td>CP3</td><td>CP1</td><td>53.30637</td><td>-1.5992771</td><td>53.31724</td><td>-1.6246936</td></tr><tr><td>CP4</td><td>CP1</td><td>53.26865</td><td>-1.6086259</td><td>53.31724</td><td>-1.6246936</td></tr><tr><td>CP5</td><td>CP1</td><td>53.293858</td><td>-1.6203977</td><td>53.31724</td><td>-1.6246936</td></tr><tr><td>CP6</td><td>CP1</td><td>53.303757</td><td>-1.6248118</td><td>53.31724</td><td>-1.6246936</td></tr><tr><td>CP7</td><td>CP1</td><td>53.31726</td><td>-1.6306977</td><td>53.31724</td><td>-1.6246936</td></tr><tr><td>E1</td><td>CP1</td><td>53.32263</td><td>-1.6246463</td><td>53.31724</td><td>-1.6246936</td></tr><tr><td>E10U</td><td>CP1</td><td>53.331615</td><td>-1.623066</td><td>53.31724</td><td>-1.6246936</td></tr><tr><td>E2R</td><td>CP1</td><td>53.32881</td><td>-1.5900581</td><td>53.31724</td><td>-1.6246936</td></tr><tr><td>E3</td><td>CP1</td><td>53.322712</td><td>-1.6501671</td><td>53.31724</td><td>-1.6246936</td></tr><tr><td>E4R</td><td>CP1</td><td>53.30916</td><td>-1.627766</td><td>53.31724</td><td>-1.6246936</td></tr><tr><td>E5</td><td>CP1</td><td>53.29749</td><td>-1.6323686</td><td>53.31724</td><td>-1.6246936</td></tr><tr><td>E6</td><td>CP1</td><td>53.281303</td><td>-1.6310076</td><td>53.31724</td><td>-1.6246936</td></tr><tr><td>E7U</td><td>CP1</td><td>53.27853</td><td>-1.607036</td><td>53.31724</td><td>-1.6246936</td></tr><tr><td>E8</td><td>CP1</td><td>53.266933</td><td>-1.6341299</td><td>53.31724</td><td>-1.6246936</td></tr><tr><td>E9U</td><td>CP1</td><td>53.310913</td><td>-1.6142431</td><td>53.31724</td><td>-1.6246936</td></tr><tr><td>Finish</td><td>CP1</td><td>53.323578</td><td>-1.6396511</td><td>53.31724</td><td>-1.6246936</td></tr><tr><td>Start</td><td>CP1</td><td>53.297432</td><td>-1.6143645</td><td>53.31724</td><td>-1.6246936</td></tr><tr><td>CP1</td><td>CP2</td><td>53.31724</td><td>-1.6246936</td><td>53.317173</td><td>-1.6036792</td></tr><tr><td>CP3</td><td>CP2</td><td>53.30637</td><td>-1.5992771</td><td>53.317173</td><td>-1.6036792</td></tr><tr><td>CP4</td><td>CP2</td><td>53.26865</td><td>-1.6086259</td><td>53.317173</td><td>-1.6036792</td></tr><tr><td>CP5</td><td>CP2</td><td>53.293858</td><td>-1.6203977</td><td>53.317173</td><td>-1.6036792</td></tr><tr><td>CP6</td><td>CP2</td><td>53.303757</td><td>-1.6248118</td><td>53.317173</td><td>-1.6036792</td></tr><tr><td>CP7</td><td>CP2</td><td>53.31726</td><td>-1.6306977</td><td>53.317173</td><td>-1.6036792</td></tr><tr><td>E1</td><td>CP2</td><td>53.32263</td><td>-1.6246463</td><td>53.317173</td><td>-1.6036792</td></tr><tr><td>E10U</td><td>CP2</td><td>53.331615</td><td>-1.623066</td><td>53.317173</td><td>-1.6036792</td></tr><tr><td>E2R</td><td>CP2</td><td>53.32881</td><td>-1.5900581</td><td>53.317173</td><td>-1.6036792</td></tr><tr><td>E3</td><td>CP2</td><td>53.322712</td><td>-1.6501671</td><td>53.317173</td><td>-1.6036792</td></tr><tr><td>E4R</td><td>CP2</td><td>53.30916</td><td>-1.627766</td><td>53.317173</td><td>-1.6036792</td></tr><tr><td>E5</td><td>CP2</td><td>53.29749</td><td>-1.6323686</td><td>53.317173</td><td>-1.6036792</td></tr><tr><td>E6</td><td>CP2</td><td>53.281303</td><td>-1.6310076</td><td>53.317173</td><td>-1.6036792</td></tr><tr><td>E7U</td><td>CP2</td><td>53.27853</td><td>-1.607036</td><td>53.317173</td><td>-1.6036792</td></tr><tr><td>E8</td><td>CP2</td><td>53.266933</td><td>-1.6341299</td><td>53.317173</td><td>-1.6036792</td></tr><tr><td>E9U</td><td>CP2</td><td>53.310913</td><td>-1.6142431</td><td>53.317173</td><td>-1.6036792</td></tr><tr><td>Finish</td><td>CP2</td><td>53.323578</td><td>-1.6396511</td><td>53.317173</td><td>-1.6036792</td></tr><tr><td>Start</td><td>CP2</td><td>53.297432</td><td>-1.6143645</td><td>53.317173</td><td>-1.6036792</td></tr><tr><td>CP1</td><td>CP3</td><td>53.31724</td><td>-1.6246936</td><td>53.30637</td><td>-1.5992771</td></tr><tr><td>CP2</td><td>CP3</td><td>53.317173</td><td>-1.6036792</td><td>53.30637</td><td>-1.5992771</td></tr><tr><td>CP4</td><td>CP3</td><td>53.26865</td><td>-1.6086259</td><td>53.30637</td><td>-1.5992771</td></tr><tr><td>CP5</td><td>CP3</td><td>53.293858</td><td>-1.6203977</td><td>53.30637</td><td>-1.5992771</td></tr><tr><td>CP6</td><td>CP3</td><td>53.303757</td><td>-1.6248118</td><td>53.30637</td><td>-1.5992771</td></tr><tr><td>CP7</td><td>CP3</td><td>53.31726</td><td>-1.6306977</td><td>53.30637</td><td>-1.5992771</td></tr><tr><td>E1</td><td>CP3</td><td>53.32263</td><td>-1.6246463</td><td>53.30637</td><td>-1.5992771</td></tr><tr><td>E10U</td><td>CP3</td><td>53.331615</td><td>-1.623066</td><td>53.30637</td><td>-1.5992771</td></tr><tr><td>E2R</td><td>CP3</td><td>53.32881</td><td>-1.5900581</td><td>53.30637</td><td>-1.5992771</td></tr><tr><td>E3</td><td>CP3</td><td>53.322712</td><td>-1.6501671</td><td>53.30637</td><td>-1.5992771</td></tr><tr><td>E4R</td><td>CP3</td><td>53.30916</td><td>-1.627766</td><td>53.30637</td><td>-1.5992771</td></tr><tr><td>E5</td><td>CP3</td><td>53.29749</td><td>-1.6323686</td><td>53.30637</td><td>-1.5992771</td></tr><tr><td>E6</td><td>CP3</td><td>53.281303</td><td>-1.6310076</td><td>53.30637</td><td>-1.5992771</td></tr><tr><td>E7U</td><td>CP3</td><td>53.27853</td><td>-1.607036</td><td>53.30637</td><td>-1.5992771</td></tr><tr><td>E8</td><td>CP3</td><td>53.266933</td><td>-1.6341299</td><td>53.30637</td><td>-1.5992771</td></tr><tr><td>E9U</td><td>CP3</td><td>53.310913</td><td>-1.6142431</td><td>53.30637</td><td>-1.5992771</td></tr><tr><td>Finish</td><td>CP3</td><td>53.323578</td><td>-1.6396511</td><td>53.30637</td><td>-1.5992771</td></tr><tr><td>Start</td><td>CP3</td><td>53.297432</td><td>-1.6143645</td><td>53.30637</td><td>-1.5992771</td></tr><tr><td>CP1</td><td>CP4</td><td>53.31724</td><td>-1.6246936</td><td>53.26865</td><td>-1.6086259</td></tr><tr><td>CP2</td><td>CP4</td><td>53.317173</td><td>-1.6036792</td><td>53.26865</td><td>-1.6086259</td></tr><tr><td>CP3</td><td>CP4</td><td>53.30637</td><td>-1.5992771</td><td>53.26865</td><td>-1.6086259</td></tr><tr><td>CP5</td><td>CP4</td><td>53.293858</td><td>-1.6203977</td><td>53.26865</td><td>-1.6086259</td></tr><tr><td>CP6</td><td>CP4</td><td>53.303757</td><td>-1.6248118</td><td>53.26865</td><td>-1.6086259</td></tr><tr><td>CP7</td><td>CP4</td><td>53.31726</td><td>-1.6306977</td><td>53.26865</td><td>-1.6086259</td></tr><tr><td>E1</td><td>CP4</td><td>53.32263</td><td>-1.6246463</td><td>53.26865</td><td>-1.6086259</td></tr><tr><td>E10U</td><td>CP4</td><td>53.331615</td><td>-1.623066</td><td>53.26865</td><td>-1.6086259</td></tr><tr><td>E2R</td><td>CP4</td><td>53.32881</td><td>-1.5900581</td><td>53.26865</td><td>-1.6086259</td></tr><tr><td>E3</td><td>CP4</td><td>53.322712</td><td>-1.6501671</td><td>53.26865</td><td>-1.6086259</td></tr><tr><td>E4R</td><td>CP4</td><td>53.30916</td><td>-1.627766</td><td>53.26865</td><td>-1.6086259</td></tr><tr><td>E5</td><td>CP4</td><td>53.29749</td><td>-1.6323686</td><td>53.26865</td><td>-1.6086259</td></tr><tr><td>E6</td><td>CP4</td><td>53.281303</td><td>-1.6310076</td><td>53.26865</td><td>-1.6086259</td></tr><tr><td>E7U</td><td>CP4</td><td>53.27853</td><td>-1.607036</td><td>53.26865</td><td>-1.6086259</td></tr><tr><td>E8</td><td>CP4</td><td>53.266933</td><td>-1.6341299</td><td>53.26865</td><td>-1.6086259</td></tr><tr><td>E9U</td><td>CP4</td><td>53.310913</td><td>-1.6142431</td><td>53.26865</td><td>-1.6086259</td></tr><tr><td>Finish</td><td>CP4</td><td>53.323578</td><td>-1.6396511</td><td>53.26865</td><td>-1.6086259</td></tr><tr><td>Start</td><td>CP4</td><td>53.297432</td><td>-1.6143645</td><td>53.26865</td><td>-1.6086259</td></tr><tr><td>CP1</td><td>CP5</td><td>53.31724</td><td>-1.6246936</td><td>53.293858</td><td>-1.6203977</td></tr><tr><td>CP2</td><td>CP5</td><td>53.317173</td><td>-1.6036792</td><td>53.293858</td><td>-1.6203977</td></tr><tr><td>CP3</td><td>CP5</td><td>53.30637</td><td>-1.5992771</td><td>53.293858</td><td>-1.6203977</td></tr><tr><td>CP4</td><td>CP5</td><td>53.26865</td><td>-1.6086259</td><td>53.293858</td><td>-1.6203977</td></tr><tr><td>CP6</td><td>CP5</td><td>53.303757</td><td>-1.6248118</td><td>53.293858</td><td>-1.6203977</td></tr><tr><td>CP7</td><td>CP5</td><td>53.31726</td><td>-1.6306977</td><td>53.293858</td><td>-1.6203977</td></tr><tr><td>E1</td><td>CP5</td><td>53.32263</td><td>-1.6246463</td><td>53.293858</td><td>-1.6203977</td></tr><tr><td>E10U</td><td>CP5</td><td>53.331615</td><td>-1.623066</td><td>53.293858</td><td>-1.6203977</td></tr><tr><td>E2R</td><td>CP5</td><td>53.32881</td><td>-1.5900581</td><td>53.293858</td><td>-1.6203977</td></tr><tr><td>E3</td><td>CP5</td><td>53.322712</td><td>-1.6501671</td><td>53.293858</td><td>-1.6203977</td></tr><tr><td>E4R</td><td>CP5</td><td>53.30916</td><td>-1.627766</td><td>53.293858</td><td>-1.6203977</td></tr><tr><td>E5</td><td>CP5</td><td>53.29749</td><td>-1.6323686</td><td>53.293858</td><td>-1.6203977</td></tr><tr><td>E6</td><td>CP5</td><td>53.281303</td><td>-1.6310076</td><td>53.293858</td><td>-1.6203977</td></tr><tr><td>E7U</td><td>CP5</td><td>53.27853</td><td>-1.607036</td><td>53.293858</td><td>-1.6203977</td></tr><tr><td>E8</td><td>CP5</td><td>53.266933</td><td>-1.6341299</td><td>53.293858</td><td>-1.6203977</td></tr><tr><td>E9U</td><td>CP5</td><td>53.310913</td><td>-1.6142431</td><td>53.293858</td><td>-1.6203977</td></tr><tr><td>Finish</td><td>CP5</td><td>53.323578</td><td>-1.6396511</td><td>53.293858</td><td>-1.6203977</td></tr><tr><td>Start</td><td>CP5</td><td>53.297432</td><td>-1.6143645</td><td>53.293858</td><td>-1.6203977</td></tr><tr><td>CP1</td><td>CP6</td><td>53.31724</td><td>-1.6246936</td><td>53.303757</td><td>-1.6248118</td></tr><tr><td>CP2</td><td>CP6</td><td>53.317173</td><td>-1.6036792</td><td>53.303757</td><td>-1.6248118</td></tr><tr><td>CP3</td><td>CP6</td><td>53.30637</td><td>-1.5992771</td><td>53.303757</td><td>-1.6248118</td></tr><tr><td>CP4</td><td>CP6</td><td>53.26865</td><td>-1.6086259</td><td>53.303757</td><td>-1.6248118</td></tr><tr><td>CP5</td><td>CP6</td><td>53.293858</td><td>-1.6203977</td><td>53.303757</td><td>-1.6248118</td></tr><tr><td>CP7</td><td>CP6</td><td>53.31726</td><td>-1.6306977</td><td>53.303757</td><td>-1.6248118</td></tr><tr><td>E1</td><td>CP6</td><td>53.32263</td><td>-1.6246463</td><td>53.303757</td><td>-1.6248118</td></tr><tr><td>E10U</td><td>CP6</td><td>53.331615</td><td>-1.623066</td><td>53.303757</td><td>-1.6248118</td></tr><tr><td>E2R</td><td>CP6</td><td>53.32881</td><td>-1.5900581</td><td>53.303757</td><td>-1.6248118</td></tr><tr><td>E3</td><td>CP6</td><td>53.322712</td><td>-1.6501671</td><td>53.303757</td><td>-1.6248118</td></tr><tr><td>E4R</td><td>CP6</td><td>53.30916</td><td>-1.627766</td><td>53.303757</td><td>-1.6248118</td></tr><tr><td>E5</td><td>CP6</td><td>53.29749</td><td>-1.6323686</td><td>53.303757</td><td>-1.6248118</td></tr><tr><td>E6</td><td>CP6</td><td>53.281303</td><td>-1.6310076</td><td>53.303757</td><td>-1.6248118</td></tr><tr><td>E7U</td><td>CP6</td><td>53.27853</td><td>-1.607036</td><td>53.303757</td><td>-1.6248118</td></tr><tr><td>E8</td><td>CP6</td><td>53.266933</td><td>-1.6341299</td><td>53.303757</td><td>-1.6248118</td></tr><tr><td>E9U</td><td>CP6</td><td>53.310913</td><td>-1.6142431</td><td>53.303757</td><td>-1.6248118</td></tr><tr><td>Finish</td><td>CP6</td><td>53.323578</td><td>-1.6396511</td><td>53.303757</td><td>-1.6248118</td></tr><tr><td>Start</td><td>CP6</td><td>53.297432</td><td>-1.6143645</td><td>53.303757</td><td>-1.6248118</td></tr><tr><td>CP1</td><td>CP7</td><td>53.31724</td><td>-1.6246936</td><td>53.31726</td><td>-1.6306977</td></tr><tr><td>CP2</td><td>CP7</td><td>53.317173</td><td>-1.6036792</td><td>53.31726</td><td>-1.6306977</td></tr><tr><td>CP3</td><td>CP7</td><td>53.30637</td><td>-1.5992771</td><td>53.31726</td><td>-1.6306977</td></tr><tr><td>CP4</td><td>CP7</td><td>53.26865</td><td>-1.6086259</td><td>53.31726</td><td>-1.6306977</td></tr><tr><td>CP5</td><td>CP7</td><td>53.293858</td><td>-1.6203977</td><td>53.31726</td><td>-1.6306977</td></tr><tr><td>CP6</td><td>CP7</td><td>53.303757</td><td>-1.6248118</td><td>53.31726</td><td>-1.6306977</td></tr><tr><td>E1</td><td>CP7</td><td>53.32263</td><td>-1.6246463</td><td>53.31726</td><td>-1.6306977</td></tr><tr><td>E10U</td><td>CP7</td><td>53.331615</td><td>-1.623066</td><td>53.31726</td><td>-1.6306977</td></tr><tr><td>E2R</td><td>CP7</td><td>53.32881</td><td>-1.5900581</td><td>53.31726</td><td>-1.6306977</td></tr><tr><td>E3</td><td>CP7</td><td>53.322712</td><td>-1.6501671</td><td>53.31726</td><td>-1.6306977</td></tr><tr><td>E4R</td><td>CP7</td><td>53.30916</td><td>-1.627766</td><td>53.31726</td><td>-1.6306977</td></tr><tr><td>E5</td><td>CP7</td><td>53.29749</td><td>-1.6323686</td><td>53.31726</td><td>-1.6306977</td></tr><tr><td>E6</td><td>CP7</td><td>53.281303</td><td>-1.6310076</td><td>53.31726</td><td>-1.6306977</td></tr><tr><td>E7U</td><td>CP7</td><td>53.27853</td><td>-1.607036</td><td>53.31726</td><td>-1.6306977</td></tr><tr><td>E8</td><td>CP7</td><td>53.266933</td><td>-1.6341299</td><td>53.31726</td><td>-1.6306977</td></tr><tr><td>E9U</td><td>CP7</td><td>53.310913</td><td>-1.6142431</td><td>53.31726</td><td>-1.6306977</td></tr><tr><td>Finish</td><td>CP7</td><td>53.323578</td><td>-1.6396511</td><td>53.31726</td><td>-1.6306977</td></tr><tr><td>Start</td><td>CP7</td><td>53.297432</td><td>-1.6143645</td><td>53.31726</td><td>-1.6306977</td></tr><tr><td>CP1</td><td>E1</td><td>53.31724</td><td>-1.6246936</td><td>53.32263</td><td>-1.6246463</td></tr><tr><td>CP2</td><td>E1</td><td>53.317173</td><td>-1.6036792</td><td>53.32263</td><td>-1.6246463</td></tr><tr><td>CP3</td><td>E1</td><td>53.30637</td><td>-1.5992771</td><td>53.32263</td><td>-1.6246463</td></tr><tr><td>CP4</td><td>E1</td><td>53.26865</td><td>-1.6086259</td><td>53.32263</td><td>-1.6246463</td></tr><tr><td>CP5</td><td>E1</td><td>53.293858</td><td>-1.6203977</td><td>53.32263</td><td>-1.6246463</td></tr><tr><td>CP6</td><td>E1</td><td>53.303757</td><td>-1.6248118</td><td>53.32263</td><td>-1.6246463</td></tr><tr><td>CP7</td><td>E1</td><td>53.31726</td><td>-1.6306977</td><td>53.32263</td><td>-1.6246463</td></tr><tr><td>E10U</td><td>E1</td><td>53.331615</td><td>-1.623066</td><td>53.32263</td><td>-1.6246463</td></tr><tr><td>E2R</td><td>E1</td><td>53.32881</td><td>-1.5900581</td><td>53.32263</td><td>-1.6246463</td></tr><tr><td>E3</td><td>E1</td><td>53.322712</td><td>-1.6501671</td><td>53.32263</td><td>-1.6246463</td></tr><tr><td>E4R</td><td>E1</td><td>53.30916</td><td>-1.627766</td><td>53.32263</td><td>-1.6246463</td></tr><tr><td>E5</td><td>E1</td><td>53.29749</td><td>-1.6323686</td><td>53.32263</td><td>-1.6246463</td></tr><tr><td>E6</td><td>E1</td><td>53.281303</td><td>-1.6310076</td><td>53.32263</td><td>-1.6246463</td></tr><tr><td>E7U</td><td>E1</td><td>53.27853</td><td>-1.607036</td><td>53.32263</td><td>-1.6246463</td></tr><tr><td>E8</td><td>E1</td><td>53.266933</td><td>-1.6341299</td><td>53.32263</td><td>-1.6246463</td></tr><tr><td>E9U</td><td>E1</td><td>53.310913</td><td>-1.6142431</td><td>53.32263</td><td>-1.6246463</td></tr><tr><td>Finish</td><td>E1</td><td>53.323578</td><td>-1.6396511</td><td>53.32263</td><td>-1.6246463</td></tr><tr><td>Start</td><td>E1</td><td>53.297432</td><td>-1.6143645</td><td>53.32263</td><td>-1.6246463</td></tr><tr><td>CP1</td><td>E10U</td><td>53.31724</td><td>-1.6246936</td><td>53.331615</td><td>-1.623066</td></tr><tr><td>CP2</td><td>E10U</td><td>53.317173</td><td>-1.6036792</td><td>53.331615</td><td>-1.623066</td></tr><tr><td>CP3</td><td>E10U</td><td>53.30637</td><td>-1.5992771</td><td>53.331615</td><td>-1.623066</td></tr><tr><td>CP4</td><td>E10U</td><td>53.26865</td><td>-1.6086259</td><td>53.331615</td><td>-1.623066</td></tr><tr><td>CP5</td><td>E10U</td><td>53.293858</td><td>-1.6203977</td><td>53.331615</td><td>-1.623066</td></tr><tr><td>CP6</td><td>E10U</td><td>53.303757</td><td>-1.6248118</td><td>53.331615</td><td>-1.623066</td></tr><tr><td>CP7</td><td>E10U</td><td>53.31726</td><td>-1.6306977</td><td>53.331615</td><td>-1.623066</td></tr><tr><td>E1</td><td>E10U</td><td>53.32263</td><td>-1.6246463</td><td>53.331615</td><td>-1.623066</td></tr><tr><td>E2R</td><td>E10U</td><td>53.32881</td><td>-1.5900581</td><td>53.331615</td><td>-1.623066</td></tr><tr><td>E3</td><td>E10U</td><td>53.322712</td><td>-1.6501671</td><td>53.331615</td><td>-1.623066</td></tr><tr><td>E4R</td><td>E10U</td><td>53.30916</td><td>-1.627766</td><td>53.331615</td><td>-1.623066</td></tr><tr><td>E5</td><td>E10U</td><td>53.29749</td><td>-1.6323686</td><td>53.331615</td><td>-1.623066</td></tr><tr><td>E6</td><td>E10U</td><td>53.281303</td><td>-1.6310076</td><td>53.331615</td><td>-1.623066</td></tr><tr><td>E7U</td><td>E10U</td><td>53.27853</td><td>-1.607036</td><td>53.331615</td><td>-1.623066</td></tr><tr><td>E8</td><td>E10U</td><td>53.266933</td><td>-1.6341299</td><td>53.331615</td><td>-1.623066</td></tr><tr><td>E9U</td><td>E10U</td><td>53.310913</td><td>-1.6142431</td><td>53.331615</td><td>-1.623066</td></tr><tr><td>Finish</td><td>E10U</td><td>53.323578</td><td>-1.6396511</td><td>53.331615</td><td>-1.623066</td></tr><tr><td>Start</td><td>E10U</td><td>53.297432</td><td>-1.6143645</td><td>53.331615</td><td>-1.623066</td></tr><tr><td>CP1</td><td>E2R</td><td>53.31724</td><td>-1.6246936</td><td>53.32881</td><td>-1.5900581</td></tr><tr><td>CP2</td><td>E2R</td><td>53.317173</td><td>-1.6036792</td><td>53.32881</td><td>-1.5900581</td></tr><tr><td>CP3</td><td>E2R</td><td>53.30637</td><td>-1.5992771</td><td>53.32881</td><td>-1.5900581</td></tr><tr><td>CP4</td><td>E2R</td><td>53.26865</td><td>-1.6086259</td><td>53.32881</td><td>-1.5900581</td></tr><tr><td>CP5</td><td>E2R</td><td>53.293858</td><td>-1.6203977</td><td>53.32881</td><td>-1.5900581</td></tr><tr><td>CP6</td><td>E2R</td><td>53.303757</td><td>-1.6248118</td><td>53.32881</td><td>-1.5900581</td></tr><tr><td>CP7</td><td>E2R</td><td>53.31726</td><td>-1.6306977</td><td>53.32881</td><td>-1.5900581</td></tr><tr><td>E1</td><td>E2R</td><td>53.32263</td><td>-1.6246463</td><td>53.32881</td><td>-1.5900581</td></tr><tr><td>E10U</td><td>E2R</td><td>53.331615</td><td>-1.623066</td><td>53.32881</td><td>-1.5900581</td></tr><tr><td>E3</td><td>E2R</td><td>53.322712</td><td>-1.6501671</td><td>53.32881</td><td>-1.5900581</td></tr><tr><td>E4R</td><td>E2R</td><td>53.30916</td><td>-1.627766</td><td>53.32881</td><td>-1.5900581</td></tr><tr><td>E5</td><td>E2R</td><td>53.29749</td><td>-1.6323686</td><td>53.32881</td><td>-1.5900581</td></tr><tr><td>E6</td><td>E2R</td><td>53.281303</td><td>-1.6310076</td><td>53.32881</td><td>-1.5900581</td></tr><tr><td>E7U</td><td>E2R</td><td>53.27853</td><td>-1.607036</td><td>53.32881</td><td>-1.5900581</td></tr><tr><td>E8</td><td>E2R</td><td>53.266933</td><td>-1.6341299</td><td>53.32881</td><td>-1.5900581</td></tr><tr><td>E9U</td><td>E2R</td><td>53.310913</td><td>-1.6142431</td><td>53.32881</td><td>-1.5900581</td></tr><tr><td>Finish</td><td>E2R</td><td>53.323578</td><td>-1.6396511</td><td>53.32881</td><td>-1.5900581</td></tr><tr><td>Start</td><td>E2R</td><td>53.297432</td><td>-1.6143645</td><td>53.32881</td><td>-1.5900581</td></tr><tr><td>CP1</td><td>E3</td><td>53.31724</td><td>-1.6246936</td><td>53.322712</td><td>-1.6501671</td></tr><tr><td>CP2</td><td>E3</td><td>53.317173</td><td>-1.6036792</td><td>53.322712</td><td>-1.6501671</td></tr><tr><td>CP3</td><td>E3</td><td>53.30637</td><td>-1.5992771</td><td>53.322712</td><td>-1.6501671</td></tr><tr><td>CP4</td><td>E3</td><td>53.26865</td><td>-1.6086259</td><td>53.322712</td><td>-1.6501671</td></tr><tr><td>CP5</td><td>E3</td><td>53.293858</td><td>-1.6203977</td><td>53.322712</td><td>-1.6501671</td></tr><tr><td>CP6</td><td>E3</td><td>53.303757</td><td>-1.6248118</td><td>53.322712</td><td>-1.6501671</td></tr><tr><td>CP7</td><td>E3</td><td>53.31726</td><td>-1.6306977</td><td>53.322712</td><td>-1.6501671</td></tr><tr><td>E1</td><td>E3</td><td>53.32263</td><td>-1.6246463</td><td>53.322712</td><td>-1.6501671</td></tr><tr><td>E10U</td><td>E3</td><td>53.331615</td><td>-1.623066</td><td>53.322712</td><td>-1.6501671</td></tr><tr><td>E2R</td><td>E3</td><td>53.32881</td><td>-1.5900581</td><td>53.322712</td><td>-1.6501671</td></tr><tr><td>E4R</td><td>E3</td><td>53.30916</td><td>-1.627766</td><td>53.322712</td><td>-1.6501671</td></tr><tr><td>E5</td><td>E3</td><td>53.29749</td><td>-1.6323686</td><td>53.322712</td><td>-1.6501671</td></tr><tr><td>E6</td><td>E3</td><td>53.281303</td><td>-1.6310076</td><td>53.322712</td><td>-1.6501671</td></tr><tr><td>E7U</td><td>E3</td><td>53.27853</td><td>-1.607036</td><td>53.322712</td><td>-1.6501671</td></tr><tr><td>E8</td><td>E3</td><td>53.266933</td><td>-1.6341299</td><td>53.322712</td><td>-1.6501671</td></tr><tr><td>E9U</td><td>E3</td><td>53.310913</td><td>-1.6142431</td><td>53.322712</td><td>-1.6501671</td></tr><tr><td>Finish</td><td>E3</td><td>53.323578</td><td>-1.6396511</td><td>53.322712</td><td>-1.6501671</td></tr><tr><td>Start</td><td>E3</td><td>53.297432</td><td>-1.6143645</td><td>53.322712</td><td>-1.6501671</td></tr><tr><td>CP1</td><td>E4R</td><td>53.31724</td><td>-1.6246936</td><td>53.30916</td><td>-1.627766</td></tr><tr><td>CP2</td><td>E4R</td><td>53.317173</td><td>-1.6036792</td><td>53.30916</td><td>-1.627766</td></tr><tr><td>CP3</td><td>E4R</td><td>53.30637</td><td>-1.5992771</td><td>53.30916</td><td>-1.627766</td></tr><tr><td>CP4</td><td>E4R</td><td>53.26865</td><td>-1.6086259</td><td>53.30916</td><td>-1.627766</td></tr><tr><td>CP5</td><td>E4R</td><td>53.293858</td><td>-1.6203977</td><td>53.30916</td><td>-1.627766</td></tr><tr><td>CP6</td><td>E4R</td><td>53.303757</td><td>-1.6248118</td><td>53.30916</td><td>-1.627766</td></tr><tr><td>CP7</td><td>E4R</td><td>53.31726</td><td>-1.6306977</td><td>53.30916</td><td>-1.627766</td></tr><tr><td>E1</td><td>E4R</td><td>53.32263</td><td>-1.6246463</td><td>53.30916</td><td>-1.627766</td></tr><tr><td>E10U</td><td>E4R</td><td>53.331615</td><td>-1.623066</td><td>53.30916</td><td>-1.627766</td></tr><tr><td>E2R</td><td>E4R</td><td>53.32881</td><td>-1.5900581</td><td>53.30916</td><td>-1.627766</td></tr><tr><td>E3</td><td>E4R</td><td>53.322712</td><td>-1.6501671</td><td>53.30916</td><td>-1.627766</td></tr><tr><td>E5</td><td>E4R</td><td>53.29749</td><td>-1.6323686</td><td>53.30916</td><td>-1.627766</td></tr><tr><td>E6</td><td>E4R</td><td>53.281303</td><td>-1.6310076</td><td>53.30916</td><td>-1.627766</td></tr><tr><td>E7U</td><td>E4R</td><td>53.27853</td><td>-1.607036</td><td>53.30916</td><td>-1.627766</td></tr><tr><td>E8</td><td>E4R</td><td>53.266933</td><td>-1.6341299</td><td>53.30916</td><td>-1.627766</td></tr><tr><td>E9U</td><td>E4R</td><td>53.310913</td><td>-1.6142431</td><td>53.30916</td><td>-1.627766</td></tr><tr><td>Finish</td><td>E4R</td><td>53.323578</td><td>-1.6396511</td><td>53.30916</td><td>-1.627766</td></tr><tr><td>Start</td><td>E4R</td><td>53.297432</td><td>-1.6143645</td><td>53.30916</td><td>-1.627766</td></tr><tr><td>CP1</td><td>E5</td><td>53.31724</td><td>-1.6246936</td><td>53.29749</td><td>-1.6323686</td></tr><tr><td>CP2</td><td>E5</td><td>53.317173</td><td>-1.6036792</td><td>53.29749</td><td>-1.6323686</td></tr><tr><td>CP3</td><td>E5</td><td>53.30637</td><td>-1.5992771</td><td>53.29749</td><td>-1.6323686</td></tr><tr><td>CP4</td><td>E5</td><td>53.26865</td><td>-1.6086259</td><td>53.29749</td><td>-1.6323686</td></tr><tr><td>CP5</td><td>E5</td><td>53.293858</td><td>-1.6203977</td><td>53.29749</td><td>-1.6323686</td></tr><tr><td>CP6</td><td>E5</td><td>53.303757</td><td>-1.6248118</td><td>53.29749</td><td>-1.6323686</td></tr><tr><td>CP7</td><td>E5</td><td>53.31726</td><td>-1.6306977</td><td>53.29749</td><td>-1.6323686</td></tr><tr><td>E1</td><td>E5</td><td>53.32263</td><td>-1.6246463</td><td>53.29749</td><td>-1.6323686</td></tr><tr><td>E10U</td><td>E5</td><td>53.331615</td><td>-1.623066</td><td>53.29749</td><td>-1.6323686</td></tr><tr><td>E2R</td><td>E5</td><td>53.32881</td><td>-1.5900581</td><td>53.29749</td><td>-1.6323686</td></tr><tr><td>E3</td><td>E5</td><td>53.322712</td><td>-1.6501671</td><td>53.29749</td><td>-1.6323686</td></tr><tr><td>E4R</td><td>E5</td><td>53.30916</td><td>-1.627766</td><td>53.29749</td><td>-1.6323686</td></tr><tr><td>E6</td><td>E5</td><td>53.281303</td><td>-1.6310076</td><td>53.29749</td><td>-1.6323686</td></tr><tr><td>E7U</td><td>E5</td><td>53.27853</td><td>-1.607036</td><td>53.29749</td><td>-1.6323686</td></tr><tr><td>E8</td><td>E5</td><td>53.266933</td><td>-1.6341299</td><td>53.29749</td><td>-1.6323686</td></tr><tr><td>E9U</td><td>E5</td><td>53.310913</td><td>-1.6142431</td><td>53.29749</td><td>-1.6323686</td></tr><tr><td>Finish</td><td>E5</td><td>53.323578</td><td>-1.6396511</td><td>53.29749</td><td>-1.6323686</td></tr><tr><td>Start</td><td>E5</td><td>53.297432</td><td>-1.6143645</td><td>53.29749</td><td>-1.6323686</td></tr><tr><td>CP1</td><td>E6</td><td>53.31724</td><td>-1.6246936</td><td>53.281303</td><td>-1.6310076</td></tr><tr><td>CP2</td><td>E6</td><td>53.317173</td><td>-1.6036792</td><td>53.281303</td><td>-1.6310076</td></tr><tr><td>CP3</td><td>E6</td><td>53.30637</td><td>-1.5992771</td><td>53.281303</td><td>-1.6310076</td></tr><tr><td>CP4</td><td>E6</td><td>53.26865</td><td>-1.6086259</td><td>53.281303</td><td>-1.6310076</td></tr><tr><td>CP5</td><td>E6</td><td>53.293858</td><td>-1.6203977</td><td>53.281303</td><td>-1.6310076</td></tr><tr><td>CP6</td><td>E6</td><td>53.303757</td><td>-1.6248118</td><td>53.281303</td><td>-1.6310076</td></tr><tr><td>CP7</td><td>E6</td><td>53.31726</td><td>-1.6306977</td><td>53.281303</td><td>-1.6310076</td></tr><tr><td>E1</td><td>E6</td><td>53.32263</td><td>-1.6246463</td><td>53.281303</td><td>-1.6310076</td></tr><tr><td>E10U</td><td>E6</td><td>53.331615</td><td>-1.623066</td><td>53.281303</td><td>-1.6310076</td></tr><tr><td>E2R</td><td>E6</td><td>53.32881</td><td>-1.5900581</td><td>53.281303</td><td>-1.6310076</td></tr><tr><td>E3</td><td>E6</td><td>53.322712</td><td>-1.6501671</td><td>53.281303</td><td>-1.6310076</td></tr><tr><td>E4R</td><td>E6</td><td>53.30916</td><td>-1.627766</td><td>53.281303</td><td>-1.6310076</td></tr><tr><td>E5</td><td>E6</td><td>53.29749</td><td>-1.6323686</td><td>53.281303</td><td>-1.6310076</td></tr><tr><td>E7U</td><td>E6</td><td>53.27853</td><td>-1.607036</td><td>53.281303</td><td>-1.6310076</td></tr><tr><td>E8</td><td>E6</td><td>53.266933</td><td>-1.6341299</td><td>53.281303</td><td>-1.6310076</td></tr><tr><td>E9U</td><td>E6</td><td>53.310913</td><td>-1.6142431</td><td>53.281303</td><td>-1.6310076</td></tr><tr><td>Finish</td><td>E6</td><td>53.323578</td><td>-1.6396511</td><td>53.281303</td><td>-1.6310076</td></tr><tr><td>Start</td><td>E6</td><td>53.297432</td><td>-1.6143645</td><td>53.281303</td><td>-1.6310076</td></tr><tr><td>CP1</td><td>E7U</td><td>53.31724</td><td>-1.6246936</td><td>53.27853</td><td>-1.607036</td></tr><tr><td>CP2</td><td>E7U</td><td>53.317173</td><td>-1.6036792</td><td>53.27853</td><td>-1.607036</td></tr><tr><td>CP3</td><td>E7U</td><td>53.30637</td><td>-1.5992771</td><td>53.27853</td><td>-1.607036</td></tr><tr><td>CP4</td><td>E7U</td><td>53.26865</td><td>-1.6086259</td><td>53.27853</td><td>-1.607036</td></tr><tr><td>CP5</td><td>E7U</td><td>53.293858</td><td>-1.6203977</td><td>53.27853</td><td>-1.607036</td></tr><tr><td>CP6</td><td>E7U</td><td>53.303757</td><td>-1.6248118</td><td>53.27853</td><td>-1.607036</td></tr><tr><td>CP7</td><td>E7U</td><td>53.31726</td><td>-1.6306977</td><td>53.27853</td><td>-1.607036</td></tr><tr><td>E1</td><td>E7U</td><td>53.32263</td><td>-1.6246463</td><td>53.27853</td><td>-1.607036</td></tr><tr><td>E10U</td><td>E7U</td><td>53.331615</td><td>-1.623066</td><td>53.27853</td><td>-1.607036</td></tr><tr><td>E2R</td><td>E7U</td><td>53.32881</td><td>-1.5900581</td><td>53.27853</td><td>-1.607036</td></tr><tr><td>E3</td><td>E7U</td><td>53.322712</td><td>-1.6501671</td><td>53.27853</td><td>-1.607036</td></tr><tr><td>E4R</td><td>E7U</td><td>53.30916</td><td>-1.627766</td><td>53.27853</td><td>-1.607036</td></tr><tr><td>E5</td><td>E7U</td><td>53.29749</td><td>-1.6323686</td><td>53.27853</td><td>-1.607036</td></tr><tr><td>E6</td><td>E7U</td><td>53.281303</td><td>-1.6310076</td><td>53.27853</td><td>-1.607036</td></tr><tr><td>E8</td><td>E7U</td><td>53.266933</td><td>-1.6341299</td><td>53.27853</td><td>-1.607036</td></tr><tr><td>E9U</td><td>E7U</td><td>53.310913</td><td>-1.6142431</td><td>53.27853</td><td>-1.607036</td></tr><tr><td>Finish</td><td>E7U</td><td>53.323578</td><td>-1.6396511</td><td>53.27853</td><td>-1.607036</td></tr><tr><td>Start</td><td>E7U</td><td>53.297432</td><td>-1.6143645</td><td>53.27853</td><td>-1.607036</td></tr><tr><td>CP1</td><td>E8</td><td>53.31724</td><td>-1.6246936</td><td>53.266933</td><td>-1.6341299</td></tr><tr><td>CP2</td><td>E8</td><td>53.317173</td><td>-1.6036792</td><td>53.266933</td><td>-1.6341299</td></tr><tr><td>CP3</td><td>E8</td><td>53.30637</td><td>-1.5992771</td><td>53.266933</td><td>-1.6341299</td></tr><tr><td>CP4</td><td>E8</td><td>53.26865</td><td>-1.6086259</td><td>53.266933</td><td>-1.6341299</td></tr><tr><td>CP5</td><td>E8</td><td>53.293858</td><td>-1.6203977</td><td>53.266933</td><td>-1.6341299</td></tr><tr><td>CP6</td><td>E8</td><td>53.303757</td><td>-1.6248118</td><td>53.266933</td><td>-1.6341299</td></tr><tr><td>CP7</td><td>E8</td><td>53.31726</td><td>-1.6306977</td><td>53.266933</td><td>-1.6341299</td></tr><tr><td>E1</td><td>E8</td><td>53.32263</td><td>-1.6246463</td><td>53.266933</td><td>-1.6341299</td></tr><tr><td>E10U</td><td>E8</td><td>53.331615</td><td>-1.623066</td><td>53.266933</td><td>-1.6341299</td></tr><tr><td>E2R</td><td>E8</td><td>53.32881</td><td>-1.5900581</td><td>53.266933</td><td>-1.6341299</td></tr><tr><td>E3</td><td>E8</td><td>53.322712</td><td>-1.6501671</td><td>53.266933</td><td>-1.6341299</td></tr><tr><td>E4R</td><td>E8</td><td>53.30916</td><td>-1.627766</td><td>53.266933</td><td>-1.6341299</td></tr><tr><td>E5</td><td>E8</td><td>53.29749</td><td>-1.6323686</td><td>53.266933</td><td>-1.6341299</td></tr><tr><td>E6</td><td>E8</td><td>53.281303</td><td>-1.6310076</td><td>53.266933</td><td>-1.6341299</td></tr><tr><td>E7U</td><td>E8</td><td>53.27853</td><td>-1.607036</td><td>53.266933</td><td>-1.6341299</td></tr><tr><td>E9U</td><td>E8</td><td>53.310913</td><td>-1.6142431</td><td>53.266933</td><td>-1.6341299</td></tr><tr><td>Finish</td><td>E8</td><td>53.323578</td><td>-1.6396511</td><td>53.266933</td><td>-1.6341299</td></tr><tr><td>Start</td><td>E8</td><td>53.297432</td><td>-1.6143645</td><td>53.266933</td><td>-1.6341299</td></tr><tr><td>CP1</td><td>E9U</td><td>53.31724</td><td>-1.6246936</td><td>53.310913</td><td>-1.6142431</td></tr><tr><td>CP2</td><td>E9U</td><td>53.317173</td><td>-1.6036792</td><td>53.310913</td><td>-1.6142431</td></tr><tr><td>CP3</td><td>E9U</td><td>53.30637</td><td>-1.5992771</td><td>53.310913</td><td>-1.6142431</td></tr><tr><td>CP4</td><td>E9U</td><td>53.26865</td><td>-1.6086259</td><td>53.310913</td><td>-1.6142431</td></tr><tr><td>CP5</td><td>E9U</td><td>53.293858</td><td>-1.6203977</td><td>53.310913</td><td>-1.6142431</td></tr><tr><td>CP6</td><td>E9U</td><td>53.303757</td><td>-1.6248118</td><td>53.310913</td><td>-1.6142431</td></tr><tr><td>CP7</td><td>E9U</td><td>53.31726</td><td>-1.6306977</td><td>53.310913</td><td>-1.6142431</td></tr><tr><td>E1</td><td>E9U</td><td>53.32263</td><td>-1.6246463</td><td>53.310913</td><td>-1.6142431</td></tr><tr><td>E10U</td><td>E9U</td><td>53.331615</td><td>-1.623066</td><td>53.310913</td><td>-1.6142431</td></tr><tr><td>E2R</td><td>E9U</td><td>53.32881</td><td>-1.5900581</td><td>53.310913</td><td>-1.6142431</td></tr><tr><td>E3</td><td>E9U</td><td>53.322712</td><td>-1.6501671</td><td>53.310913</td><td>-1.6142431</td></tr><tr><td>E4R</td><td>E9U</td><td>53.30916</td><td>-1.627766</td><td>53.310913</td><td>-1.6142431</td></tr><tr><td>E5</td><td>E9U</td><td>53.29749</td><td>-1.6323686</td><td>53.310913</td><td>-1.6142431</td></tr><tr><td>E6</td><td>E9U</td><td>53.281303</td><td>-1.6310076</td><td>53.310913</td><td>-1.6142431</td></tr><tr><td>E7U</td><td>E9U</td><td>53.27853</td><td>-1.607036</td><td>53.310913</td><td>-1.6142431</td></tr><tr><td>E8</td><td>E9U</td><td>53.266933</td><td>-1.6341299</td><td>53.310913</td><td>-1.6142431</td></tr><tr><td>Finish</td><td>E9U</td><td>53.323578</td><td>-1.6396511</td><td>53.310913</td><td>-1.6142431</td></tr><tr><td>Start</td><td>E9U</td><td>53.297432</td><td>-1.6143645</td><td>53.310913</td><td>-1.6142431</td></tr><tr><td>CP1</td><td>Finish</td><td>53.31724</td><td>-1.6246936</td><td>53.323578</td><td>-1.6396511</td></tr><tr><td>CP2</td><td>Finish</td><td>53.317173</td><td>-1.6036792</td><td>53.323578</td><td>-1.6396511</td></tr><tr><td>CP3</td><td>Finish</td><td>53.30637</td><td>-1.5992771</td><td>53.323578</td><td>-1.6396511</td></tr><tr><td>CP4</td><td>Finish</td><td>53.26865</td><td>-1.6086259</td><td>53.323578</td><td>-1.6396511</td></tr><tr><td>CP5</td><td>Finish</td><td>53.293858</td><td>-1.6203977</td><td>53.323578</td><td>-1.6396511</td></tr><tr><td>CP6</td><td>Finish</td><td>53.303757</td><td>-1.6248118</td><td>53.323578</td><td>-1.6396511</td></tr><tr><td>CP7</td><td>Finish</td><td>53.31726</td><td>-1.6306977</td><td>53.323578</td><td>-1.6396511</td></tr><tr><td>E1</td><td>Finish</td><td>53.32263</td><td>-1.6246463</td><td>53.323578</td><td>-1.6396511</td></tr><tr><td>E10U</td><td>Finish</td><td>53.331615</td><td>-1.623066</td><td>53.323578</td><td>-1.6396511</td></tr><tr><td>E2R</td><td>Finish</td><td>53.32881</td><td>-1.5900581</td><td>53.323578</td><td>-1.6396511</td></tr><tr><td>E3</td><td>Finish</td><td>53.322712</td><td>-1.6501671</td><td>53.323578</td><td>-1.6396511</td></tr><tr><td>E4R</td><td>Finish</td><td>53.30916</td><td>-1.627766</td><td>53.323578</td><td>-1.6396511</td></tr><tr><td>E5</td><td>Finish</td><td>53.29749</td><td>-1.6323686</td><td>53.323578</td><td>-1.6396511</td></tr><tr><td>E6</td><td>Finish</td><td>53.281303</td><td>-1.6310076</td><td>53.323578</td><td>-1.6396511</td></tr><tr><td>E7U</td><td>Finish</td><td>53.27853</td><td>-1.607036</td><td>53.323578</td><td>-1.6396511</td></tr><tr><td>E8</td><td>Finish</td><td>53.266933</td><td>-1.6341299</td><td>53.323578</td><td>-1.6396511</td></tr><tr><td>E9U</td><td>Finish</td><td>53.310913</td><td>-1.6142431</td><td>53.323578</td><td>-1.6396511</td></tr><tr><td>Start</td><td>Finish</td><td>53.297432</td><td>-1.6143645</td><td>53.323578</td><td>-1.6396511</td></tr><tr><td>CP1</td><td>Start</td><td>53.31724</td><td>-1.6246936</td><td>53.297432</td><td>-1.6143645</td></tr><tr><td>CP2</td><td>Start</td><td>53.317173</td><td>-1.6036792</td><td>53.297432</td><td>-1.6143645</td></tr><tr><td>CP3</td><td>Start</td><td>53.30637</td><td>-1.5992771</td><td>53.297432</td><td>-1.6143645</td></tr><tr><td>CP4</td><td>Start</td><td>53.26865</td><td>-1.6086259</td><td>53.297432</td><td>-1.6143645</td></tr><tr><td>CP5</td><td>Start</td><td>53.293858</td><td>-1.6203977</td><td>53.297432</td><td>-1.6143645</td></tr><tr><td>CP6</td><td>Start</td><td>53.303757</td><td>-1.6248118</td><td>53.297432</td><td>-1.6143645</td></tr><tr><td>CP7</td><td>Start</td><td>53.31726</td><td>-1.6306977</td><td>53.297432</td><td>-1.6143645</td></tr><tr><td>E1</td><td>Start</td><td>53.32263</td><td>-1.6246463</td><td>53.297432</td><td>-1.6143645</td></tr><tr><td>E10U</td><td>Start</td><td>53.331615</td><td>-1.623066</td><td>53.297432</td><td>-1.6143645</td></tr><tr><td>E2R</td><td>Start</td><td>53.32881</td><td>-1.5900581</td><td>53.297432</td><td>-1.6143645</td></tr><tr><td>E3</td><td>Start</td><td>53.322712</td><td>-1.6501671</td><td>53.297432</td><td>-1.6143645</td></tr><tr><td>E4R</td><td>Start</td><td>53.30916</td><td>-1.627766</td><td>53.297432</td><td>-1.6143645</td></tr><tr><td>E5</td><td>Start</td><td>53.29749</td><td>-1.6323686</td><td>53.297432</td><td>-1.6143645</td></tr><tr><td>E6</td><td>Start</td><td>53.281303</td><td>-1.6310076</td><td>53.297432</td><td>-1.6143645</td></tr><tr><td>E7U</td><td>Start</td><td>53.27853</td><td>-1.607036</td><td>53.297432</td><td>-1.6143645</td></tr><tr><td>E8</td><td>Start</td><td>53.266933</td><td>-1.6341299</td><td>53.297432</td><td>-1.6143645</td></tr><tr><td>E9U</td><td>Start</td><td>53.310913</td><td>-1.6142431</td><td>53.297432</td><td>-1.6143645</td></tr><tr><td>Finish</td><td>Start</td><td>53.323578</td><td>-1.6396511</td><td>53.297432</td><td>-1.6143645</td></tr></tbody></table></div>"
            ]
          },
          "metadata": {
            "application/vnd.databricks.v1+output": {
              "addedWidgets": {},
              "aggData": [],
              "aggError": "",
              "aggOverflow": false,
              "aggSchema": [],
              "aggSeriesLimitReached": false,
              "aggType": "",
              "arguments": {},
              "columnCustomDisplayInfos": {},
              "data": [
                [
                  "CP2",
                  "CP1",
                  53.317173,
                  -1.6036792,
                  53.31724,
                  -1.6246936
                ],
                [
                  "CP3",
                  "CP1",
                  53.30637,
                  -1.5992771,
                  53.31724,
                  -1.6246936
                ],
                [
                  "CP4",
                  "CP1",
                  53.26865,
                  -1.6086259,
                  53.31724,
                  -1.6246936
                ],
                [
                  "CP5",
                  "CP1",
                  53.293858,
                  -1.6203977,
                  53.31724,
                  -1.6246936
                ],
                [
                  "CP6",
                  "CP1",
                  53.303757,
                  -1.6248118,
                  53.31724,
                  -1.6246936
                ],
                [
                  "CP7",
                  "CP1",
                  53.31726,
                  -1.6306977,
                  53.31724,
                  -1.6246936
                ],
                [
                  "E1",
                  "CP1",
                  53.32263,
                  -1.6246463,
                  53.31724,
                  -1.6246936
                ],
                [
                  "E10U",
                  "CP1",
                  53.331615,
                  -1.623066,
                  53.31724,
                  -1.6246936
                ],
                [
                  "E2R",
                  "CP1",
                  53.32881,
                  -1.5900581,
                  53.31724,
                  -1.6246936
                ],
                [
                  "E3",
                  "CP1",
                  53.322712,
                  -1.6501671,
                  53.31724,
                  -1.6246936
                ],
                [
                  "E4R",
                  "CP1",
                  53.30916,
                  -1.627766,
                  53.31724,
                  -1.6246936
                ],
                [
                  "E5",
                  "CP1",
                  53.29749,
                  -1.6323686,
                  53.31724,
                  -1.6246936
                ],
                [
                  "E6",
                  "CP1",
                  53.281303,
                  -1.6310076,
                  53.31724,
                  -1.6246936
                ],
                [
                  "E7U",
                  "CP1",
                  53.27853,
                  -1.607036,
                  53.31724,
                  -1.6246936
                ],
                [
                  "E8",
                  "CP1",
                  53.266933,
                  -1.6341299,
                  53.31724,
                  -1.6246936
                ],
                [
                  "E9U",
                  "CP1",
                  53.310913,
                  -1.6142431,
                  53.31724,
                  -1.6246936
                ],
                [
                  "Finish",
                  "CP1",
                  53.323578,
                  -1.6396511,
                  53.31724,
                  -1.6246936
                ],
                [
                  "Start",
                  "CP1",
                  53.297432,
                  -1.6143645,
                  53.31724,
                  -1.6246936
                ],
                [
                  "CP1",
                  "CP2",
                  53.31724,
                  -1.6246936,
                  53.317173,
                  -1.6036792
                ],
                [
                  "CP3",
                  "CP2",
                  53.30637,
                  -1.5992771,
                  53.317173,
                  -1.6036792
                ],
                [
                  "CP4",
                  "CP2",
                  53.26865,
                  -1.6086259,
                  53.317173,
                  -1.6036792
                ],
                [
                  "CP5",
                  "CP2",
                  53.293858,
                  -1.6203977,
                  53.317173,
                  -1.6036792
                ],
                [
                  "CP6",
                  "CP2",
                  53.303757,
                  -1.6248118,
                  53.317173,
                  -1.6036792
                ],
                [
                  "CP7",
                  "CP2",
                  53.31726,
                  -1.6306977,
                  53.317173,
                  -1.6036792
                ],
                [
                  "E1",
                  "CP2",
                  53.32263,
                  -1.6246463,
                  53.317173,
                  -1.6036792
                ],
                [
                  "E10U",
                  "CP2",
                  53.331615,
                  -1.623066,
                  53.317173,
                  -1.6036792
                ],
                [
                  "E2R",
                  "CP2",
                  53.32881,
                  -1.5900581,
                  53.317173,
                  -1.6036792
                ],
                [
                  "E3",
                  "CP2",
                  53.322712,
                  -1.6501671,
                  53.317173,
                  -1.6036792
                ],
                [
                  "E4R",
                  "CP2",
                  53.30916,
                  -1.627766,
                  53.317173,
                  -1.6036792
                ],
                [
                  "E5",
                  "CP2",
                  53.29749,
                  -1.6323686,
                  53.317173,
                  -1.6036792
                ],
                [
                  "E6",
                  "CP2",
                  53.281303,
                  -1.6310076,
                  53.317173,
                  -1.6036792
                ],
                [
                  "E7U",
                  "CP2",
                  53.27853,
                  -1.607036,
                  53.317173,
                  -1.6036792
                ],
                [
                  "E8",
                  "CP2",
                  53.266933,
                  -1.6341299,
                  53.317173,
                  -1.6036792
                ],
                [
                  "E9U",
                  "CP2",
                  53.310913,
                  -1.6142431,
                  53.317173,
                  -1.6036792
                ],
                [
                  "Finish",
                  "CP2",
                  53.323578,
                  -1.6396511,
                  53.317173,
                  -1.6036792
                ],
                [
                  "Start",
                  "CP2",
                  53.297432,
                  -1.6143645,
                  53.317173,
                  -1.6036792
                ],
                [
                  "CP1",
                  "CP3",
                  53.31724,
                  -1.6246936,
                  53.30637,
                  -1.5992771
                ],
                [
                  "CP2",
                  "CP3",
                  53.317173,
                  -1.6036792,
                  53.30637,
                  -1.5992771
                ],
                [
                  "CP4",
                  "CP3",
                  53.26865,
                  -1.6086259,
                  53.30637,
                  -1.5992771
                ],
                [
                  "CP5",
                  "CP3",
                  53.293858,
                  -1.6203977,
                  53.30637,
                  -1.5992771
                ],
                [
                  "CP6",
                  "CP3",
                  53.303757,
                  -1.6248118,
                  53.30637,
                  -1.5992771
                ],
                [
                  "CP7",
                  "CP3",
                  53.31726,
                  -1.6306977,
                  53.30637,
                  -1.5992771
                ],
                [
                  "E1",
                  "CP3",
                  53.32263,
                  -1.6246463,
                  53.30637,
                  -1.5992771
                ],
                [
                  "E10U",
                  "CP3",
                  53.331615,
                  -1.623066,
                  53.30637,
                  -1.5992771
                ],
                [
                  "E2R",
                  "CP3",
                  53.32881,
                  -1.5900581,
                  53.30637,
                  -1.5992771
                ],
                [
                  "E3",
                  "CP3",
                  53.322712,
                  -1.6501671,
                  53.30637,
                  -1.5992771
                ],
                [
                  "E4R",
                  "CP3",
                  53.30916,
                  -1.627766,
                  53.30637,
                  -1.5992771
                ],
                [
                  "E5",
                  "CP3",
                  53.29749,
                  -1.6323686,
                  53.30637,
                  -1.5992771
                ],
                [
                  "E6",
                  "CP3",
                  53.281303,
                  -1.6310076,
                  53.30637,
                  -1.5992771
                ],
                [
                  "E7U",
                  "CP3",
                  53.27853,
                  -1.607036,
                  53.30637,
                  -1.5992771
                ],
                [
                  "E8",
                  "CP3",
                  53.266933,
                  -1.6341299,
                  53.30637,
                  -1.5992771
                ],
                [
                  "E9U",
                  "CP3",
                  53.310913,
                  -1.6142431,
                  53.30637,
                  -1.5992771
                ],
                [
                  "Finish",
                  "CP3",
                  53.323578,
                  -1.6396511,
                  53.30637,
                  -1.5992771
                ],
                [
                  "Start",
                  "CP3",
                  53.297432,
                  -1.6143645,
                  53.30637,
                  -1.5992771
                ],
                [
                  "CP1",
                  "CP4",
                  53.31724,
                  -1.6246936,
                  53.26865,
                  -1.6086259
                ],
                [
                  "CP2",
                  "CP4",
                  53.317173,
                  -1.6036792,
                  53.26865,
                  -1.6086259
                ],
                [
                  "CP3",
                  "CP4",
                  53.30637,
                  -1.5992771,
                  53.26865,
                  -1.6086259
                ],
                [
                  "CP5",
                  "CP4",
                  53.293858,
                  -1.6203977,
                  53.26865,
                  -1.6086259
                ],
                [
                  "CP6",
                  "CP4",
                  53.303757,
                  -1.6248118,
                  53.26865,
                  -1.6086259
                ],
                [
                  "CP7",
                  "CP4",
                  53.31726,
                  -1.6306977,
                  53.26865,
                  -1.6086259
                ],
                [
                  "E1",
                  "CP4",
                  53.32263,
                  -1.6246463,
                  53.26865,
                  -1.6086259
                ],
                [
                  "E10U",
                  "CP4",
                  53.331615,
                  -1.623066,
                  53.26865,
                  -1.6086259
                ],
                [
                  "E2R",
                  "CP4",
                  53.32881,
                  -1.5900581,
                  53.26865,
                  -1.6086259
                ],
                [
                  "E3",
                  "CP4",
                  53.322712,
                  -1.6501671,
                  53.26865,
                  -1.6086259
                ],
                [
                  "E4R",
                  "CP4",
                  53.30916,
                  -1.627766,
                  53.26865,
                  -1.6086259
                ],
                [
                  "E5",
                  "CP4",
                  53.29749,
                  -1.6323686,
                  53.26865,
                  -1.6086259
                ],
                [
                  "E6",
                  "CP4",
                  53.281303,
                  -1.6310076,
                  53.26865,
                  -1.6086259
                ],
                [
                  "E7U",
                  "CP4",
                  53.27853,
                  -1.607036,
                  53.26865,
                  -1.6086259
                ],
                [
                  "E8",
                  "CP4",
                  53.266933,
                  -1.6341299,
                  53.26865,
                  -1.6086259
                ],
                [
                  "E9U",
                  "CP4",
                  53.310913,
                  -1.6142431,
                  53.26865,
                  -1.6086259
                ],
                [
                  "Finish",
                  "CP4",
                  53.323578,
                  -1.6396511,
                  53.26865,
                  -1.6086259
                ],
                [
                  "Start",
                  "CP4",
                  53.297432,
                  -1.6143645,
                  53.26865,
                  -1.6086259
                ],
                [
                  "CP1",
                  "CP5",
                  53.31724,
                  -1.6246936,
                  53.293858,
                  -1.6203977
                ],
                [
                  "CP2",
                  "CP5",
                  53.317173,
                  -1.6036792,
                  53.293858,
                  -1.6203977
                ],
                [
                  "CP3",
                  "CP5",
                  53.30637,
                  -1.5992771,
                  53.293858,
                  -1.6203977
                ],
                [
                  "CP4",
                  "CP5",
                  53.26865,
                  -1.6086259,
                  53.293858,
                  -1.6203977
                ],
                [
                  "CP6",
                  "CP5",
                  53.303757,
                  -1.6248118,
                  53.293858,
                  -1.6203977
                ],
                [
                  "CP7",
                  "CP5",
                  53.31726,
                  -1.6306977,
                  53.293858,
                  -1.6203977
                ],
                [
                  "E1",
                  "CP5",
                  53.32263,
                  -1.6246463,
                  53.293858,
                  -1.6203977
                ],
                [
                  "E10U",
                  "CP5",
                  53.331615,
                  -1.623066,
                  53.293858,
                  -1.6203977
                ],
                [
                  "E2R",
                  "CP5",
                  53.32881,
                  -1.5900581,
                  53.293858,
                  -1.6203977
                ],
                [
                  "E3",
                  "CP5",
                  53.322712,
                  -1.6501671,
                  53.293858,
                  -1.6203977
                ],
                [
                  "E4R",
                  "CP5",
                  53.30916,
                  -1.627766,
                  53.293858,
                  -1.6203977
                ],
                [
                  "E5",
                  "CP5",
                  53.29749,
                  -1.6323686,
                  53.293858,
                  -1.6203977
                ],
                [
                  "E6",
                  "CP5",
                  53.281303,
                  -1.6310076,
                  53.293858,
                  -1.6203977
                ],
                [
                  "E7U",
                  "CP5",
                  53.27853,
                  -1.607036,
                  53.293858,
                  -1.6203977
                ],
                [
                  "E8",
                  "CP5",
                  53.266933,
                  -1.6341299,
                  53.293858,
                  -1.6203977
                ],
                [
                  "E9U",
                  "CP5",
                  53.310913,
                  -1.6142431,
                  53.293858,
                  -1.6203977
                ],
                [
                  "Finish",
                  "CP5",
                  53.323578,
                  -1.6396511,
                  53.293858,
                  -1.6203977
                ],
                [
                  "Start",
                  "CP5",
                  53.297432,
                  -1.6143645,
                  53.293858,
                  -1.6203977
                ],
                [
                  "CP1",
                  "CP6",
                  53.31724,
                  -1.6246936,
                  53.303757,
                  -1.6248118
                ],
                [
                  "CP2",
                  "CP6",
                  53.317173,
                  -1.6036792,
                  53.303757,
                  -1.6248118
                ],
                [
                  "CP3",
                  "CP6",
                  53.30637,
                  -1.5992771,
                  53.303757,
                  -1.6248118
                ],
                [
                  "CP4",
                  "CP6",
                  53.26865,
                  -1.6086259,
                  53.303757,
                  -1.6248118
                ],
                [
                  "CP5",
                  "CP6",
                  53.293858,
                  -1.6203977,
                  53.303757,
                  -1.6248118
                ],
                [
                  "CP7",
                  "CP6",
                  53.31726,
                  -1.6306977,
                  53.303757,
                  -1.6248118
                ],
                [
                  "E1",
                  "CP6",
                  53.32263,
                  -1.6246463,
                  53.303757,
                  -1.6248118
                ],
                [
                  "E10U",
                  "CP6",
                  53.331615,
                  -1.623066,
                  53.303757,
                  -1.6248118
                ],
                [
                  "E2R",
                  "CP6",
                  53.32881,
                  -1.5900581,
                  53.303757,
                  -1.6248118
                ],
                [
                  "E3",
                  "CP6",
                  53.322712,
                  -1.6501671,
                  53.303757,
                  -1.6248118
                ],
                [
                  "E4R",
                  "CP6",
                  53.30916,
                  -1.627766,
                  53.303757,
                  -1.6248118
                ],
                [
                  "E5",
                  "CP6",
                  53.29749,
                  -1.6323686,
                  53.303757,
                  -1.6248118
                ],
                [
                  "E6",
                  "CP6",
                  53.281303,
                  -1.6310076,
                  53.303757,
                  -1.6248118
                ],
                [
                  "E7U",
                  "CP6",
                  53.27853,
                  -1.607036,
                  53.303757,
                  -1.6248118
                ],
                [
                  "E8",
                  "CP6",
                  53.266933,
                  -1.6341299,
                  53.303757,
                  -1.6248118
                ],
                [
                  "E9U",
                  "CP6",
                  53.310913,
                  -1.6142431,
                  53.303757,
                  -1.6248118
                ],
                [
                  "Finish",
                  "CP6",
                  53.323578,
                  -1.6396511,
                  53.303757,
                  -1.6248118
                ],
                [
                  "Start",
                  "CP6",
                  53.297432,
                  -1.6143645,
                  53.303757,
                  -1.6248118
                ],
                [
                  "CP1",
                  "CP7",
                  53.31724,
                  -1.6246936,
                  53.31726,
                  -1.6306977
                ],
                [
                  "CP2",
                  "CP7",
                  53.317173,
                  -1.6036792,
                  53.31726,
                  -1.6306977
                ],
                [
                  "CP3",
                  "CP7",
                  53.30637,
                  -1.5992771,
                  53.31726,
                  -1.6306977
                ],
                [
                  "CP4",
                  "CP7",
                  53.26865,
                  -1.6086259,
                  53.31726,
                  -1.6306977
                ],
                [
                  "CP5",
                  "CP7",
                  53.293858,
                  -1.6203977,
                  53.31726,
                  -1.6306977
                ],
                [
                  "CP6",
                  "CP7",
                  53.303757,
                  -1.6248118,
                  53.31726,
                  -1.6306977
                ],
                [
                  "E1",
                  "CP7",
                  53.32263,
                  -1.6246463,
                  53.31726,
                  -1.6306977
                ],
                [
                  "E10U",
                  "CP7",
                  53.331615,
                  -1.623066,
                  53.31726,
                  -1.6306977
                ],
                [
                  "E2R",
                  "CP7",
                  53.32881,
                  -1.5900581,
                  53.31726,
                  -1.6306977
                ],
                [
                  "E3",
                  "CP7",
                  53.322712,
                  -1.6501671,
                  53.31726,
                  -1.6306977
                ],
                [
                  "E4R",
                  "CP7",
                  53.30916,
                  -1.627766,
                  53.31726,
                  -1.6306977
                ],
                [
                  "E5",
                  "CP7",
                  53.29749,
                  -1.6323686,
                  53.31726,
                  -1.6306977
                ],
                [
                  "E6",
                  "CP7",
                  53.281303,
                  -1.6310076,
                  53.31726,
                  -1.6306977
                ],
                [
                  "E7U",
                  "CP7",
                  53.27853,
                  -1.607036,
                  53.31726,
                  -1.6306977
                ],
                [
                  "E8",
                  "CP7",
                  53.266933,
                  -1.6341299,
                  53.31726,
                  -1.6306977
                ],
                [
                  "E9U",
                  "CP7",
                  53.310913,
                  -1.6142431,
                  53.31726,
                  -1.6306977
                ],
                [
                  "Finish",
                  "CP7",
                  53.323578,
                  -1.6396511,
                  53.31726,
                  -1.6306977
                ],
                [
                  "Start",
                  "CP7",
                  53.297432,
                  -1.6143645,
                  53.31726,
                  -1.6306977
                ],
                [
                  "CP1",
                  "E1",
                  53.31724,
                  -1.6246936,
                  53.32263,
                  -1.6246463
                ],
                [
                  "CP2",
                  "E1",
                  53.317173,
                  -1.6036792,
                  53.32263,
                  -1.6246463
                ],
                [
                  "CP3",
                  "E1",
                  53.30637,
                  -1.5992771,
                  53.32263,
                  -1.6246463
                ],
                [
                  "CP4",
                  "E1",
                  53.26865,
                  -1.6086259,
                  53.32263,
                  -1.6246463
                ],
                [
                  "CP5",
                  "E1",
                  53.293858,
                  -1.6203977,
                  53.32263,
                  -1.6246463
                ],
                [
                  "CP6",
                  "E1",
                  53.303757,
                  -1.6248118,
                  53.32263,
                  -1.6246463
                ],
                [
                  "CP7",
                  "E1",
                  53.31726,
                  -1.6306977,
                  53.32263,
                  -1.6246463
                ],
                [
                  "E10U",
                  "E1",
                  53.331615,
                  -1.623066,
                  53.32263,
                  -1.6246463
                ],
                [
                  "E2R",
                  "E1",
                  53.32881,
                  -1.5900581,
                  53.32263,
                  -1.6246463
                ],
                [
                  "E3",
                  "E1",
                  53.322712,
                  -1.6501671,
                  53.32263,
                  -1.6246463
                ],
                [
                  "E4R",
                  "E1",
                  53.30916,
                  -1.627766,
                  53.32263,
                  -1.6246463
                ],
                [
                  "E5",
                  "E1",
                  53.29749,
                  -1.6323686,
                  53.32263,
                  -1.6246463
                ],
                [
                  "E6",
                  "E1",
                  53.281303,
                  -1.6310076,
                  53.32263,
                  -1.6246463
                ],
                [
                  "E7U",
                  "E1",
                  53.27853,
                  -1.607036,
                  53.32263,
                  -1.6246463
                ],
                [
                  "E8",
                  "E1",
                  53.266933,
                  -1.6341299,
                  53.32263,
                  -1.6246463
                ],
                [
                  "E9U",
                  "E1",
                  53.310913,
                  -1.6142431,
                  53.32263,
                  -1.6246463
                ],
                [
                  "Finish",
                  "E1",
                  53.323578,
                  -1.6396511,
                  53.32263,
                  -1.6246463
                ],
                [
                  "Start",
                  "E1",
                  53.297432,
                  -1.6143645,
                  53.32263,
                  -1.6246463
                ],
                [
                  "CP1",
                  "E10U",
                  53.31724,
                  -1.6246936,
                  53.331615,
                  -1.623066
                ],
                [
                  "CP2",
                  "E10U",
                  53.317173,
                  -1.6036792,
                  53.331615,
                  -1.623066
                ],
                [
                  "CP3",
                  "E10U",
                  53.30637,
                  -1.5992771,
                  53.331615,
                  -1.623066
                ],
                [
                  "CP4",
                  "E10U",
                  53.26865,
                  -1.6086259,
                  53.331615,
                  -1.623066
                ],
                [
                  "CP5",
                  "E10U",
                  53.293858,
                  -1.6203977,
                  53.331615,
                  -1.623066
                ],
                [
                  "CP6",
                  "E10U",
                  53.303757,
                  -1.6248118,
                  53.331615,
                  -1.623066
                ],
                [
                  "CP7",
                  "E10U",
                  53.31726,
                  -1.6306977,
                  53.331615,
                  -1.623066
                ],
                [
                  "E1",
                  "E10U",
                  53.32263,
                  -1.6246463,
                  53.331615,
                  -1.623066
                ],
                [
                  "E2R",
                  "E10U",
                  53.32881,
                  -1.5900581,
                  53.331615,
                  -1.623066
                ],
                [
                  "E3",
                  "E10U",
                  53.322712,
                  -1.6501671,
                  53.331615,
                  -1.623066
                ],
                [
                  "E4R",
                  "E10U",
                  53.30916,
                  -1.627766,
                  53.331615,
                  -1.623066
                ],
                [
                  "E5",
                  "E10U",
                  53.29749,
                  -1.6323686,
                  53.331615,
                  -1.623066
                ],
                [
                  "E6",
                  "E10U",
                  53.281303,
                  -1.6310076,
                  53.331615,
                  -1.623066
                ],
                [
                  "E7U",
                  "E10U",
                  53.27853,
                  -1.607036,
                  53.331615,
                  -1.623066
                ],
                [
                  "E8",
                  "E10U",
                  53.266933,
                  -1.6341299,
                  53.331615,
                  -1.623066
                ],
                [
                  "E9U",
                  "E10U",
                  53.310913,
                  -1.6142431,
                  53.331615,
                  -1.623066
                ],
                [
                  "Finish",
                  "E10U",
                  53.323578,
                  -1.6396511,
                  53.331615,
                  -1.623066
                ],
                [
                  "Start",
                  "E10U",
                  53.297432,
                  -1.6143645,
                  53.331615,
                  -1.623066
                ],
                [
                  "CP1",
                  "E2R",
                  53.31724,
                  -1.6246936,
                  53.32881,
                  -1.5900581
                ],
                [
                  "CP2",
                  "E2R",
                  53.317173,
                  -1.6036792,
                  53.32881,
                  -1.5900581
                ],
                [
                  "CP3",
                  "E2R",
                  53.30637,
                  -1.5992771,
                  53.32881,
                  -1.5900581
                ],
                [
                  "CP4",
                  "E2R",
                  53.26865,
                  -1.6086259,
                  53.32881,
                  -1.5900581
                ],
                [
                  "CP5",
                  "E2R",
                  53.293858,
                  -1.6203977,
                  53.32881,
                  -1.5900581
                ],
                [
                  "CP6",
                  "E2R",
                  53.303757,
                  -1.6248118,
                  53.32881,
                  -1.5900581
                ],
                [
                  "CP7",
                  "E2R",
                  53.31726,
                  -1.6306977,
                  53.32881,
                  -1.5900581
                ],
                [
                  "E1",
                  "E2R",
                  53.32263,
                  -1.6246463,
                  53.32881,
                  -1.5900581
                ],
                [
                  "E10U",
                  "E2R",
                  53.331615,
                  -1.623066,
                  53.32881,
                  -1.5900581
                ],
                [
                  "E3",
                  "E2R",
                  53.322712,
                  -1.6501671,
                  53.32881,
                  -1.5900581
                ],
                [
                  "E4R",
                  "E2R",
                  53.30916,
                  -1.627766,
                  53.32881,
                  -1.5900581
                ],
                [
                  "E5",
                  "E2R",
                  53.29749,
                  -1.6323686,
                  53.32881,
                  -1.5900581
                ],
                [
                  "E6",
                  "E2R",
                  53.281303,
                  -1.6310076,
                  53.32881,
                  -1.5900581
                ],
                [
                  "E7U",
                  "E2R",
                  53.27853,
                  -1.607036,
                  53.32881,
                  -1.5900581
                ],
                [
                  "E8",
                  "E2R",
                  53.266933,
                  -1.6341299,
                  53.32881,
                  -1.5900581
                ],
                [
                  "E9U",
                  "E2R",
                  53.310913,
                  -1.6142431,
                  53.32881,
                  -1.5900581
                ],
                [
                  "Finish",
                  "E2R",
                  53.323578,
                  -1.6396511,
                  53.32881,
                  -1.5900581
                ],
                [
                  "Start",
                  "E2R",
                  53.297432,
                  -1.6143645,
                  53.32881,
                  -1.5900581
                ],
                [
                  "CP1",
                  "E3",
                  53.31724,
                  -1.6246936,
                  53.322712,
                  -1.6501671
                ],
                [
                  "CP2",
                  "E3",
                  53.317173,
                  -1.6036792,
                  53.322712,
                  -1.6501671
                ],
                [
                  "CP3",
                  "E3",
                  53.30637,
                  -1.5992771,
                  53.322712,
                  -1.6501671
                ],
                [
                  "CP4",
                  "E3",
                  53.26865,
                  -1.6086259,
                  53.322712,
                  -1.6501671
                ],
                [
                  "CP5",
                  "E3",
                  53.293858,
                  -1.6203977,
                  53.322712,
                  -1.6501671
                ],
                [
                  "CP6",
                  "E3",
                  53.303757,
                  -1.6248118,
                  53.322712,
                  -1.6501671
                ],
                [
                  "CP7",
                  "E3",
                  53.31726,
                  -1.6306977,
                  53.322712,
                  -1.6501671
                ],
                [
                  "E1",
                  "E3",
                  53.32263,
                  -1.6246463,
                  53.322712,
                  -1.6501671
                ],
                [
                  "E10U",
                  "E3",
                  53.331615,
                  -1.623066,
                  53.322712,
                  -1.6501671
                ],
                [
                  "E2R",
                  "E3",
                  53.32881,
                  -1.5900581,
                  53.322712,
                  -1.6501671
                ],
                [
                  "E4R",
                  "E3",
                  53.30916,
                  -1.627766,
                  53.322712,
                  -1.6501671
                ],
                [
                  "E5",
                  "E3",
                  53.29749,
                  -1.6323686,
                  53.322712,
                  -1.6501671
                ],
                [
                  "E6",
                  "E3",
                  53.281303,
                  -1.6310076,
                  53.322712,
                  -1.6501671
                ],
                [
                  "E7U",
                  "E3",
                  53.27853,
                  -1.607036,
                  53.322712,
                  -1.6501671
                ],
                [
                  "E8",
                  "E3",
                  53.266933,
                  -1.6341299,
                  53.322712,
                  -1.6501671
                ],
                [
                  "E9U",
                  "E3",
                  53.310913,
                  -1.6142431,
                  53.322712,
                  -1.6501671
                ],
                [
                  "Finish",
                  "E3",
                  53.323578,
                  -1.6396511,
                  53.322712,
                  -1.6501671
                ],
                [
                  "Start",
                  "E3",
                  53.297432,
                  -1.6143645,
                  53.322712,
                  -1.6501671
                ],
                [
                  "CP1",
                  "E4R",
                  53.31724,
                  -1.6246936,
                  53.30916,
                  -1.627766
                ],
                [
                  "CP2",
                  "E4R",
                  53.317173,
                  -1.6036792,
                  53.30916,
                  -1.627766
                ],
                [
                  "CP3",
                  "E4R",
                  53.30637,
                  -1.5992771,
                  53.30916,
                  -1.627766
                ],
                [
                  "CP4",
                  "E4R",
                  53.26865,
                  -1.6086259,
                  53.30916,
                  -1.627766
                ],
                [
                  "CP5",
                  "E4R",
                  53.293858,
                  -1.6203977,
                  53.30916,
                  -1.627766
                ],
                [
                  "CP6",
                  "E4R",
                  53.303757,
                  -1.6248118,
                  53.30916,
                  -1.627766
                ],
                [
                  "CP7",
                  "E4R",
                  53.31726,
                  -1.6306977,
                  53.30916,
                  -1.627766
                ],
                [
                  "E1",
                  "E4R",
                  53.32263,
                  -1.6246463,
                  53.30916,
                  -1.627766
                ],
                [
                  "E10U",
                  "E4R",
                  53.331615,
                  -1.623066,
                  53.30916,
                  -1.627766
                ],
                [
                  "E2R",
                  "E4R",
                  53.32881,
                  -1.5900581,
                  53.30916,
                  -1.627766
                ],
                [
                  "E3",
                  "E4R",
                  53.322712,
                  -1.6501671,
                  53.30916,
                  -1.627766
                ],
                [
                  "E5",
                  "E4R",
                  53.29749,
                  -1.6323686,
                  53.30916,
                  -1.627766
                ],
                [
                  "E6",
                  "E4R",
                  53.281303,
                  -1.6310076,
                  53.30916,
                  -1.627766
                ],
                [
                  "E7U",
                  "E4R",
                  53.27853,
                  -1.607036,
                  53.30916,
                  -1.627766
                ],
                [
                  "E8",
                  "E4R",
                  53.266933,
                  -1.6341299,
                  53.30916,
                  -1.627766
                ],
                [
                  "E9U",
                  "E4R",
                  53.310913,
                  -1.6142431,
                  53.30916,
                  -1.627766
                ],
                [
                  "Finish",
                  "E4R",
                  53.323578,
                  -1.6396511,
                  53.30916,
                  -1.627766
                ],
                [
                  "Start",
                  "E4R",
                  53.297432,
                  -1.6143645,
                  53.30916,
                  -1.627766
                ],
                [
                  "CP1",
                  "E5",
                  53.31724,
                  -1.6246936,
                  53.29749,
                  -1.6323686
                ],
                [
                  "CP2",
                  "E5",
                  53.317173,
                  -1.6036792,
                  53.29749,
                  -1.6323686
                ],
                [
                  "CP3",
                  "E5",
                  53.30637,
                  -1.5992771,
                  53.29749,
                  -1.6323686
                ],
                [
                  "CP4",
                  "E5",
                  53.26865,
                  -1.6086259,
                  53.29749,
                  -1.6323686
                ],
                [
                  "CP5",
                  "E5",
                  53.293858,
                  -1.6203977,
                  53.29749,
                  -1.6323686
                ],
                [
                  "CP6",
                  "E5",
                  53.303757,
                  -1.6248118,
                  53.29749,
                  -1.6323686
                ],
                [
                  "CP7",
                  "E5",
                  53.31726,
                  -1.6306977,
                  53.29749,
                  -1.6323686
                ],
                [
                  "E1",
                  "E5",
                  53.32263,
                  -1.6246463,
                  53.29749,
                  -1.6323686
                ],
                [
                  "E10U",
                  "E5",
                  53.331615,
                  -1.623066,
                  53.29749,
                  -1.6323686
                ],
                [
                  "E2R",
                  "E5",
                  53.32881,
                  -1.5900581,
                  53.29749,
                  -1.6323686
                ],
                [
                  "E3",
                  "E5",
                  53.322712,
                  -1.6501671,
                  53.29749,
                  -1.6323686
                ],
                [
                  "E4R",
                  "E5",
                  53.30916,
                  -1.627766,
                  53.29749,
                  -1.6323686
                ],
                [
                  "E6",
                  "E5",
                  53.281303,
                  -1.6310076,
                  53.29749,
                  -1.6323686
                ],
                [
                  "E7U",
                  "E5",
                  53.27853,
                  -1.607036,
                  53.29749,
                  -1.6323686
                ],
                [
                  "E8",
                  "E5",
                  53.266933,
                  -1.6341299,
                  53.29749,
                  -1.6323686
                ],
                [
                  "E9U",
                  "E5",
                  53.310913,
                  -1.6142431,
                  53.29749,
                  -1.6323686
                ],
                [
                  "Finish",
                  "E5",
                  53.323578,
                  -1.6396511,
                  53.29749,
                  -1.6323686
                ],
                [
                  "Start",
                  "E5",
                  53.297432,
                  -1.6143645,
                  53.29749,
                  -1.6323686
                ],
                [
                  "CP1",
                  "E6",
                  53.31724,
                  -1.6246936,
                  53.281303,
                  -1.6310076
                ],
                [
                  "CP2",
                  "E6",
                  53.317173,
                  -1.6036792,
                  53.281303,
                  -1.6310076
                ],
                [
                  "CP3",
                  "E6",
                  53.30637,
                  -1.5992771,
                  53.281303,
                  -1.6310076
                ],
                [
                  "CP4",
                  "E6",
                  53.26865,
                  -1.6086259,
                  53.281303,
                  -1.6310076
                ],
                [
                  "CP5",
                  "E6",
                  53.293858,
                  -1.6203977,
                  53.281303,
                  -1.6310076
                ],
                [
                  "CP6",
                  "E6",
                  53.303757,
                  -1.6248118,
                  53.281303,
                  -1.6310076
                ],
                [
                  "CP7",
                  "E6",
                  53.31726,
                  -1.6306977,
                  53.281303,
                  -1.6310076
                ],
                [
                  "E1",
                  "E6",
                  53.32263,
                  -1.6246463,
                  53.281303,
                  -1.6310076
                ],
                [
                  "E10U",
                  "E6",
                  53.331615,
                  -1.623066,
                  53.281303,
                  -1.6310076
                ],
                [
                  "E2R",
                  "E6",
                  53.32881,
                  -1.5900581,
                  53.281303,
                  -1.6310076
                ],
                [
                  "E3",
                  "E6",
                  53.322712,
                  -1.6501671,
                  53.281303,
                  -1.6310076
                ],
                [
                  "E4R",
                  "E6",
                  53.30916,
                  -1.627766,
                  53.281303,
                  -1.6310076
                ],
                [
                  "E5",
                  "E6",
                  53.29749,
                  -1.6323686,
                  53.281303,
                  -1.6310076
                ],
                [
                  "E7U",
                  "E6",
                  53.27853,
                  -1.607036,
                  53.281303,
                  -1.6310076
                ],
                [
                  "E8",
                  "E6",
                  53.266933,
                  -1.6341299,
                  53.281303,
                  -1.6310076
                ],
                [
                  "E9U",
                  "E6",
                  53.310913,
                  -1.6142431,
                  53.281303,
                  -1.6310076
                ],
                [
                  "Finish",
                  "E6",
                  53.323578,
                  -1.6396511,
                  53.281303,
                  -1.6310076
                ],
                [
                  "Start",
                  "E6",
                  53.297432,
                  -1.6143645,
                  53.281303,
                  -1.6310076
                ],
                [
                  "CP1",
                  "E7U",
                  53.31724,
                  -1.6246936,
                  53.27853,
                  -1.607036
                ],
                [
                  "CP2",
                  "E7U",
                  53.317173,
                  -1.6036792,
                  53.27853,
                  -1.607036
                ],
                [
                  "CP3",
                  "E7U",
                  53.30637,
                  -1.5992771,
                  53.27853,
                  -1.607036
                ],
                [
                  "CP4",
                  "E7U",
                  53.26865,
                  -1.6086259,
                  53.27853,
                  -1.607036
                ],
                [
                  "CP5",
                  "E7U",
                  53.293858,
                  -1.6203977,
                  53.27853,
                  -1.607036
                ],
                [
                  "CP6",
                  "E7U",
                  53.303757,
                  -1.6248118,
                  53.27853,
                  -1.607036
                ],
                [
                  "CP7",
                  "E7U",
                  53.31726,
                  -1.6306977,
                  53.27853,
                  -1.607036
                ],
                [
                  "E1",
                  "E7U",
                  53.32263,
                  -1.6246463,
                  53.27853,
                  -1.607036
                ],
                [
                  "E10U",
                  "E7U",
                  53.331615,
                  -1.623066,
                  53.27853,
                  -1.607036
                ],
                [
                  "E2R",
                  "E7U",
                  53.32881,
                  -1.5900581,
                  53.27853,
                  -1.607036
                ],
                [
                  "E3",
                  "E7U",
                  53.322712,
                  -1.6501671,
                  53.27853,
                  -1.607036
                ],
                [
                  "E4R",
                  "E7U",
                  53.30916,
                  -1.627766,
                  53.27853,
                  -1.607036
                ],
                [
                  "E5",
                  "E7U",
                  53.29749,
                  -1.6323686,
                  53.27853,
                  -1.607036
                ],
                [
                  "E6",
                  "E7U",
                  53.281303,
                  -1.6310076,
                  53.27853,
                  -1.607036
                ],
                [
                  "E8",
                  "E7U",
                  53.266933,
                  -1.6341299,
                  53.27853,
                  -1.607036
                ],
                [
                  "E9U",
                  "E7U",
                  53.310913,
                  -1.6142431,
                  53.27853,
                  -1.607036
                ],
                [
                  "Finish",
                  "E7U",
                  53.323578,
                  -1.6396511,
                  53.27853,
                  -1.607036
                ],
                [
                  "Start",
                  "E7U",
                  53.297432,
                  -1.6143645,
                  53.27853,
                  -1.607036
                ],
                [
                  "CP1",
                  "E8",
                  53.31724,
                  -1.6246936,
                  53.266933,
                  -1.6341299
                ],
                [
                  "CP2",
                  "E8",
                  53.317173,
                  -1.6036792,
                  53.266933,
                  -1.6341299
                ],
                [
                  "CP3",
                  "E8",
                  53.30637,
                  -1.5992771,
                  53.266933,
                  -1.6341299
                ],
                [
                  "CP4",
                  "E8",
                  53.26865,
                  -1.6086259,
                  53.266933,
                  -1.6341299
                ],
                [
                  "CP5",
                  "E8",
                  53.293858,
                  -1.6203977,
                  53.266933,
                  -1.6341299
                ],
                [
                  "CP6",
                  "E8",
                  53.303757,
                  -1.6248118,
                  53.266933,
                  -1.6341299
                ],
                [
                  "CP7",
                  "E8",
                  53.31726,
                  -1.6306977,
                  53.266933,
                  -1.6341299
                ],
                [
                  "E1",
                  "E8",
                  53.32263,
                  -1.6246463,
                  53.266933,
                  -1.6341299
                ],
                [
                  "E10U",
                  "E8",
                  53.331615,
                  -1.623066,
                  53.266933,
                  -1.6341299
                ],
                [
                  "E2R",
                  "E8",
                  53.32881,
                  -1.5900581,
                  53.266933,
                  -1.6341299
                ],
                [
                  "E3",
                  "E8",
                  53.322712,
                  -1.6501671,
                  53.266933,
                  -1.6341299
                ],
                [
                  "E4R",
                  "E8",
                  53.30916,
                  -1.627766,
                  53.266933,
                  -1.6341299
                ],
                [
                  "E5",
                  "E8",
                  53.29749,
                  -1.6323686,
                  53.266933,
                  -1.6341299
                ],
                [
                  "E6",
                  "E8",
                  53.281303,
                  -1.6310076,
                  53.266933,
                  -1.6341299
                ],
                [
                  "E7U",
                  "E8",
                  53.27853,
                  -1.607036,
                  53.266933,
                  -1.6341299
                ],
                [
                  "E9U",
                  "E8",
                  53.310913,
                  -1.6142431,
                  53.266933,
                  -1.6341299
                ],
                [
                  "Finish",
                  "E8",
                  53.323578,
                  -1.6396511,
                  53.266933,
                  -1.6341299
                ],
                [
                  "Start",
                  "E8",
                  53.297432,
                  -1.6143645,
                  53.266933,
                  -1.6341299
                ],
                [
                  "CP1",
                  "E9U",
                  53.31724,
                  -1.6246936,
                  53.310913,
                  -1.6142431
                ],
                [
                  "CP2",
                  "E9U",
                  53.317173,
                  -1.6036792,
                  53.310913,
                  -1.6142431
                ],
                [
                  "CP3",
                  "E9U",
                  53.30637,
                  -1.5992771,
                  53.310913,
                  -1.6142431
                ],
                [
                  "CP4",
                  "E9U",
                  53.26865,
                  -1.6086259,
                  53.310913,
                  -1.6142431
                ],
                [
                  "CP5",
                  "E9U",
                  53.293858,
                  -1.6203977,
                  53.310913,
                  -1.6142431
                ],
                [
                  "CP6",
                  "E9U",
                  53.303757,
                  -1.6248118,
                  53.310913,
                  -1.6142431
                ],
                [
                  "CP7",
                  "E9U",
                  53.31726,
                  -1.6306977,
                  53.310913,
                  -1.6142431
                ],
                [
                  "E1",
                  "E9U",
                  53.32263,
                  -1.6246463,
                  53.310913,
                  -1.6142431
                ],
                [
                  "E10U",
                  "E9U",
                  53.331615,
                  -1.623066,
                  53.310913,
                  -1.6142431
                ],
                [
                  "E2R",
                  "E9U",
                  53.32881,
                  -1.5900581,
                  53.310913,
                  -1.6142431
                ],
                [
                  "E3",
                  "E9U",
                  53.322712,
                  -1.6501671,
                  53.310913,
                  -1.6142431
                ],
                [
                  "E4R",
                  "E9U",
                  53.30916,
                  -1.627766,
                  53.310913,
                  -1.6142431
                ],
                [
                  "E5",
                  "E9U",
                  53.29749,
                  -1.6323686,
                  53.310913,
                  -1.6142431
                ],
                [
                  "E6",
                  "E9U",
                  53.281303,
                  -1.6310076,
                  53.310913,
                  -1.6142431
                ],
                [
                  "E7U",
                  "E9U",
                  53.27853,
                  -1.607036,
                  53.310913,
                  -1.6142431
                ],
                [
                  "E8",
                  "E9U",
                  53.266933,
                  -1.6341299,
                  53.310913,
                  -1.6142431
                ],
                [
                  "Finish",
                  "E9U",
                  53.323578,
                  -1.6396511,
                  53.310913,
                  -1.6142431
                ],
                [
                  "Start",
                  "E9U",
                  53.297432,
                  -1.6143645,
                  53.310913,
                  -1.6142431
                ],
                [
                  "CP1",
                  "Finish",
                  53.31724,
                  -1.6246936,
                  53.323578,
                  -1.6396511
                ],
                [
                  "CP2",
                  "Finish",
                  53.317173,
                  -1.6036792,
                  53.323578,
                  -1.6396511
                ],
                [
                  "CP3",
                  "Finish",
                  53.30637,
                  -1.5992771,
                  53.323578,
                  -1.6396511
                ],
                [
                  "CP4",
                  "Finish",
                  53.26865,
                  -1.6086259,
                  53.323578,
                  -1.6396511
                ],
                [
                  "CP5",
                  "Finish",
                  53.293858,
                  -1.6203977,
                  53.323578,
                  -1.6396511
                ],
                [
                  "CP6",
                  "Finish",
                  53.303757,
                  -1.6248118,
                  53.323578,
                  -1.6396511
                ],
                [
                  "CP7",
                  "Finish",
                  53.31726,
                  -1.6306977,
                  53.323578,
                  -1.6396511
                ],
                [
                  "E1",
                  "Finish",
                  53.32263,
                  -1.6246463,
                  53.323578,
                  -1.6396511
                ],
                [
                  "E10U",
                  "Finish",
                  53.331615,
                  -1.623066,
                  53.323578,
                  -1.6396511
                ],
                [
                  "E2R",
                  "Finish",
                  53.32881,
                  -1.5900581,
                  53.323578,
                  -1.6396511
                ],
                [
                  "E3",
                  "Finish",
                  53.322712,
                  -1.6501671,
                  53.323578,
                  -1.6396511
                ],
                [
                  "E4R",
                  "Finish",
                  53.30916,
                  -1.627766,
                  53.323578,
                  -1.6396511
                ],
                [
                  "E5",
                  "Finish",
                  53.29749,
                  -1.6323686,
                  53.323578,
                  -1.6396511
                ],
                [
                  "E6",
                  "Finish",
                  53.281303,
                  -1.6310076,
                  53.323578,
                  -1.6396511
                ],
                [
                  "E7U",
                  "Finish",
                  53.27853,
                  -1.607036,
                  53.323578,
                  -1.6396511
                ],
                [
                  "E8",
                  "Finish",
                  53.266933,
                  -1.6341299,
                  53.323578,
                  -1.6396511
                ],
                [
                  "E9U",
                  "Finish",
                  53.310913,
                  -1.6142431,
                  53.323578,
                  -1.6396511
                ],
                [
                  "Start",
                  "Finish",
                  53.297432,
                  -1.6143645,
                  53.323578,
                  -1.6396511
                ],
                [
                  "CP1",
                  "Start",
                  53.31724,
                  -1.6246936,
                  53.297432,
                  -1.6143645
                ],
                [
                  "CP2",
                  "Start",
                  53.317173,
                  -1.6036792,
                  53.297432,
                  -1.6143645
                ],
                [
                  "CP3",
                  "Start",
                  53.30637,
                  -1.5992771,
                  53.297432,
                  -1.6143645
                ],
                [
                  "CP4",
                  "Start",
                  53.26865,
                  -1.6086259,
                  53.297432,
                  -1.6143645
                ],
                [
                  "CP5",
                  "Start",
                  53.293858,
                  -1.6203977,
                  53.297432,
                  -1.6143645
                ],
                [
                  "CP6",
                  "Start",
                  53.303757,
                  -1.6248118,
                  53.297432,
                  -1.6143645
                ],
                [
                  "CP7",
                  "Start",
                  53.31726,
                  -1.6306977,
                  53.297432,
                  -1.6143645
                ],
                [
                  "E1",
                  "Start",
                  53.32263,
                  -1.6246463,
                  53.297432,
                  -1.6143645
                ],
                [
                  "E10U",
                  "Start",
                  53.331615,
                  -1.623066,
                  53.297432,
                  -1.6143645
                ],
                [
                  "E2R",
                  "Start",
                  53.32881,
                  -1.5900581,
                  53.297432,
                  -1.6143645
                ],
                [
                  "E3",
                  "Start",
                  53.322712,
                  -1.6501671,
                  53.297432,
                  -1.6143645
                ],
                [
                  "E4R",
                  "Start",
                  53.30916,
                  -1.627766,
                  53.297432,
                  -1.6143645
                ],
                [
                  "E5",
                  "Start",
                  53.29749,
                  -1.6323686,
                  53.297432,
                  -1.6143645
                ],
                [
                  "E6",
                  "Start",
                  53.281303,
                  -1.6310076,
                  53.297432,
                  -1.6143645
                ],
                [
                  "E7U",
                  "Start",
                  53.27853,
                  -1.607036,
                  53.297432,
                  -1.6143645
                ],
                [
                  "E8",
                  "Start",
                  53.266933,
                  -1.6341299,
                  53.297432,
                  -1.6143645
                ],
                [
                  "E9U",
                  "Start",
                  53.310913,
                  -1.6142431,
                  53.297432,
                  -1.6143645
                ],
                [
                  "Finish",
                  "Start",
                  53.323578,
                  -1.6396511,
                  53.297432,
                  -1.6143645
                ]
              ],
              "datasetInfos": [],
              "dbfsResultPath": null,
              "isJsonSchema": true,
              "metadata": {},
              "overflow": false,
              "plotOptions": {
                "customPlotOptions": {},
                "displayType": "table",
                "pivotAggregation": null,
                "pivotColumns": null,
                "xColumns": null,
                "yColumns": null
              },
              "removedWidgets": [],
              "schema": [
                {
                  "metadata": "{}",
                  "name": "StartCP",
                  "type": "\"string\""
                },
                {
                  "metadata": "{}",
                  "name": "FinishCP",
                  "type": "\"string\""
                },
                {
                  "metadata": "{}",
                  "name": "StartLatitude",
                  "type": "\"float\""
                },
                {
                  "metadata": "{}",
                  "name": "StartLongitude",
                  "type": "\"float\""
                },
                {
                  "metadata": "{}",
                  "name": "FinishLatitude",
                  "type": "\"float\""
                },
                {
                  "metadata": "{}",
                  "name": "FinishLongitude",
                  "type": "\"float\""
                }
              ],
              "type": "table"
            }
          }
        }
      ],
      "source": [
        "# So this isn't the best way to do this, i realise, but it is reused code from another part of the project and doesn't take too long so we may as well just get every combination and run it through the api\n",
        "\n",
        "StartCPs = openings_df.select(\"CP\").withColumnRenamed(\"CP\",\"StartCP\")\n",
        "FinishCPs = openings_df.select(\"CP\").withColumnRenamed(\"CP\",\"FinishCP\")\n",
        "CP_Combinations_DF = StartCPs.crossJoin(FinishCPs)\n",
        "\n",
        "StartCPs.unpersist\n",
        "FinishCPs.unpersist\n",
        "\n",
        "CP_Combinations_DF = CP_Combinations_DF.alias(\"df\").join(openings_df.select(\"CP\", \"Latitude\", \"Longitude\").withColumnRenamed('Latitude','StartLatitude').withColumnRenamed('Longitude','StartLongitude'), CP_Combinations_DF.StartCP == openings_df.CP).drop(\"CP\")\n",
        "\n",
        "CP_Combinations_DF = CP_Combinations_DF.alias(\"df\").join(openings_df.select(\"CP\", \"Latitude\", \"Longitude\").withColumnRenamed('Latitude','FinishLatitude').withColumnRenamed('Longitude','FinishLongitude'), CP_Combinations_DF.FinishCP == openings_df.CP).drop(\"CP\")\n",
        "\n",
        "CP_Combinations_DF = CP_Combinations_DF.filter(CP_Combinations_DF.StartCP != CP_Combinations_DF.FinishCP)\n",
        "display(CP_Combinations_DF)"
      ]
    },
    {
      "cell_type": "markdown",
      "source": [
        "### Fetch Distances & Elevations from Google Maps API <a class=\"anchor\" id=\"D&E-Google\"></a>"
      ],
      "metadata": {
        "id": "gDmfNLF2ahSL"
      }
    },
    {
      "cell_type": "code",
      "execution_count": null,
      "metadata": {
        "application/vnd.databricks.v1+cell": {
          "cellMetadata": {
            "byteLimit": 2048000,
            "rowLimit": 10000
          },
          "inputWidgets": {},
          "nuid": "30283d9b-8cc2-48c9-add1-6d46f231ec1c",
          "showTitle": true,
          "tableResultSettingsMap": {},
          "title": "Google distances & elevations"
        },
        "id": "CijR4BV7ZOjp",
        "outputId": "233e7bb8-c44a-4ea6-e2b1-18204daa1db9"
      },
      "outputs": [
        {
          "output_type": "stream",
          "name": "stdout",
          "text": [
            "Skipping Google Maps Cell, selected service: Bing Maps\n"
          ]
        }
      ],
      "source": [
        "if API_Service == \"Google Maps\":\n",
        "\n",
        "  CP_Combinations_List = CP_Combinations_DF.collect()\n",
        "\n",
        "  Distances_DF = spark.createDataFrame(\n",
        "      [(1, 1.0, 1.0, 1)],\n",
        "      schema='StartCP string, FinishCP string, Distance float, Height_Gain int'\n",
        "  )\n",
        "  Distances_DF = Distances_DF.filter(\"1!=1\")\n",
        "\n",
        "  def make_request(method, url, **kwargs):\n",
        "      \"\"\"Helper function to handle API requests with 429 retry logic.\"\"\"\n",
        "      while True:\n",
        "          response = requests.request(method, url, **kwargs)\n",
        "          if response.status_code == 429:\n",
        "              print(\"Rate limit exceeded (429). Waiting 60 seconds before retrying...\")\n",
        "              time.sleep(60)\n",
        "          else:\n",
        "              return response  # Return response if successful\n",
        "\n",
        "  for row in CP_Combinations_List:\n",
        "      wp1 = f\"{row.StartLongitude},{row.StartLatitude}\"\n",
        "      wp2 = f\"{row.FinishLongitude},{row.FinishLatitude}\"\n",
        "\n",
        "      # Route API Call with Retry Handling\n",
        "      route_url = \"https://routes.googleapis.com/directions/v2:computeRoutes\"\n",
        "      route_params = {\n",
        "    \"origin\":{\n",
        "      \"location\":{\n",
        "        \"latLng\":{\n",
        "          \"latitude\": row.StartLatitude,\n",
        "          \"longitude\": row.StartLongitude\n",
        "        }\n",
        "      }\n",
        "    },\n",
        "    \"destination\":{\n",
        "      \"location\":{\n",
        "        \"latLng\":{\n",
        "          \"latitude\": row.FinishLatitude,\n",
        "          \"longitude\": row.FinishLongitude\n",
        "        }\n",
        "      }\n",
        "    },\n",
        "    \"travelMode\": \"WALK\",\n",
        "    \"languageCode\": \"en-GB\",\n",
        "    \"units\": \"METRIC\"\n",
        "  }\n",
        "      route_headers = {\n",
        "          \"X-Goog-Api-Key\": GoogleMapsAPIKey,\n",
        "          \"X-Goog-FieldMask\": \"routes.duration,routes.distanceMeters,routes.polyline,routes.legs\"\n",
        "      }\n",
        "\n",
        "      route_resp = make_request(\"POST\", route_url, headers=route_headers, json=route_params)\n",
        "      route_json_resp = route_resp.json()\n",
        "\n",
        "      travel_distance = float(route_json_resp[\"routes\"][0][\"legs\"][0][\"distanceMeters\"]) / 1000\n",
        "      StartCP, FinishCP = row[\"StartCP\"], row[\"FinishCP\"]\n",
        "\n",
        "      # Prepare height points for elevation request\n",
        "      height_polyline = route_json_resp[\"routes\"][0][\"polyline\"][\"encodedPolyline\"]\n",
        "\n",
        "\n",
        "      # Elevation API Call with Retry Handling\n",
        "      elevations_url = \"https://maps.googleapis.com/maps/api/elevation/json\"\n",
        "      elevations_params = {\n",
        "          \"path\": \"enc:\"+height_polyline,\n",
        "          \"samples\": 100,\n",
        "          \"key\": GoogleMapsAPIKey\n",
        "      }\n",
        "\n",
        "      elevations_resp = make_request(\"GET\", elevations_url, params=elevations_params)\n",
        "      elevation_json_resp = elevations_resp.json()\n",
        "      elevations = [point[\"elevation\"] for point in elevation_json_resp[\"results\"]]\n",
        "      differences = [builtins.max(0, elevations[i+1] - elevations[i]) for i in range(len(elevations)-1)]\n",
        "      height_gain = float(sum(differences))\n",
        "\n",
        "      # Append to Spark DataFrame\n",
        "      df = spark.createDataFrame(\n",
        "          [(StartCP, FinishCP, travel_distance, height_gain)],\n",
        "          'StartCP string, FinishCP string, Distance float, Height_Gain float'\n",
        "      )\n",
        "      Distances_DF = Distances_DF.union(df)\n",
        "\n",
        "  #   time.sleep(2.0)  # Keep a delay between requests to reduce rate limits\n",
        "\n",
        "  display(Distances_DF)\n",
        "\n",
        "else:\n",
        "    print(f\"Skipping Google Maps Cell, selected service: {API_Service}\")"
      ]
    },
    {
      "cell_type": "markdown",
      "source": [
        "### Fetch Distances & Elevations from Azure Maps and OpenTopoData APIs"
      ],
      "metadata": {
        "id": "Nm5X7PahDxOP"
      }
    },
    {
      "cell_type": "code",
      "source": [
        "# Takes ~17 minutes due to OpenTopoData API limits 1 per second\n",
        "if API_Service == \"Azure Maps & OpenTopoData\":\n",
        "\n",
        "    CP_Combinations_List = CP_Combinations_DF.collect()\n",
        "\n",
        "    Distances_DF = spark.createDataFrame(\n",
        "        [(1, 1.0, 1.0, 1)],\n",
        "        schema='StartCP string, FinishCP string, Distance float, Height_Gain int'\n",
        "    )\n",
        "    Distances_DF = Distances_DF.filter(\"1!=1\")\n",
        "\n",
        "    MAX_LOCATIONS = 100  # OpenTopoData API limit\n",
        "\n",
        "    for row in CP_Combinations_List:\n",
        "        wp1 = f\"{row.StartLatitude},{row.StartLongitude}\"\n",
        "        wp2 = f\"{row.FinishLatitude},{row.FinishLongitude}\"\n",
        "\n",
        "        # Azure Maps Routing API\n",
        "        route_url = \"https://atlas.microsoft.com/route/directions/json\"\n",
        "        route_params = {\n",
        "            \"subscription-key\": AzureMapsAPIKey,\n",
        "            \"api-version\": \"1.0\",\n",
        "            \"query\": f\"{wp1}:{wp2}\",\n",
        "            \"travelMode\": \"pedestrian\",\n",
        "            \"routeType\": \"shortest\",\n",
        "            \"traffic\": \"false\",\n",
        "            \"computeBestOrder\": \"false\",\n",
        "            \"computeTravelTimeFor\": \"all\",\n",
        "        }\n",
        "        route_resp = requests.get(route_url, params=route_params)\n",
        "        route_json_resp = json.loads(route_resp.text)\n",
        "\n",
        "        travel_distance = float(route_json_resp['routes'][0]['summary']['lengthInMeters']) / 1000  # Convert meters to km\n",
        "        StartCP = row[\"StartCP\"]\n",
        "        FinishCP = row[\"FinishCP\"]\n",
        "\n",
        "        # Extract route coordinates\n",
        "        height_points = route_json_resp['routes'][0]['legs'][0]['points']\n",
        "        coordinates = [f\"{pt['latitude']},{pt['longitude']}\" for pt in height_points]\n",
        "\n",
        "        # Batch coordinates into chunks of 100\n",
        "        elevation_results = []\n",
        "        for i in range(0, len(coordinates), MAX_LOCATIONS):\n",
        "            chunk = \"|\".join(coordinates[i:i + MAX_LOCATIONS])  # Format chunk\n",
        "\n",
        "            # OpenTopoData API call\n",
        "            opentopo_url = \"https://api.opentopodata.org/v1/eudem25m\"  # Example dataset\n",
        "            opentopo_params = {\"locations\": chunk}\n",
        "            elevations_resp = requests.get(opentopo_url, params=opentopo_params)\n",
        "            elevations_json_resp = json.loads(elevations_resp.text)\n",
        "\n",
        "            # Extract elevations\n",
        "            if 'results' in elevations_json_resp:\n",
        "                elevation_results.extend([result['elevation'] for result in elevations_json_resp['results']])\n",
        "\n",
        "            time.sleep(1)\n",
        "\n",
        "        # Calculate height gain\n",
        "        differences = [max(0, elevation_results[i+1] - elevation_results[i]) for i in range(len(elevation_results)-1)]\n",
        "        height_gain = float(sum(differences))\n",
        "\n",
        "        df = spark.createDataFrame(\n",
        "            [(StartCP, FinishCP, travel_distance, height_gain)],\n",
        "            'StartCP string, FinishCP string, Distance float, Height_Gain float'\n",
        "        )\n",
        "        Distances_DF = Distances_DF.union(df)\n",
        "\n",
        "    display(Distances_DF)\n",
        "\n",
        "else:\n",
        "    print(f\"Skipping Azure Maps Cell, selected service: {API_Service}\")\n"
      ],
      "metadata": {
        "id": "-99WdniFDwHp"
      },
      "execution_count": null,
      "outputs": []
    },
    {
      "cell_type": "markdown",
      "source": [
        "### Fetch Distances & Elevations from OpenRouteService API <a class=\"anchor\" id=\"D&E-ORS\"></a>"
      ],
      "metadata": {
        "id": "hEiYF_NZa0DX"
      }
    },
    {
      "cell_type": "code",
      "execution_count": null,
      "metadata": {
        "application/vnd.databricks.v1+cell": {
          "cellMetadata": {
            "byteLimit": 2048000,
            "rowLimit": 10000
          },
          "inputWidgets": {},
          "nuid": "db3c134e-3e16-4d50-bc85-5faa2b84dac8",
          "showTitle": true,
          "tableResultSettingsMap": {},
          "title": "OpenRouteService distances and elevations"
        },
        "id": "IBg4evZ5ZOjq",
        "outputId": "413f3c90-65ba-4db1-b3c3-a35cf41469ed"
      },
      "outputs": [
        {
          "output_type": "stream",
          "name": "stdout",
          "text": [
            "Skipping OpenRouteService Cell, selected service: Bing Maps\n"
          ]
        }
      ],
      "source": [
        "if API_Service == \"OpenRouteService\":\n",
        "\n",
        "    CP_Combinations_List = CP_Combinations_DF.collect()\n",
        "\n",
        "    Distances_DF = spark.createDataFrame(\n",
        "        [(1, 1.0, 1.0, 1)],\n",
        "        schema='StartCP string, FinishCP string, Distance float, Height_Gain int'\n",
        "    )\n",
        "    Distances_DF = Distances_DF.filter(\"1!=1\")\n",
        "\n",
        "    def make_request(method, url, **kwargs):\n",
        "        \"\"\"Helper function to handle API requests with 429 retry logic.\"\"\"\n",
        "        while True:\n",
        "            response = requests.request(method, url, **kwargs)\n",
        "            if response.status_code == 429:\n",
        "                print(\"Rate limit exceeded (429). Waiting 60 seconds before retrying...\")\n",
        "                time.sleep(60)\n",
        "            else:\n",
        "                return response  # Return response if successful\n",
        "\n",
        "    for row in CP_Combinations_List:\n",
        "        wp1 = f\"{row.StartLongitude},{row.StartLatitude}\"\n",
        "        wp2 = f\"{row.FinishLongitude},{row.FinishLatitude}\"\n",
        "\n",
        "        # Route API Call with Retry Handling\n",
        "        route_url = \"https://api.openrouteservice.org/v2/directions/foot-hiking\"\n",
        "        route_params = {\n",
        "            \"start\": wp1,\n",
        "            \"end\": wp2,\n",
        "            \"api_key\": OpenRouteServiceAPIKey\n",
        "        }\n",
        "        route_resp = make_request(\"GET\", route_url, params=route_params)\n",
        "        route_json_resp = route_resp.json()\n",
        "\n",
        "        travel_distance = float(route_json_resp[\"features\"][0][\"properties\"][\"summary\"][\"distance\"]) / 1000\n",
        "        StartCP, FinishCP = row[\"StartCP\"], row[\"FinishCP\"]\n",
        "\n",
        "        # Prepare height points for elevation request\n",
        "        height_points = route_json_resp[\"features\"][0][\"geometry\"][\"coordinates\"]\n",
        "        flattened_height_points = \",\".join([f\"{lon},{lat}\" for lon, lat in height_points])\n",
        "\n",
        "        # Elevation API Call with Retry Handling\n",
        "        elevations_url = \"https://api.openrouteservice.org/elevation/line\"\n",
        "        elevations_params = {\n",
        "            \"format_in\": \"polyline\",\n",
        "            \"format_out\": \"polyline\",\n",
        "            \"dataset\": \"srtm\",\n",
        "            \"geometry\": height_points\n",
        "        }\n",
        "        elevations_headers = {\n",
        "            \"Authorization\": OpenRouteServiceAPIKey,\n",
        "            \"Content-Type\": \"application/json\"\n",
        "        }\n",
        "        elevations_resp = make_request(\"POST\", elevations_url, headers=elevations_headers, json=elevations_params)\n",
        "        elevation_json_resp = elevations_resp.json()\n",
        "        elevation_coordinates = elevation_json_resp[\"geometry\"]\n",
        "        elevations = [elev for _, _, elev in elevation_coordinates]\n",
        "        differences = [builtins.max(0, elevations[i+1] - elevations[i]) for i in range(len(elevations)-1)]\n",
        "        height_gain = sum(differences)\n",
        "\n",
        "        # Append to Spark DataFrame\n",
        "        df = spark.createDataFrame(\n",
        "            [(StartCP, FinishCP, travel_distance, height_gain)],\n",
        "            'StartCP string, FinishCP string, Distance float, Height_Gain float'\n",
        "        )\n",
        "        Distances_DF = Distances_DF.union(df)\n",
        "\n",
        "        time.sleep(2.0)  # Keep a delay between requests to reduce rate limits\n",
        "\n",
        "    display(Distances_DF)\n",
        "\n",
        "else:\n",
        "    print(f\"Skipping OpenRouteService Cell, selected service: {API_Service}\")"
      ]
    },
    {
      "cell_type": "markdown",
      "source": [
        "### Fetch Distances & Elevations from Bing Maps API <a class=\"anchor\" id=\"D&E-bing\"></a>"
      ],
      "metadata": {
        "id": "KTNhw6YTa5I2"
      }
    },
    {
      "cell_type": "code",
      "execution_count": null,
      "metadata": {
        "application/vnd.databricks.v1+cell": {
          "cellMetadata": {
            "byteLimit": 2048000,
            "rowLimit": 10000
          },
          "inputWidgets": {},
          "nuid": "157932ad-5f46-409f-b9cb-08e5a8f8b199",
          "showTitle": true,
          "tableResultSettingsMap": {},
          "title": "bing maps distnaces and elevations"
        },
        "id": "G4qfCSi8ZOjq",
        "outputId": "dba55492-beba-475f-ab35-8854bdbba8ea"
      },
      "outputs": [
        {
          "output_type": "display_data",
          "data": {
            "text/html": [
              "<style scoped>\n",
              "  .table-result-container {\n",
              "    max-height: 300px;\n",
              "    overflow: auto;\n",
              "  }\n",
              "  table, th, td {\n",
              "    border: 1px solid black;\n",
              "    border-collapse: collapse;\n",
              "  }\n",
              "  th, td {\n",
              "    padding: 5px;\n",
              "  }\n",
              "  th {\n",
              "    text-align: left;\n",
              "  }\n",
              "</style><div class='table-result-container'><table class='table-result'><thead style='background-color: white'><tr><th>StartCP</th><th>FinishCP</th><th>Distance</th><th>Height_Gain</th></tr></thead><tbody><tr><td>CP2</td><td>CP1</td><td>1.755</td><td>39</td></tr><tr><td>CP3</td><td>CP1</td><td>2.729</td><td>48</td></tr><tr><td>CP4</td><td>CP1</td><td>6.986</td><td>197</td></tr><tr><td>CP5</td><td>CP1</td><td>3.443</td><td>132</td></tr><tr><td>CP6</td><td>CP1</td><td>2.036</td><td>123</td></tr><tr><td>CP7</td><td>CP1</td><td>0.765</td><td>33</td></tr><tr><td>E1</td><td>CP1</td><td>0.747</td><td>3</td></tr><tr><td>E10U</td><td>CP1</td><td>1.894</td><td>35</td></tr><tr><td>E2R</td><td>CP1</td><td>3.42</td><td>18</td></tr><tr><td>E3</td><td>CP1</td><td>2.678</td><td>212</td></tr><tr><td>E4R</td><td>CP1</td><td>1.315</td><td>65</td></tr><tr><td>E5</td><td>CP1</td><td>2.953</td><td>188</td></tr><tr><td>E6</td><td>CP1</td><td>4.912</td><td>224</td></tr><tr><td>E7U</td><td>CP1</td><td>5.696</td><td>135</td></tr><tr><td>E8</td><td>CP1</td><td>6.911</td><td>275</td></tr><tr><td>E9U</td><td>CP1</td><td>1.459</td><td>47</td></tr><tr><td>Finish</td><td>CP1</td><td>1.556</td><td>111</td></tr><tr><td>Start</td><td>CP1</td><td>3.194</td><td>116</td></tr><tr><td>CP1</td><td>CP2</td><td>1.755</td><td>59</td></tr><tr><td>CP3</td><td>CP2</td><td>1.319</td><td>10</td></tr><tr><td>CP4</td><td>CP2</td><td>6.364</td><td>119</td></tr><tr><td>CP5</td><td>CP2</td><td>3.251</td><td>74</td></tr><tr><td>CP6</td><td>CP2</td><td>2.316</td><td>139</td></tr><tr><td>CP7</td><td>CP2</td><td>2.308</td><td>85</td></tr><tr><td>E1</td><td>CP2</td><td>2.186</td><td>57</td></tr><tr><td>E10U</td><td>CP2</td><td>2.545</td><td>62</td></tr><tr><td>E2R</td><td>CP2</td><td>1.715</td><td>0</td></tr><tr><td>E3</td><td>CP2</td><td>4.36</td><td>227</td></tr><tr><td>E4R</td><td>CP2</td><td>2.203</td><td>108</td></tr><tr><td>E5</td><td>CP2</td><td>3.254</td><td>200</td></tr><tr><td>E6</td><td>CP2</td><td>5.023</td><td>170</td></tr><tr><td>E7U</td><td>CP2</td><td>4.871</td><td>67</td></tr><tr><td>E8</td><td>CP2</td><td>7.022</td><td>221</td></tr><tr><td>E9U</td><td>CP2</td><td>1.117</td><td>43</td></tr><tr><td>Finish</td><td>CP2</td><td>3.238</td><td>126</td></tr><tr><td>Start</td><td>CP2</td><td>2.493</td><td>40</td></tr><tr><td>CP1</td><td>CP3</td><td>2.729</td><td>97</td></tr><tr><td>CP2</td><td>CP3</td><td>1.319</td><td>39</td></tr><tr><td>CP4</td><td>CP3</td><td>5.14</td><td>113</td></tr><tr><td>CP5</td><td>CP3</td><td>2.464</td><td>94</td></tr><tr><td>CP6</td><td>CP3</td><td>1.981</td><td>164</td></tr><tr><td>CP7</td><td>CP3</td><td>3.211</td><td>132</td></tr><tr><td>E1</td><td>CP3</td><td>3.16</td><td>96</td></tr><tr><td>E10U</td><td>CP3</td><td>3.831</td><td>95</td></tr><tr><td>E2R</td><td>CP3</td><td>2.872</td><td>23</td></tr><tr><td>E3</td><td>CP3</td><td>5.136</td><td>274</td></tr><tr><td>E4R</td><td>CP3</td><td>2.425</td><td>136</td></tr><tr><td>E5</td><td>CP3</td><td>2.919</td><td>225</td></tr><tr><td>E6</td><td>CP3</td><td>4.236</td><td>191</td></tr><tr><td>E7U</td><td>CP3</td><td>3.647</td><td>61</td></tr><tr><td>E8</td><td>CP3</td><td>6.235</td><td>242</td></tr><tr><td>E9U</td><td>CP3</td><td>1.269</td><td>72</td></tr><tr><td>Finish</td><td>CP3</td><td>4.212</td><td>164</td></tr><tr><td>Start</td><td>CP3</td><td>1.706</td><td>60</td></tr><tr><td>CP1</td><td>CP4</td><td>6.986</td><td>197</td></tr><tr><td>CP2</td><td>CP4</td><td>6.364</td><td>99</td></tr><tr><td>CP3</td><td>CP4</td><td>5.14</td><td>64</td></tr><tr><td>CP5</td><td>CP4</td><td>3.542</td><td>98</td></tr><tr><td>CP6</td><td>CP4</td><td>5.174</td><td>199</td></tr><tr><td>CP7</td><td>CP4</td><td>6.881</td><td>233</td></tr><tr><td>E1</td><td>CP4</td><td>7.615</td><td>201</td></tr><tr><td>E10U</td><td>CP4</td><td>8.624</td><td>231</td></tr><tr><td>E2R</td><td>CP4</td><td>7.909</td><td>83</td></tr><tr><td>E3</td><td>CP4</td><td>7.892</td><td>269</td></tr><tr><td>E4R</td><td>CP4</td><td>5.875</td><td>223</td></tr><tr><td>E5</td><td>CP4</td><td>4.357</td><td>215</td></tr><tr><td>E6</td><td>CP4</td><td>2.308</td><td>164</td></tr><tr><td>E7U</td><td>CP4</td><td>1.492</td><td>3</td></tr><tr><td>E8</td><td>CP4</td><td>1.828</td><td>186</td></tr><tr><td>E9U</td><td>CP4</td><td>6.04</td><td>168</td></tr><tr><td>Finish</td><td>CP4</td><td>7.621</td><td>229</td></tr><tr><td>Start</td><td>CP4</td><td>4.353</td><td>118</td></tr><tr><td>CP1</td><td>CP5</td><td>3.443</td><td>98</td></tr><tr><td>CP2</td><td>CP5</td><td>3.251</td><td>20</td></tr><tr><td>CP3</td><td>CP5</td><td>2.464</td><td>11</td></tr><tr><td>CP4</td><td>CP5</td><td>3.542</td><td>64</td></tr><tr><td>CP6</td><td>CP5</td><td>1.631</td><td>100</td></tr><tr><td>CP7</td><td>CP5</td><td>3.338</td><td>134</td></tr><tr><td>E1</td><td>CP5</td><td>4.072</td><td>102</td></tr><tr><td>E10U</td><td>CP5</td><td>5.081</td><td>132</td></tr><tr><td>E2R</td><td>CP5</td><td>4.967</td><td>20</td></tr><tr><td>E3</td><td>CP5</td><td>4.918</td><td>205</td></tr><tr><td>E4R</td><td>CP5</td><td>2.332</td><td>125</td></tr><tr><td>E5</td><td>CP5</td><td>1.631</td><td>154</td></tr><tr><td>E6</td><td>CP5</td><td>1.829</td><td>122</td></tr><tr><td>E7U</td><td>CP5</td><td>2.697</td><td>23</td></tr><tr><td>E8</td><td>CP5</td><td>3.828</td><td>173</td></tr><tr><td>E9U</td><td>CP5</td><td>2.497</td><td>69</td></tr><tr><td>Finish</td><td>CP5</td><td>4.253</td><td>142</td></tr><tr><td>Start</td><td>CP5</td><td>0.81</td><td>19</td></tr><tr><td>CP1</td><td>CP6</td><td>2.036</td><td>9</td></tr><tr><td>CP2</td><td>CP6</td><td>2.316</td><td>5</td></tr><tr><td>CP3</td><td>CP6</td><td>1.981</td><td>1</td></tr><tr><td>CP4</td><td>CP6</td><td>5.174</td><td>85</td></tr><tr><td>CP5</td><td>CP6</td><td>1.631</td><td>20</td></tr><tr><td>CP7</td><td>CP6</td><td>1.931</td><td>46</td></tr><tr><td>E1</td><td>CP6</td><td>2.665</td><td>13</td></tr><tr><td>E10U</td><td>CP6</td><td>3.674</td><td>43</td></tr><tr><td>E2R</td><td>CP6</td><td>4.032</td><td>5</td></tr><tr><td>E3</td><td>CP6</td><td>3.511</td><td>116</td></tr><tr><td>E4R</td><td>CP6</td><td>0.925</td><td>37</td></tr><tr><td>E5</td><td>CP6</td><td>0.938</td><td>61</td></tr><tr><td>E6</td><td>CP6</td><td>3.1</td><td>112</td></tr><tr><td>E7U</td><td>CP6</td><td>3.884</td><td>23</td></tr><tr><td>E8</td><td>CP6</td><td>4.997</td><td>161</td></tr><tr><td>E9U</td><td>CP6</td><td>1.241</td><td>4</td></tr><tr><td>Finish</td><td>CP6</td><td>2.846</td><td>53</td></tr><tr><td>Start</td><td>CP6</td><td>1.382</td><td>4</td></tr><tr><td>CP1</td><td>CP7</td><td>0.765</td><td>4</td></tr><tr><td>CP2</td><td>CP7</td><td>2.308</td><td>36</td></tr><tr><td>CP3</td><td>CP7</td><td>3.211</td><td>54</td></tr><tr><td>CP4</td><td>CP7</td><td>6.942</td><td>180</td></tr><tr><td>CP5</td><td>CP7</td><td>3.399</td><td>115</td></tr><tr><td>CP6</td><td>CP7</td><td>1.992</td><td>106</td></tr><tr><td>E1</td><td>CP7</td><td>1.045</td><td>0</td></tr><tr><td>E10U</td><td>CP7</td><td>1.937</td><td>20</td></tr><tr><td>E2R</td><td>CP7</td><td>3.933</td><td>34</td></tr><tr><td>E3</td><td>CP7</td><td>2.193</td><td>150</td></tr><tr><td>E4R</td><td>CP7</td><td>1.005</td><td>43</td></tr><tr><td>E5</td><td>CP7</td><td>2.754</td><td>158</td></tr><tr><td>E6</td><td>CP7</td><td>4.824</td><td>195</td></tr><tr><td>E7U</td><td>CP7</td><td>5.652</td><td>118</td></tr><tr><td>E8</td><td>CP7</td><td>6.765</td><td>252</td></tr><tr><td>E9U</td><td>CP7</td><td>2.026</td><td>54</td></tr><tr><td>Finish</td><td>CP7</td><td>1.149</td><td>59</td></tr><tr><td>Start</td><td>CP7</td><td>3.15</td><td>99</td></tr><tr><td>CP1</td><td>E1</td><td>0.747</td><td>69</td></tr><tr><td>CP2</td><td>E1</td><td>2.186</td><td>103</td></tr><tr><td>CP3</td><td>E1</td><td>3.16</td><td>113</td></tr><tr><td>CP4</td><td>E1</td><td>7.615</td><td>267</td></tr><tr><td>CP5</td><td>E1</td><td>4.072</td><td>202</td></tr><tr><td>CP6</td><td>E1</td><td>2.665</td><td>193</td></tr><tr><td>CP7</td><td>E1</td><td>1.045</td><td>95</td></tr><tr><td>E10U</td><td>E1</td><td>1.147</td><td>32</td></tr><tr><td>E2R</td><td>E1</td><td>3.371</td><td>84</td></tr><tr><td>E3</td><td>E1</td><td>2.445</td><td>242</td></tr><tr><td>E4R</td><td>E1</td><td>1.851</td><td>132</td></tr><tr><td>E5</td><td>E1</td><td>3.459</td><td>262</td></tr><tr><td>E6</td><td>E1</td><td>5.541</td><td>294</td></tr><tr><td>E7U</td><td>E1</td><td>6.325</td><td>205</td></tr><tr><td>E8</td><td>E1</td><td>7.54</td><td>345</td></tr><tr><td>E9U</td><td>E1</td><td>1.89</td><td>112</td></tr><tr><td>Finish</td><td>E1</td><td>1.323</td><td>141</td></tr><tr><td>Start</td><td>E1</td><td>3.73</td><td>132</td></tr><tr><td>CP1</td><td>E10U</td><td>1.894</td><td>83</td></tr><tr><td>CP2</td><td>E10U</td><td>2.545</td><td>90</td></tr><tr><td>CP3</td><td>E10U</td><td>3.831</td><td>94</td></tr><tr><td>CP4</td><td>E10U</td><td>8.624</td><td>279</td></tr><tr><td>CP5</td><td>E10U</td><td>5.081</td><td>214</td></tr><tr><td>CP6</td><td>E10U</td><td>3.674</td><td>205</td></tr><tr><td>CP7</td><td>E10U</td><td>1.937</td><td>97</td></tr><tr><td>E1</td><td>E10U</td><td>1.147</td><td>14</td></tr><tr><td>E2R</td><td>E10U</td><td>2.845</td><td>65</td></tr><tr><td>E3</td><td>E10U</td><td>2.846</td><td>224</td></tr><tr><td>E4R</td><td>E10U</td><td>2.86</td><td>144</td></tr><tr><td>E5</td><td>E10U</td><td>4.468</td><td>274</td></tr><tr><td>E6</td><td>E10U</td><td>6.55</td><td>306</td></tr><tr><td>E7U</td><td>E10U</td><td>7.334</td><td>217</td></tr><tr><td>E8</td><td>E10U</td><td>8.549</td><td>357</td></tr><tr><td>E9U</td><td>E10U</td><td>3.037</td><td>125</td></tr><tr><td>Finish</td><td>E10U</td><td>1.713</td><td>120</td></tr><tr><td>Start</td><td>E10U</td><td>4.832</td><td>198</td></tr><tr><td>CP1</td><td>E2R</td><td>3.42</td><td>133</td></tr><tr><td>CP2</td><td>E2R</td><td>1.715</td><td>95</td></tr><tr><td>CP3</td><td>E2R</td><td>2.872</td><td>89</td></tr><tr><td>CP4</td><td>E2R</td><td>7.909</td><td>198</td></tr><tr><td>CP5</td><td>E2R</td><td>4.967</td><td>169</td></tr><tr><td>CP6</td><td>E2R</td><td>4.032</td><td>234</td></tr><tr><td>CP7</td><td>E2R</td><td>3.933</td><td>178</td></tr><tr><td>E1</td><td>E2R</td><td>3.371</td><td>133</td></tr><tr><td>E10U</td><td>E2R</td><td>2.845</td><td>132</td></tr><tr><td>E3</td><td>E2R</td><td>5.592</td><td>368</td></tr><tr><td>E4R</td><td>E2R</td><td>3.893</td><td>198</td></tr><tr><td>E5</td><td>E2R</td><td>4.97</td><td>295</td></tr><tr><td>E6</td><td>E2R</td><td>6.739</td><td>265</td></tr><tr><td>E7U</td><td>E2R</td><td>6.416</td><td>146</td></tr><tr><td>E8</td><td>E2R</td><td>8.738</td><td>316</td></tr><tr><td>E9U</td><td>E2R</td><td>2.833</td><td>138</td></tr><tr><td>Finish</td><td>E2R</td><td>4.442</td><td>264</td></tr><tr><td>Start</td><td>E2R</td><td>4.209</td><td>135</td></tr><tr><td>CP1</td><td>E3</td><td>2.678</td><td>41</td></tr><tr><td>CP2</td><td>E3</td><td>4.36</td><td>36</td></tr><tr><td>CP3</td><td>E3</td><td>5.136</td><td>54</td></tr><tr><td>CP4</td><td>E3</td><td>7.892</td><td>98</td></tr><tr><td>CP5</td><td>E3</td><td>4.918</td><td>68</td></tr><tr><td>CP6</td><td>E3</td><td>3.511</td><td>59</td></tr><tr><td>CP7</td><td>E3</td><td>2.193</td><td>8</td></tr><tr><td>E1</td><td>E3</td><td>2.445</td><td>5</td></tr><tr><td>E10U</td><td>E3</td><td>2.831</td><td>6</td></tr><tr><td>E2R</td><td>E3</td><td>5.56</td><td>83</td></tr><tr><td>E4R</td><td>E3</td><td>2.93</td><td>43</td></tr><tr><td>E5</td><td>E3</td><td>3.725</td><td>64</td></tr><tr><td>E6</td><td>E3</td><td>5.721</td><td>100</td></tr><tr><td>E7U</td><td>E3</td><td>7.171</td><td>71</td></tr><tr><td>E8</td><td>E3</td><td>7.413</td><td>117</td></tr><tr><td>E9U</td><td>E3</td><td>3.951</td><td>54</td></tr><tr><td>Finish</td><td>E3</td><td>1.14</td><td>1</td></tr><tr><td>Start</td><td>E3</td><td>4.669</td><td>51</td></tr><tr><td>CP1</td><td>E4R</td><td>1.315</td><td>2</td></tr><tr><td>CP2</td><td>E4R</td><td>2.203</td><td>25</td></tr><tr><td>CP3</td><td>E4R</td><td>2.425</td><td>24</td></tr><tr><td>CP4</td><td>E4R</td><td>5.875</td><td>160</td></tr><tr><td>CP5</td><td>E4R</td><td>2.332</td><td>96</td></tr><tr><td>CP6</td><td>E4R</td><td>0.925</td><td>88</td></tr><tr><td>CP7</td><td>E4R</td><td>1.005</td><td>9</td></tr><tr><td>E1</td><td>E4R</td><td>1.851</td><td>3</td></tr><tr><td>E10U</td><td>E4R</td><td>2.86</td><td>33</td></tr><tr><td>E2R</td><td>E4R</td><td>3.893</td><td>20</td></tr><tr><td>E3</td><td>E4R</td><td>2.93</td><td>151</td></tr><tr><td>E5</td><td>E4R</td><td>1.725</td><td>131</td></tr><tr><td>E6</td><td>E4R</td><td>3.801</td><td>188</td></tr><tr><td>E7U</td><td>E4R</td><td>4.585</td><td>99</td></tr><tr><td>E8</td><td>E4R</td><td>5.8</td><td>239</td></tr><tr><td>E9U</td><td>E4R</td><td>1.24</td><td>24</td></tr><tr><td>Finish</td><td>E4R</td><td>2.078</td><td>62</td></tr><tr><td>Start</td><td>E4R</td><td>2.083</td><td>80</td></tr><tr><td>CP1</td><td>E5</td><td>2.923</td><td>19</td></tr><tr><td>CP2</td><td>E5</td><td>3.254</td><td>5</td></tr><tr><td>CP3</td><td>E5</td><td>2.919</td><td>1</td></tr><tr><td>CP4</td><td>E5</td><td>4.357</td><td>40</td></tr><tr><td>CP5</td><td>E5</td><td>1.631</td><td>13</td></tr><tr><td>CP6</td><td>E5</td><td>0.938</td><td>0</td></tr><tr><td>CP7</td><td>E5</td><td>2.731</td><td>26</td></tr><tr><td>E1</td><td>E5</td><td>3.459</td><td>21</td></tr><tr><td>E10U</td><td>E5</td><td>4.468</td><td>51</td></tr><tr><td>E2R</td><td>E5</td><td>4.97</td><td>5</td></tr><tr><td>E3</td><td>E5</td><td>3.725</td><td>60</td></tr><tr><td>E4R</td><td>E5</td><td>1.725</td><td>19</td></tr><tr><td>E6</td><td>E5</td><td>2.186</td><td>39</td></tr><tr><td>E7U</td><td>E5</td><td>3.884</td><td>16</td></tr><tr><td>E8</td><td>E5</td><td>4.127</td><td>96</td></tr><tr><td>E9U</td><td>E5</td><td>2.179</td><td>4</td></tr><tr><td>Finish</td><td>E5</td><td>3.38</td><td>16</td></tr><tr><td>Start</td><td>E5</td><td>1.419</td><td>2</td></tr><tr><td>CP1</td><td>E6</td><td>4.912</td><td>88</td></tr><tr><td>CP2</td><td>E6</td><td>5.023</td><td>14</td></tr><tr><td>CP3</td><td>E6</td><td>4.236</td><td>6</td></tr><tr><td>CP4</td><td>E6</td><td>2.308</td><td>28</td></tr><tr><td>CP5</td><td>E6</td><td>1.829</td><td>20</td></tr><tr><td>CP6</td><td>E6</td><td>3.1</td><td>90</td></tr><tr><td>CP7</td><td>E6</td><td>4.807</td><td>125</td></tr><tr><td>E1</td><td>E6</td><td>5.541</td><td>92</td></tr><tr><td>E10U</td><td>E6</td><td>6.55</td><td>122</td></tr><tr><td>E2R</td><td>E6</td><td>6.739</td><td>14</td></tr><tr><td>E3</td><td>E6</td><td>5.721</td><td>135</td></tr><tr><td>E4R</td><td>E6</td><td>3.801</td><td>115</td></tr><tr><td>E5</td><td>E6</td><td>2.186</td><td>78</td></tr><tr><td>E7U</td><td>E6</td><td>2.334</td><td>10</td></tr><tr><td>E8</td><td>E6</td><td>2.045</td><td>57</td></tr><tr><td>E9U</td><td>E6</td><td>4.03</td><td>77</td></tr><tr><td>Finish</td><td>E6</td><td>5.45</td><td>92</td></tr><tr><td>Start</td><td>E6</td><td>2.562</td><td>11</td></tr><tr><td>CP1</td><td>E7U</td><td>5.696</td><td>184</td></tr><tr><td>CP2</td><td>E7U</td><td>4.871</td><td>96</td></tr><tr><td>CP3</td><td>E7U</td><td>3.647</td><td>61</td></tr><tr><td>CP4</td><td>E7U</td><td>1.492</td><td>52</td></tr><tr><td>CP5</td><td>E7U</td><td>2.697</td><td>106</td></tr><tr><td>CP6</td><td>E7U</td><td>3.884</td><td>186</td></tr><tr><td>CP7</td><td>E7U</td><td>5.591</td><td>220</td></tr><tr><td>E1</td><td>E7U</td><td>6.325</td><td>188</td></tr><tr><td>E10U</td><td>E7U</td><td>7.334</td><td>218</td></tr><tr><td>E2R</td><td>E7U</td><td>6.416</td><td>80</td></tr><tr><td>E3</td><td>E7U</td><td>7.171</td><td>291</td></tr><tr><td>E4R</td><td>E7U</td><td>4.585</td><td>211</td></tr><tr><td>E5</td><td>E7U</td><td>3.884</td><td>240</td></tr><tr><td>E6</td><td>E7U</td><td>2.334</td><td>195</td></tr><tr><td>E8</td><td>E7U</td><td>3.094</td><td>256</td></tr><tr><td>E9U</td><td>E7U</td><td>4.662</td><td>129</td></tr><tr><td>Finish</td><td>E7U</td><td>6.506</td><td>228</td></tr><tr><td>Start</td><td>E7U</td><td>2.915</td><td>99</td></tr><tr><td>CP1</td><td>E8</td><td>6.911</td><td>91</td></tr><tr><td>CP2</td><td>E8</td><td>7.022</td><td>17</td></tr><tr><td>CP3</td><td>E8</td><td>6.235</td><td>9</td></tr><tr><td>CP4</td><td>E8</td><td>1.828</td><td>2</td></tr><tr><td>CP5</td><td>E8</td><td>3.828</td><td>23</td></tr><tr><td>CP6</td><td>E8</td><td>4.997</td><td>91</td></tr><tr><td>CP7</td><td>E8</td><td>6.806</td><td>127</td></tr><tr><td>E1</td><td>E8</td><td>7.54</td><td>95</td></tr><tr><td>E10U</td><td>E8</td><td>8.549</td><td>125</td></tr><tr><td>E2R</td><td>E8</td><td>8.738</td><td>17</td></tr><tr><td>E3</td><td>E8</td><td>7.413</td><td>104</td></tr><tr><td>E4R</td><td>E8</td><td>5.8</td><td>118</td></tr><tr><td>E5</td><td>E8</td><td>4.127</td><td>87</td></tr><tr><td>E6</td><td>E8</td><td>2.045</td><td>9</td></tr><tr><td>E7U</td><td>E8</td><td>3.094</td><td>23</td></tr><tr><td>E9U</td><td>E8</td><td>6.029</td><td>80</td></tr><tr><td>Finish</td><td>E8</td><td>7.391</td><td>101</td></tr><tr><td>Start</td><td>E8</td><td>4.561</td><td>14</td></tr><tr><td>CP1</td><td>E9U</td><td>1.459</td><td>25</td></tr><tr><td>CP2</td><td>E9U</td><td>1.117</td><td>1</td></tr><tr><td>CP3</td><td>E9U</td><td>1.269</td><td>1</td></tr><tr><td>CP4</td><td>E9U</td><td>6.04</td><td>146</td></tr><tr><td>CP5</td><td>E9U</td><td>2.497</td><td>81</td></tr><tr><td>CP6</td><td>E9U</td><td>1.241</td><td>96</td></tr><tr><td>CP7</td><td>E9U</td><td>2.026</td><td>61</td></tr><tr><td>E1</td><td>E9U</td><td>1.89</td><td>24</td></tr><tr><td>E10U</td><td>E9U</td><td>3.037</td><td>55</td></tr><tr><td>E2R</td><td>E9U</td><td>2.833</td><td>1</td></tr><tr><td>E3</td><td>E9U</td><td>3.951</td><td>203</td></tr><tr><td>E4R</td><td>E9U</td><td>1.24</td><td>65</td></tr><tr><td>E5</td><td>E9U</td><td>2.179</td><td>157</td></tr><tr><td>E6</td><td>E9U</td><td>4.03</td><td>191</td></tr><tr><td>E7U</td><td>E9U</td><td>4.662</td><td>58</td></tr><tr><td>E8</td><td>E9U</td><td>6.029</td><td>242</td></tr><tr><td>Finish</td><td>E9U</td><td>2.942</td><td>92</td></tr><tr><td>Start</td><td>E9U</td><td>1.839</td><td>21</td></tr><tr><td>CP1</td><td>Finish</td><td>1.556</td><td>44</td></tr><tr><td>CP2</td><td>Finish</td><td>3.238</td><td>39</td></tr><tr><td>CP3</td><td>Finish</td><td>4.212</td><td>48</td></tr><tr><td>CP4</td><td>Finish</td><td>7.621</td><td>162</td></tr><tr><td>CP5</td><td>Finish</td><td>4.253</td><td>109</td></tr><tr><td>CP6</td><td>Finish</td><td>2.846</td><td>100</td></tr><tr><td>CP7</td><td>Finish</td><td>1.149</td><td>21</td></tr><tr><td>E1</td><td>Finish</td><td>1.323</td><td>8</td></tr><tr><td>E10U</td><td>Finish</td><td>1.713</td><td>5</td></tr><tr><td>E2R</td><td>Finish</td><td>4.442</td><td>82</td></tr><tr><td>E3</td><td>Finish</td><td>1.14</td><td>105</td></tr><tr><td>E4R</td><td>Finish</td><td>2.078</td><td>58</td></tr><tr><td>E5</td><td>Finish</td><td>3.38</td><td>124</td></tr><tr><td>E6</td><td>Finish</td><td>5.45</td><td>161</td></tr><tr><td>E7U</td><td>Finish</td><td>6.506</td><td>112</td></tr><tr><td>E8</td><td>Finish</td><td>7.391</td><td>218</td></tr><tr><td>E9U</td><td>Finish</td><td>2.942</td><td>47</td></tr><tr><td>Start</td><td>Finish</td><td>4.004</td><td>92</td></tr><tr><td>CP1</td><td>Start</td><td>3.194</td><td>105</td></tr><tr><td>CP2</td><td>Start</td><td>2.493</td><td>9</td></tr><tr><td>CP3</td><td>Start</td><td>1.706</td><td>0</td></tr><tr><td>CP4</td><td>Start</td><td>4.353</td><td>107</td></tr><tr><td>CP5</td><td>Start</td><td>0.81</td><td>42</td></tr><tr><td>CP6</td><td>Start</td><td>1.382</td><td>107</td></tr><tr><td>CP7</td><td>Start</td><td>3.089</td><td>141</td></tr><tr><td>E1</td><td>Start</td><td>3.73</td><td>55</td></tr><tr><td>E10U</td><td>Start</td><td>4.832</td><td>139</td></tr><tr><td>E2R</td><td>Start</td><td>4.209</td><td>9</td></tr><tr><td>E3</td><td>Start</td><td>4.669</td><td>211</td></tr><tr><td>E4R</td><td>Start</td><td>2.083</td><td>132</td></tr><tr><td>E5</td><td>Start</td><td>1.419</td><td>166</td></tr><tr><td>E6</td><td>Start</td><td>2.562</td><td>136</td></tr><tr><td>E7U</td><td>Start</td><td>2.915</td><td>39</td></tr><tr><td>E8</td><td>Start</td><td>4.561</td><td>187</td></tr><tr><td>E9U</td><td>Start</td><td>1.839</td><td>32</td></tr><tr><td>Finish</td><td>Start</td><td>4.004</td><td>148</td></tr></tbody></table></div>"
            ]
          },
          "metadata": {
            "application/vnd.databricks.v1+output": {
              "addedWidgets": {},
              "aggData": [],
              "aggError": "",
              "aggOverflow": false,
              "aggSchema": [],
              "aggSeriesLimitReached": false,
              "aggType": "",
              "arguments": {},
              "columnCustomDisplayInfos": {},
              "data": [
                [
                  "CP2",
                  "CP1",
                  1.755,
                  39
                ],
                [
                  "CP3",
                  "CP1",
                  2.729,
                  48
                ],
                [
                  "CP4",
                  "CP1",
                  6.986,
                  197
                ],
                [
                  "CP5",
                  "CP1",
                  3.443,
                  132
                ],
                [
                  "CP6",
                  "CP1",
                  2.036,
                  123
                ],
                [
                  "CP7",
                  "CP1",
                  0.765,
                  33
                ],
                [
                  "E1",
                  "CP1",
                  0.747,
                  3
                ],
                [
                  "E10U",
                  "CP1",
                  1.894,
                  35
                ],
                [
                  "E2R",
                  "CP1",
                  3.42,
                  18
                ],
                [
                  "E3",
                  "CP1",
                  2.678,
                  212
                ],
                [
                  "E4R",
                  "CP1",
                  1.315,
                  65
                ],
                [
                  "E5",
                  "CP1",
                  2.953,
                  188
                ],
                [
                  "E6",
                  "CP1",
                  4.912,
                  224
                ],
                [
                  "E7U",
                  "CP1",
                  5.696,
                  135
                ],
                [
                  "E8",
                  "CP1",
                  6.911,
                  275
                ],
                [
                  "E9U",
                  "CP1",
                  1.459,
                  47
                ],
                [
                  "Finish",
                  "CP1",
                  1.556,
                  111
                ],
                [
                  "Start",
                  "CP1",
                  3.194,
                  116
                ],
                [
                  "CP1",
                  "CP2",
                  1.755,
                  59
                ],
                [
                  "CP3",
                  "CP2",
                  1.319,
                  10
                ],
                [
                  "CP4",
                  "CP2",
                  6.364,
                  119
                ],
                [
                  "CP5",
                  "CP2",
                  3.251,
                  74
                ],
                [
                  "CP6",
                  "CP2",
                  2.316,
                  139
                ],
                [
                  "CP7",
                  "CP2",
                  2.308,
                  85
                ],
                [
                  "E1",
                  "CP2",
                  2.186,
                  57
                ],
                [
                  "E10U",
                  "CP2",
                  2.545,
                  62
                ],
                [
                  "E2R",
                  "CP2",
                  1.715,
                  0
                ],
                [
                  "E3",
                  "CP2",
                  4.36,
                  227
                ],
                [
                  "E4R",
                  "CP2",
                  2.203,
                  108
                ],
                [
                  "E5",
                  "CP2",
                  3.254,
                  200
                ],
                [
                  "E6",
                  "CP2",
                  5.023,
                  170
                ],
                [
                  "E7U",
                  "CP2",
                  4.871,
                  67
                ],
                [
                  "E8",
                  "CP2",
                  7.022,
                  221
                ],
                [
                  "E9U",
                  "CP2",
                  1.117,
                  43
                ],
                [
                  "Finish",
                  "CP2",
                  3.238,
                  126
                ],
                [
                  "Start",
                  "CP2",
                  2.493,
                  40
                ],
                [
                  "CP1",
                  "CP3",
                  2.729,
                  97
                ],
                [
                  "CP2",
                  "CP3",
                  1.319,
                  39
                ],
                [
                  "CP4",
                  "CP3",
                  5.14,
                  113
                ],
                [
                  "CP5",
                  "CP3",
                  2.464,
                  94
                ],
                [
                  "CP6",
                  "CP3",
                  1.981,
                  164
                ],
                [
                  "CP7",
                  "CP3",
                  3.211,
                  132
                ],
                [
                  "E1",
                  "CP3",
                  3.16,
                  96
                ],
                [
                  "E10U",
                  "CP3",
                  3.831,
                  95
                ],
                [
                  "E2R",
                  "CP3",
                  2.872,
                  23
                ],
                [
                  "E3",
                  "CP3",
                  5.136,
                  274
                ],
                [
                  "E4R",
                  "CP3",
                  2.425,
                  136
                ],
                [
                  "E5",
                  "CP3",
                  2.919,
                  225
                ],
                [
                  "E6",
                  "CP3",
                  4.236,
                  191
                ],
                [
                  "E7U",
                  "CP3",
                  3.647,
                  61
                ],
                [
                  "E8",
                  "CP3",
                  6.235,
                  242
                ],
                [
                  "E9U",
                  "CP3",
                  1.269,
                  72
                ],
                [
                  "Finish",
                  "CP3",
                  4.212,
                  164
                ],
                [
                  "Start",
                  "CP3",
                  1.706,
                  60
                ],
                [
                  "CP1",
                  "CP4",
                  6.986,
                  197
                ],
                [
                  "CP2",
                  "CP4",
                  6.364,
                  99
                ],
                [
                  "CP3",
                  "CP4",
                  5.14,
                  64
                ],
                [
                  "CP5",
                  "CP4",
                  3.542,
                  98
                ],
                [
                  "CP6",
                  "CP4",
                  5.174,
                  199
                ],
                [
                  "CP7",
                  "CP4",
                  6.881,
                  233
                ],
                [
                  "E1",
                  "CP4",
                  7.615,
                  201
                ],
                [
                  "E10U",
                  "CP4",
                  8.624,
                  231
                ],
                [
                  "E2R",
                  "CP4",
                  7.909,
                  83
                ],
                [
                  "E3",
                  "CP4",
                  7.892,
                  269
                ],
                [
                  "E4R",
                  "CP4",
                  5.875,
                  223
                ],
                [
                  "E5",
                  "CP4",
                  4.357,
                  215
                ],
                [
                  "E6",
                  "CP4",
                  2.308,
                  164
                ],
                [
                  "E7U",
                  "CP4",
                  1.492,
                  3
                ],
                [
                  "E8",
                  "CP4",
                  1.828,
                  186
                ],
                [
                  "E9U",
                  "CP4",
                  6.04,
                  168
                ],
                [
                  "Finish",
                  "CP4",
                  7.621,
                  229
                ],
                [
                  "Start",
                  "CP4",
                  4.353,
                  118
                ],
                [
                  "CP1",
                  "CP5",
                  3.443,
                  98
                ],
                [
                  "CP2",
                  "CP5",
                  3.251,
                  20
                ],
                [
                  "CP3",
                  "CP5",
                  2.464,
                  11
                ],
                [
                  "CP4",
                  "CP5",
                  3.542,
                  64
                ],
                [
                  "CP6",
                  "CP5",
                  1.631,
                  100
                ],
                [
                  "CP7",
                  "CP5",
                  3.338,
                  134
                ],
                [
                  "E1",
                  "CP5",
                  4.072,
                  102
                ],
                [
                  "E10U",
                  "CP5",
                  5.081,
                  132
                ],
                [
                  "E2R",
                  "CP5",
                  4.967,
                  20
                ],
                [
                  "E3",
                  "CP5",
                  4.918,
                  205
                ],
                [
                  "E4R",
                  "CP5",
                  2.332,
                  125
                ],
                [
                  "E5",
                  "CP5",
                  1.631,
                  154
                ],
                [
                  "E6",
                  "CP5",
                  1.829,
                  122
                ],
                [
                  "E7U",
                  "CP5",
                  2.697,
                  23
                ],
                [
                  "E8",
                  "CP5",
                  3.828,
                  173
                ],
                [
                  "E9U",
                  "CP5",
                  2.497,
                  69
                ],
                [
                  "Finish",
                  "CP5",
                  4.253,
                  142
                ],
                [
                  "Start",
                  "CP5",
                  0.81,
                  19
                ],
                [
                  "CP1",
                  "CP6",
                  2.036,
                  9
                ],
                [
                  "CP2",
                  "CP6",
                  2.316,
                  5
                ],
                [
                  "CP3",
                  "CP6",
                  1.981,
                  1
                ],
                [
                  "CP4",
                  "CP6",
                  5.174,
                  85
                ],
                [
                  "CP5",
                  "CP6",
                  1.631,
                  20
                ],
                [
                  "CP7",
                  "CP6",
                  1.931,
                  46
                ],
                [
                  "E1",
                  "CP6",
                  2.665,
                  13
                ],
                [
                  "E10U",
                  "CP6",
                  3.674,
                  43
                ],
                [
                  "E2R",
                  "CP6",
                  4.032,
                  5
                ],
                [
                  "E3",
                  "CP6",
                  3.511,
                  116
                ],
                [
                  "E4R",
                  "CP6",
                  0.925,
                  37
                ],
                [
                  "E5",
                  "CP6",
                  0.938,
                  61
                ],
                [
                  "E6",
                  "CP6",
                  3.1,
                  112
                ],
                [
                  "E7U",
                  "CP6",
                  3.884,
                  23
                ],
                [
                  "E8",
                  "CP6",
                  4.997,
                  161
                ],
                [
                  "E9U",
                  "CP6",
                  1.241,
                  4
                ],
                [
                  "Finish",
                  "CP6",
                  2.846,
                  53
                ],
                [
                  "Start",
                  "CP6",
                  1.382,
                  4
                ],
                [
                  "CP1",
                  "CP7",
                  0.765,
                  4
                ],
                [
                  "CP2",
                  "CP7",
                  2.308,
                  36
                ],
                [
                  "CP3",
                  "CP7",
                  3.211,
                  54
                ],
                [
                  "CP4",
                  "CP7",
                  6.942,
                  180
                ],
                [
                  "CP5",
                  "CP7",
                  3.399,
                  115
                ],
                [
                  "CP6",
                  "CP7",
                  1.992,
                  106
                ],
                [
                  "E1",
                  "CP7",
                  1.045,
                  0
                ],
                [
                  "E10U",
                  "CP7",
                  1.937,
                  20
                ],
                [
                  "E2R",
                  "CP7",
                  3.933,
                  34
                ],
                [
                  "E3",
                  "CP7",
                  2.193,
                  150
                ],
                [
                  "E4R",
                  "CP7",
                  1.005,
                  43
                ],
                [
                  "E5",
                  "CP7",
                  2.754,
                  158
                ],
                [
                  "E6",
                  "CP7",
                  4.824,
                  195
                ],
                [
                  "E7U",
                  "CP7",
                  5.652,
                  118
                ],
                [
                  "E8",
                  "CP7",
                  6.765,
                  252
                ],
                [
                  "E9U",
                  "CP7",
                  2.026,
                  54
                ],
                [
                  "Finish",
                  "CP7",
                  1.149,
                  59
                ],
                [
                  "Start",
                  "CP7",
                  3.15,
                  99
                ],
                [
                  "CP1",
                  "E1",
                  0.747,
                  69
                ],
                [
                  "CP2",
                  "E1",
                  2.186,
                  103
                ],
                [
                  "CP3",
                  "E1",
                  3.16,
                  113
                ],
                [
                  "CP4",
                  "E1",
                  7.615,
                  267
                ],
                [
                  "CP5",
                  "E1",
                  4.072,
                  202
                ],
                [
                  "CP6",
                  "E1",
                  2.665,
                  193
                ],
                [
                  "CP7",
                  "E1",
                  1.045,
                  95
                ],
                [
                  "E10U",
                  "E1",
                  1.147,
                  32
                ],
                [
                  "E2R",
                  "E1",
                  3.371,
                  84
                ],
                [
                  "E3",
                  "E1",
                  2.445,
                  242
                ],
                [
                  "E4R",
                  "E1",
                  1.851,
                  132
                ],
                [
                  "E5",
                  "E1",
                  3.459,
                  262
                ],
                [
                  "E6",
                  "E1",
                  5.541,
                  294
                ],
                [
                  "E7U",
                  "E1",
                  6.325,
                  205
                ],
                [
                  "E8",
                  "E1",
                  7.54,
                  345
                ],
                [
                  "E9U",
                  "E1",
                  1.89,
                  112
                ],
                [
                  "Finish",
                  "E1",
                  1.323,
                  141
                ],
                [
                  "Start",
                  "E1",
                  3.73,
                  132
                ],
                [
                  "CP1",
                  "E10U",
                  1.894,
                  83
                ],
                [
                  "CP2",
                  "E10U",
                  2.545,
                  90
                ],
                [
                  "CP3",
                  "E10U",
                  3.831,
                  94
                ],
                [
                  "CP4",
                  "E10U",
                  8.624,
                  279
                ],
                [
                  "CP5",
                  "E10U",
                  5.081,
                  214
                ],
                [
                  "CP6",
                  "E10U",
                  3.674,
                  205
                ],
                [
                  "CP7",
                  "E10U",
                  1.937,
                  97
                ],
                [
                  "E1",
                  "E10U",
                  1.147,
                  14
                ],
                [
                  "E2R",
                  "E10U",
                  2.845,
                  65
                ],
                [
                  "E3",
                  "E10U",
                  2.846,
                  224
                ],
                [
                  "E4R",
                  "E10U",
                  2.86,
                  144
                ],
                [
                  "E5",
                  "E10U",
                  4.468,
                  274
                ],
                [
                  "E6",
                  "E10U",
                  6.55,
                  306
                ],
                [
                  "E7U",
                  "E10U",
                  7.334,
                  217
                ],
                [
                  "E8",
                  "E10U",
                  8.549,
                  357
                ],
                [
                  "E9U",
                  "E10U",
                  3.037,
                  125
                ],
                [
                  "Finish",
                  "E10U",
                  1.713,
                  120
                ],
                [
                  "Start",
                  "E10U",
                  4.832,
                  198
                ],
                [
                  "CP1",
                  "E2R",
                  3.42,
                  133
                ],
                [
                  "CP2",
                  "E2R",
                  1.715,
                  95
                ],
                [
                  "CP3",
                  "E2R",
                  2.872,
                  89
                ],
                [
                  "CP4",
                  "E2R",
                  7.909,
                  198
                ],
                [
                  "CP5",
                  "E2R",
                  4.967,
                  169
                ],
                [
                  "CP6",
                  "E2R",
                  4.032,
                  234
                ],
                [
                  "CP7",
                  "E2R",
                  3.933,
                  178
                ],
                [
                  "E1",
                  "E2R",
                  3.371,
                  133
                ],
                [
                  "E10U",
                  "E2R",
                  2.845,
                  132
                ],
                [
                  "E3",
                  "E2R",
                  5.592,
                  368
                ],
                [
                  "E4R",
                  "E2R",
                  3.893,
                  198
                ],
                [
                  "E5",
                  "E2R",
                  4.97,
                  295
                ],
                [
                  "E6",
                  "E2R",
                  6.739,
                  265
                ],
                [
                  "E7U",
                  "E2R",
                  6.416,
                  146
                ],
                [
                  "E8",
                  "E2R",
                  8.738,
                  316
                ],
                [
                  "E9U",
                  "E2R",
                  2.833,
                  138
                ],
                [
                  "Finish",
                  "E2R",
                  4.442,
                  264
                ],
                [
                  "Start",
                  "E2R",
                  4.209,
                  135
                ],
                [
                  "CP1",
                  "E3",
                  2.678,
                  41
                ],
                [
                  "CP2",
                  "E3",
                  4.36,
                  36
                ],
                [
                  "CP3",
                  "E3",
                  5.136,
                  54
                ],
                [
                  "CP4",
                  "E3",
                  7.892,
                  98
                ],
                [
                  "CP5",
                  "E3",
                  4.918,
                  68
                ],
                [
                  "CP6",
                  "E3",
                  3.511,
                  59
                ],
                [
                  "CP7",
                  "E3",
                  2.193,
                  8
                ],
                [
                  "E1",
                  "E3",
                  2.445,
                  5
                ],
                [
                  "E10U",
                  "E3",
                  2.831,
                  6
                ],
                [
                  "E2R",
                  "E3",
                  5.56,
                  83
                ],
                [
                  "E4R",
                  "E3",
                  2.93,
                  43
                ],
                [
                  "E5",
                  "E3",
                  3.725,
                  64
                ],
                [
                  "E6",
                  "E3",
                  5.721,
                  100
                ],
                [
                  "E7U",
                  "E3",
                  7.171,
                  71
                ],
                [
                  "E8",
                  "E3",
                  7.413,
                  117
                ],
                [
                  "E9U",
                  "E3",
                  3.951,
                  54
                ],
                [
                  "Finish",
                  "E3",
                  1.14,
                  1
                ],
                [
                  "Start",
                  "E3",
                  4.669,
                  51
                ],
                [
                  "CP1",
                  "E4R",
                  1.315,
                  2
                ],
                [
                  "CP2",
                  "E4R",
                  2.203,
                  25
                ],
                [
                  "CP3",
                  "E4R",
                  2.425,
                  24
                ],
                [
                  "CP4",
                  "E4R",
                  5.875,
                  160
                ],
                [
                  "CP5",
                  "E4R",
                  2.332,
                  96
                ],
                [
                  "CP6",
                  "E4R",
                  0.925,
                  88
                ],
                [
                  "CP7",
                  "E4R",
                  1.005,
                  9
                ],
                [
                  "E1",
                  "E4R",
                  1.851,
                  3
                ],
                [
                  "E10U",
                  "E4R",
                  2.86,
                  33
                ],
                [
                  "E2R",
                  "E4R",
                  3.893,
                  20
                ],
                [
                  "E3",
                  "E4R",
                  2.93,
                  151
                ],
                [
                  "E5",
                  "E4R",
                  1.725,
                  131
                ],
                [
                  "E6",
                  "E4R",
                  3.801,
                  188
                ],
                [
                  "E7U",
                  "E4R",
                  4.585,
                  99
                ],
                [
                  "E8",
                  "E4R",
                  5.8,
                  239
                ],
                [
                  "E9U",
                  "E4R",
                  1.24,
                  24
                ],
                [
                  "Finish",
                  "E4R",
                  2.078,
                  62
                ],
                [
                  "Start",
                  "E4R",
                  2.083,
                  80
                ],
                [
                  "CP1",
                  "E5",
                  2.923,
                  19
                ],
                [
                  "CP2",
                  "E5",
                  3.254,
                  5
                ],
                [
                  "CP3",
                  "E5",
                  2.919,
                  1
                ],
                [
                  "CP4",
                  "E5",
                  4.357,
                  40
                ],
                [
                  "CP5",
                  "E5",
                  1.631,
                  13
                ],
                [
                  "CP6",
                  "E5",
                  0.938,
                  0
                ],
                [
                  "CP7",
                  "E5",
                  2.731,
                  26
                ],
                [
                  "E1",
                  "E5",
                  3.459,
                  21
                ],
                [
                  "E10U",
                  "E5",
                  4.468,
                  51
                ],
                [
                  "E2R",
                  "E5",
                  4.97,
                  5
                ],
                [
                  "E3",
                  "E5",
                  3.725,
                  60
                ],
                [
                  "E4R",
                  "E5",
                  1.725,
                  19
                ],
                [
                  "E6",
                  "E5",
                  2.186,
                  39
                ],
                [
                  "E7U",
                  "E5",
                  3.884,
                  16
                ],
                [
                  "E8",
                  "E5",
                  4.127,
                  96
                ],
                [
                  "E9U",
                  "E5",
                  2.179,
                  4
                ],
                [
                  "Finish",
                  "E5",
                  3.38,
                  16
                ],
                [
                  "Start",
                  "E5",
                  1.419,
                  2
                ],
                [
                  "CP1",
                  "E6",
                  4.912,
                  88
                ],
                [
                  "CP2",
                  "E6",
                  5.023,
                  14
                ],
                [
                  "CP3",
                  "E6",
                  4.236,
                  6
                ],
                [
                  "CP4",
                  "E6",
                  2.308,
                  28
                ],
                [
                  "CP5",
                  "E6",
                  1.829,
                  20
                ],
                [
                  "CP6",
                  "E6",
                  3.1,
                  90
                ],
                [
                  "CP7",
                  "E6",
                  4.807,
                  125
                ],
                [
                  "E1",
                  "E6",
                  5.541,
                  92
                ],
                [
                  "E10U",
                  "E6",
                  6.55,
                  122
                ],
                [
                  "E2R",
                  "E6",
                  6.739,
                  14
                ],
                [
                  "E3",
                  "E6",
                  5.721,
                  135
                ],
                [
                  "E4R",
                  "E6",
                  3.801,
                  115
                ],
                [
                  "E5",
                  "E6",
                  2.186,
                  78
                ],
                [
                  "E7U",
                  "E6",
                  2.334,
                  10
                ],
                [
                  "E8",
                  "E6",
                  2.045,
                  57
                ],
                [
                  "E9U",
                  "E6",
                  4.03,
                  77
                ],
                [
                  "Finish",
                  "E6",
                  5.45,
                  92
                ],
                [
                  "Start",
                  "E6",
                  2.562,
                  11
                ],
                [
                  "CP1",
                  "E7U",
                  5.696,
                  184
                ],
                [
                  "CP2",
                  "E7U",
                  4.871,
                  96
                ],
                [
                  "CP3",
                  "E7U",
                  3.647,
                  61
                ],
                [
                  "CP4",
                  "E7U",
                  1.492,
                  52
                ],
                [
                  "CP5",
                  "E7U",
                  2.697,
                  106
                ],
                [
                  "CP6",
                  "E7U",
                  3.884,
                  186
                ],
                [
                  "CP7",
                  "E7U",
                  5.591,
                  220
                ],
                [
                  "E1",
                  "E7U",
                  6.325,
                  188
                ],
                [
                  "E10U",
                  "E7U",
                  7.334,
                  218
                ],
                [
                  "E2R",
                  "E7U",
                  6.416,
                  80
                ],
                [
                  "E3",
                  "E7U",
                  7.171,
                  291
                ],
                [
                  "E4R",
                  "E7U",
                  4.585,
                  211
                ],
                [
                  "E5",
                  "E7U",
                  3.884,
                  240
                ],
                [
                  "E6",
                  "E7U",
                  2.334,
                  195
                ],
                [
                  "E8",
                  "E7U",
                  3.094,
                  256
                ],
                [
                  "E9U",
                  "E7U",
                  4.662,
                  129
                ],
                [
                  "Finish",
                  "E7U",
                  6.506,
                  228
                ],
                [
                  "Start",
                  "E7U",
                  2.915,
                  99
                ],
                [
                  "CP1",
                  "E8",
                  6.911,
                  91
                ],
                [
                  "CP2",
                  "E8",
                  7.022,
                  17
                ],
                [
                  "CP3",
                  "E8",
                  6.235,
                  9
                ],
                [
                  "CP4",
                  "E8",
                  1.828,
                  2
                ],
                [
                  "CP5",
                  "E8",
                  3.828,
                  23
                ],
                [
                  "CP6",
                  "E8",
                  4.997,
                  91
                ],
                [
                  "CP7",
                  "E8",
                  6.806,
                  127
                ],
                [
                  "E1",
                  "E8",
                  7.54,
                  95
                ],
                [
                  "E10U",
                  "E8",
                  8.549,
                  125
                ],
                [
                  "E2R",
                  "E8",
                  8.738,
                  17
                ],
                [
                  "E3",
                  "E8",
                  7.413,
                  104
                ],
                [
                  "E4R",
                  "E8",
                  5.8,
                  118
                ],
                [
                  "E5",
                  "E8",
                  4.127,
                  87
                ],
                [
                  "E6",
                  "E8",
                  2.045,
                  9
                ],
                [
                  "E7U",
                  "E8",
                  3.094,
                  23
                ],
                [
                  "E9U",
                  "E8",
                  6.029,
                  80
                ],
                [
                  "Finish",
                  "E8",
                  7.391,
                  101
                ],
                [
                  "Start",
                  "E8",
                  4.561,
                  14
                ],
                [
                  "CP1",
                  "E9U",
                  1.459,
                  25
                ],
                [
                  "CP2",
                  "E9U",
                  1.117,
                  1
                ],
                [
                  "CP3",
                  "E9U",
                  1.269,
                  1
                ],
                [
                  "CP4",
                  "E9U",
                  6.04,
                  146
                ],
                [
                  "CP5",
                  "E9U",
                  2.497,
                  81
                ],
                [
                  "CP6",
                  "E9U",
                  1.241,
                  96
                ],
                [
                  "CP7",
                  "E9U",
                  2.026,
                  61
                ],
                [
                  "E1",
                  "E9U",
                  1.89,
                  24
                ],
                [
                  "E10U",
                  "E9U",
                  3.037,
                  55
                ],
                [
                  "E2R",
                  "E9U",
                  2.833,
                  1
                ],
                [
                  "E3",
                  "E9U",
                  3.951,
                  203
                ],
                [
                  "E4R",
                  "E9U",
                  1.24,
                  65
                ],
                [
                  "E5",
                  "E9U",
                  2.179,
                  157
                ],
                [
                  "E6",
                  "E9U",
                  4.03,
                  191
                ],
                [
                  "E7U",
                  "E9U",
                  4.662,
                  58
                ],
                [
                  "E8",
                  "E9U",
                  6.029,
                  242
                ],
                [
                  "Finish",
                  "E9U",
                  2.942,
                  92
                ],
                [
                  "Start",
                  "E9U",
                  1.839,
                  21
                ],
                [
                  "CP1",
                  "Finish",
                  1.556,
                  44
                ],
                [
                  "CP2",
                  "Finish",
                  3.238,
                  39
                ],
                [
                  "CP3",
                  "Finish",
                  4.212,
                  48
                ],
                [
                  "CP4",
                  "Finish",
                  7.621,
                  162
                ],
                [
                  "CP5",
                  "Finish",
                  4.253,
                  109
                ],
                [
                  "CP6",
                  "Finish",
                  2.846,
                  100
                ],
                [
                  "CP7",
                  "Finish",
                  1.149,
                  21
                ],
                [
                  "E1",
                  "Finish",
                  1.323,
                  8
                ],
                [
                  "E10U",
                  "Finish",
                  1.713,
                  5
                ],
                [
                  "E2R",
                  "Finish",
                  4.442,
                  82
                ],
                [
                  "E3",
                  "Finish",
                  1.14,
                  105
                ],
                [
                  "E4R",
                  "Finish",
                  2.078,
                  58
                ],
                [
                  "E5",
                  "Finish",
                  3.38,
                  124
                ],
                [
                  "E6",
                  "Finish",
                  5.45,
                  161
                ],
                [
                  "E7U",
                  "Finish",
                  6.506,
                  112
                ],
                [
                  "E8",
                  "Finish",
                  7.391,
                  218
                ],
                [
                  "E9U",
                  "Finish",
                  2.942,
                  47
                ],
                [
                  "Start",
                  "Finish",
                  4.004,
                  92
                ],
                [
                  "CP1",
                  "Start",
                  3.194,
                  105
                ],
                [
                  "CP2",
                  "Start",
                  2.493,
                  9
                ],
                [
                  "CP3",
                  "Start",
                  1.706,
                  0
                ],
                [
                  "CP4",
                  "Start",
                  4.353,
                  107
                ],
                [
                  "CP5",
                  "Start",
                  0.81,
                  42
                ],
                [
                  "CP6",
                  "Start",
                  1.382,
                  107
                ],
                [
                  "CP7",
                  "Start",
                  3.089,
                  141
                ],
                [
                  "E1",
                  "Start",
                  3.73,
                  55
                ],
                [
                  "E10U",
                  "Start",
                  4.832,
                  139
                ],
                [
                  "E2R",
                  "Start",
                  4.209,
                  9
                ],
                [
                  "E3",
                  "Start",
                  4.669,
                  211
                ],
                [
                  "E4R",
                  "Start",
                  2.083,
                  132
                ],
                [
                  "E5",
                  "Start",
                  1.419,
                  166
                ],
                [
                  "E6",
                  "Start",
                  2.562,
                  136
                ],
                [
                  "E7U",
                  "Start",
                  2.915,
                  39
                ],
                [
                  "E8",
                  "Start",
                  4.561,
                  187
                ],
                [
                  "E9U",
                  "Start",
                  1.839,
                  32
                ],
                [
                  "Finish",
                  "Start",
                  4.004,
                  148
                ]
              ],
              "datasetInfos": [],
              "dbfsResultPath": null,
              "isJsonSchema": true,
              "metadata": {},
              "overflow": false,
              "plotOptions": {
                "customPlotOptions": {},
                "displayType": "table",
                "pivotAggregation": null,
                "pivotColumns": null,
                "xColumns": null,
                "yColumns": null
              },
              "removedWidgets": [],
              "schema": [
                {
                  "metadata": "{}",
                  "name": "StartCP",
                  "type": "\"string\""
                },
                {
                  "metadata": "{}",
                  "name": "FinishCP",
                  "type": "\"string\""
                },
                {
                  "metadata": "{}",
                  "name": "Distance",
                  "type": "\"float\""
                },
                {
                  "metadata": "{}",
                  "name": "Height_Gain",
                  "type": "\"integer\""
                }
              ],
              "type": "table"
            }
          }
        }
      ],
      "source": [
        "%python\n",
        "if API_Service == \"Bing Maps\":\n",
        "\n",
        "    CP_Combinations_List = CP_Combinations_DF.collect()\n",
        "\n",
        "    Distances_DF = spark.createDataFrame(\n",
        "        [(1, 1.0, 1.0, 1)],\n",
        "        schema='StartCP string, FinishCP string, Distance float, Height_Gain int'\n",
        "    )\n",
        "    Distances_DF = Distances_DF.filter(\"1!=1\")\n",
        "\n",
        "    for row in CP_Combinations_List:\n",
        "        wp1 = str(row.StartLatitude) + ',' + str(row.StartLongitude)\n",
        "        wp2 = str(row.FinishLatitude) + ',' + str(row.FinishLongitude)\n",
        "\n",
        "        route_url = \"http://dev.virtualearth.net/REST/v1/Routes/walking\"\n",
        "        route_params = {\n",
        "            \"wayPoint.1\": wp1,\n",
        "            \"waypoint.2\": wp2,\n",
        "            \"optimize\": \"distance\",\n",
        "            \"avoid\": \"ferry\",\n",
        "            \"routeAttributes\": \"routePath,excludeItinerary\",\n",
        "            \"distanceUnit\": \"km\",\n",
        "            \"key\": BingMapsAPIKey\n",
        "        }\n",
        "        route_resp = requests.get(route_url, params=route_params)\n",
        "        route_json_resp = json.loads(route_resp.text)\n",
        "        travel_distance = float(route_json_resp['resourceSets'][0]['resources'][0]['travelDistance'])\n",
        "        StartCP = row[\"StartCP\"]\n",
        "        FinishCP = row[\"FinishCP\"]\n",
        "\n",
        "        height_points = route_json_resp['resourceSets'][0]['resources'][0]['routePath']['line']['coordinates']\n",
        "        flattened_height_points = \",\".join([f\"{lat},{lon}\" for lat, lon in height_points])  # Fix formatting\n",
        "\n",
        "        elevations_url = \"http://dev.virtualearth.net/REST/v1/Elevation/List\"\n",
        "        elevations_params = {\n",
        "            \"points\": flattened_height_points,\n",
        "            \"heights\": \"ellipsoid\",\n",
        "            \"key\": BingMapsAPIKey\n",
        "        }\n",
        "        elevations_resp = requests.get(elevations_url, params=elevations_params)\n",
        "        elevations_json_resp = json.loads(elevations_resp.text)\n",
        "        elevations = elevations_json_resp['resourceSets'][0]['resources'][0]['elevations']\n",
        "        differences = [builtins.max(0, elevations[i+1] - elevations[i]) for i in range(len(elevations)-1)]\n",
        "        height_gain = sum(differences)\n",
        "\n",
        "        df = spark.createDataFrame(\n",
        "            [(StartCP, FinishCP, travel_distance, height_gain)],\n",
        "            'StartCP string, FinishCP string, Distance float, Height_Gain int'\n",
        "        )\n",
        "        Distances_DF = Distances_DF.union(df)\n",
        "\n",
        "    display(Distances_DF)\n",
        "\n",
        "else:\n",
        "    print(f\"Skipping BingMaps Cell, selected service: {API_Service}\")"
      ]
    },
    {
      "cell_type": "markdown",
      "source": [
        "### Calculate leg timings for each Checkpoint Combination<a class=\"anchor\" id=\"cp-combo-times\"></a>"
      ],
      "metadata": {
        "id": "j8fHkR2Qa9jR"
      }
    },
    {
      "cell_type": "code",
      "execution_count": null,
      "metadata": {
        "application/vnd.databricks.v1+cell": {
          "cellMetadata": {
            "byteLimit": 2048000,
            "rowLimit": 10000
          },
          "inputWidgets": {},
          "nuid": "51921329-df6c-48f8-af63-e073dcdd5f8d",
          "showTitle": true,
          "tableResultSettingsMap": {},
          "title": "Add time to the Distances_DF"
        },
        "id": "5htF-2JVZOjq",
        "outputId": "3e5f1c82-698b-47b9-c5ca-9145369e76dd"
      },
      "outputs": [
        {
          "output_type": "display_data",
          "data": {
            "text/html": [
              "<style scoped>\n",
              "  .table-result-container {\n",
              "    max-height: 300px;\n",
              "    overflow: auto;\n",
              "  }\n",
              "  table, th, td {\n",
              "    border: 1px solid black;\n",
              "    border-collapse: collapse;\n",
              "  }\n",
              "  th, td {\n",
              "    padding: 5px;\n",
              "  }\n",
              "  th {\n",
              "    text-align: left;\n",
              "  }\n",
              "</style><div class='table-result-container'><table class='table-result'><thead style='background-color: white'><tr><th>StartCP</th><th>FinishCP</th><th>Distance</th><th>Height_Gain</th><th>TimeInMinutes</th></tr></thead><tbody><tr><td>CP2</td><td>CP1</td><td>1.755</td><td>39</td><td>23.76792447432032</td></tr><tr><td>CP3</td><td>CP1</td><td>2.729</td><td>48</td><td>35.69434065908756</td></tr><tr><td>CP4</td><td>CP1</td><td>6.986</td><td>197</td><td>98.78679314379423</td></tr><tr><td>CP5</td><td>CP1</td><td>3.443</td><td>132</td><td>52.1773593758637</td></tr><tr><td>CP6</td><td>CP1</td><td>2.036</td><td>123</td><td>35.34905675492197</td></tr><tr><td>CP7</td><td>CP1</td><td>0.765</td><td>33</td><td>11.96037719654587</td></tr><tr><td>E1</td><td>CP1</td><td>0.747</td><td>3</td><td>8.75660353606602</td></tr><tr><td>E10U</td><td>CP1</td><td>1.894</td><td>35</td><td>24.941510038555794</td></tr><tr><td>E2R</td><td>CP1</td><td>3.42</td><td>18</td><td>40.51698199578051</td></tr><tr><td>E3</td><td>CP1</td><td>2.678</td><td>212</td><td>51.5169808297787</td></tr><tr><td>E4R</td><td>CP1</td><td>1.315</td><td>65</td><td>21.38679310060897</td></tr><tr><td>E5</td><td>CP1</td><td>2.953</td><td>188</td><td>52.23018945657982</td></tr><tr><td>E6</td><td>CP1</td><td>4.912</td><td>224</td><td>78.00754919951817</td></tr><tr><td>E7U</td><td>CP1</td><td>5.696</td><td>135</td><td>77.98301999074108</td></tr><tr><td>E8</td><td>CP1</td><td>6.911</td><td>275</td><td>105.73773330112674</td></tr><tr><td>E9U</td><td>CP1</td><td>1.459</td><td>47</td><td>21.216981034908656</td></tr><tr><td>Finish</td><td>CP1</td><td>1.556</td><td>111</td><td>28.71509427484476</td></tr><tr><td>Start</td><td>CP1</td><td>3.194</td><td>116</td><td>47.758490630815615</td></tr><tr><td>CP1</td><td>CP2</td><td>1.755</td><td>59</td><td>25.767924474320324</td></tr><tr><td>CP3</td><td>CP2</td><td>1.319</td><td>10</td><td>15.932075536475992</td></tr><tr><td>CP4</td><td>CP2</td><td>6.364</td><td>119</td><td>83.9452812482726</td></tr><tr><td>CP5</td><td>CP2</td><td>3.251</td><td>74</td><td>44.20377276438587</td></tr><tr><td>CP6</td><td>CP2</td><td>2.316</td><td>139</td><td>40.1188677517873</td></tr><tr><td>CP7</td><td>CP2</td><td>2.308</td><td>85</td><td>34.628302880053255</td></tr><tr><td>E1</td><td>CP2</td><td>2.186</td><td>57</td><td>30.44717104210044</td></tr><tr><td>E10U</td><td>CP2</td><td>2.545</td><td>62</td><td>35.01132161842202</td></tr><tr><td>E2R</td><td>CP2</td><td>1.715</td><td>0</td><td>19.4150947174936</td></tr><tr><td>E3</td><td>CP2</td><td>4.36</td><td>227</td><td>72.05849207752156</td></tr><tr><td>E4R</td><td>CP2</td><td>2.203</td><td>108</td><td>35.739623418843976</td></tr><tr><td>E5</td><td>CP2</td><td>3.254</td><td>200</td><td>56.8377352660557</td></tr><tr><td>E6</td><td>CP2</td><td>5.023</td><td>170</td><td>73.8641482659106</td></tr><tr><td>E7U</td><td>CP2</td><td>4.871</td><td>67</td><td>61.84339411033775</td></tr><tr><td>E8</td><td>CP2</td><td>7.022</td><td>221</td><td>101.59433776567568</td></tr><tr><td>E9U</td><td>CP2</td><td>1.117</td><td>43</td><td>16.945282835330605</td></tr><tr><td>Finish</td><td>CP2</td><td>3.238</td><td>126</td><td>49.25660282350936</td></tr><tr><td>Start</td><td>CP2</td><td>2.493</td><td>40</td><td>32.22264185491598</td></tr><tr><td>CP1</td><td>CP3</td><td>2.729</td><td>97</td><td>40.594340659087564</td></tr><tr><td>CP2</td><td>CP3</td><td>1.319</td><td>39</td><td>18.83207553647599</td></tr><tr><td>CP4</td><td>CP3</td><td>5.14</td><td>113</td><td>69.48867773379921</td></tr><tr><td>CP5</td><td>CP3</td><td>2.464</td><td>94</td><td>37.29433947149313</td></tr><tr><td>CP6</td><td>CP3</td><td>1.981</td><td>164</td><td>38.82641448974609</td></tr><tr><td>CP7</td><td>CP3</td><td>3.211</td><td>132</td><td>49.55094300755914</td></tr><tr><td>E1</td><td>CP3</td><td>3.16</td><td>96</td><td>45.37358587732855</td></tr><tr><td>E10U</td><td>CP3</td><td>3.831</td><td>95</td><td>52.86981233560814</td></tr><tr><td>E2R</td><td>CP3</td><td>2.872</td><td>23</td><td>34.81320730965093</td></tr><tr><td>E3</td><td>CP3</td><td>5.136</td><td>274</td><td>85.54339799701043</td></tr><tr><td>E4R</td><td>CP3</td><td>2.425</td><td>136</td><td>41.0528296488636</td></tr><tr><td>E5</td><td>CP3</td><td>2.919</td><td>225</td><td>55.5452820040145</td></tr><tr><td>E6</td><td>CP3</td><td>4.236</td><td>191</td><td>67.0547176720961</td></tr><tr><td>E7U</td><td>CP3</td><td>3.647</td><td>61</td><td>47.386793294942606</td></tr><tr><td>E8</td><td>CP3</td><td>6.235</td><td>242</td><td>94.78490717186119</td></tr><tr><td>E9U</td><td>CP3</td><td>1.269</td><td>72</td><td>21.566038340442585</td></tr><tr><td>Finish</td><td>CP3</td><td>4.212</td><td>164</td><td>64.08301765873748</td></tr><tr><td>Start</td><td>CP3</td><td>1.706</td><td>60</td><td>25.31320721248411</td></tr><tr><td>CP1</td><td>CP4</td><td>6.986</td><td>197</td><td>98.78679314379423</td></tr><tr><td>CP2</td><td>CP4</td><td>6.364</td><td>99</td><td>81.9452812482726</td></tr><tr><td>CP3</td><td>CP4</td><td>5.14</td><td>64</td><td>64.5886777337992</td></tr><tr><td>CP5</td><td>CP4</td><td>3.542</td><td>98</td><td>49.89811383373333</td></tr><tr><td>CP6</td><td>CP4</td><td>5.174</td><td>199</td><td>78.47358248728625</td></tr><tr><td>CP7</td><td>CP4</td><td>6.881</td><td>233</td><td>101.19811368258495</td></tr><tr><td>E1</td><td>CP4</td><td>7.615</td><td>201</td><td>106.3075445786962</td></tr><tr><td>E10U</td><td>CP4</td><td>8.624</td><td>231</td><td>120.73018410160856</td></tr><tr><td>E2R</td><td>CP4</td><td>7.909</td><td>83</td><td>97.83584814971347</td></tr><tr><td>E3</td><td>CP4</td><td>7.892</td><td>269</td><td>116.2433984720482</td></tr><tr><td>E4R</td><td>CP4</td><td>5.875</td><td>223</td><td>88.80943396226415</td></tr><tr><td>E5</td><td>CP4</td><td>4.357</td><td>215</td><td>70.82452687677348</td></tr><tr><td>E6</td><td>CP4</td><td>2.308</td><td>164</td><td>42.528302880053246</td></tr><tr><td>E7U</td><td>CP4</td><td>1.492</td><td>3</td><td>17.19056585419853</td></tr><tr><td>E8</td><td>CP4</td><td>1.828</td><td>186</td><td>39.294339050436925</td></tr><tr><td>E9U</td><td>CP4</td><td>6.04</td><td>168</td><td>85.17735805871352</td></tr><tr><td>Finish</td><td>CP4</td><td>7.621</td><td>229</td><td>109.17546958203584</td></tr><tr><td>Start</td><td>CP4</td><td>4.353</td><td>118</td><td>61.0792471399847</td></tr><tr><td>CP1</td><td>CP5</td><td>3.443</td><td>98</td><td>48.77735937586371</td></tr><tr><td>CP2</td><td>CP5</td><td>3.251</td><td>20</td><td>38.80377276438587</td></tr><tr><td>CP3</td><td>CP5</td><td>2.464</td><td>11</td><td>28.99433947149313</td></tr><tr><td>CP4</td><td>CP5</td><td>3.542</td><td>64</td><td>46.49811383373333</td></tr><tr><td>CP6</td><td>CP5</td><td>1.631</td><td>100</td><td>28.464151418434</td></tr><tr><td>CP7</td><td>CP5</td><td>3.338</td><td>134</td><td>51.18867991465442</td></tr><tr><td>E1</td><td>CP5</td><td>4.072</td><td>102</td><td>56.29811350984393</td></tr><tr><td>E10U</td><td>CP5</td><td>5.081</td><td>132</td><td>70.7207530327563</td></tr><tr><td>E2R</td><td>CP5</td><td>4.967</td><td>20</td><td>58.230188765615786</td></tr><tr><td>E3</td><td>CP5</td><td>4.918</td><td>205</td><td>76.17547420285783</td></tr><tr><td>E4R</td><td>CP5</td><td>2.332</td><td>125</td><td>38.900000194333636</td></tr><tr><td>E5</td><td>CP5</td><td>1.631</td><td>154</td><td>33.864151418434</td></tr><tr><td>E6</td><td>CP5</td><td>1.829</td><td>122</td><td>32.905660334173234</td></tr><tr><td>E7U</td><td>CP5</td><td>2.697</td><td>23</td><td>32.83207577399488</td></tr><tr><td>E8</td><td>CP5</td><td>3.828</td><td>173</td><td>60.63584983393831</td></tr><tr><td>E9U</td><td>CP5</td><td>2.497</td><td>69</td><td>35.167924290783</td></tr><tr><td>Finish</td><td>CP5</td><td>4.253</td><td>142</td><td>62.34716734976139</td></tr><tr><td>Start</td><td>CP5</td><td>0.81</td><td>19</td><td>11.0698113477455</td></tr><tr><td>CP1</td><td>CP6</td><td>2.036</td><td>9</td><td>23.949056754921966</td></tr><tr><td>CP2</td><td>CP6</td><td>2.316</td><td>5</td><td>26.718867751787297</td></tr><tr><td>CP3</td><td>CP6</td><td>1.981</td><td>1</td><td>22.526414489746095</td></tr><tr><td>CP4</td><td>CP6</td><td>5.174</td><td>85</td><td>67.07358248728626</td></tr><tr><td>CP5</td><td>CP6</td><td>1.631</td><td>20</td><td>20.464151418434</td></tr><tr><td>CP7</td><td>CP6</td><td>1.931</td><td>46</td><td>26.46037729371269</td></tr><tr><td>E1</td><td>CP6</td><td>2.665</td><td>13</td><td>31.4698108889022</td></tr><tr><td>E10U</td><td>CP6</td><td>3.674</td><td>43</td><td>45.892453110892816</td></tr><tr><td>E2R</td><td>CP6</td><td>4.032</td><td>5</td><td>46.14528375301721</td></tr><tr><td>E3</td><td>CP6</td><td>3.511</td><td>116</td><td>51.34716888283784</td></tr><tr><td>E4R</td><td>CP6</td><td>0.925</td><td>37</td><td>14.171698248161459</td></tr><tr><td>E5</td><td>CP6</td><td>0.938</td><td>61</td><td>16.71886818903797</td></tr><tr><td>E6</td><td>CP6</td><td>3.1</td><td>112</td><td>46.29433854301021</td></tr><tr><td>E7U</td><td>CP6</td><td>3.884</td><td>23</td><td>46.269812033311375</td></tr><tr><td>E8</td><td>CP6</td><td>4.997</td><td>161</td><td>72.6698137823141</td></tr><tr><td>E9U</td><td>CP6</td><td>1.241</td><td>4</td><td>14.449057240756053</td></tr><tr><td>Finish</td><td>CP6</td><td>2.846</td><td>53</td><td>37.5188674278979</td></tr><tr><td>Start</td><td>CP6</td><td>1.382</td><td>4</td><td>16.045282673385906</td></tr><tr><td>CP1</td><td>CP7</td><td>0.765</td><td>4</td><td>9.060377196545872</td></tr><tr><td>CP2</td><td>CP7</td><td>2.308</td><td>36</td><td>29.728302880053253</td></tr><tr><td>CP3</td><td>CP7</td><td>3.211</td><td>54</td><td>41.750943007559144</td></tr><tr><td>CP4</td><td>CP7</td><td>6.942</td><td>180</td><td>96.58867825202223</td></tr><tr><td>CP5</td><td>CP7</td><td>3.399</td><td>115</td><td>49.9792444840917</td></tr><tr><td>CP6</td><td>CP7</td><td>1.992</td><td>106</td><td>33.15094321268909</td></tr><tr><td>E1</td><td>CP7</td><td>1.045</td><td>0</td><td>11.830188193411198</td></tr><tr><td>E10U</td><td>CP7</td><td>1.937</td><td>20</td><td>23.928302297052348</td></tr><tr><td>E2R</td><td>CP7</td><td>3.933</td><td>34</td><td>47.924529295147586</td></tr><tr><td>E3</td><td>CP7</td><td>2.193</td><td>150</td><td>39.82641597963729</td></tr><tr><td>E4R</td><td>CP7</td><td>1.005</td><td>43</td><td>15.677358436584473</td></tr><tr><td>E5</td><td>CP7</td><td>2.754</td><td>158</td><td>46.977357907565136</td></tr><tr><td>E6</td><td>CP7</td><td>4.824</td><td>195</td><td>74.11131941597418</td></tr><tr><td>E7U</td><td>CP7</td><td>5.652</td><td>118</td><td>75.78490509896908</td></tr><tr><td>E8</td><td>CP7</td><td>6.765</td><td>252</td><td>101.78490414889355</td></tr><tr><td>E9U</td><td>CP7</td><td>2.026</td><td>54</td><td>28.335849315715286</td></tr><tr><td>Finish</td><td>CP7</td><td>1.149</td><td>59</td><td>18.907547720423285</td></tr><tr><td>Start</td><td>CP7</td><td>3.15</td><td>99</td><td>45.560378438121866</td></tr><tr><td>CP1</td><td>E1</td><td>0.747</td><td>69</td><td>15.35660353606602</td></tr><tr><td>CP2</td><td>E1</td><td>2.186</td><td>103</td><td>35.047171042100445</td></tr><tr><td>CP3</td><td>E1</td><td>3.16</td><td>113</td><td>47.073585877328554</td></tr><tr><td>CP4</td><td>E1</td><td>7.615</td><td>267</td><td>112.9075445786962</td></tr><tr><td>CP5</td><td>E1</td><td>4.072</td><td>202</td><td>66.29811350984393</td></tr><tr><td>CP6</td><td>E1</td><td>2.665</td><td>193</td><td>49.4698108889022</td></tr><tr><td>CP7</td><td>E1</td><td>1.045</td><td>95</td><td>21.330188193411196</td></tr><tr><td>E10U</td><td>E1</td><td>1.147</td><td>32</td><td>16.18490515295065</td></tr><tr><td>E2R</td><td>E1</td><td>3.371</td><td>84</td><td>46.562264733944296</td></tr><tr><td>E3</td><td>E1</td><td>2.445</td><td>242</td><td>51.87924452727696</td></tr><tr><td>E4R</td><td>E1</td><td>1.851</td><td>132</td><td>34.15471643052011</td></tr><tr><td>E5</td><td>E1</td><td>3.459</td><td>262</td><td>65.35849181841004</td></tr><tr><td>E6</td><td>E1</td><td>5.541</td><td>294</td><td>92.12830063442016</td></tr><tr><td>E7U</td><td>E1</td><td>6.325</td><td>205</td><td>92.10377142564306</td></tr><tr><td>E8</td><td>E1</td><td>7.54</td><td>345</td><td>119.85849013418522</td></tr><tr><td>E9U</td><td>E1</td><td>1.89</td><td>112</td><td>32.59622625314964</td></tr><tr><td>Finish</td><td>E1</td><td>1.323</td><td>141</td><td>29.077357972343016</td></tr><tr><td>Start</td><td>E1</td><td>3.73</td><td>132</td><td>55.42641531026588</td></tr><tr><td>CP1</td><td>E10U</td><td>1.894</td><td>83</td><td>29.741510038555795</td></tr><tr><td>CP2</td><td>E10U</td><td>2.545</td><td>90</td><td>37.81132161842202</td></tr><tr><td>CP3</td><td>E10U</td><td>3.831</td><td>94</td><td>52.76981233560814</td></tr><tr><td>CP4</td><td>E10U</td><td>8.624</td><td>279</td><td>125.53018410160857</td></tr><tr><td>CP5</td><td>E10U</td><td>5.081</td><td>214</td><td>78.9207530327563</td></tr><tr><td>CP6</td><td>E10U</td><td>3.674</td><td>205</td><td>62.09245311089282</td></tr><tr><td>CP7</td><td>E10U</td><td>1.937</td><td>97</td><td>31.628302297052347</td></tr><tr><td>E1</td><td>E10U</td><td>1.147</td><td>14</td><td>14.384905152950648</td></tr><tr><td>E2R</td><td>E10U</td><td>2.845</td><td>65</td><td>38.707547493700716</td></tr><tr><td>E3</td><td>E10U</td><td>2.846</td><td>224</td><td>54.618867427897904</td></tr><tr><td>E4R</td><td>E10U</td><td>2.86</td><td>144</td><td>46.77735730297161</td></tr><tr><td>E5</td><td>E10U</td><td>4.468</td><td>274</td><td>77.98113134132242</td></tr><tr><td>E6</td><td>E10U</td><td>6.55</td><td>306</td><td>104.75094555548904</td></tr><tr><td>E7U</td><td>E10U</td><td>7.334</td><td>217</td><td>104.72641634671193</td></tr><tr><td>E8</td><td>E10U</td><td>8.549</td><td>357</td><td>132.4811296570976</td></tr><tr><td>E9U</td><td>E10U</td><td>3.037</td><td>125</td><td>46.881131406100295</td></tr><tr><td>Finish</td><td>E10U</td><td>1.713</td><td>120</td><td>31.392453499560087</td></tr><tr><td>Start</td><td>E10U</td><td>4.832</td><td>198</td><td>74.50188428770822</td></tr><tr><td>CP1</td><td>E2R</td><td>3.42</td><td>133</td><td>52.01698199578051</td></tr><tr><td>CP2</td><td>E2R</td><td>1.715</td><td>95</td><td>28.9150947174936</td></tr><tr><td>CP3</td><td>E2R</td><td>2.872</td><td>89</td><td>41.41320730965093</td></tr><tr><td>CP4</td><td>E2R</td><td>7.909</td><td>198</td><td>109.33584814971347</td></tr><tr><td>CP5</td><td>E2R</td><td>4.967</td><td>169</td><td>73.13018876561578</td></tr><tr><td>CP6</td><td>E2R</td><td>4.032</td><td>234</td><td>69.0452837530172</td></tr><tr><td>CP7</td><td>E2R</td><td>3.933</td><td>178</td><td>62.324529295147585</td></tr><tr><td>E1</td><td>E2R</td><td>3.371</td><td>133</td><td>51.462264733944295</td></tr><tr><td>E10U</td><td>E2R</td><td>2.845</td><td>132</td><td>45.40754749370072</td></tr><tr><td>E3</td><td>E2R</td><td>5.592</td><td>368</td><td>100.10566046372901</td></tr><tr><td>E4R</td><td>E2R</td><td>3.893</td><td>198</td><td>63.87169683924262</td></tr><tr><td>E5</td><td>E2R</td><td>4.97</td><td>295</td><td>85.76414856820736</td></tr><tr><td>E6</td><td>E2R</td><td>6.739</td><td>265</td><td>102.79056426714051</td></tr><tr><td>E7U</td><td>E2R</td><td>6.416</td><td>146</td><td>87.23396101177863</td></tr><tr><td>E8</td><td>E2R</td><td>8.738</td><td>316</td><td>130.52075376690559</td></tr><tr><td>E9U</td><td>E2R</td><td>2.833</td><td>138</td><td>45.87169748702139</td></tr><tr><td>Finish</td><td>E2R</td><td>4.442</td><td>264</td><td>76.68679145956939</td></tr><tr><td>Start</td><td>E2R</td><td>4.209</td><td>135</td><td>61.149057856145895</td></tr><tr><td>CP1</td><td>E3</td><td>2.678</td><td>41</td><td>34.41698082977871</td></tr><tr><td>CP2</td><td>E3</td><td>4.36</td><td>36</td><td>52.95849207752156</td></tr><tr><td>CP3</td><td>E3</td><td>5.136</td><td>54</td><td>63.54339799701043</td></tr><tr><td>CP4</td><td>E3</td><td>7.892</td><td>98</td><td>99.1433984720482</td></tr><tr><td>CP5</td><td>E3</td><td>4.918</td><td>68</td><td>62.475474202857825</td></tr><tr><td>CP6</td><td>E3</td><td>3.511</td><td>59</td><td>45.64716888283784</td></tr><tr><td>CP7</td><td>E3</td><td>2.193</td><td>8</td><td>25.62641597963729</td></tr><tr><td>E1</td><td>E3</td><td>2.445</td><td>5</td><td>28.17924452727696</td></tr><tr><td>E10U</td><td>E3</td><td>2.831</td><td>6</td><td>32.64905761862701</td></tr><tr><td>E2R</td><td>E3</td><td>5.56</td><td>83</td><td>71.24339557863631</td></tr><tr><td>E4R</td><td>E3</td><td>2.93</td><td>43</td><td>37.46981207649663</td></tr><tr><td>E5</td><td>E3</td><td>3.725</td><td>64</td><td>48.56981024112342</td></tr><tr><td>E6</td><td>E3</td><td>5.721</td><td>100</td><td>74.76603993829691</td></tr><tr><td>E7U</td><td>E3</td><td>7.171</td><td>71</td><td>88.28113211865694</td></tr><tr><td>E8</td><td>E3</td><td>7.413</td><td>117</td><td>95.6207559261682</td></tr><tr><td>E9U</td><td>E3</td><td>3.951</td><td>54</td><td>50.128301606088314</td></tr><tr><td>Finish</td><td>E3</td><td>1.14</td><td>1</td><td>13.005660215413794</td></tr><tr><td>Start</td><td>E3</td><td>4.669</td><td>51</td><td>57.95660545780974</td></tr><tr><td>CP1</td><td>E4R</td><td>1.315</td><td>2</td><td>15.086793100608968</td></tr><tr><td>CP2</td><td>E4R</td><td>2.203</td><td>25</td><td>27.439623418843972</td></tr><tr><td>CP3</td><td>E4R</td><td>2.425</td><td>24</td><td>29.852829648863597</td></tr><tr><td>CP4</td><td>E4R</td><td>5.875</td><td>160</td><td>82.50943396226415</td></tr><tr><td>CP5</td><td>E4R</td><td>2.332</td><td>96</td><td>36.00000019433364</td></tr><tr><td>CP6</td><td>E4R</td><td>0.925</td><td>88</td><td>19.27169824816146</td></tr><tr><td>CP7</td><td>E4R</td><td>1.005</td><td>9</td><td>12.277358436584473</td></tr><tr><td>E1</td><td>E4R</td><td>1.851</td><td>3</td><td>21.254716430520112</td></tr><tr><td>E10U</td><td>E4R</td><td>2.86</td><td>33</td><td>35.67735730297161</td></tr><tr><td>E2R</td><td>E4R</td><td>3.893</td><td>20</td><td>46.07169683924261</td></tr><tr><td>E3</td><td>E4R</td><td>2.93</td><td>151</td><td>48.269812076496635</td></tr><tr><td>E5</td><td>E4R</td><td>1.725</td><td>131</td><td>32.62830215670028</td></tr><tr><td>E6</td><td>E4R</td><td>3.801</td><td>188</td><td>61.8301900179881</td></tr><tr><td>E7U</td><td>E4R</td><td>4.585</td><td>99</td><td>61.80566080921101</td></tr><tr><td>E8</td><td>E4R</td><td>5.8</td><td>239</td><td>89.56037951775318</td></tr><tr><td>E9U</td><td>E4R</td><td>1.24</td><td>24</td><td>16.437735957019733</td></tr><tr><td>Finish</td><td>E4R</td><td>2.078</td><td>62</td><td>29.72452907922133</td></tr><tr><td>Start</td><td>E4R</td><td>2.083</td><td>80</td><td>31.581131449285543</td></tr><tr><td>CP1</td><td>E5</td><td>2.923</td><td>19</td><td>34.99056713895978</td></tr><tr><td>CP2</td><td>E5</td><td>3.254</td><td>5</td><td>37.3377352660557</td></tr><tr><td>CP3</td><td>E5</td><td>2.919</td><td>1</td><td>33.145282004014504</td></tr><tr><td>CP4</td><td>E5</td><td>4.357</td><td>40</td><td>53.324526876773476</td></tr><tr><td>CP5</td><td>E5</td><td>1.631</td><td>13</td><td>19.764151418434</td></tr><tr><td>CP6</td><td>E5</td><td>0.938</td><td>0</td><td>10.618868189037972</td></tr><tr><td>CP7</td><td>E5</td><td>2.731</td><td>26</td><td>33.51698052748194</td></tr><tr><td>E1</td><td>E5</td><td>3.459</td><td>21</td><td>41.25849181841005</td></tr><tr><td>E10U</td><td>E5</td><td>4.468</td><td>51</td><td>55.68113134132242</td></tr><tr><td>E2R</td><td>E5</td><td>4.97</td><td>5</td><td>56.76414856820736</td></tr><tr><td>E3</td><td>E5</td><td>3.725</td><td>60</td><td>48.16981024112342</td></tr><tr><td>E4R</td><td>E5</td><td>1.725</td><td>19</td><td>21.428302156700276</td></tr><tr><td>E6</td><td>E5</td><td>2.186</td><td>39</td><td>28.64717104210044</td></tr><tr><td>E7U</td><td>E5</td><td>3.884</td><td>16</td><td>45.56981203331138</td></tr><tr><td>E8</td><td>E5</td><td>4.127</td><td>96</td><td>56.32075307594156</td></tr><tr><td>E9U</td><td>E5</td><td>2.179</td><td>4</td><td>25.06792340548533</td></tr><tr><td>Finish</td><td>E5</td><td>3.38</td><td>16</td><td>39.86415223895379</td></tr><tr><td>Start</td><td>E5</td><td>1.419</td><td>2</td><td>16.26415127808193</td></tr><tr><td>CP1</td><td>E6</td><td>4.912</td><td>88</td><td>64.40754919951817</td></tr><tr><td>CP2</td><td>E6</td><td>5.023</td><td>14</td><td>58.2641482659106</td></tr><tr><td>CP3</td><td>E6</td><td>4.236</td><td>6</td><td>48.55471767209611</td></tr><tr><td>CP4</td><td>E6</td><td>2.308</td><td>28</td><td>28.928302880053252</td></tr><tr><td>CP5</td><td>E6</td><td>1.829</td><td>20</td><td>22.70566033417324</td></tr><tr><td>CP6</td><td>E6</td><td>3.1</td><td>90</td><td>44.09433854301021</td></tr><tr><td>CP7</td><td>E6</td><td>4.807</td><td>125</td><td>66.91886973830889</td></tr><tr><td>E1</td><td>E6</td><td>5.541</td><td>92</td><td>71.92830063442015</td></tr><tr><td>E10U</td><td>E6</td><td>6.55</td><td>122</td><td>86.35094555548903</td></tr><tr><td>E2R</td><td>E6</td><td>6.739</td><td>14</td><td>77.69056426714052</td></tr><tr><td>E3</td><td>E6</td><td>5.721</td><td>135</td><td>78.26603993829691</td></tr><tr><td>E4R</td><td>E6</td><td>3.801</td><td>115</td><td>54.530190017988105</td></tr><tr><td>E5</td><td>E6</td><td>2.186</td><td>78</td><td>32.54717104210044</td></tr><tr><td>E7U</td><td>E6</td><td>2.334</td><td>10</td><td>27.422642761806273</td></tr><tr><td>E8</td><td>E6</td><td>2.045</td><td>57</td><td>28.850944259931456</td></tr><tr><td>E9U</td><td>E6</td><td>4.03</td><td>77</td><td>53.32264388462283</td></tr><tr><td>Finish</td><td>E6</td><td>5.45</td><td>92</td><td>70.89811104828456</td></tr><tr><td>Start</td><td>E6</td><td>2.562</td><td>11</td><td>30.103773995165557</td></tr><tr><td>CP1</td><td>E7U</td><td>5.696</td><td>184</td><td>82.88301999074108</td></tr><tr><td>CP2</td><td>E7U</td><td>4.871</td><td>96</td><td>64.74339411033775</td></tr><tr><td>CP3</td><td>E7U</td><td>3.647</td><td>61</td><td>47.386793294942606</td></tr><tr><td>CP4</td><td>E7U</td><td>1.492</td><td>52</td><td>22.090565854198527</td></tr><tr><td>CP5</td><td>E7U</td><td>2.697</td><td>106</td><td>41.13207577399488</td></tr><tr><td>CP6</td><td>E7U</td><td>3.884</td><td>186</td><td>62.56981203331138</td></tr><tr><td>CP7</td><td>E7U</td><td>5.591</td><td>220</td><td>85.29434052953181</td></tr><tr><td>E1</td><td>E7U</td><td>6.325</td><td>188</td><td>90.40377142564306</td></tr><tr><td>E10U</td><td>E7U</td><td>7.334</td><td>218</td><td>104.82641634671192</td></tr><tr><td>E2R</td><td>E7U</td><td>6.416</td><td>80</td><td>80.63396101177864</td></tr><tr><td>E3</td><td>E7U</td><td>7.171</td><td>291</td><td>110.28113211865696</td></tr><tr><td>E4R</td><td>E7U</td><td>4.585</td><td>211</td><td>73.00566080921101</td></tr><tr><td>E5</td><td>E7U</td><td>3.884</td><td>240</td><td>67.96981203331137</td></tr><tr><td>E6</td><td>E7U</td><td>2.334</td><td>195</td><td>45.92264276180627</td></tr><tr><td>E8</td><td>E7U</td><td>3.094</td><td>256</td><td>60.6264162387488</td></tr><tr><td>E9U</td><td>E7U</td><td>4.662</td><td>129</td><td>65.67736052027288</td></tr><tr><td>Finish</td><td>E7U</td><td>6.506</td><td>228</td><td>96.45283066371702</td></tr><tr><td>Start</td><td>E7U</td><td>2.915</td><td>99</td><td>42.89999956814748</td></tr><tr><td>CP1</td><td>E8</td><td>6.911</td><td>91</td><td>87.33773330112673</td></tr><tr><td>CP2</td><td>E8</td><td>7.022</td><td>17</td><td>81.19433776567568</td></tr><tr><td>CP3</td><td>E8</td><td>6.235</td><td>9</td><td>71.4849071718612</td></tr><tr><td>CP4</td><td>E8</td><td>1.828</td><td>2</td><td>20.894339050436923</td></tr><tr><td>CP5</td><td>E8</td><td>3.828</td><td>23</td><td>45.63584983393831</td></tr><tr><td>CP6</td><td>E8</td><td>4.997</td><td>91</td><td>65.66981378231408</td></tr><tr><td>CP7</td><td>E8</td><td>6.806</td><td>127</td><td>89.74905923807397</td></tr><tr><td>E1</td><td>E8</td><td>7.54</td><td>95</td><td>94.85849013418522</td></tr><tr><td>E10U</td><td>E8</td><td>8.549</td><td>125</td><td>109.28112965709758</td></tr><tr><td>E2R</td><td>E8</td><td>8.738</td><td>17</td><td>100.6207537669056</td></tr><tr><td>E3</td><td>E8</td><td>7.413</td><td>104</td><td>94.3207559261682</td></tr><tr><td>E4R</td><td>E8</td><td>5.8</td><td>118</td><td>77.46037951775317</td></tr><tr><td>E5</td><td>E8</td><td>4.127</td><td>87</td><td>55.42075307594156</td></tr><tr><td>E6</td><td>E8</td><td>2.045</td><td>9</td><td>24.050944259931455</td></tr><tr><td>E7U</td><td>E8</td><td>3.094</td><td>23</td><td>37.3264162387488</td></tr><tr><td>E9U</td><td>E8</td><td>6.029</td><td>80</td><td>76.25282798623138</td></tr><tr><td>Finish</td><td>E8</td><td>7.391</td><td>101</td><td>93.77169578120393</td></tr><tr><td>Start</td><td>E8</td><td>4.561</td><td>14</td><td>53.03396079585237</td></tr><tr><td>CP1</td><td>E9U</td><td>1.459</td><td>25</td><td>19.016981034908657</td></tr><tr><td>CP2</td><td>E9U</td><td>1.117</td><td>1</td><td>12.745282835330604</td></tr><tr><td>CP3</td><td>E9U</td><td>1.269</td><td>1</td><td>14.466038340442585</td></tr><tr><td>CP4</td><td>E9U</td><td>6.04</td><td>146</td><td>82.97735805871352</td></tr><tr><td>CP5</td><td>E9U</td><td>2.497</td><td>81</td><td>36.367924290783</td></tr><tr><td>CP6</td><td>E9U</td><td>1.241</td><td>96</td><td>23.64905724075605</td></tr><tr><td>CP7</td><td>E9U</td><td>2.026</td><td>61</td><td>29.035849315715282</td></tr><tr><td>E1</td><td>E9U</td><td>1.89</td><td>24</td><td>23.79622625314964</td></tr><tr><td>E10U</td><td>E9U</td><td>3.037</td><td>55</td><td>39.881131406100295</td></tr><tr><td>E2R</td><td>E9U</td><td>2.833</td><td>1</td><td>32.17169748702139</td></tr><tr><td>E3</td><td>E9U</td><td>3.951</td><td>203</td><td>65.02830160608832</td></tr><tr><td>E4R</td><td>E9U</td><td>1.24</td><td>65</td><td>20.537735957019734</td></tr><tr><td>E5</td><td>E9U</td><td>2.179</td><td>157</td><td>40.36792340548533</td></tr><tr><td>E6</td><td>E9U</td><td>4.03</td><td>191</td><td>64.72264388462283</td></tr><tr><td>E7U</td><td>E9U</td><td>4.662</td><td>58</td><td>58.57736052027288</td></tr><tr><td>E8</td><td>E9U</td><td>6.029</td><td>242</td><td>92.45282798623138</td></tr><tr><td>Finish</td><td>E9U</td><td>2.942</td><td>92</td><td>42.5056593840977</td></tr><tr><td>Start</td><td>E9U</td><td>1.839</td><td>21</td><td>22.91886777337992</td></tr><tr><td>CP1</td><td>Finish</td><td>1.556</td><td>44</td><td>22.015094274844763</td></tr><tr><td>CP2</td><td>Finish</td><td>3.238</td><td>39</td><td>40.55660282350936</td></tr><tr><td>CP3</td><td>Finish</td><td>4.212</td><td>48</td><td>52.48301765873747</td></tr><tr><td>CP4</td><td>Finish</td><td>7.621</td><td>162</td><td>102.47546958203586</td></tr><tr><td>CP5</td><td>Finish</td><td>4.253</td><td>109</td><td>59.04716734976139</td></tr><tr><td>CP6</td><td>Finish</td><td>2.846</td><td>100</td><td>42.218867427897905</td></tr><tr><td>CP7</td><td>Finish</td><td>1.149</td><td>21</td><td>15.107547720423284</td></tr><tr><td>E1</td><td>Finish</td><td>1.323</td><td>8</td><td>15.777357972343015</td></tr><tr><td>E10U</td><td>Finish</td><td>1.713</td><td>5</td><td>19.892453499560087</td></tr><tr><td>E2R</td><td>Finish</td><td>4.442</td><td>82</td><td>58.48679145956939</td></tr><tr><td>E3</td><td>Finish</td><td>1.14</td><td>105</td><td>23.405660215413796</td></tr><tr><td>E4R</td><td>Finish</td><td>2.078</td><td>58</td><td>29.324529079221332</td></tr><tr><td>E5</td><td>Finish</td><td>3.38</td><td>124</td><td>50.66415223895379</td></tr><tr><td>E6</td><td>Finish</td><td>5.45</td><td>161</td><td>77.79811104828457</td></tr><tr><td>E7U</td><td>Finish</td><td>6.506</td><td>112</td><td>84.85283066371703</td></tr><tr><td>E8</td><td>Finish</td><td>7.391</td><td>218</td><td>105.47169578120393</td></tr><tr><td>E9U</td><td>Finish</td><td>2.942</td><td>47</td><td>38.0056593840977</td></tr><tr><td>Start</td><td>Finish</td><td>4.004</td><td>92</td><td>54.5283040028698</td></tr><tr><td>CP1</td><td>Start</td><td>3.194</td><td>105</td><td>46.65849063081561</td></tr><tr><td>CP2</td><td>Start</td><td>2.493</td><td>9</td><td>29.12264185491598</td></tr><tr><td>CP3</td><td>Start</td><td>1.706</td><td>0</td><td>19.31320721248411</td></tr><tr><td>CP4</td><td>Start</td><td>4.353</td><td>107</td><td>59.97924713998471</td></tr><tr><td>CP5</td><td>Start</td><td>0.81</td><td>42</td><td>13.3698113477455</td></tr><tr><td>CP6</td><td>Start</td><td>1.382</td><td>107</td><td>26.345282673385906</td></tr><tr><td>CP7</td><td>Start</td><td>3.089</td><td>141</td><td>49.06981116960634</td></tr><tr><td>E1</td><td>Start</td><td>3.73</td><td>55</td><td>47.726415310265885</td></tr><tr><td>E10U</td><td>Start</td><td>4.832</td><td>139</td><td>68.60188428770822</td></tr><tr><td>E2R</td><td>Start</td><td>4.209</td><td>9</td><td>48.54905785614589</td></tr><tr><td>E3</td><td>Start</td><td>4.669</td><td>211</td><td>73.95660545780973</td></tr><tr><td>E4R</td><td>Start</td><td>2.083</td><td>132</td><td>36.78113144928554</td></tr><tr><td>E5</td><td>Start</td><td>1.419</td><td>166</td><td>32.66415127808193</td></tr><tr><td>E6</td><td>Start</td><td>2.562</td><td>136</td><td>42.603773995165554</td></tr><tr><td>E7U</td><td>Start</td><td>2.915</td><td>39</td><td>36.89999956814748</td></tr><tr><td>E8</td><td>Start</td><td>4.561</td><td>187</td><td>70.33396079585238</td></tr><tr><td>E9U</td><td>Start</td><td>1.839</td><td>32</td><td>24.018867773379917</td></tr><tr><td>Finish</td><td>Start</td><td>4.004</td><td>148</td><td>60.12830400286981</td></tr></tbody></table></div>"
            ]
          },
          "metadata": {
            "application/vnd.databricks.v1+output": {
              "addedWidgets": {},
              "aggData": [],
              "aggError": "",
              "aggOverflow": false,
              "aggSchema": [],
              "aggSeriesLimitReached": false,
              "aggType": "",
              "arguments": {},
              "columnCustomDisplayInfos": {},
              "data": [
                [
                  "CP2",
                  "CP1",
                  1.755,
                  39,
                  23.76792447432032
                ],
                [
                  "CP3",
                  "CP1",
                  2.729,
                  48,
                  35.69434065908756
                ],
                [
                  "CP4",
                  "CP1",
                  6.986,
                  197,
                  98.78679314379423
                ],
                [
                  "CP5",
                  "CP1",
                  3.443,
                  132,
                  52.1773593758637
                ],
                [
                  "CP6",
                  "CP1",
                  2.036,
                  123,
                  35.34905675492197
                ],
                [
                  "CP7",
                  "CP1",
                  0.765,
                  33,
                  11.96037719654587
                ],
                [
                  "E1",
                  "CP1",
                  0.747,
                  3,
                  8.75660353606602
                ],
                [
                  "E10U",
                  "CP1",
                  1.894,
                  35,
                  24.941510038555794
                ],
                [
                  "E2R",
                  "CP1",
                  3.42,
                  18,
                  40.51698199578051
                ],
                [
                  "E3",
                  "CP1",
                  2.678,
                  212,
                  51.5169808297787
                ],
                [
                  "E4R",
                  "CP1",
                  1.315,
                  65,
                  21.38679310060897
                ],
                [
                  "E5",
                  "CP1",
                  2.953,
                  188,
                  52.23018945657982
                ],
                [
                  "E6",
                  "CP1",
                  4.912,
                  224,
                  78.00754919951817
                ],
                [
                  "E7U",
                  "CP1",
                  5.696,
                  135,
                  77.98301999074108
                ],
                [
                  "E8",
                  "CP1",
                  6.911,
                  275,
                  105.73773330112674
                ],
                [
                  "E9U",
                  "CP1",
                  1.459,
                  47,
                  21.216981034908656
                ],
                [
                  "Finish",
                  "CP1",
                  1.556,
                  111,
                  28.71509427484476
                ],
                [
                  "Start",
                  "CP1",
                  3.194,
                  116,
                  47.758490630815615
                ],
                [
                  "CP1",
                  "CP2",
                  1.755,
                  59,
                  25.767924474320324
                ],
                [
                  "CP3",
                  "CP2",
                  1.319,
                  10,
                  15.932075536475992
                ],
                [
                  "CP4",
                  "CP2",
                  6.364,
                  119,
                  83.9452812482726
                ],
                [
                  "CP5",
                  "CP2",
                  3.251,
                  74,
                  44.20377276438587
                ],
                [
                  "CP6",
                  "CP2",
                  2.316,
                  139,
                  40.1188677517873
                ],
                [
                  "CP7",
                  "CP2",
                  2.308,
                  85,
                  34.628302880053255
                ],
                [
                  "E1",
                  "CP2",
                  2.186,
                  57,
                  30.44717104210044
                ],
                [
                  "E10U",
                  "CP2",
                  2.545,
                  62,
                  35.01132161842202
                ],
                [
                  "E2R",
                  "CP2",
                  1.715,
                  0,
                  19.4150947174936
                ],
                [
                  "E3",
                  "CP2",
                  4.36,
                  227,
                  72.05849207752156
                ],
                [
                  "E4R",
                  "CP2",
                  2.203,
                  108,
                  35.739623418843976
                ],
                [
                  "E5",
                  "CP2",
                  3.254,
                  200,
                  56.8377352660557
                ],
                [
                  "E6",
                  "CP2",
                  5.023,
                  170,
                  73.8641482659106
                ],
                [
                  "E7U",
                  "CP2",
                  4.871,
                  67,
                  61.84339411033775
                ],
                [
                  "E8",
                  "CP2",
                  7.022,
                  221,
                  101.59433776567568
                ],
                [
                  "E9U",
                  "CP2",
                  1.117,
                  43,
                  16.945282835330605
                ],
                [
                  "Finish",
                  "CP2",
                  3.238,
                  126,
                  49.25660282350936
                ],
                [
                  "Start",
                  "CP2",
                  2.493,
                  40,
                  32.22264185491598
                ],
                [
                  "CP1",
                  "CP3",
                  2.729,
                  97,
                  40.594340659087564
                ],
                [
                  "CP2",
                  "CP3",
                  1.319,
                  39,
                  18.83207553647599
                ],
                [
                  "CP4",
                  "CP3",
                  5.14,
                  113,
                  69.48867773379921
                ],
                [
                  "CP5",
                  "CP3",
                  2.464,
                  94,
                  37.29433947149313
                ],
                [
                  "CP6",
                  "CP3",
                  1.981,
                  164,
                  38.82641448974609
                ],
                [
                  "CP7",
                  "CP3",
                  3.211,
                  132,
                  49.55094300755914
                ],
                [
                  "E1",
                  "CP3",
                  3.16,
                  96,
                  45.37358587732855
                ],
                [
                  "E10U",
                  "CP3",
                  3.831,
                  95,
                  52.86981233560814
                ],
                [
                  "E2R",
                  "CP3",
                  2.872,
                  23,
                  34.81320730965093
                ],
                [
                  "E3",
                  "CP3",
                  5.136,
                  274,
                  85.54339799701043
                ],
                [
                  "E4R",
                  "CP3",
                  2.425,
                  136,
                  41.0528296488636
                ],
                [
                  "E5",
                  "CP3",
                  2.919,
                  225,
                  55.5452820040145
                ],
                [
                  "E6",
                  "CP3",
                  4.236,
                  191,
                  67.0547176720961
                ],
                [
                  "E7U",
                  "CP3",
                  3.647,
                  61,
                  47.386793294942606
                ],
                [
                  "E8",
                  "CP3",
                  6.235,
                  242,
                  94.78490717186119
                ],
                [
                  "E9U",
                  "CP3",
                  1.269,
                  72,
                  21.566038340442585
                ],
                [
                  "Finish",
                  "CP3",
                  4.212,
                  164,
                  64.08301765873748
                ],
                [
                  "Start",
                  "CP3",
                  1.706,
                  60,
                  25.31320721248411
                ],
                [
                  "CP1",
                  "CP4",
                  6.986,
                  197,
                  98.78679314379423
                ],
                [
                  "CP2",
                  "CP4",
                  6.364,
                  99,
                  81.9452812482726
                ],
                [
                  "CP3",
                  "CP4",
                  5.14,
                  64,
                  64.5886777337992
                ],
                [
                  "CP5",
                  "CP4",
                  3.542,
                  98,
                  49.89811383373333
                ],
                [
                  "CP6",
                  "CP4",
                  5.174,
                  199,
                  78.47358248728625
                ],
                [
                  "CP7",
                  "CP4",
                  6.881,
                  233,
                  101.19811368258495
                ],
                [
                  "E1",
                  "CP4",
                  7.615,
                  201,
                  106.3075445786962
                ],
                [
                  "E10U",
                  "CP4",
                  8.624,
                  231,
                  120.73018410160856
                ],
                [
                  "E2R",
                  "CP4",
                  7.909,
                  83,
                  97.83584814971347
                ],
                [
                  "E3",
                  "CP4",
                  7.892,
                  269,
                  116.2433984720482
                ],
                [
                  "E4R",
                  "CP4",
                  5.875,
                  223,
                  88.80943396226415
                ],
                [
                  "E5",
                  "CP4",
                  4.357,
                  215,
                  70.82452687677348
                ],
                [
                  "E6",
                  "CP4",
                  2.308,
                  164,
                  42.528302880053246
                ],
                [
                  "E7U",
                  "CP4",
                  1.492,
                  3,
                  17.19056585419853
                ],
                [
                  "E8",
                  "CP4",
                  1.828,
                  186,
                  39.294339050436925
                ],
                [
                  "E9U",
                  "CP4",
                  6.04,
                  168,
                  85.17735805871352
                ],
                [
                  "Finish",
                  "CP4",
                  7.621,
                  229,
                  109.17546958203584
                ],
                [
                  "Start",
                  "CP4",
                  4.353,
                  118,
                  61.0792471399847
                ],
                [
                  "CP1",
                  "CP5",
                  3.443,
                  98,
                  48.77735937586371
                ],
                [
                  "CP2",
                  "CP5",
                  3.251,
                  20,
                  38.80377276438587
                ],
                [
                  "CP3",
                  "CP5",
                  2.464,
                  11,
                  28.99433947149313
                ],
                [
                  "CP4",
                  "CP5",
                  3.542,
                  64,
                  46.49811383373333
                ],
                [
                  "CP6",
                  "CP5",
                  1.631,
                  100,
                  28.464151418434
                ],
                [
                  "CP7",
                  "CP5",
                  3.338,
                  134,
                  51.18867991465442
                ],
                [
                  "E1",
                  "CP5",
                  4.072,
                  102,
                  56.29811350984393
                ],
                [
                  "E10U",
                  "CP5",
                  5.081,
                  132,
                  70.7207530327563
                ],
                [
                  "E2R",
                  "CP5",
                  4.967,
                  20,
                  58.230188765615786
                ],
                [
                  "E3",
                  "CP5",
                  4.918,
                  205,
                  76.17547420285783
                ],
                [
                  "E4R",
                  "CP5",
                  2.332,
                  125,
                  38.900000194333636
                ],
                [
                  "E5",
                  "CP5",
                  1.631,
                  154,
                  33.864151418434
                ],
                [
                  "E6",
                  "CP5",
                  1.829,
                  122,
                  32.905660334173234
                ],
                [
                  "E7U",
                  "CP5",
                  2.697,
                  23,
                  32.83207577399488
                ],
                [
                  "E8",
                  "CP5",
                  3.828,
                  173,
                  60.63584983393831
                ],
                [
                  "E9U",
                  "CP5",
                  2.497,
                  69,
                  35.167924290783
                ],
                [
                  "Finish",
                  "CP5",
                  4.253,
                  142,
                  62.34716734976139
                ],
                [
                  "Start",
                  "CP5",
                  0.81,
                  19,
                  11.0698113477455
                ],
                [
                  "CP1",
                  "CP6",
                  2.036,
                  9,
                  23.949056754921966
                ],
                [
                  "CP2",
                  "CP6",
                  2.316,
                  5,
                  26.718867751787297
                ],
                [
                  "CP3",
                  "CP6",
                  1.981,
                  1,
                  22.526414489746095
                ],
                [
                  "CP4",
                  "CP6",
                  5.174,
                  85,
                  67.07358248728626
                ],
                [
                  "CP5",
                  "CP6",
                  1.631,
                  20,
                  20.464151418434
                ],
                [
                  "CP7",
                  "CP6",
                  1.931,
                  46,
                  26.46037729371269
                ],
                [
                  "E1",
                  "CP6",
                  2.665,
                  13,
                  31.4698108889022
                ],
                [
                  "E10U",
                  "CP6",
                  3.674,
                  43,
                  45.892453110892816
                ],
                [
                  "E2R",
                  "CP6",
                  4.032,
                  5,
                  46.14528375301721
                ],
                [
                  "E3",
                  "CP6",
                  3.511,
                  116,
                  51.34716888283784
                ],
                [
                  "E4R",
                  "CP6",
                  0.925,
                  37,
                  14.171698248161459
                ],
                [
                  "E5",
                  "CP6",
                  0.938,
                  61,
                  16.71886818903797
                ],
                [
                  "E6",
                  "CP6",
                  3.1,
                  112,
                  46.29433854301021
                ],
                [
                  "E7U",
                  "CP6",
                  3.884,
                  23,
                  46.269812033311375
                ],
                [
                  "E8",
                  "CP6",
                  4.997,
                  161,
                  72.6698137823141
                ],
                [
                  "E9U",
                  "CP6",
                  1.241,
                  4,
                  14.449057240756053
                ],
                [
                  "Finish",
                  "CP6",
                  2.846,
                  53,
                  37.5188674278979
                ],
                [
                  "Start",
                  "CP6",
                  1.382,
                  4,
                  16.045282673385906
                ],
                [
                  "CP1",
                  "CP7",
                  0.765,
                  4,
                  9.060377196545872
                ],
                [
                  "CP2",
                  "CP7",
                  2.308,
                  36,
                  29.728302880053253
                ],
                [
                  "CP3",
                  "CP7",
                  3.211,
                  54,
                  41.750943007559144
                ],
                [
                  "CP4",
                  "CP7",
                  6.942,
                  180,
                  96.58867825202223
                ],
                [
                  "CP5",
                  "CP7",
                  3.399,
                  115,
                  49.9792444840917
                ],
                [
                  "CP6",
                  "CP7",
                  1.992,
                  106,
                  33.15094321268909
                ],
                [
                  "E1",
                  "CP7",
                  1.045,
                  0,
                  11.830188193411198
                ],
                [
                  "E10U",
                  "CP7",
                  1.937,
                  20,
                  23.928302297052348
                ],
                [
                  "E2R",
                  "CP7",
                  3.933,
                  34,
                  47.924529295147586
                ],
                [
                  "E3",
                  "CP7",
                  2.193,
                  150,
                  39.82641597963729
                ],
                [
                  "E4R",
                  "CP7",
                  1.005,
                  43,
                  15.677358436584473
                ],
                [
                  "E5",
                  "CP7",
                  2.754,
                  158,
                  46.977357907565136
                ],
                [
                  "E6",
                  "CP7",
                  4.824,
                  195,
                  74.11131941597418
                ],
                [
                  "E7U",
                  "CP7",
                  5.652,
                  118,
                  75.78490509896908
                ],
                [
                  "E8",
                  "CP7",
                  6.765,
                  252,
                  101.78490414889355
                ],
                [
                  "E9U",
                  "CP7",
                  2.026,
                  54,
                  28.335849315715286
                ],
                [
                  "Finish",
                  "CP7",
                  1.149,
                  59,
                  18.907547720423285
                ],
                [
                  "Start",
                  "CP7",
                  3.15,
                  99,
                  45.560378438121866
                ],
                [
                  "CP1",
                  "E1",
                  0.747,
                  69,
                  15.35660353606602
                ],
                [
                  "CP2",
                  "E1",
                  2.186,
                  103,
                  35.047171042100445
                ],
                [
                  "CP3",
                  "E1",
                  3.16,
                  113,
                  47.073585877328554
                ],
                [
                  "CP4",
                  "E1",
                  7.615,
                  267,
                  112.9075445786962
                ],
                [
                  "CP5",
                  "E1",
                  4.072,
                  202,
                  66.29811350984393
                ],
                [
                  "CP6",
                  "E1",
                  2.665,
                  193,
                  49.4698108889022
                ],
                [
                  "CP7",
                  "E1",
                  1.045,
                  95,
                  21.330188193411196
                ],
                [
                  "E10U",
                  "E1",
                  1.147,
                  32,
                  16.18490515295065
                ],
                [
                  "E2R",
                  "E1",
                  3.371,
                  84,
                  46.562264733944296
                ],
                [
                  "E3",
                  "E1",
                  2.445,
                  242,
                  51.87924452727696
                ],
                [
                  "E4R",
                  "E1",
                  1.851,
                  132,
                  34.15471643052011
                ],
                [
                  "E5",
                  "E1",
                  3.459,
                  262,
                  65.35849181841004
                ],
                [
                  "E6",
                  "E1",
                  5.541,
                  294,
                  92.12830063442016
                ],
                [
                  "E7U",
                  "E1",
                  6.325,
                  205,
                  92.10377142564306
                ],
                [
                  "E8",
                  "E1",
                  7.54,
                  345,
                  119.85849013418522
                ],
                [
                  "E9U",
                  "E1",
                  1.89,
                  112,
                  32.59622625314964
                ],
                [
                  "Finish",
                  "E1",
                  1.323,
                  141,
                  29.077357972343016
                ],
                [
                  "Start",
                  "E1",
                  3.73,
                  132,
                  55.42641531026588
                ],
                [
                  "CP1",
                  "E10U",
                  1.894,
                  83,
                  29.741510038555795
                ],
                [
                  "CP2",
                  "E10U",
                  2.545,
                  90,
                  37.81132161842202
                ],
                [
                  "CP3",
                  "E10U",
                  3.831,
                  94,
                  52.76981233560814
                ],
                [
                  "CP4",
                  "E10U",
                  8.624,
                  279,
                  125.53018410160857
                ],
                [
                  "CP5",
                  "E10U",
                  5.081,
                  214,
                  78.9207530327563
                ],
                [
                  "CP6",
                  "E10U",
                  3.674,
                  205,
                  62.09245311089282
                ],
                [
                  "CP7",
                  "E10U",
                  1.937,
                  97,
                  31.628302297052347
                ],
                [
                  "E1",
                  "E10U",
                  1.147,
                  14,
                  14.384905152950648
                ],
                [
                  "E2R",
                  "E10U",
                  2.845,
                  65,
                  38.707547493700716
                ],
                [
                  "E3",
                  "E10U",
                  2.846,
                  224,
                  54.618867427897904
                ],
                [
                  "E4R",
                  "E10U",
                  2.86,
                  144,
                  46.77735730297161
                ],
                [
                  "E5",
                  "E10U",
                  4.468,
                  274,
                  77.98113134132242
                ],
                [
                  "E6",
                  "E10U",
                  6.55,
                  306,
                  104.75094555548904
                ],
                [
                  "E7U",
                  "E10U",
                  7.334,
                  217,
                  104.72641634671193
                ],
                [
                  "E8",
                  "E10U",
                  8.549,
                  357,
                  132.4811296570976
                ],
                [
                  "E9U",
                  "E10U",
                  3.037,
                  125,
                  46.881131406100295
                ],
                [
                  "Finish",
                  "E10U",
                  1.713,
                  120,
                  31.392453499560087
                ],
                [
                  "Start",
                  "E10U",
                  4.832,
                  198,
                  74.50188428770822
                ],
                [
                  "CP1",
                  "E2R",
                  3.42,
                  133,
                  52.01698199578051
                ],
                [
                  "CP2",
                  "E2R",
                  1.715,
                  95,
                  28.9150947174936
                ],
                [
                  "CP3",
                  "E2R",
                  2.872,
                  89,
                  41.41320730965093
                ],
                [
                  "CP4",
                  "E2R",
                  7.909,
                  198,
                  109.33584814971347
                ],
                [
                  "CP5",
                  "E2R",
                  4.967,
                  169,
                  73.13018876561578
                ],
                [
                  "CP6",
                  "E2R",
                  4.032,
                  234,
                  69.0452837530172
                ],
                [
                  "CP7",
                  "E2R",
                  3.933,
                  178,
                  62.324529295147585
                ],
                [
                  "E1",
                  "E2R",
                  3.371,
                  133,
                  51.462264733944295
                ],
                [
                  "E10U",
                  "E2R",
                  2.845,
                  132,
                  45.40754749370072
                ],
                [
                  "E3",
                  "E2R",
                  5.592,
                  368,
                  100.10566046372901
                ],
                [
                  "E4R",
                  "E2R",
                  3.893,
                  198,
                  63.87169683924262
                ],
                [
                  "E5",
                  "E2R",
                  4.97,
                  295,
                  85.76414856820736
                ],
                [
                  "E6",
                  "E2R",
                  6.739,
                  265,
                  102.79056426714051
                ],
                [
                  "E7U",
                  "E2R",
                  6.416,
                  146,
                  87.23396101177863
                ],
                [
                  "E8",
                  "E2R",
                  8.738,
                  316,
                  130.52075376690559
                ],
                [
                  "E9U",
                  "E2R",
                  2.833,
                  138,
                  45.87169748702139
                ],
                [
                  "Finish",
                  "E2R",
                  4.442,
                  264,
                  76.68679145956939
                ],
                [
                  "Start",
                  "E2R",
                  4.209,
                  135,
                  61.149057856145895
                ],
                [
                  "CP1",
                  "E3",
                  2.678,
                  41,
                  34.41698082977871
                ],
                [
                  "CP2",
                  "E3",
                  4.36,
                  36,
                  52.95849207752156
                ],
                [
                  "CP3",
                  "E3",
                  5.136,
                  54,
                  63.54339799701043
                ],
                [
                  "CP4",
                  "E3",
                  7.892,
                  98,
                  99.1433984720482
                ],
                [
                  "CP5",
                  "E3",
                  4.918,
                  68,
                  62.475474202857825
                ],
                [
                  "CP6",
                  "E3",
                  3.511,
                  59,
                  45.64716888283784
                ],
                [
                  "CP7",
                  "E3",
                  2.193,
                  8,
                  25.62641597963729
                ],
                [
                  "E1",
                  "E3",
                  2.445,
                  5,
                  28.17924452727696
                ],
                [
                  "E10U",
                  "E3",
                  2.831,
                  6,
                  32.64905761862701
                ],
                [
                  "E2R",
                  "E3",
                  5.56,
                  83,
                  71.24339557863631
                ],
                [
                  "E4R",
                  "E3",
                  2.93,
                  43,
                  37.46981207649663
                ],
                [
                  "E5",
                  "E3",
                  3.725,
                  64,
                  48.56981024112342
                ],
                [
                  "E6",
                  "E3",
                  5.721,
                  100,
                  74.76603993829691
                ],
                [
                  "E7U",
                  "E3",
                  7.171,
                  71,
                  88.28113211865694
                ],
                [
                  "E8",
                  "E3",
                  7.413,
                  117,
                  95.6207559261682
                ],
                [
                  "E9U",
                  "E3",
                  3.951,
                  54,
                  50.128301606088314
                ],
                [
                  "Finish",
                  "E3",
                  1.14,
                  1,
                  13.005660215413794
                ],
                [
                  "Start",
                  "E3",
                  4.669,
                  51,
                  57.95660545780974
                ],
                [
                  "CP1",
                  "E4R",
                  1.315,
                  2,
                  15.086793100608968
                ],
                [
                  "CP2",
                  "E4R",
                  2.203,
                  25,
                  27.439623418843972
                ],
                [
                  "CP3",
                  "E4R",
                  2.425,
                  24,
                  29.852829648863597
                ],
                [
                  "CP4",
                  "E4R",
                  5.875,
                  160,
                  82.50943396226415
                ],
                [
                  "CP5",
                  "E4R",
                  2.332,
                  96,
                  36.00000019433364
                ],
                [
                  "CP6",
                  "E4R",
                  0.925,
                  88,
                  19.27169824816146
                ],
                [
                  "CP7",
                  "E4R",
                  1.005,
                  9,
                  12.277358436584473
                ],
                [
                  "E1",
                  "E4R",
                  1.851,
                  3,
                  21.254716430520112
                ],
                [
                  "E10U",
                  "E4R",
                  2.86,
                  33,
                  35.67735730297161
                ],
                [
                  "E2R",
                  "E4R",
                  3.893,
                  20,
                  46.07169683924261
                ],
                [
                  "E3",
                  "E4R",
                  2.93,
                  151,
                  48.269812076496635
                ],
                [
                  "E5",
                  "E4R",
                  1.725,
                  131,
                  32.62830215670028
                ],
                [
                  "E6",
                  "E4R",
                  3.801,
                  188,
                  61.8301900179881
                ],
                [
                  "E7U",
                  "E4R",
                  4.585,
                  99,
                  61.80566080921101
                ],
                [
                  "E8",
                  "E4R",
                  5.8,
                  239,
                  89.56037951775318
                ],
                [
                  "E9U",
                  "E4R",
                  1.24,
                  24,
                  16.437735957019733
                ],
                [
                  "Finish",
                  "E4R",
                  2.078,
                  62,
                  29.72452907922133
                ],
                [
                  "Start",
                  "E4R",
                  2.083,
                  80,
                  31.581131449285543
                ],
                [
                  "CP1",
                  "E5",
                  2.923,
                  19,
                  34.99056713895978
                ],
                [
                  "CP2",
                  "E5",
                  3.254,
                  5,
                  37.3377352660557
                ],
                [
                  "CP3",
                  "E5",
                  2.919,
                  1,
                  33.145282004014504
                ],
                [
                  "CP4",
                  "E5",
                  4.357,
                  40,
                  53.324526876773476
                ],
                [
                  "CP5",
                  "E5",
                  1.631,
                  13,
                  19.764151418434
                ],
                [
                  "CP6",
                  "E5",
                  0.938,
                  0,
                  10.618868189037972
                ],
                [
                  "CP7",
                  "E5",
                  2.731,
                  26,
                  33.51698052748194
                ],
                [
                  "E1",
                  "E5",
                  3.459,
                  21,
                  41.25849181841005
                ],
                [
                  "E10U",
                  "E5",
                  4.468,
                  51,
                  55.68113134132242
                ],
                [
                  "E2R",
                  "E5",
                  4.97,
                  5,
                  56.76414856820736
                ],
                [
                  "E3",
                  "E5",
                  3.725,
                  60,
                  48.16981024112342
                ],
                [
                  "E4R",
                  "E5",
                  1.725,
                  19,
                  21.428302156700276
                ],
                [
                  "E6",
                  "E5",
                  2.186,
                  39,
                  28.64717104210044
                ],
                [
                  "E7U",
                  "E5",
                  3.884,
                  16,
                  45.56981203331138
                ],
                [
                  "E8",
                  "E5",
                  4.127,
                  96,
                  56.32075307594156
                ],
                [
                  "E9U",
                  "E5",
                  2.179,
                  4,
                  25.06792340548533
                ],
                [
                  "Finish",
                  "E5",
                  3.38,
                  16,
                  39.86415223895379
                ],
                [
                  "Start",
                  "E5",
                  1.419,
                  2,
                  16.26415127808193
                ],
                [
                  "CP1",
                  "E6",
                  4.912,
                  88,
                  64.40754919951817
                ],
                [
                  "CP2",
                  "E6",
                  5.023,
                  14,
                  58.2641482659106
                ],
                [
                  "CP3",
                  "E6",
                  4.236,
                  6,
                  48.55471767209611
                ],
                [
                  "CP4",
                  "E6",
                  2.308,
                  28,
                  28.928302880053252
                ],
                [
                  "CP5",
                  "E6",
                  1.829,
                  20,
                  22.70566033417324
                ],
                [
                  "CP6",
                  "E6",
                  3.1,
                  90,
                  44.09433854301021
                ],
                [
                  "CP7",
                  "E6",
                  4.807,
                  125,
                  66.91886973830889
                ],
                [
                  "E1",
                  "E6",
                  5.541,
                  92,
                  71.92830063442015
                ],
                [
                  "E10U",
                  "E6",
                  6.55,
                  122,
                  86.35094555548903
                ],
                [
                  "E2R",
                  "E6",
                  6.739,
                  14,
                  77.69056426714052
                ],
                [
                  "E3",
                  "E6",
                  5.721,
                  135,
                  78.26603993829691
                ],
                [
                  "E4R",
                  "E6",
                  3.801,
                  115,
                  54.530190017988105
                ],
                [
                  "E5",
                  "E6",
                  2.186,
                  78,
                  32.54717104210044
                ],
                [
                  "E7U",
                  "E6",
                  2.334,
                  10,
                  27.422642761806273
                ],
                [
                  "E8",
                  "E6",
                  2.045,
                  57,
                  28.850944259931456
                ],
                [
                  "E9U",
                  "E6",
                  4.03,
                  77,
                  53.32264388462283
                ],
                [
                  "Finish",
                  "E6",
                  5.45,
                  92,
                  70.89811104828456
                ],
                [
                  "Start",
                  "E6",
                  2.562,
                  11,
                  30.103773995165557
                ],
                [
                  "CP1",
                  "E7U",
                  5.696,
                  184,
                  82.88301999074108
                ],
                [
                  "CP2",
                  "E7U",
                  4.871,
                  96,
                  64.74339411033775
                ],
                [
                  "CP3",
                  "E7U",
                  3.647,
                  61,
                  47.386793294942606
                ],
                [
                  "CP4",
                  "E7U",
                  1.492,
                  52,
                  22.090565854198527
                ],
                [
                  "CP5",
                  "E7U",
                  2.697,
                  106,
                  41.13207577399488
                ],
                [
                  "CP6",
                  "E7U",
                  3.884,
                  186,
                  62.56981203331138
                ],
                [
                  "CP7",
                  "E7U",
                  5.591,
                  220,
                  85.29434052953181
                ],
                [
                  "E1",
                  "E7U",
                  6.325,
                  188,
                  90.40377142564306
                ],
                [
                  "E10U",
                  "E7U",
                  7.334,
                  218,
                  104.82641634671192
                ],
                [
                  "E2R",
                  "E7U",
                  6.416,
                  80,
                  80.63396101177864
                ],
                [
                  "E3",
                  "E7U",
                  7.171,
                  291,
                  110.28113211865696
                ],
                [
                  "E4R",
                  "E7U",
                  4.585,
                  211,
                  73.00566080921101
                ],
                [
                  "E5",
                  "E7U",
                  3.884,
                  240,
                  67.96981203331137
                ],
                [
                  "E6",
                  "E7U",
                  2.334,
                  195,
                  45.92264276180627
                ],
                [
                  "E8",
                  "E7U",
                  3.094,
                  256,
                  60.6264162387488
                ],
                [
                  "E9U",
                  "E7U",
                  4.662,
                  129,
                  65.67736052027288
                ],
                [
                  "Finish",
                  "E7U",
                  6.506,
                  228,
                  96.45283066371702
                ],
                [
                  "Start",
                  "E7U",
                  2.915,
                  99,
                  42.89999956814748
                ],
                [
                  "CP1",
                  "E8",
                  6.911,
                  91,
                  87.33773330112673
                ],
                [
                  "CP2",
                  "E8",
                  7.022,
                  17,
                  81.19433776567568
                ],
                [
                  "CP3",
                  "E8",
                  6.235,
                  9,
                  71.4849071718612
                ],
                [
                  "CP4",
                  "E8",
                  1.828,
                  2,
                  20.894339050436923
                ],
                [
                  "CP5",
                  "E8",
                  3.828,
                  23,
                  45.63584983393831
                ],
                [
                  "CP6",
                  "E8",
                  4.997,
                  91,
                  65.66981378231408
                ],
                [
                  "CP7",
                  "E8",
                  6.806,
                  127,
                  89.74905923807397
                ],
                [
                  "E1",
                  "E8",
                  7.54,
                  95,
                  94.85849013418522
                ],
                [
                  "E10U",
                  "E8",
                  8.549,
                  125,
                  109.28112965709758
                ],
                [
                  "E2R",
                  "E8",
                  8.738,
                  17,
                  100.6207537669056
                ],
                [
                  "E3",
                  "E8",
                  7.413,
                  104,
                  94.3207559261682
                ],
                [
                  "E4R",
                  "E8",
                  5.8,
                  118,
                  77.46037951775317
                ],
                [
                  "E5",
                  "E8",
                  4.127,
                  87,
                  55.42075307594156
                ],
                [
                  "E6",
                  "E8",
                  2.045,
                  9,
                  24.050944259931455
                ],
                [
                  "E7U",
                  "E8",
                  3.094,
                  23,
                  37.3264162387488
                ],
                [
                  "E9U",
                  "E8",
                  6.029,
                  80,
                  76.25282798623138
                ],
                [
                  "Finish",
                  "E8",
                  7.391,
                  101,
                  93.77169578120393
                ],
                [
                  "Start",
                  "E8",
                  4.561,
                  14,
                  53.03396079585237
                ],
                [
                  "CP1",
                  "E9U",
                  1.459,
                  25,
                  19.016981034908657
                ],
                [
                  "CP2",
                  "E9U",
                  1.117,
                  1,
                  12.745282835330604
                ],
                [
                  "CP3",
                  "E9U",
                  1.269,
                  1,
                  14.466038340442585
                ],
                [
                  "CP4",
                  "E9U",
                  6.04,
                  146,
                  82.97735805871352
                ],
                [
                  "CP5",
                  "E9U",
                  2.497,
                  81,
                  36.367924290783
                ],
                [
                  "CP6",
                  "E9U",
                  1.241,
                  96,
                  23.64905724075605
                ],
                [
                  "CP7",
                  "E9U",
                  2.026,
                  61,
                  29.035849315715282
                ],
                [
                  "E1",
                  "E9U",
                  1.89,
                  24,
                  23.79622625314964
                ],
                [
                  "E10U",
                  "E9U",
                  3.037,
                  55,
                  39.881131406100295
                ],
                [
                  "E2R",
                  "E9U",
                  2.833,
                  1,
                  32.17169748702139
                ],
                [
                  "E3",
                  "E9U",
                  3.951,
                  203,
                  65.02830160608832
                ],
                [
                  "E4R",
                  "E9U",
                  1.24,
                  65,
                  20.537735957019734
                ],
                [
                  "E5",
                  "E9U",
                  2.179,
                  157,
                  40.36792340548533
                ],
                [
                  "E6",
                  "E9U",
                  4.03,
                  191,
                  64.72264388462283
                ],
                [
                  "E7U",
                  "E9U",
                  4.662,
                  58,
                  58.57736052027288
                ],
                [
                  "E8",
                  "E9U",
                  6.029,
                  242,
                  92.45282798623138
                ],
                [
                  "Finish",
                  "E9U",
                  2.942,
                  92,
                  42.5056593840977
                ],
                [
                  "Start",
                  "E9U",
                  1.839,
                  21,
                  22.91886777337992
                ],
                [
                  "CP1",
                  "Finish",
                  1.556,
                  44,
                  22.015094274844763
                ],
                [
                  "CP2",
                  "Finish",
                  3.238,
                  39,
                  40.55660282350936
                ],
                [
                  "CP3",
                  "Finish",
                  4.212,
                  48,
                  52.48301765873747
                ],
                [
                  "CP4",
                  "Finish",
                  7.621,
                  162,
                  102.47546958203586
                ],
                [
                  "CP5",
                  "Finish",
                  4.253,
                  109,
                  59.04716734976139
                ],
                [
                  "CP6",
                  "Finish",
                  2.846,
                  100,
                  42.218867427897905
                ],
                [
                  "CP7",
                  "Finish",
                  1.149,
                  21,
                  15.107547720423284
                ],
                [
                  "E1",
                  "Finish",
                  1.323,
                  8,
                  15.777357972343015
                ],
                [
                  "E10U",
                  "Finish",
                  1.713,
                  5,
                  19.892453499560087
                ],
                [
                  "E2R",
                  "Finish",
                  4.442,
                  82,
                  58.48679145956939
                ],
                [
                  "E3",
                  "Finish",
                  1.14,
                  105,
                  23.405660215413796
                ],
                [
                  "E4R",
                  "Finish",
                  2.078,
                  58,
                  29.324529079221332
                ],
                [
                  "E5",
                  "Finish",
                  3.38,
                  124,
                  50.66415223895379
                ],
                [
                  "E6",
                  "Finish",
                  5.45,
                  161,
                  77.79811104828457
                ],
                [
                  "E7U",
                  "Finish",
                  6.506,
                  112,
                  84.85283066371703
                ],
                [
                  "E8",
                  "Finish",
                  7.391,
                  218,
                  105.47169578120393
                ],
                [
                  "E9U",
                  "Finish",
                  2.942,
                  47,
                  38.0056593840977
                ],
                [
                  "Start",
                  "Finish",
                  4.004,
                  92,
                  54.5283040028698
                ],
                [
                  "CP1",
                  "Start",
                  3.194,
                  105,
                  46.65849063081561
                ],
                [
                  "CP2",
                  "Start",
                  2.493,
                  9,
                  29.12264185491598
                ],
                [
                  "CP3",
                  "Start",
                  1.706,
                  0,
                  19.31320721248411
                ],
                [
                  "CP4",
                  "Start",
                  4.353,
                  107,
                  59.97924713998471
                ],
                [
                  "CP5",
                  "Start",
                  0.81,
                  42,
                  13.3698113477455
                ],
                [
                  "CP6",
                  "Start",
                  1.382,
                  107,
                  26.345282673385906
                ],
                [
                  "CP7",
                  "Start",
                  3.089,
                  141,
                  49.06981116960634
                ],
                [
                  "E1",
                  "Start",
                  3.73,
                  55,
                  47.726415310265885
                ],
                [
                  "E10U",
                  "Start",
                  4.832,
                  139,
                  68.60188428770822
                ],
                [
                  "E2R",
                  "Start",
                  4.209,
                  9,
                  48.54905785614589
                ],
                [
                  "E3",
                  "Start",
                  4.669,
                  211,
                  73.95660545780973
                ],
                [
                  "E4R",
                  "Start",
                  2.083,
                  132,
                  36.78113144928554
                ],
                [
                  "E5",
                  "Start",
                  1.419,
                  166,
                  32.66415127808193
                ],
                [
                  "E6",
                  "Start",
                  2.562,
                  136,
                  42.603773995165554
                ],
                [
                  "E7U",
                  "Start",
                  2.915,
                  39,
                  36.89999956814748
                ],
                [
                  "E8",
                  "Start",
                  4.561,
                  187,
                  70.33396079585238
                ],
                [
                  "E9U",
                  "Start",
                  1.839,
                  32,
                  24.018867773379917
                ],
                [
                  "Finish",
                  "Start",
                  4.004,
                  148,
                  60.12830400286981
                ]
              ],
              "datasetInfos": [],
              "dbfsResultPath": null,
              "isJsonSchema": true,
              "metadata": {},
              "overflow": false,
              "plotOptions": {
                "customPlotOptions": {},
                "displayType": "table",
                "pivotAggregation": null,
                "pivotColumns": null,
                "xColumns": null,
                "yColumns": null
              },
              "removedWidgets": [],
              "schema": [
                {
                  "metadata": "{}",
                  "name": "StartCP",
                  "type": "\"string\""
                },
                {
                  "metadata": "{}",
                  "name": "FinishCP",
                  "type": "\"string\""
                },
                {
                  "metadata": "{}",
                  "name": "Distance",
                  "type": "\"float\""
                },
                {
                  "metadata": "{}",
                  "name": "Height_Gain",
                  "type": "\"integer\""
                },
                {
                  "metadata": "{}",
                  "name": "TimeInMinutes",
                  "type": "\"double\""
                }
              ],
              "type": "table"
            }
          }
        }
      ],
      "source": [
        "Distances_DF = Distances_DF.withColumn(\"TimeInMinutes\",(col(\"Distance\")/ Speed)*60 + (col(\"Height_Gain\") / AddMinutesPer100mHeight ) )\n",
        "display(Distances_DF)"
      ]
    },
    {
      "cell_type": "markdown",
      "source": [
        "### Pick a Route <a class=\"anchor\" id=\"pick-route\"></a>"
      ],
      "metadata": {
        "id": "gPQafU7FbklF"
      }
    },
    {
      "cell_type": "code",
      "source": [
        "# Define the route and start time\n",
        "route = [\"Start\",\"CP3\", \"E7U\", \"CP4\", \"E8\", \"E6\", \"CP5\", \"E5\", \"E4R\", \"CP6\", \"E9U\",\"CP2\",\"E2R\",\"E10U\", \"E1\", \"CP1\", \"CP7\", \"E3\", \"Finish\"]"
      ],
      "metadata": {
        "id": "Ql212b29bjBZ"
      },
      "execution_count": null,
      "outputs": []
    },
    {
      "cell_type": "markdown",
      "source": [
        "### Calculate route timings <a class=\"anchor\" id=\"route-timings\"></a>"
      ],
      "metadata": {
        "id": "EaQHIyeIba8C"
      }
    },
    {
      "cell_type": "code",
      "execution_count": null,
      "metadata": {
        "application/vnd.databricks.v1+cell": {
          "cellMetadata": {
            "byteLimit": 2048000,
            "rowLimit": 10000
          },
          "inputWidgets": {},
          "nuid": "ed1bece0-7e8d-4a54-9a9f-418dc5c18a99",
          "showTitle": true,
          "tableResultSettingsMap": {},
          "title": "Put in the single route, calc walking times"
        },
        "id": "adVODXtKZOjq",
        "outputId": "4ff42de6-108c-49c3-a2f9-b6a97289d91d"
      },
      "outputs": [
        {
          "output_type": "display_data",
          "data": {
            "text/html": [
              "<style scoped>\n",
              "  .table-result-container {\n",
              "    max-height: 300px;\n",
              "    overflow: auto;\n",
              "  }\n",
              "  table, th, td {\n",
              "    border: 1px solid black;\n",
              "    border-collapse: collapse;\n",
              "  }\n",
              "  th, td {\n",
              "    padding: 5px;\n",
              "  }\n",
              "  th {\n",
              "    text-align: left;\n",
              "  }\n",
              "</style><div class='table-result-container'><table class='table-result'><thead style='background-color: white'><tr><th>StartCP</th><th>FinishCP</th><th>RouteOrder</th><th>Distance</th><th>Height_Gain</th><th>TimeInMinutes</th><th>CumulativeTime</th></tr></thead><tbody><tr><td>Start</td><td>CP3</td><td>0</td><td>1.706</td><td>60</td><td>25.31320721248411</td><td>25.31320721248411</td></tr><tr><td>CP3</td><td>E7U</td><td>1</td><td>3.647</td><td>61</td><td>47.386793294942606</td><td>72.70000050742672</td></tr><tr><td>E7U</td><td>CP4</td><td>2</td><td>1.492</td><td>3</td><td>17.19056585419853</td><td>89.89056636162525</td></tr><tr><td>CP4</td><td>E8</td><td>3</td><td>1.828</td><td>2</td><td>20.894339050436923</td><td>110.78490541206217</td></tr><tr><td>E8</td><td>E6</td><td>4</td><td>2.045</td><td>57</td><td>28.850944259931456</td><td>139.63584967199364</td></tr><tr><td>E6</td><td>CP5</td><td>5</td><td>1.829</td><td>122</td><td>32.905660334173234</td><td>172.54151000616687</td></tr><tr><td>CP5</td><td>E5</td><td>6</td><td>1.631</td><td>13</td><td>19.764151418434</td><td>192.30566142460088</td></tr><tr><td>E5</td><td>E4R</td><td>7</td><td>1.725</td><td>131</td><td>32.62830215670028</td><td>224.93396358130116</td></tr><tr><td>E4R</td><td>CP6</td><td>8</td><td>0.925</td><td>37</td><td>14.171698248161459</td><td>239.1056618294626</td></tr><tr><td>CP6</td><td>E9U</td><td>9</td><td>1.241</td><td>96</td><td>23.64905724075605</td><td>262.75471907021864</td></tr><tr><td>E9U</td><td>CP2</td><td>10</td><td>1.117</td><td>43</td><td>16.945282835330605</td><td>279.70000190554924</td></tr><tr><td>CP2</td><td>E2R</td><td>11</td><td>1.715</td><td>95</td><td>28.9150947174936</td><td>308.61509662304286</td></tr><tr><td>E2R</td><td>E10U</td><td>12</td><td>2.845</td><td>65</td><td>38.707547493700716</td><td>347.32264411674356</td></tr><tr><td>E10U</td><td>E1</td><td>13</td><td>1.147</td><td>32</td><td>16.18490515295065</td><td>363.5075492696942</td></tr><tr><td>E1</td><td>CP1</td><td>14</td><td>0.747</td><td>3</td><td>8.75660353606602</td><td>372.2641528057602</td></tr><tr><td>CP1</td><td>CP7</td><td>15</td><td>0.765</td><td>4</td><td>9.060377196545872</td><td>381.32453000230606</td></tr><tr><td>CP7</td><td>E3</td><td>16</td><td>2.193</td><td>8</td><td>25.62641597963729</td><td>406.95094598194333</td></tr><tr><td>E3</td><td>Finish</td><td>17</td><td>1.14</td><td>105</td><td>23.405660215413796</td><td>430.3566061973571</td></tr></tbody></table></div>"
            ]
          },
          "metadata": {
            "application/vnd.databricks.v1+output": {
              "addedWidgets": {},
              "aggData": [],
              "aggError": "",
              "aggOverflow": false,
              "aggSchema": [],
              "aggSeriesLimitReached": false,
              "aggType": "",
              "arguments": {},
              "columnCustomDisplayInfos": {},
              "data": [
                [
                  "Start",
                  "CP3",
                  0,
                  1.706,
                  60,
                  25.31320721248411,
                  25.31320721248411
                ],
                [
                  "CP3",
                  "E7U",
                  1,
                  3.647,
                  61,
                  47.386793294942606,
                  72.70000050742672
                ],
                [
                  "E7U",
                  "CP4",
                  2,
                  1.492,
                  3,
                  17.19056585419853,
                  89.89056636162525
                ],
                [
                  "CP4",
                  "E8",
                  3,
                  1.828,
                  2,
                  20.894339050436923,
                  110.78490541206217
                ],
                [
                  "E8",
                  "E6",
                  4,
                  2.045,
                  57,
                  28.850944259931456,
                  139.63584967199364
                ],
                [
                  "E6",
                  "CP5",
                  5,
                  1.829,
                  122,
                  32.905660334173234,
                  172.54151000616687
                ],
                [
                  "CP5",
                  "E5",
                  6,
                  1.631,
                  13,
                  19.764151418434,
                  192.30566142460088
                ],
                [
                  "E5",
                  "E4R",
                  7,
                  1.725,
                  131,
                  32.62830215670028,
                  224.93396358130116
                ],
                [
                  "E4R",
                  "CP6",
                  8,
                  0.925,
                  37,
                  14.171698248161459,
                  239.1056618294626
                ],
                [
                  "CP6",
                  "E9U",
                  9,
                  1.241,
                  96,
                  23.64905724075605,
                  262.75471907021864
                ],
                [
                  "E9U",
                  "CP2",
                  10,
                  1.117,
                  43,
                  16.945282835330605,
                  279.70000190554924
                ],
                [
                  "CP2",
                  "E2R",
                  11,
                  1.715,
                  95,
                  28.9150947174936,
                  308.61509662304286
                ],
                [
                  "E2R",
                  "E10U",
                  12,
                  2.845,
                  65,
                  38.707547493700716,
                  347.32264411674356
                ],
                [
                  "E10U",
                  "E1",
                  13,
                  1.147,
                  32,
                  16.18490515295065,
                  363.5075492696942
                ],
                [
                  "E1",
                  "CP1",
                  14,
                  0.747,
                  3,
                  8.75660353606602,
                  372.2641528057602
                ],
                [
                  "CP1",
                  "CP7",
                  15,
                  0.765,
                  4,
                  9.060377196545872,
                  381.32453000230606
                ],
                [
                  "CP7",
                  "E3",
                  16,
                  2.193,
                  8,
                  25.62641597963729,
                  406.95094598194333
                ],
                [
                  "E3",
                  "Finish",
                  17,
                  1.14,
                  105,
                  23.405660215413796,
                  430.3566061973571
                ]
              ],
              "datasetInfos": [],
              "dbfsResultPath": null,
              "isJsonSchema": true,
              "metadata": {},
              "overflow": false,
              "plotOptions": {
                "customPlotOptions": {},
                "displayType": "table",
                "pivotAggregation": null,
                "pivotColumns": null,
                "xColumns": null,
                "yColumns": null
              },
              "removedWidgets": [],
              "schema": [
                {
                  "metadata": "{}",
                  "name": "StartCP",
                  "type": "\"string\""
                },
                {
                  "metadata": "{}",
                  "name": "FinishCP",
                  "type": "\"string\""
                },
                {
                  "metadata": "{}",
                  "name": "RouteOrder",
                  "type": "\"long\""
                },
                {
                  "metadata": "{}",
                  "name": "Distance",
                  "type": "\"float\""
                },
                {
                  "metadata": "{}",
                  "name": "Height_Gain",
                  "type": "\"integer\""
                },
                {
                  "metadata": "{}",
                  "name": "TimeInMinutes",
                  "type": "\"double\""
                },
                {
                  "metadata": "{}",
                  "name": "CumulativeTime",
                  "type": "\"double\""
                }
              ],
              "type": "table"
            }
          }
        }
      ],
      "source": [
        "# Create a DataFrame for the route sequence\n",
        "route_df = spark.createDataFrame([(route[i], route[i+1], i) for i in range(len(route)-1)],\n",
        "                                 [\"StartCP\", \"FinishCP\", \"RouteOrder\"])\n",
        "\n",
        "# Join with Distances_Df to get TimeInMinutes for each leg\n",
        "timing_results_df = (route_df\n",
        "      .join(Distances_DF, [\"StartCP\", \"FinishCP\"], \"left\")\n",
        "      .orderBy(\"RouteOrder\"))\n",
        "\n",
        "# Use a window function to calculate cumulative time\n",
        "window_spec = Window.orderBy(\"RouteOrder\").rowsBetween(Window.unboundedPreceding, 0)\n",
        "timing_results_df = timing_results_df.withColumn(\"CumulativeTime\", F.sum(\"TimeInMinutes\").over(window_spec))\n",
        "\n",
        "# Show results\n",
        "display(timing_results_df)"
      ]
    },
    {
      "cell_type": "markdown",
      "source": [
        "### Calculate checkpoint arrival and departure times for route <a class=\"anchor\" id=\"route-times\"></a>"
      ],
      "metadata": {
        "id": "u0lbWSqzb0Dg"
      }
    },
    {
      "cell_type": "code",
      "execution_count": null,
      "metadata": {
        "application/vnd.databricks.v1+cell": {
          "cellMetadata": {
            "byteLimit": 2048000,
            "rowLimit": 10000
          },
          "inputWidgets": {},
          "nuid": "c7f07b79-71d5-46d4-ba36-cc6036e8c710",
          "showTitle": true,
          "tableResultSettingsMap": {},
          "title": "Calc arrival and leaving times with dwell"
        },
        "id": "OSxo-Z2gZOjr",
        "outputId": "aa90bcf9-84eb-4166-97a3-117e36f334e7"
      },
      "outputs": [
        {
          "output_type": "display_data",
          "data": {
            "text/html": [
              "<style scoped>\n",
              "  .table-result-container {\n",
              "    max-height: 300px;\n",
              "    overflow: auto;\n",
              "  }\n",
              "  table, th, td {\n",
              "    border: 1px solid black;\n",
              "    border-collapse: collapse;\n",
              "  }\n",
              "  th, td {\n",
              "    padding: 5px;\n",
              "  }\n",
              "  th {\n",
              "    text-align: left;\n",
              "  }\n",
              "</style><div class='table-result-container'><table class='table-result'><thead style='background-color: white'><tr><th>StartCP</th><th>FinishCP</th><th>RouteOrder</th><th>Distance</th><th>Height_Gain</th><th>TimeInMinutes</th><th>CumulativeTime</th><th>CumulativeTimeWithDwell</th><th>LeavingTime</th><th>ArrivalTime</th></tr></thead><tbody><tr><td>Start</td><td>CP3</td><td>0</td><td>1.706</td><td>60</td><td>25.31320721248411</td><td>25.31320721248411</td><td>25.31320721248411</td><td>1900-01-01T10:25:00Z</td><td>1900-01-01T10:18:00Z</td></tr><tr><td>CP3</td><td>E7U</td><td>1</td><td>3.647</td><td>61</td><td>47.386793294942606</td><td>72.70000050742672</td><td>79.70000050742672</td><td>1900-01-01T11:19:00Z</td><td>1900-01-01T11:12:00Z</td></tr><tr><td>E7U</td><td>CP4</td><td>2</td><td>1.492</td><td>3</td><td>17.19056585419853</td><td>89.89056636162525</td><td>103.89056636162525</td><td>1900-01-01T11:43:00Z</td><td>1900-01-01T11:36:00Z</td></tr><tr><td>CP4</td><td>E8</td><td>3</td><td>1.828</td><td>2</td><td>20.894339050436923</td><td>110.78490541206217</td><td>131.7849054120622</td><td>1900-01-01T12:11:00Z</td><td>1900-01-01T12:04:00Z</td></tr><tr><td>E8</td><td>E6</td><td>4</td><td>2.045</td><td>57</td><td>28.850944259931456</td><td>139.63584967199364</td><td>167.63584967199364</td><td>1900-01-01T12:47:00Z</td><td>1900-01-01T12:40:00Z</td></tr><tr><td>E6</td><td>CP5</td><td>5</td><td>1.829</td><td>122</td><td>32.905660334173234</td><td>172.54151000616687</td><td>207.54151000616687</td><td>1900-01-01T13:27:00Z</td><td>1900-01-01T13:20:00Z</td></tr><tr><td>CP5</td><td>E5</td><td>6</td><td>1.631</td><td>13</td><td>19.764151418434</td><td>192.30566142460088</td><td>234.30566142460088</td><td>1900-01-01T13:54:00Z</td><td>1900-01-01T13:47:00Z</td></tr><tr><td>E5</td><td>E4R</td><td>7</td><td>1.725</td><td>131</td><td>32.62830215670028</td><td>224.93396358130116</td><td>273.93396358130116</td><td>1900-01-01T14:33:00Z</td><td>1900-01-01T14:26:00Z</td></tr><tr><td>E4R</td><td>CP6</td><td>8</td><td>0.925</td><td>37</td><td>14.171698248161459</td><td>239.1056618294626</td><td>295.10566182946263</td><td>1900-01-01T14:55:00Z</td><td>1900-01-01T14:48:00Z</td></tr><tr><td>CP6</td><td>E9U</td><td>9</td><td>1.241</td><td>96</td><td>23.64905724075605</td><td>262.75471907021864</td><td>325.75471907021864</td><td>1900-01-01T15:25:00Z</td><td>1900-01-01T15:18:00Z</td></tr><tr><td>E9U</td><td>CP2</td><td>10</td><td>1.117</td><td>43</td><td>16.945282835330605</td><td>279.70000190554924</td><td>349.70000190554924</td><td>1900-01-01T15:49:00Z</td><td>1900-01-01T15:42:00Z</td></tr><tr><td>CP2</td><td>E2R</td><td>11</td><td>1.715</td><td>95</td><td>28.9150947174936</td><td>308.61509662304286</td><td>385.61509662304286</td><td>1900-01-01T16:25:00Z</td><td>1900-01-01T16:18:00Z</td></tr><tr><td>E2R</td><td>E10U</td><td>12</td><td>2.845</td><td>65</td><td>38.707547493700716</td><td>347.32264411674356</td><td>431.32264411674356</td><td>1900-01-01T17:11:00Z</td><td>1900-01-01T17:04:00Z</td></tr><tr><td>E10U</td><td>E1</td><td>13</td><td>1.147</td><td>32</td><td>16.18490515295065</td><td>363.5075492696942</td><td>454.5075492696942</td><td>1900-01-01T17:34:00Z</td><td>1900-01-01T17:27:00Z</td></tr><tr><td>E1</td><td>CP1</td><td>14</td><td>0.747</td><td>3</td><td>8.75660353606602</td><td>372.2641528057602</td><td>470.2641528057602</td><td>1900-01-01T17:50:00Z</td><td>1900-01-01T17:43:00Z</td></tr><tr><td>CP1</td><td>CP7</td><td>15</td><td>0.765</td><td>4</td><td>9.060377196545872</td><td>381.32453000230606</td><td>486.32453000230606</td><td>1900-01-01T18:06:00Z</td><td>1900-01-01T17:59:00Z</td></tr><tr><td>CP7</td><td>E3</td><td>16</td><td>2.193</td><td>8</td><td>25.62641597963729</td><td>406.95094598194333</td><td>518.9509459819433</td><td>1900-01-01T18:38:00Z</td><td>1900-01-01T18:31:00Z</td></tr><tr><td>E3</td><td>Finish</td><td>17</td><td>1.14</td><td>105</td><td>23.405660215413796</td><td>430.3566061973571</td><td>549.3566061973571</td><td>1900-01-01T19:09:00Z</td><td>1900-01-01T19:02:00Z</td></tr></tbody></table></div>"
            ]
          },
          "metadata": {
            "application/vnd.databricks.v1+output": {
              "addedWidgets": {},
              "aggData": [],
              "aggError": "",
              "aggOverflow": false,
              "aggSchema": [],
              "aggSeriesLimitReached": false,
              "aggType": "",
              "arguments": {},
              "columnCustomDisplayInfos": {},
              "data": [
                [
                  "Start",
                  "CP3",
                  0,
                  1.706,
                  60,
                  25.31320721248411,
                  25.31320721248411,
                  25.31320721248411,
                  "1900-01-01T10:25:00Z",
                  "1900-01-01T10:18:00Z"
                ],
                [
                  "CP3",
                  "E7U",
                  1,
                  3.647,
                  61,
                  47.386793294942606,
                  72.70000050742672,
                  79.70000050742672,
                  "1900-01-01T11:19:00Z",
                  "1900-01-01T11:12:00Z"
                ],
                [
                  "E7U",
                  "CP4",
                  2,
                  1.492,
                  3,
                  17.19056585419853,
                  89.89056636162525,
                  103.89056636162525,
                  "1900-01-01T11:43:00Z",
                  "1900-01-01T11:36:00Z"
                ],
                [
                  "CP4",
                  "E8",
                  3,
                  1.828,
                  2,
                  20.894339050436923,
                  110.78490541206217,
                  131.7849054120622,
                  "1900-01-01T12:11:00Z",
                  "1900-01-01T12:04:00Z"
                ],
                [
                  "E8",
                  "E6",
                  4,
                  2.045,
                  57,
                  28.850944259931456,
                  139.63584967199364,
                  167.63584967199364,
                  "1900-01-01T12:47:00Z",
                  "1900-01-01T12:40:00Z"
                ],
                [
                  "E6",
                  "CP5",
                  5,
                  1.829,
                  122,
                  32.905660334173234,
                  172.54151000616687,
                  207.54151000616687,
                  "1900-01-01T13:27:00Z",
                  "1900-01-01T13:20:00Z"
                ],
                [
                  "CP5",
                  "E5",
                  6,
                  1.631,
                  13,
                  19.764151418434,
                  192.30566142460088,
                  234.30566142460088,
                  "1900-01-01T13:54:00Z",
                  "1900-01-01T13:47:00Z"
                ],
                [
                  "E5",
                  "E4R",
                  7,
                  1.725,
                  131,
                  32.62830215670028,
                  224.93396358130116,
                  273.93396358130116,
                  "1900-01-01T14:33:00Z",
                  "1900-01-01T14:26:00Z"
                ],
                [
                  "E4R",
                  "CP6",
                  8,
                  0.925,
                  37,
                  14.171698248161459,
                  239.1056618294626,
                  295.10566182946263,
                  "1900-01-01T14:55:00Z",
                  "1900-01-01T14:48:00Z"
                ],
                [
                  "CP6",
                  "E9U",
                  9,
                  1.241,
                  96,
                  23.64905724075605,
                  262.75471907021864,
                  325.75471907021864,
                  "1900-01-01T15:25:00Z",
                  "1900-01-01T15:18:00Z"
                ],
                [
                  "E9U",
                  "CP2",
                  10,
                  1.117,
                  43,
                  16.945282835330605,
                  279.70000190554924,
                  349.70000190554924,
                  "1900-01-01T15:49:00Z",
                  "1900-01-01T15:42:00Z"
                ],
                [
                  "CP2",
                  "E2R",
                  11,
                  1.715,
                  95,
                  28.9150947174936,
                  308.61509662304286,
                  385.61509662304286,
                  "1900-01-01T16:25:00Z",
                  "1900-01-01T16:18:00Z"
                ],
                [
                  "E2R",
                  "E10U",
                  12,
                  2.845,
                  65,
                  38.707547493700716,
                  347.32264411674356,
                  431.32264411674356,
                  "1900-01-01T17:11:00Z",
                  "1900-01-01T17:04:00Z"
                ],
                [
                  "E10U",
                  "E1",
                  13,
                  1.147,
                  32,
                  16.18490515295065,
                  363.5075492696942,
                  454.5075492696942,
                  "1900-01-01T17:34:00Z",
                  "1900-01-01T17:27:00Z"
                ],
                [
                  "E1",
                  "CP1",
                  14,
                  0.747,
                  3,
                  8.75660353606602,
                  372.2641528057602,
                  470.2641528057602,
                  "1900-01-01T17:50:00Z",
                  "1900-01-01T17:43:00Z"
                ],
                [
                  "CP1",
                  "CP7",
                  15,
                  0.765,
                  4,
                  9.060377196545872,
                  381.32453000230606,
                  486.32453000230606,
                  "1900-01-01T18:06:00Z",
                  "1900-01-01T17:59:00Z"
                ],
                [
                  "CP7",
                  "E3",
                  16,
                  2.193,
                  8,
                  25.62641597963729,
                  406.95094598194333,
                  518.9509459819433,
                  "1900-01-01T18:38:00Z",
                  "1900-01-01T18:31:00Z"
                ],
                [
                  "E3",
                  "Finish",
                  17,
                  1.14,
                  105,
                  23.405660215413796,
                  430.3566061973571,
                  549.3566061973571,
                  "1900-01-01T19:09:00Z",
                  "1900-01-01T19:02:00Z"
                ]
              ],
              "datasetInfos": [],
              "dbfsResultPath": null,
              "isJsonSchema": true,
              "metadata": {},
              "overflow": false,
              "plotOptions": {
                "customPlotOptions": {},
                "displayType": "table",
                "pivotAggregation": null,
                "pivotColumns": null,
                "xColumns": null,
                "yColumns": null
              },
              "removedWidgets": [],
              "schema": [
                {
                  "metadata": "{}",
                  "name": "StartCP",
                  "type": "\"string\""
                },
                {
                  "metadata": "{}",
                  "name": "FinishCP",
                  "type": "\"string\""
                },
                {
                  "metadata": "{}",
                  "name": "RouteOrder",
                  "type": "\"long\""
                },
                {
                  "metadata": "{}",
                  "name": "Distance",
                  "type": "\"float\""
                },
                {
                  "metadata": "{}",
                  "name": "Height_Gain",
                  "type": "\"integer\""
                },
                {
                  "metadata": "{}",
                  "name": "TimeInMinutes",
                  "type": "\"double\""
                },
                {
                  "metadata": "{}",
                  "name": "CumulativeTime",
                  "type": "\"double\""
                },
                {
                  "metadata": "{}",
                  "name": "CumulativeTimeWithDwell",
                  "type": "\"double\""
                },
                {
                  "metadata": "{}",
                  "name": "LeavingTime",
                  "type": "\"timestamp\""
                },
                {
                  "metadata": "{}",
                  "name": "ArrivalTime",
                  "type": "\"timestamp\""
                }
              ],
              "type": "table"
            }
          }
        }
      ],
      "source": [
        "# Define window specification to order rows by RouteOrder\n",
        "window_spec = Window.orderBy(\"RouteOrder\")\n",
        "\n",
        "# Calculate the CumulativeTimeWithDwell (CumulativeTime + StopTimeAtCheckpoints)\n",
        "timing_results_df = timing_results_df.withColumn(\n",
        "    \"CumulativeTimeWithDwell\",\n",
        "    F.col(\"CumulativeTime\") + (F.col(\"RouteOrder\") * F.lit(StopTimeAtCheckPoints))\n",
        ")\n",
        "\n",
        "# Calculate the LeavingTime (StartTime + CumulativeTimeWithDwell)\n",
        "timing_results_df = timing_results_df.withColumn(\n",
        "    \"LeavingTime\",\n",
        "    F.to_timestamp(F.lit(StartTime)) + F.col(\"CumulativeTimeWithDwell\").cast(\"int\").cast(\"interval minute\")\n",
        ")\n",
        "\n",
        "# Calculate the ArrivalTime (LeavingTime - StopTimeAtCheckpoints)\n",
        "timing_results_df = timing_results_df.withColumn(\n",
        "    \"ArrivalTime\",\n",
        "    F.col(\"LeavingTime\") - F.expr(f\"INTERVAL {StopTimeAtCheckPoints} MINUTE\")\n",
        ")\n",
        "\n",
        "# Show the results\n",
        "display(timing_results_df)\n"
      ]
    }
  ],
  "metadata": {
    "application/vnd.databricks.v1+notebook": {
      "computePreferences": null,
      "dashboards": [],
      "environmentMetadata": {
        "base_environment": "",
        "environment_version": "2"
      },
      "language": "python",
      "notebookMetadata": {
        "pythonIndentUnit": 2
      },
      "notebookName": "Dovetrek Single RoutePlan",
      "widgets": {
        "API_Service": {
          "currentValue": "Bing Maps",
          "nuid": "4af94965-bf6a-4581-9869-4c3791367508",
          "typedWidgetInfo": {
            "autoCreated": false,
            "defaultValue": "Google Maps",
            "label": null,
            "name": "API_Service",
            "options": {
              "widgetDisplayType": "Dropdown",
              "choices": [
                "Bing Maps",
                "Google Maps",
                "OpenRouteService"
              ],
              "fixedDomain": true,
              "multiselect": false
            },
            "parameterDataType": "String"
          },
          "widgetInfo": {
            "widgetType": "dropdown",
            "defaultValue": "Google Maps",
            "label": null,
            "name": "API_Service",
            "options": {
              "widgetType": "dropdown",
              "autoCreated": null,
              "choices": [
                "Bing Maps",
                "Google Maps",
                "OpenRouteService"
              ]
            }
          }
        },
        "Competition_Year": {
          "currentValue": "2025",
          "nuid": "fa25c94e-f505-4fec-9214-3aa56df90164",
          "typedWidgetInfo": {
            "autoCreated": false,
            "defaultValue": "2025",
            "label": null,
            "name": "Competition_Year",
            "options": {
              "widgetDisplayType": "Dropdown",
              "choices": [
                "2025",
                "2024",
                "2019",
                "2018",
                "2017"
              ],
              "fixedDomain": true,
              "multiselect": false
            },
            "parameterDataType": "String"
          },
          "widgetInfo": {
            "widgetType": "dropdown",
            "defaultValue": "2025",
            "label": null,
            "name": "Competition_Year",
            "options": {
              "widgetType": "dropdown",
              "autoCreated": null,
              "choices": [
                "2025",
                "2024",
                "2019",
                "2018",
                "2017"
              ]
            }
          }
        },
        "Dwell": {
          "currentValue": "7",
          "nuid": "8e4cf1c1-4867-4426-99bf-cb59dc1b6a68",
          "typedWidgetInfo": {
            "autoCreated": false,
            "defaultValue": "7",
            "label": null,
            "name": "Dwell",
            "options": {
              "widgetDisplayType": "Text",
              "validationRegex": null
            },
            "parameterDataType": "String"
          },
          "widgetInfo": {
            "widgetType": "text",
            "defaultValue": "7",
            "label": null,
            "name": "Dwell",
            "options": {
              "widgetType": "text",
              "autoCreated": null,
              "validationRegex": null
            }
          }
        },
        "Naismith": {
          "currentValue": "10",
          "nuid": "08181c21-a809-4806-8f85-26975cec26bb",
          "typedWidgetInfo": {
            "autoCreated": false,
            "defaultValue": "10",
            "label": null,
            "name": "Naismith",
            "options": {
              "widgetDisplayType": "Text",
              "validationRegex": null
            },
            "parameterDataType": "String"
          },
          "widgetInfo": {
            "widgetType": "text",
            "defaultValue": "10",
            "label": null,
            "name": "Naismith",
            "options": {
              "widgetType": "text",
              "autoCreated": null,
              "validationRegex": null
            }
          }
        },
        "Speed": {
          "currentValue": "5.30",
          "nuid": "913a2353-d92d-4a4e-96ff-1542a57ce1d8",
          "typedWidgetInfo": {
            "autoCreated": false,
            "defaultValue": "5.30",
            "label": null,
            "name": "Speed",
            "options": {
              "widgetDisplayType": "Text",
              "validationRegex": null
            },
            "parameterDataType": "String"
          },
          "widgetInfo": {
            "widgetType": "text",
            "defaultValue": "5.30",
            "label": null,
            "name": "Speed",
            "options": {
              "widgetType": "text",
              "autoCreated": null,
              "validationRegex": null
            }
          }
        },
        "StartTime": {
          "currentValue": "10:00:00",
          "nuid": "0905dee2-20bb-474d-bb53-f0ad4769492d",
          "typedWidgetInfo": {
            "autoCreated": false,
            "defaultValue": "10:00:00",
            "label": null,
            "name": "StartTime",
            "options": {
              "widgetDisplayType": "Text",
              "validationRegex": null
            },
            "parameterDataType": "String"
          },
          "widgetInfo": {
            "widgetType": "text",
            "defaultValue": "10:00:00",
            "label": null,
            "name": "StartTime",
            "options": {
              "widgetType": "text",
              "autoCreated": null,
              "validationRegex": null
            }
          }
        }
      }
    },
    "language_info": {
      "name": "python"
    },
    "colab": {
      "provenance": [],
      "toc_visible": true
    },
    "kernelspec": {
      "name": "python3",
      "display_name": "Python 3"
    }
  },
  "nbformat": 4,
  "nbformat_minor": 0
}