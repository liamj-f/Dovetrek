{
 "cells": [
  {
   "cell_type": "markdown",
   "metadata": {
    "application/vnd.databricks.v1+cell": {
     "cellMetadata": {
      "byteLimit": 2048000,
      "rowLimit": 10000
     },
     "inputWidgets": {},
     "nuid": "034b041b-0347-4bf4-811a-1b27f5c5c50d",
     "showTitle": false,
     "tableResultSettingsMap": {},
     "title": ""
    },
    "id": "7a_jyVYqZYAX"
   },
   "source": [
    "This notebook is for calculating distances, elevations and timings between Dovetrek checkpoints. It then produces a routecard for a set route.\n",
    "\n",
    "###Contents:\n",
    "* [Imports](#Imports)\n",
    "* [Start SparkSession](#Start-SparkSession)\n",
    "* [Set Parameters](#set-params)\n",
    "* [Get Secrets](#get-secrets)\n",
    "* [Fetch Checkpoint Information](#fetch-cp-info)\n",
    "* [Convert BNG to NGR](#bgn-to-ngr)\n",
    "* [Convert NGR to Latitude/Logitude](#ngr-to-latlong)\n",
    "* [Create Matrix of Checkpoint combinations](#cp-combos)\n",
    "* [Fetch Distances & Elevations from Google Maps API](#D&E-google)\n",
    "* [Fetch Distances & Elevations from OpenRouteService API](#D&E-ors)\n",
    "* [Fetch Distances & Elevations from Bing Maps API](#D&E-bing)\n",
    "* [Save Distances_DF as csv in memory](#)\n",
    "* [Upload Distances_DF csv to GitHub filestore](#)"
   ]
  },
  {
   "cell_type": "markdown",
   "metadata": {
    "application/vnd.databricks.v1+cell": {
     "cellMetadata": {
      "byteLimit": 2048000,
      "rowLimit": 10000
     },
     "inputWidgets": {},
     "nuid": "974bdc0f-952f-42ad-998d-771f9c457da5",
     "showTitle": false,
     "tableResultSettingsMap": {},
     "title": ""
    },
    "id": "QAc_bwqZZaGL"
   },
   "source": [
    "### Imports"
   ]
  },
  {
   "cell_type": "code",
   "execution_count": 0,
   "metadata": {
    "application/vnd.databricks.v1+cell": {
     "cellMetadata": {
      "byteLimit": 2048000,
      "rowLimit": 10000
     },
     "inputWidgets": {},
     "nuid": "af05a933-18fa-48f8-8438-daecd4fe97c4",
     "showTitle": false,
     "tableResultSettingsMap": {},
     "title": ""
    },
    "id": "YApO83OGZOji"
   },
   "outputs": [],
   "source": [
    "from pyspark.sql.functions import col, expr, first\n",
    "from pyspark.sql import functions as F, DataFrame, Window, SparkSession\n",
    "from pyspark.sql.types import StructType, StructField, StringType, DoubleType, FloatType, ArrayType, TimestampType\n",
    "from datetime import datetime, time, timedelta\n",
    "import requests\n",
    "import time\n",
    "import ipywidgets\n",
    "import base64\n",
    "import getpass\n",
    "import builtins\n",
    "import json\n",
    "from io import BytesIO, StringIO\n",
    "import itertools\n",
    "from functools import reduce\n",
    "import numpy as np"
   ]
  },
  {
   "cell_type": "markdown",
   "metadata": {
    "application/vnd.databricks.v1+cell": {
     "cellMetadata": {
      "byteLimit": 2048000,
      "rowLimit": 10000
     },
     "inputWidgets": {},
     "nuid": "71915dae-0963-4246-a3ec-c43a31443c61",
     "showTitle": false,
     "tableResultSettingsMap": {},
     "title": ""
    },
    "id": "wa4P4R38ZiJB"
   },
   "source": [
    "### Start SparkSession"
   ]
  },
  {
   "cell_type": "code",
   "execution_count": 0,
   "metadata": {
    "application/vnd.databricks.v1+cell": {
     "cellMetadata": {
      "byteLimit": 2048000,
      "rowLimit": 10000
     },
     "inputWidgets": {},
     "nuid": "c561ed46-1f70-4e34-a340-5df2ff94f437",
     "showTitle": false,
     "tableResultSettingsMap": {},
     "title": ""
    },
    "id": "yx0kFjIVZOjl",
    "outputId": "35be56e4-03bb-4b26-b091-a73acc6a055e"
   },
   "outputs": [
    {
     "output_type": "stream",
     "name": "stdout",
     "output_type": "stream",
     "text": [
      "+---+-----+\n| id| name|\n+---+-----+\n|  1|Alice|\n|  2|  Bob|\n+---+-----+\n\n"
     ]
    }
   ],
   "source": [
    "try:\n",
    "    SparkSession.active()\n",
    "except:\n",
    "    spark = SparkSession.builder \\\n",
    "        .appName(\"BinderPySpark\") \\\n",
    "        .config(\"spark.sql.execution.arrow.pyspark.enabled\", \"true\") \\\n",
    "        .getOrCreate()\n",
    "else:\n",
    "    SparkSession.active()\n",
    "finally:\n",
    "    # Test if Spark is working\n",
    "    df = spark.createDataFrame([(1, \"Alice\"), (2, \"Bob\")], [\"id\", \"name\"])\n",
    "    df.show()\n",
    "    df.unpersist()"
   ]
  },
  {
   "cell_type": "markdown",
   "metadata": {
    "application/vnd.databricks.v1+cell": {
     "cellMetadata": {
      "byteLimit": 2048000,
      "rowLimit": 10000
     },
     "inputWidgets": {},
     "nuid": "1ed04aa7-1247-4b7d-b51c-00ddf52249db",
     "showTitle": false,
     "tableResultSettingsMap": {},
     "title": ""
    },
    "id": "BWoF_LmEZpMj"
   },
   "source": [
    "### Set Parameters"
   ]
  },
  {
   "cell_type": "code",
   "execution_count": 0,
   "metadata": {
    "application/vnd.databricks.v1+cell": {
     "cellMetadata": {
      "byteLimit": 2048000,
      "rowLimit": 10000
     },
     "inputWidgets": {},
     "nuid": "4fa98d0e-d3ed-4eb5-9a4e-7c531fac5b79",
     "showTitle": false,
     "tableResultSettingsMap": {},
     "title": ""
    },
    "colab": {
     "referenced_widgets": [
      "e8d622abd61244929633f9eb93f6960e",
      "9b144f4d46834015b8942cb6a77dd064",
      "56d33737e6954af1bc81b1d1308dd39f",
      "d293bc84854240c4a818e58bb547a467",
      "7238619f07944aebaacf43cf3b8e255b",
      "76517253c8344979932253b8fc5520d1"
     ]
    },
    "id": "0vovZWvDZOjn",
    "outputId": "fd0d53e2-39ba-4dc5-dc0b-5851fdcf3a93"
   },
   "outputs": [
    {
     "output_type": "stream",
     "name": "stdout",
     "output_type": "stream",
     "text": [
      "Competition Year: 2025 \nAPI Service: Bing Maps\n"
     ]
    }
   ],
   "source": [
    "Year_List = [\"2025\", \"2024\", \"2019\", \"2018\", \"2017\"]\n",
    "API_Service_List = [\"Bing Maps\",\"Google Maps\", \"OpenRouteService\",\"Azure Maps & OpenTopoData\"]\n",
    "\n",
    "try:\n",
    "  dbutils.widgets.dropdown(\"Competition_Year\", \"2025\", Year_List)\n",
    "  Competition_Year = dbutils.widgets.get(\"Competition_Year\")\n",
    "\n",
    "  dbutils.widgets.dropdown(\"API_Service\", \"Google Maps\", API_Service_List)\n",
    "  API_Service = dbutils.widgets.get(\"API_Service\")\n",
    "\n",
    "except:\n",
    "  Competition_Year_Picker = ipywidgets.Dropdown(options=Year_List, value = '2024', description = 'Pick a competition year:')\n",
    "  API_Service_Picker = ipywidgets.Dropdown(options=API_Service_List, value = \"Google Maps\", description = 'Pick an API Service for distance & elevations:')\n",
    "  display(Competition_Year_Picker)\n",
    "  display(API_Service_Picker)\n",
    "\n",
    "  input(\"Fill and ctrl + enter when all parameters are set to the desired state\")\n",
    "\n",
    "  Competition_Year = Competition_Year_Picker.value\n",
    "  API_Service = API_Service_Picker.value\n",
    "\n",
    "finally:\n",
    "  print(f\"Competition Year: {Competition_Year} \\nAPI Service: {API_Service}\")\n"
   ]
  },
  {
   "cell_type": "markdown",
   "metadata": {
    "application/vnd.databricks.v1+cell": {
     "cellMetadata": {
      "byteLimit": 2048000,
      "rowLimit": 10000
     },
     "inputWidgets": {},
     "nuid": "a3c45915-ce7b-4e0c-a784-4a009f3e5e3d",
     "showTitle": false,
     "tableResultSettingsMap": {},
     "title": ""
    },
    "id": "lMkpnzqVZu6W"
   },
   "source": [
    "### Get Secrets"
   ]
  },
  {
   "cell_type": "code",
   "execution_count": 0,
   "metadata": {
    "application/vnd.databricks.v1+cell": {
     "cellMetadata": {
      "byteLimit": 2048000,
      "rowLimit": 10000
     },
     "inputWidgets": {},
     "nuid": "660733c6-b8a4-4e17-9bb5-ba533297d8b0",
     "showTitle": false,
     "tableResultSettingsMap": {},
     "title": ""
    },
    "id": "UkBI5kXJZOjn",
    "outputId": "3698814d-2b3d-4cd2-ff88-3be990b0f3ad"
   },
   "outputs": [
    {
     "output_type": "display_data",
     "data": {
      "text/plain": [
       "Enter your GitHub Secrets Repo PAT:  [REDACTED]"
      ]
     },
     "metadata": {},
     "output_type": "display_data"
    },
    {
     "output_type": "stream",
     "name": "stdout",
     "output_type": "stream",
     "text": [
      "✅ Secrets loaded successfully!\n"
     ]
    }
   ],
   "source": [
    "GitHubPAT = getpass.getpass(\"Enter your GitHub Secrets Repo PAT: \")  # Prompt for PAT if not set\n",
    "\n",
    "# 🔹 GitHub API URL to get the file\n",
    "url = f\"https://api.github.com/repos/liamj-f/Secrets/contents/Dovetrek_Secrets.json\"\n",
    "\n",
    "# 🔹 GitHub API headers\n",
    "headers = {\"Authorization\": f\"token {GitHubPAT}\"}\n",
    "\n",
    "# 🔹 Fetch the secrets file\n",
    "response = requests.get(url, headers=headers)\n",
    "\n",
    "if response.status_code == 200:\n",
    "    # Decode Base64 content\n",
    "    content = response.json()[\"content\"]\n",
    "    decoded_content = base64.b64decode(content).decode(\"utf-8\")\n",
    "\n",
    "    # Load JSON into a dictionary\n",
    "    secrets = json.loads(decoded_content)\n",
    "\n",
    "    # 🔹 Assign values to variables\n",
    "    BingMapsAPIKey = secrets.get(\"BingMApsAPIKey\", \"\")\n",
    "    AzureMapsAPIKey = secrets.get(\"AzureMapsAPIKey\", \"\")\n",
    "    OrdnanceSurveyAPIKey = secrets.get(\"OrdnanceSurveyAPIKey\", \"\")\n",
    "    OpenRouteServiceAPIKey = secrets.get(\"OpenRouteServiceAPIKey\", \"\")\n",
    "    GoogleMapsAPIKey = secrets.get(\"GoogleMapsAPIKey\", \"\")\n",
    "    DovetrekRepoPAT = secrets.get(\"DovetrekRepoPAT\", \"\")\n",
    "\n",
    "    print(\"✅ Secrets loaded successfully!\")\n",
    "\n",
    "else:\n",
    "    print(f\"❌ Error: {response.status_code} - {response.text}\")\n"
   ]
  },
  {
   "cell_type": "markdown",
   "metadata": {
    "application/vnd.databricks.v1+cell": {
     "cellMetadata": {
      "byteLimit": 2048000,
      "rowLimit": 10000
     },
     "inputWidgets": {},
     "nuid": "316cf1e3-a2c3-42b4-b086-5b3001d30c31",
     "showTitle": false,
     "tableResultSettingsMap": {},
     "title": ""
    },
    "id": "n5Ey-Z8caLSx"
   },
   "source": [
    "### Fetch Checkpoint information"
   ]
  },
  {
   "cell_type": "code",
   "execution_count": 0,
   "metadata": {
    "application/vnd.databricks.v1+cell": {
     "cellMetadata": {
      "byteLimit": 2048000,
      "rowLimit": 10000
     },
     "inputWidgets": {},
     "nuid": "c89cd91e-5df2-4de3-9adb-a2030859bfe6",
     "showTitle": false,
     "tableResultSettingsMap": {},
     "title": ""
    },
    "id": "ntc4Wr6rZOjo"
   },
   "outputs": [],
   "source": [
    "# GitHub API URL for file content\n",
    "url = f\"https://api.github.com/repos/liamj-f/Dovetrek/contents/CheckpointData/Openings_{Competition_Year}.csv\"\n",
    "\n",
    "# Fetch file content\n",
    "response = requests.get(url, headers=headers)\n",
    "content = response.json()[\"content\"]\n",
    "decoded_content = base64.b64decode(content).decode(\"utf-8\")\n",
    "csv_lines = decoded_content.split(\"\\n\")\n",
    "# Create an RDD from the list\n",
    "rdd = spark.sparkContext.parallelize(csv_lines)\n",
    "# Convert RDD to DataFrame\n",
    "openings_df = spark.read.csv(rdd, header=True, inferSchema=True)"
   ]
  },
  {
   "cell_type": "markdown",
   "metadata": {
    "application/vnd.databricks.v1+cell": {
     "cellMetadata": {
      "byteLimit": 2048000,
      "rowLimit": 10000
     },
     "inputWidgets": {},
     "nuid": "a9c33657-5a5d-4800-9693-7f7ee11b225f",
     "showTitle": false,
     "tableResultSettingsMap": {},
     "title": ""
    },
    "id": "HhoozVryaNzW"
   },
   "source": [
    "### Convert BNG to NGR\n",
    "The actual grid square identifiers are missing from the datasets because Dovetrek always takes place in the same area, so conversion from letter to number not necessary."
   ]
  },
  {
   "cell_type": "code",
   "execution_count": 0,
   "metadata": {
    "application/vnd.databricks.v1+cell": {
     "cellMetadata": {
      "byteLimit": 2048000,
      "rowLimit": 10000
     },
     "inputWidgets": {},
     "nuid": "4402ee60-5261-4d6f-a282-7fe82bdaefd6",
     "showTitle": false,
     "tableResultSettingsMap": {},
     "title": ""
    },
    "id": "3HmzSfT4ZOjo",
    "outputId": "4b0a2aa5-d323-4ec6-8571-fea372bb3dc2"
   },
   "outputs": [
    {
     "output_type": "display_data",
     "data": {
      "text/html": [
       "<style scoped>\n",
       "  .table-result-container {\n",
       "    max-height: 300px;\n",
       "    overflow: auto;\n",
       "  }\n",
       "  table, th, td {\n",
       "    border: 1px solid black;\n",
       "    border-collapse: collapse;\n",
       "  }\n",
       "  th, td {\n",
       "    padding: 5px;\n",
       "  }\n",
       "  th {\n",
       "    text-align: left;\n",
       "  }\n",
       "</style><div class='table-result-container'><table class='table-result'><thead style='background-color: white'><tr><th>CP</th><th>BNG</th><th>1000</th><th>1030</th><th>1100</th><th>1130</th><th>1200</th><th>1230</th><th>1300</th><th>1330</th><th>1400</th><th>1430</th><th>1500</th><th>1530</th><th>1600</th><th>1630</th><th>1700\r</th><th>NGR_Easting</th><th>NGR_Northing</th></tr></thead><tbody><tr><td>Start</td><td>258 779</td><td>1</td><td>1</td><td>1</td><td>1</td><td>1</td><td>1</td><td>1</td><td>1</td><td>1</td><td>1</td><td>1</td><td>1</td><td>1</td><td>1</td><td>1.0</td><td>425800.0</td><td>377900.0</td></tr><tr><td>CP1</td><td>251 801</td><td>0</td><td>0</td><td>1</td><td>1</td><td>1</td><td>0</td><td>0</td><td>0</td><td>0</td><td>0</td><td>1</td><td>1</td><td>1</td><td>1</td><td>1.0</td><td>425100.0</td><td>380100.0</td></tr><tr><td>CP2</td><td>265 801</td><td>1</td><td>1</td><td>1</td><td>1</td><td>1</td><td>1</td><td>0</td><td>0</td><td>0</td><td>1</td><td>1</td><td>0</td><td>0</td><td>0</td><td>0.0</td><td>426500.0</td><td>380100.0</td></tr><tr><td>CP3</td><td>268 789</td><td>1</td><td>1</td><td>0</td><td>0</td><td>0</td><td>0</td><td>0</td><td>0</td><td>0</td><td>0</td><td>0</td><td>0</td><td>1</td><td>1</td><td>1.0</td><td>426800.0</td><td>378900.0</td></tr><tr><td>CP4</td><td>262 747</td><td>0</td><td>0</td><td>0</td><td>1</td><td>1</td><td>0</td><td>0</td><td>0</td><td>1</td><td>1</td><td>1</td><td>1</td><td>1</td><td>0</td><td>0.0</td><td>426200.0</td><td>374700.0</td></tr><tr><td>CP5</td><td>254 775</td><td>0</td><td>0</td><td>0</td><td>0</td><td>0</td><td>1</td><td>1</td><td>0</td><td>0</td><td>0</td><td>0</td><td>0</td><td>0</td><td>0</td><td>0.0</td><td>425400.0</td><td>377500.0</td></tr><tr><td>CP6</td><td>251 786</td><td>0</td><td>1</td><td>1</td><td>0</td><td>0</td><td>1</td><td>1</td><td>1</td><td>1</td><td>1</td><td>0</td><td>0</td><td>1</td><td>0</td><td>0.0</td><td>425100.0</td><td>378600.0</td></tr><tr><td>CP7</td><td>247 801</td><td>0</td><td>0</td><td>1</td><td>1</td><td>1</td><td>1</td><td>1</td><td>1</td><td>0</td><td>0</td><td>0</td><td>0</td><td>0</td><td>1</td><td>1.0</td><td>424700.0</td><td>380100.0</td></tr><tr><td>E1</td><td>251 807</td><td>0</td><td>1</td><td>1</td><td>1</td><td>0</td><td>0</td><td>1</td><td>1</td><td>1</td><td>0</td><td>0</td><td>1</td><td>1</td><td>1</td><td>0.0</td><td>425100.0</td><td>380700.0</td></tr><tr><td>E2R</td><td>274 814</td><td>0</td><td>0</td><td>0</td><td>0</td><td>0</td><td>0</td><td>0</td><td>0</td><td>0</td><td>0</td><td>1</td><td>1</td><td>1</td><td>1</td><td>0.0</td><td>427400.0</td><td>381400.0</td></tr><tr><td>E3</td><td>234 807</td><td>0</td><td>0</td><td>0</td><td>0</td><td>0</td><td>0</td><td>0</td><td>0</td><td>0</td><td>0</td><td>0</td><td>0</td><td>1</td><td>1</td><td>1.0</td><td>423400.0</td><td>380700.0</td></tr><tr><td>E4R</td><td>249 792</td><td>0</td><td>0</td><td>1</td><td>1</td><td>1</td><td>0</td><td>0</td><td>1</td><td>1</td><td>0</td><td>0</td><td>1</td><td>1</td><td>0</td><td>0.0</td><td>424900.0</td><td>379200.0</td></tr><tr><td>E5</td><td>246 779</td><td>0</td><td>0</td><td>0</td><td>0</td><td>0</td><td>0</td><td>1</td><td>1</td><td>1</td><td>0</td><td>0</td><td>0</td><td>0</td><td>0</td><td>0.0</td><td>424600.0</td><td>377900.0</td></tr><tr><td>E6</td><td>247 761</td><td>0</td><td>0</td><td>0</td><td>1</td><td>1</td><td>1</td><td>1</td><td>0</td><td>0</td><td>0</td><td>0</td><td>0</td><td>0</td><td>0</td><td>0.0</td><td>424700.0</td><td>376100.0</td></tr><tr><td>E7U</td><td>263 758</td><td>1</td><td>1</td><td>1</td><td>1</td><td>1</td><td>1</td><td>1</td><td>1</td><td>1</td><td>1</td><td>1</td><td>1</td><td>1</td><td>1</td><td>1.0</td><td>426300.0</td><td>375800.0</td></tr><tr><td>E8</td><td>245 745</td><td>0</td><td>0</td><td>0</td><td>1</td><td>1</td><td>1</td><td>0</td><td>0</td><td>0</td><td>0</td><td>0</td><td>0</td><td>0</td><td>0</td><td>0.0</td><td>424500.0</td><td>374500.0</td></tr><tr><td>E9U</td><td>258 794</td><td>1</td><td>1</td><td>1</td><td>1</td><td>1</td><td>1</td><td>1</td><td>1</td><td>1</td><td>1</td><td>1</td><td>1</td><td>1</td><td>1</td><td>1.0</td><td>425800.0</td><td>379400.0</td></tr><tr><td>E10U</td><td>252 817</td><td>1</td><td>1</td><td>1</td><td>1</td><td>1</td><td>1</td><td>1</td><td>1</td><td>1</td><td>1</td><td>1</td><td>1</td><td>1</td><td>1</td><td>1.0</td><td>425200.0</td><td>381700.0</td></tr><tr><td>Finish</td><td>241 808</td><td>0</td><td>0</td><td>0</td><td>0</td><td>0</td><td>0</td><td>0</td><td>0</td><td>0</td><td>0</td><td>1</td><td>1</td><td>1</td><td>1</td><td>1.0</td><td>424100.0</td><td>380800.0</td></tr></tbody></table></div>"
      ]
     },
     "metadata": {
      "application/vnd.databricks.v1+output": {
       "addedWidgets": {},
       "aggData": [],
       "aggError": "",
       "aggOverflow": false,
       "aggSchema": [],
       "aggSeriesLimitReached": false,
       "aggType": "",
       "arguments": {},
       "columnCustomDisplayInfos": {},
       "data": [
        [
         "Start",
         "258 779",
         1,
         1,
         1,
         1,
         1,
         1,
         1,
         1,
         1,
         1,
         1,
         1,
         1,
         1,
         1.0,
         425800.0,
         377900.0
        ],
        [
         "CP1",
         "251 801",
         0,
         0,
         1,
         1,
         1,
         0,
         0,
         0,
         0,
         0,
         1,
         1,
         1,
         1,
         1.0,
         425100.0,
         380100.0
        ],
        [
         "CP2",
         "265 801",
         1,
         1,
         1,
         1,
         1,
         1,
         0,
         0,
         0,
         1,
         1,
         0,
         0,
         0,
         0.0,
         426500.0,
         380100.0
        ],
        [
         "CP3",
         "268 789",
         1,
         1,
         0,
         0,
         0,
         0,
         0,
         0,
         0,
         0,
         0,
         0,
         1,
         1,
         1.0,
         426800.0,
         378900.0
        ],
        [
         "CP4",
         "262 747",
         0,
         0,
         0,
         1,
         1,
         0,
         0,
         0,
         1,
         1,
         1,
         1,
         1,
         0,
         0.0,
         426200.0,
         374700.0
        ],
        [
         "CP5",
         "254 775",
         0,
         0,
         0,
         0,
         0,
         1,
         1,
         0,
         0,
         0,
         0,
         0,
         0,
         0,
         0.0,
         425400.0,
         377500.0
        ],
        [
         "CP6",
         "251 786",
         0,
         1,
         1,
         0,
         0,
         1,
         1,
         1,
         1,
         1,
         0,
         0,
         1,
         0,
         0.0,
         425100.0,
         378600.0
        ],
        [
         "CP7",
         "247 801",
         0,
         0,
         1,
         1,
         1,
         1,
         1,
         1,
         0,
         0,
         0,
         0,
         0,
         1,
         1.0,
         424700.0,
         380100.0
        ],
        [
         "E1",
         "251 807",
         0,
         1,
         1,
         1,
         0,
         0,
         1,
         1,
         1,
         0,
         0,
         1,
         1,
         1,
         0.0,
         425100.0,
         380700.0
        ],
        [
         "E2R",
         "274 814",
         0,
         0,
         0,
         0,
         0,
         0,
         0,
         0,
         0,
         0,
         1,
         1,
         1,
         1,
         0.0,
         427400.0,
         381400.0
        ],
        [
         "E3",
         "234 807",
         0,
         0,
         0,
         0,
         0,
         0,
         0,
         0,
         0,
         0,
         0,
         0,
         1,
         1,
         1.0,
         423400.0,
         380700.0
        ],
        [
         "E4R",
         "249 792",
         0,
         0,
         1,
         1,
         1,
         0,
         0,
         1,
         1,
         0,
         0,
         1,
         1,
         0,
         0.0,
         424900.0,
         379200.0
        ],
        [
         "E5",
         "246 779",
         0,
         0,
         0,
         0,
         0,
         0,
         1,
         1,
         1,
         0,
         0,
         0,
         0,
         0,
         0.0,
         424600.0,
         377900.0
        ],
        [
         "E6",
         "247 761",
         0,
         0,
         0,
         1,
         1,
         1,
         1,
         0,
         0,
         0,
         0,
         0,
         0,
         0,
         0.0,
         424700.0,
         376100.0
        ],
        [
         "E7U",
         "263 758",
         1,
         1,
         1,
         1,
         1,
         1,
         1,
         1,
         1,
         1,
         1,
         1,
         1,
         1,
         1.0,
         426300.0,
         375800.0
        ],
        [
         "E8",
         "245 745",
         0,
         0,
         0,
         1,
         1,
         1,
         0,
         0,
         0,
         0,
         0,
         0,
         0,
         0,
         0.0,
         424500.0,
         374500.0
        ],
        [
         "E9U",
         "258 794",
         1,
         1,
         1,
         1,
         1,
         1,
         1,
         1,
         1,
         1,
         1,
         1,
         1,
         1,
         1.0,
         425800.0,
         379400.0
        ],
        [
         "E10U",
         "252 817",
         1,
         1,
         1,
         1,
         1,
         1,
         1,
         1,
         1,
         1,
         1,
         1,
         1,
         1,
         1.0,
         425200.0,
         381700.0
        ],
        [
         "Finish",
         "241 808",
         0,
         0,
         0,
         0,
         0,
         0,
         0,
         0,
         0,
         0,
         1,
         1,
         1,
         1,
         1.0,
         424100.0,
         380800.0
        ]
       ],
       "datasetInfos": [],
       "dbfsResultPath": null,
       "isJsonSchema": true,
       "metadata": {},
       "overflow": false,
       "plotOptions": {
        "customPlotOptions": {},
        "displayType": "table",
        "pivotAggregation": null,
        "pivotColumns": null,
        "xColumns": null,
        "yColumns": null
       },
       "removedWidgets": [],
       "schema": [
        {
         "metadata": "{}",
         "name": "CP",
         "type": "\"string\""
        },
        {
         "metadata": "{}",
         "name": "BNG",
         "type": "\"string\""
        },
        {
         "metadata": "{}",
         "name": "1000",
         "type": "\"integer\""
        },
        {
         "metadata": "{}",
         "name": "1030",
         "type": "\"integer\""
        },
        {
         "metadata": "{}",
         "name": "1100",
         "type": "\"integer\""
        },
        {
         "metadata": "{}",
         "name": "1130",
         "type": "\"integer\""
        },
        {
         "metadata": "{}",
         "name": "1200",
         "type": "\"integer\""
        },
        {
         "metadata": "{}",
         "name": "1230",
         "type": "\"integer\""
        },
        {
         "metadata": "{}",
         "name": "1300",
         "type": "\"integer\""
        },
        {
         "metadata": "{}",
         "name": "1330",
         "type": "\"integer\""
        },
        {
         "metadata": "{}",
         "name": "1400",
         "type": "\"integer\""
        },
        {
         "metadata": "{}",
         "name": "1430",
         "type": "\"integer\""
        },
        {
         "metadata": "{}",
         "name": "1500",
         "type": "\"integer\""
        },
        {
         "metadata": "{}",
         "name": "1530",
         "type": "\"integer\""
        },
        {
         "metadata": "{}",
         "name": "1600",
         "type": "\"integer\""
        },
        {
         "metadata": "{}",
         "name": "1630",
         "type": "\"integer\""
        },
        {
         "metadata": "{}",
         "name": "1700\r",
         "type": "\"double\""
        },
        {
         "metadata": "{}",
         "name": "NGR_Easting",
         "type": "\"double\""
        },
        {
         "metadata": "{}",
         "name": "NGR_Northing",
         "type": "\"double\""
        }
       ],
       "type": "table"
      }
     },
     "output_type": "display_data"
    }
   ],
   "source": [
    "openings_df = openings_df.withColumn(\"NGR_Easting\", F.concat(F.lit(\"4\"), F.substring(openings_df.BNG, 1, 3), F.lit(\"00\")).cast(\"double\")) \\\n",
    "                    .withColumn(\"NGR_Northing\", F.concat(F.lit(\"3\"), F.substring(openings_df.BNG, 5, 3), F.lit(\"00\")).cast(\"double\"))\n",
    "display(openings_df)"
   ]
  },
  {
   "cell_type": "markdown",
   "metadata": {
    "application/vnd.databricks.v1+cell": {
     "cellMetadata": {
      "byteLimit": 2048000,
      "rowLimit": 10000
     },
     "inputWidgets": {},
     "nuid": "daec1bf4-ee9e-4f71-a767-faf0b5ded0ad",
     "showTitle": false,
     "tableResultSettingsMap": {},
     "title": ""
    },
    "id": "RIuBgBkJaS1G"
   },
   "source": [
    "### Convert NGR to Latitude/Longitude"
   ]
  },
  {
   "cell_type": "code",
   "execution_count": 0,
   "metadata": {
    "application/vnd.databricks.v1+cell": {
     "cellMetadata": {
      "byteLimit": 2048000,
      "rowLimit": 10000
     },
     "inputWidgets": {},
     "nuid": "8b98be36-e1f3-427d-a67a-6c50e03823b6",
     "showTitle": false,
     "tableResultSettingsMap": {},
     "title": ""
    },
    "id": "xLDpXR5eZOjp",
    "outputId": "f6df3236-091e-45d8-abda-72c8964fbe72"
   },
   "outputs": [
    {
     "output_type": "display_data",
     "data": {
      "text/html": [
       "<style scoped>\n",
       "  .table-result-container {\n",
       "    max-height: 300px;\n",
       "    overflow: auto;\n",
       "  }\n",
       "  table, th, td {\n",
       "    border: 1px solid black;\n",
       "    border-collapse: collapse;\n",
       "  }\n",
       "  th, td {\n",
       "    padding: 5px;\n",
       "  }\n",
       "  th {\n",
       "    text-align: left;\n",
       "  }\n",
       "</style><div class='table-result-container'><table class='table-result'><thead style='background-color: white'><tr><th>CP</th><th>BNG</th><th>1000</th><th>1030</th><th>1100</th><th>1130</th><th>1200</th><th>1230</th><th>1300</th><th>1330</th><th>1400</th><th>1430</th><th>1500</th><th>1530</th><th>1600</th><th>1630</th><th>1700\r</th><th>NGR_Easting</th><th>NGR_Northing</th><th>Latitude</th><th>Longitude</th></tr></thead><tbody><tr><td>CP1</td><td>251 801</td><td>0</td><td>0</td><td>1</td><td>1</td><td>1</td><td>0</td><td>0</td><td>0</td><td>0</td><td>0</td><td>1</td><td>1</td><td>1</td><td>1</td><td>1.0</td><td>425100.0</td><td>380100.0</td><td>53.31724</td><td>-1.6246936</td></tr><tr><td>CP2</td><td>265 801</td><td>1</td><td>1</td><td>1</td><td>1</td><td>1</td><td>1</td><td>0</td><td>0</td><td>0</td><td>1</td><td>1</td><td>0</td><td>0</td><td>0</td><td>0.0</td><td>426500.0</td><td>380100.0</td><td>53.317173</td><td>-1.6036792</td></tr><tr><td>CP3</td><td>268 789</td><td>1</td><td>1</td><td>0</td><td>0</td><td>0</td><td>0</td><td>0</td><td>0</td><td>0</td><td>0</td><td>0</td><td>0</td><td>1</td><td>1</td><td>1.0</td><td>426800.0</td><td>378900.0</td><td>53.30637</td><td>-1.5992771</td></tr><tr><td>CP4</td><td>262 747</td><td>0</td><td>0</td><td>0</td><td>1</td><td>1</td><td>0</td><td>0</td><td>0</td><td>1</td><td>1</td><td>1</td><td>1</td><td>1</td><td>0</td><td>0.0</td><td>426200.0</td><td>374700.0</td><td>53.26865</td><td>-1.6086259</td></tr><tr><td>CP5</td><td>254 775</td><td>0</td><td>0</td><td>0</td><td>0</td><td>0</td><td>1</td><td>1</td><td>0</td><td>0</td><td>0</td><td>0</td><td>0</td><td>0</td><td>0</td><td>0.0</td><td>425400.0</td><td>377500.0</td><td>53.293858</td><td>-1.6203977</td></tr><tr><td>CP6</td><td>251 786</td><td>0</td><td>1</td><td>1</td><td>0</td><td>0</td><td>1</td><td>1</td><td>1</td><td>1</td><td>1</td><td>0</td><td>0</td><td>1</td><td>0</td><td>0.0</td><td>425100.0</td><td>378600.0</td><td>53.303757</td><td>-1.6248118</td></tr><tr><td>CP7</td><td>247 801</td><td>0</td><td>0</td><td>1</td><td>1</td><td>1</td><td>1</td><td>1</td><td>1</td><td>0</td><td>0</td><td>0</td><td>0</td><td>0</td><td>1</td><td>1.0</td><td>424700.0</td><td>380100.0</td><td>53.31726</td><td>-1.6306977</td></tr><tr><td>E1</td><td>251 807</td><td>0</td><td>1</td><td>1</td><td>1</td><td>0</td><td>0</td><td>1</td><td>1</td><td>1</td><td>0</td><td>0</td><td>1</td><td>1</td><td>1</td><td>0.0</td><td>425100.0</td><td>380700.0</td><td>53.32263</td><td>-1.6246463</td></tr><tr><td>E10U</td><td>252 817</td><td>1</td><td>1</td><td>1</td><td>1</td><td>1</td><td>1</td><td>1</td><td>1</td><td>1</td><td>1</td><td>1</td><td>1</td><td>1</td><td>1</td><td>1.0</td><td>425200.0</td><td>381700.0</td><td>53.331615</td><td>-1.623066</td></tr><tr><td>E2R</td><td>274 814</td><td>0</td><td>0</td><td>0</td><td>0</td><td>0</td><td>0</td><td>0</td><td>0</td><td>0</td><td>0</td><td>1</td><td>1</td><td>1</td><td>1</td><td>0.0</td><td>427400.0</td><td>381400.0</td><td>53.32881</td><td>-1.5900581</td></tr><tr><td>E3</td><td>234 807</td><td>0</td><td>0</td><td>0</td><td>0</td><td>0</td><td>0</td><td>0</td><td>0</td><td>0</td><td>0</td><td>0</td><td>0</td><td>1</td><td>1</td><td>1.0</td><td>423400.0</td><td>380700.0</td><td>53.322712</td><td>-1.6501671</td></tr><tr><td>E4R</td><td>249 792</td><td>0</td><td>0</td><td>1</td><td>1</td><td>1</td><td>0</td><td>0</td><td>1</td><td>1</td><td>0</td><td>0</td><td>1</td><td>1</td><td>0</td><td>0.0</td><td>424900.0</td><td>379200.0</td><td>53.30916</td><td>-1.627766</td></tr><tr><td>E5</td><td>246 779</td><td>0</td><td>0</td><td>0</td><td>0</td><td>0</td><td>0</td><td>1</td><td>1</td><td>1</td><td>0</td><td>0</td><td>0</td><td>0</td><td>0</td><td>0.0</td><td>424600.0</td><td>377900.0</td><td>53.29749</td><td>-1.6323686</td></tr><tr><td>E6</td><td>247 761</td><td>0</td><td>0</td><td>0</td><td>1</td><td>1</td><td>1</td><td>1</td><td>0</td><td>0</td><td>0</td><td>0</td><td>0</td><td>0</td><td>0</td><td>0.0</td><td>424700.0</td><td>376100.0</td><td>53.281303</td><td>-1.6310076</td></tr><tr><td>E7U</td><td>263 758</td><td>1</td><td>1</td><td>1</td><td>1</td><td>1</td><td>1</td><td>1</td><td>1</td><td>1</td><td>1</td><td>1</td><td>1</td><td>1</td><td>1</td><td>1.0</td><td>426300.0</td><td>375800.0</td><td>53.27853</td><td>-1.607036</td></tr><tr><td>E8</td><td>245 745</td><td>0</td><td>0</td><td>0</td><td>1</td><td>1</td><td>1</td><td>0</td><td>0</td><td>0</td><td>0</td><td>0</td><td>0</td><td>0</td><td>0</td><td>0.0</td><td>424500.0</td><td>374500.0</td><td>53.266933</td><td>-1.6341299</td></tr><tr><td>E9U</td><td>258 794</td><td>1</td><td>1</td><td>1</td><td>1</td><td>1</td><td>1</td><td>1</td><td>1</td><td>1</td><td>1</td><td>1</td><td>1</td><td>1</td><td>1</td><td>1.0</td><td>425800.0</td><td>379400.0</td><td>53.310913</td><td>-1.6142431</td></tr><tr><td>Finish</td><td>241 808</td><td>0</td><td>0</td><td>0</td><td>0</td><td>0</td><td>0</td><td>0</td><td>0</td><td>0</td><td>0</td><td>1</td><td>1</td><td>1</td><td>1</td><td>1.0</td><td>424100.0</td><td>380800.0</td><td>53.323578</td><td>-1.6396511</td></tr><tr><td>Start</td><td>258 779</td><td>1</td><td>1</td><td>1</td><td>1</td><td>1</td><td>1</td><td>1</td><td>1</td><td>1</td><td>1</td><td>1</td><td>1</td><td>1</td><td>1</td><td>1.0</td><td>425800.0</td><td>377900.0</td><td>53.297432</td><td>-1.6143645</td></tr></tbody></table></div>"
      ]
     },
     "metadata": {
      "application/vnd.databricks.v1+output": {
       "addedWidgets": {},
       "aggData": [],
       "aggError": "",
       "aggOverflow": false,
       "aggSchema": [],
       "aggSeriesLimitReached": false,
       "aggType": "",
       "arguments": {},
       "columnCustomDisplayInfos": {},
       "data": [
        [
         "CP1",
         "251 801",
         0,
         0,
         1,
         1,
         1,
         0,
         0,
         0,
         0,
         0,
         1,
         1,
         1,
         1,
         1.0,
         425100.0,
         380100.0,
         53.31724,
         -1.6246936
        ],
        [
         "CP2",
         "265 801",
         1,
         1,
         1,
         1,
         1,
         1,
         0,
         0,
         0,
         1,
         1,
         0,
         0,
         0,
         0.0,
         426500.0,
         380100.0,
         53.317173,
         -1.6036792
        ],
        [
         "CP3",
         "268 789",
         1,
         1,
         0,
         0,
         0,
         0,
         0,
         0,
         0,
         0,
         0,
         0,
         1,
         1,
         1.0,
         426800.0,
         378900.0,
         53.30637,
         -1.5992771
        ],
        [
         "CP4",
         "262 747",
         0,
         0,
         0,
         1,
         1,
         0,
         0,
         0,
         1,
         1,
         1,
         1,
         1,
         0,
         0.0,
         426200.0,
         374700.0,
         53.26865,
         -1.6086259
        ],
        [
         "CP5",
         "254 775",
         0,
         0,
         0,
         0,
         0,
         1,
         1,
         0,
         0,
         0,
         0,
         0,
         0,
         0,
         0.0,
         425400.0,
         377500.0,
         53.293858,
         -1.6203977
        ],
        [
         "CP6",
         "251 786",
         0,
         1,
         1,
         0,
         0,
         1,
         1,
         1,
         1,
         1,
         0,
         0,
         1,
         0,
         0.0,
         425100.0,
         378600.0,
         53.303757,
         -1.6248118
        ],
        [
         "CP7",
         "247 801",
         0,
         0,
         1,
         1,
         1,
         1,
         1,
         1,
         0,
         0,
         0,
         0,
         0,
         1,
         1.0,
         424700.0,
         380100.0,
         53.31726,
         -1.6306977
        ],
        [
         "E1",
         "251 807",
         0,
         1,
         1,
         1,
         0,
         0,
         1,
         1,
         1,
         0,
         0,
         1,
         1,
         1,
         0.0,
         425100.0,
         380700.0,
         53.32263,
         -1.6246463
        ],
        [
         "E10U",
         "252 817",
         1,
         1,
         1,
         1,
         1,
         1,
         1,
         1,
         1,
         1,
         1,
         1,
         1,
         1,
         1.0,
         425200.0,
         381700.0,
         53.331615,
         -1.623066
        ],
        [
         "E2R",
         "274 814",
         0,
         0,
         0,
         0,
         0,
         0,
         0,
         0,
         0,
         0,
         1,
         1,
         1,
         1,
         0.0,
         427400.0,
         381400.0,
         53.32881,
         -1.5900581
        ],
        [
         "E3",
         "234 807",
         0,
         0,
         0,
         0,
         0,
         0,
         0,
         0,
         0,
         0,
         0,
         0,
         1,
         1,
         1.0,
         423400.0,
         380700.0,
         53.322712,
         -1.6501671
        ],
        [
         "E4R",
         "249 792",
         0,
         0,
         1,
         1,
         1,
         0,
         0,
         1,
         1,
         0,
         0,
         1,
         1,
         0,
         0.0,
         424900.0,
         379200.0,
         53.30916,
         -1.627766
        ],
        [
         "E5",
         "246 779",
         0,
         0,
         0,
         0,
         0,
         0,
         1,
         1,
         1,
         0,
         0,
         0,
         0,
         0,
         0.0,
         424600.0,
         377900.0,
         53.29749,
         -1.6323686
        ],
        [
         "E6",
         "247 761",
         0,
         0,
         0,
         1,
         1,
         1,
         1,
         0,
         0,
         0,
         0,
         0,
         0,
         0,
         0.0,
         424700.0,
         376100.0,
         53.281303,
         -1.6310076
        ],
        [
         "E7U",
         "263 758",
         1,
         1,
         1,
         1,
         1,
         1,
         1,
         1,
         1,
         1,
         1,
         1,
         1,
         1,
         1.0,
         426300.0,
         375800.0,
         53.27853,
         -1.607036
        ],
        [
         "E8",
         "245 745",
         0,
         0,
         0,
         1,
         1,
         1,
         0,
         0,
         0,
         0,
         0,
         0,
         0,
         0,
         0.0,
         424500.0,
         374500.0,
         53.266933,
         -1.6341299
        ],
        [
         "E9U",
         "258 794",
         1,
         1,
         1,
         1,
         1,
         1,
         1,
         1,
         1,
         1,
         1,
         1,
         1,
         1,
         1.0,
         425800.0,
         379400.0,
         53.310913,
         -1.6142431
        ],
        [
         "Finish",
         "241 808",
         0,
         0,
         0,
         0,
         0,
         0,
         0,
         0,
         0,
         0,
         1,
         1,
         1,
         1,
         1.0,
         424100.0,
         380800.0,
         53.323578,
         -1.6396511
        ],
        [
         "Start",
         "258 779",
         1,
         1,
         1,
         1,
         1,
         1,
         1,
         1,
         1,
         1,
         1,
         1,
         1,
         1,
         1.0,
         425800.0,
         377900.0,
         53.297432,
         -1.6143645
        ]
       ],
       "datasetInfos": [],
       "dbfsResultPath": null,
       "isJsonSchema": true,
       "metadata": {},
       "overflow": false,
       "plotOptions": {
        "customPlotOptions": {},
        "displayType": "table",
        "pivotAggregation": null,
        "pivotColumns": null,
        "xColumns": null,
        "yColumns": null
       },
       "removedWidgets": [],
       "schema": [
        {
         "metadata": "{}",
         "name": "CP",
         "type": "\"string\""
        },
        {
         "metadata": "{}",
         "name": "BNG",
         "type": "\"string\""
        },
        {
         "metadata": "{}",
         "name": "1000",
         "type": "\"integer\""
        },
        {
         "metadata": "{}",
         "name": "1030",
         "type": "\"integer\""
        },
        {
         "metadata": "{}",
         "name": "1100",
         "type": "\"integer\""
        },
        {
         "metadata": "{}",
         "name": "1130",
         "type": "\"integer\""
        },
        {
         "metadata": "{}",
         "name": "1200",
         "type": "\"integer\""
        },
        {
         "metadata": "{}",
         "name": "1230",
         "type": "\"integer\""
        },
        {
         "metadata": "{}",
         "name": "1300",
         "type": "\"integer\""
        },
        {
         "metadata": "{}",
         "name": "1330",
         "type": "\"integer\""
        },
        {
         "metadata": "{}",
         "name": "1400",
         "type": "\"integer\""
        },
        {
         "metadata": "{}",
         "name": "1430",
         "type": "\"integer\""
        },
        {
         "metadata": "{}",
         "name": "1500",
         "type": "\"integer\""
        },
        {
         "metadata": "{}",
         "name": "1530",
         "type": "\"integer\""
        },
        {
         "metadata": "{}",
         "name": "1600",
         "type": "\"integer\""
        },
        {
         "metadata": "{}",
         "name": "1630",
         "type": "\"integer\""
        },
        {
         "metadata": "{}",
         "name": "1700\r",
         "type": "\"double\""
        },
        {
         "metadata": "{}",
         "name": "NGR_Easting",
         "type": "\"double\""
        },
        {
         "metadata": "{}",
         "name": "NGR_Northing",
         "type": "\"double\""
        },
        {
         "metadata": "{}",
         "name": "Latitude",
         "type": "\"float\""
        },
        {
         "metadata": "{}",
         "name": "Longitude",
         "type": "\"float\""
        }
       ],
       "type": "table"
      }
     },
     "output_type": "display_data"
    }
   ],
   "source": [
    "LatLong_Df = spark.createDataFrame(\n",
    "    [(1, 1.0, 1.0)],\n",
    "    schema='CP string, Latitude float, Longitude float'\n",
    ")\n",
    "LatLong_Df = LatLong_Df.filter('1!=1')\n",
    "\n",
    "# Convert DataFrame to a list\n",
    "gridrefs_list = openings_df.select(\n",
    "    openings_df.CP,\n",
    "    openings_df.NGR_Easting,\n",
    "    openings_df.NGR_Northing\n",
    ").collect()\n",
    "\n",
    "# Iterate over the list\n",
    "for row in gridrefs_list:\n",
    "    # Perform desired operations with the column values\n",
    "    resp = requests.get(\n",
    "        \"http://webapps.bgs.ac.uk/data/webservices/CoordConvert_LL_BNG.cfc?method=BNGtoLatLng&easting=\"\n",
    "        + str(row.NGR_Easting)\n",
    "        + \"&northing=\"\n",
    "        + str(row.NGR_Northing)\n",
    "    )\n",
    "\n",
    "    # Parse the JSON response\n",
    "    json_resp = json.loads(resp.text)\n",
    "\n",
    "    # Check if 'LATITUDE' and 'LONGITUDE' keys exist in the response\n",
    "    if 'LATITUDE' in json_resp and 'LONGITUDE' in json_resp:\n",
    "        # Extract latitude and longitude values\n",
    "        latitude = json_resp['LATITUDE']\n",
    "        longitude = json_resp['LONGITUDE']\n",
    "        cp = row[\"CP\"]\n",
    "\n",
    "        df = spark.createDataFrame(\n",
    "            [(cp, latitude, longitude)],\n",
    "            'CP string, Latitude float, Longitude float'\n",
    "        )\n",
    "        LatLong_Df = LatLong_Df.union(df)\n",
    "\n",
    "openings_df = openings_df.join(LatLong_Df, openings_df.CP == LatLong_Df.CP).drop(LatLong_Df.CP)\n",
    "\n",
    "LatLong_Df.unpersist()\n",
    "# Show DataFrame\n",
    "display(openings_df)"
   ]
  },
  {
   "cell_type": "markdown",
   "metadata": {
    "application/vnd.databricks.v1+cell": {
     "cellMetadata": {
      "byteLimit": 2048000,
      "rowLimit": 10000
     },
     "inputWidgets": {},
     "nuid": "8e8f8214-b37e-4902-a301-1bef3bd6b686",
     "showTitle": false,
     "tableResultSettingsMap": {},
     "title": ""
    },
    "id": "rzH9dfeBaUw_"
   },
   "source": [
    "### Create Matrix of Checkpoint combinations"
   ]
  },
  {
   "cell_type": "code",
   "execution_count": 0,
   "metadata": {
    "application/vnd.databricks.v1+cell": {
     "cellMetadata": {
      "byteLimit": 2048000,
      "rowLimit": 10000
     },
     "inputWidgets": {},
     "nuid": "c5e965e0-fc57-4ba2-8a51-903621f984ea",
     "showTitle": false,
     "tableResultSettingsMap": {},
     "title": ""
    },
    "id": "XHj6f09TZOjp",
    "outputId": "89c3a6e8-ee7c-4ba8-837f-7867bfb4a494"
   },
   "outputs": [
    {
     "output_type": "display_data",
     "data": {
      "text/html": [
       "<style scoped>\n",
       "  .table-result-container {\n",
       "    max-height: 300px;\n",
       "    overflow: auto;\n",
       "  }\n",
       "  table, th, td {\n",
       "    border: 1px solid black;\n",
       "    border-collapse: collapse;\n",
       "  }\n",
       "  th, td {\n",
       "    padding: 5px;\n",
       "  }\n",
       "  th {\n",
       "    text-align: left;\n",
       "  }\n",
       "</style><div class='table-result-container'><table class='table-result'><thead style='background-color: white'><tr><th>StartCP</th><th>FinishCP</th><th>StartLatitude</th><th>StartLongitude</th><th>FinishLatitude</th><th>FinishLongitude</th></tr></thead><tbody><tr><td>CP1</td><td>CP2</td><td>53.31724</td><td>-1.6246936</td><td>53.317173</td><td>-1.6036792</td></tr><tr><td>CP1</td><td>CP3</td><td>53.31724</td><td>-1.6246936</td><td>53.30637</td><td>-1.5992771</td></tr><tr><td>CP1</td><td>CP4</td><td>53.31724</td><td>-1.6246936</td><td>53.26865</td><td>-1.6086259</td></tr><tr><td>CP1</td><td>CP5</td><td>53.31724</td><td>-1.6246936</td><td>53.293858</td><td>-1.6203977</td></tr><tr><td>CP1</td><td>CP6</td><td>53.31724</td><td>-1.6246936</td><td>53.303757</td><td>-1.6248118</td></tr><tr><td>CP1</td><td>CP7</td><td>53.31724</td><td>-1.6246936</td><td>53.31726</td><td>-1.6306977</td></tr><tr><td>CP1</td><td>E1</td><td>53.31724</td><td>-1.6246936</td><td>53.32263</td><td>-1.6246463</td></tr><tr><td>CP1</td><td>E10U</td><td>53.31724</td><td>-1.6246936</td><td>53.331615</td><td>-1.623066</td></tr><tr><td>CP1</td><td>E2R</td><td>53.31724</td><td>-1.6246936</td><td>53.32881</td><td>-1.5900581</td></tr><tr><td>CP1</td><td>E3</td><td>53.31724</td><td>-1.6246936</td><td>53.322712</td><td>-1.6501671</td></tr><tr><td>CP1</td><td>E4R</td><td>53.31724</td><td>-1.6246936</td><td>53.30916</td><td>-1.627766</td></tr><tr><td>CP1</td><td>E5</td><td>53.31724</td><td>-1.6246936</td><td>53.29749</td><td>-1.6323686</td></tr><tr><td>CP1</td><td>E6</td><td>53.31724</td><td>-1.6246936</td><td>53.281303</td><td>-1.6310076</td></tr><tr><td>CP1</td><td>E7U</td><td>53.31724</td><td>-1.6246936</td><td>53.27853</td><td>-1.607036</td></tr><tr><td>CP1</td><td>E8</td><td>53.31724</td><td>-1.6246936</td><td>53.266933</td><td>-1.6341299</td></tr><tr><td>CP1</td><td>E9U</td><td>53.31724</td><td>-1.6246936</td><td>53.310913</td><td>-1.6142431</td></tr><tr><td>CP1</td><td>Finish</td><td>53.31724</td><td>-1.6246936</td><td>53.323578</td><td>-1.6396511</td></tr><tr><td>CP1</td><td>Start</td><td>53.31724</td><td>-1.6246936</td><td>53.297432</td><td>-1.6143645</td></tr><tr><td>CP2</td><td>CP1</td><td>53.317173</td><td>-1.6036792</td><td>53.31724</td><td>-1.6246936</td></tr><tr><td>CP2</td><td>CP3</td><td>53.317173</td><td>-1.6036792</td><td>53.30637</td><td>-1.5992771</td></tr><tr><td>CP2</td><td>CP4</td><td>53.317173</td><td>-1.6036792</td><td>53.26865</td><td>-1.6086259</td></tr><tr><td>CP2</td><td>CP5</td><td>53.317173</td><td>-1.6036792</td><td>53.293858</td><td>-1.6203977</td></tr><tr><td>CP2</td><td>CP6</td><td>53.317173</td><td>-1.6036792</td><td>53.303757</td><td>-1.6248118</td></tr><tr><td>CP2</td><td>CP7</td><td>53.317173</td><td>-1.6036792</td><td>53.31726</td><td>-1.6306977</td></tr><tr><td>CP2</td><td>E1</td><td>53.317173</td><td>-1.6036792</td><td>53.32263</td><td>-1.6246463</td></tr><tr><td>CP2</td><td>E10U</td><td>53.317173</td><td>-1.6036792</td><td>53.331615</td><td>-1.623066</td></tr><tr><td>CP2</td><td>E2R</td><td>53.317173</td><td>-1.6036792</td><td>53.32881</td><td>-1.5900581</td></tr><tr><td>CP2</td><td>E3</td><td>53.317173</td><td>-1.6036792</td><td>53.322712</td><td>-1.6501671</td></tr><tr><td>CP2</td><td>E4R</td><td>53.317173</td><td>-1.6036792</td><td>53.30916</td><td>-1.627766</td></tr><tr><td>CP2</td><td>E5</td><td>53.317173</td><td>-1.6036792</td><td>53.29749</td><td>-1.6323686</td></tr><tr><td>CP2</td><td>E6</td><td>53.317173</td><td>-1.6036792</td><td>53.281303</td><td>-1.6310076</td></tr><tr><td>CP2</td><td>E7U</td><td>53.317173</td><td>-1.6036792</td><td>53.27853</td><td>-1.607036</td></tr><tr><td>CP2</td><td>E8</td><td>53.317173</td><td>-1.6036792</td><td>53.266933</td><td>-1.6341299</td></tr><tr><td>CP2</td><td>E9U</td><td>53.317173</td><td>-1.6036792</td><td>53.310913</td><td>-1.6142431</td></tr><tr><td>CP2</td><td>Finish</td><td>53.317173</td><td>-1.6036792</td><td>53.323578</td><td>-1.6396511</td></tr><tr><td>CP2</td><td>Start</td><td>53.317173</td><td>-1.6036792</td><td>53.297432</td><td>-1.6143645</td></tr><tr><td>CP3</td><td>CP1</td><td>53.30637</td><td>-1.5992771</td><td>53.31724</td><td>-1.6246936</td></tr><tr><td>CP3</td><td>CP2</td><td>53.30637</td><td>-1.5992771</td><td>53.317173</td><td>-1.6036792</td></tr><tr><td>CP3</td><td>CP4</td><td>53.30637</td><td>-1.5992771</td><td>53.26865</td><td>-1.6086259</td></tr><tr><td>CP3</td><td>CP5</td><td>53.30637</td><td>-1.5992771</td><td>53.293858</td><td>-1.6203977</td></tr><tr><td>CP3</td><td>CP6</td><td>53.30637</td><td>-1.5992771</td><td>53.303757</td><td>-1.6248118</td></tr><tr><td>CP3</td><td>CP7</td><td>53.30637</td><td>-1.5992771</td><td>53.31726</td><td>-1.6306977</td></tr><tr><td>CP3</td><td>E1</td><td>53.30637</td><td>-1.5992771</td><td>53.32263</td><td>-1.6246463</td></tr><tr><td>CP3</td><td>E10U</td><td>53.30637</td><td>-1.5992771</td><td>53.331615</td><td>-1.623066</td></tr><tr><td>CP3</td><td>E2R</td><td>53.30637</td><td>-1.5992771</td><td>53.32881</td><td>-1.5900581</td></tr><tr><td>CP3</td><td>E3</td><td>53.30637</td><td>-1.5992771</td><td>53.322712</td><td>-1.6501671</td></tr><tr><td>CP3</td><td>E4R</td><td>53.30637</td><td>-1.5992771</td><td>53.30916</td><td>-1.627766</td></tr><tr><td>CP3</td><td>E5</td><td>53.30637</td><td>-1.5992771</td><td>53.29749</td><td>-1.6323686</td></tr><tr><td>CP3</td><td>E6</td><td>53.30637</td><td>-1.5992771</td><td>53.281303</td><td>-1.6310076</td></tr><tr><td>CP3</td><td>E7U</td><td>53.30637</td><td>-1.5992771</td><td>53.27853</td><td>-1.607036</td></tr><tr><td>CP3</td><td>E8</td><td>53.30637</td><td>-1.5992771</td><td>53.266933</td><td>-1.6341299</td></tr><tr><td>CP3</td><td>E9U</td><td>53.30637</td><td>-1.5992771</td><td>53.310913</td><td>-1.6142431</td></tr><tr><td>CP3</td><td>Finish</td><td>53.30637</td><td>-1.5992771</td><td>53.323578</td><td>-1.6396511</td></tr><tr><td>CP3</td><td>Start</td><td>53.30637</td><td>-1.5992771</td><td>53.297432</td><td>-1.6143645</td></tr><tr><td>CP4</td><td>CP1</td><td>53.26865</td><td>-1.6086259</td><td>53.31724</td><td>-1.6246936</td></tr><tr><td>CP4</td><td>CP2</td><td>53.26865</td><td>-1.6086259</td><td>53.317173</td><td>-1.6036792</td></tr><tr><td>CP4</td><td>CP3</td><td>53.26865</td><td>-1.6086259</td><td>53.30637</td><td>-1.5992771</td></tr><tr><td>CP4</td><td>CP5</td><td>53.26865</td><td>-1.6086259</td><td>53.293858</td><td>-1.6203977</td></tr><tr><td>CP4</td><td>CP6</td><td>53.26865</td><td>-1.6086259</td><td>53.303757</td><td>-1.6248118</td></tr><tr><td>CP4</td><td>CP7</td><td>53.26865</td><td>-1.6086259</td><td>53.31726</td><td>-1.6306977</td></tr><tr><td>CP4</td><td>E1</td><td>53.26865</td><td>-1.6086259</td><td>53.32263</td><td>-1.6246463</td></tr><tr><td>CP4</td><td>E10U</td><td>53.26865</td><td>-1.6086259</td><td>53.331615</td><td>-1.623066</td></tr><tr><td>CP4</td><td>E2R</td><td>53.26865</td><td>-1.6086259</td><td>53.32881</td><td>-1.5900581</td></tr><tr><td>CP4</td><td>E3</td><td>53.26865</td><td>-1.6086259</td><td>53.322712</td><td>-1.6501671</td></tr><tr><td>CP4</td><td>E4R</td><td>53.26865</td><td>-1.6086259</td><td>53.30916</td><td>-1.627766</td></tr><tr><td>CP4</td><td>E5</td><td>53.26865</td><td>-1.6086259</td><td>53.29749</td><td>-1.6323686</td></tr><tr><td>CP4</td><td>E6</td><td>53.26865</td><td>-1.6086259</td><td>53.281303</td><td>-1.6310076</td></tr><tr><td>CP4</td><td>E7U</td><td>53.26865</td><td>-1.6086259</td><td>53.27853</td><td>-1.607036</td></tr><tr><td>CP4</td><td>E8</td><td>53.26865</td><td>-1.6086259</td><td>53.266933</td><td>-1.6341299</td></tr><tr><td>CP4</td><td>E9U</td><td>53.26865</td><td>-1.6086259</td><td>53.310913</td><td>-1.6142431</td></tr><tr><td>CP4</td><td>Finish</td><td>53.26865</td><td>-1.6086259</td><td>53.323578</td><td>-1.6396511</td></tr><tr><td>CP4</td><td>Start</td><td>53.26865</td><td>-1.6086259</td><td>53.297432</td><td>-1.6143645</td></tr><tr><td>CP5</td><td>CP1</td><td>53.293858</td><td>-1.6203977</td><td>53.31724</td><td>-1.6246936</td></tr><tr><td>CP5</td><td>CP2</td><td>53.293858</td><td>-1.6203977</td><td>53.317173</td><td>-1.6036792</td></tr><tr><td>CP5</td><td>CP3</td><td>53.293858</td><td>-1.6203977</td><td>53.30637</td><td>-1.5992771</td></tr><tr><td>CP5</td><td>CP4</td><td>53.293858</td><td>-1.6203977</td><td>53.26865</td><td>-1.6086259</td></tr><tr><td>CP5</td><td>CP6</td><td>53.293858</td><td>-1.6203977</td><td>53.303757</td><td>-1.6248118</td></tr><tr><td>CP5</td><td>CP7</td><td>53.293858</td><td>-1.6203977</td><td>53.31726</td><td>-1.6306977</td></tr><tr><td>CP5</td><td>E1</td><td>53.293858</td><td>-1.6203977</td><td>53.32263</td><td>-1.6246463</td></tr><tr><td>CP5</td><td>E10U</td><td>53.293858</td><td>-1.6203977</td><td>53.331615</td><td>-1.623066</td></tr><tr><td>CP5</td><td>E2R</td><td>53.293858</td><td>-1.6203977</td><td>53.32881</td><td>-1.5900581</td></tr><tr><td>CP5</td><td>E3</td><td>53.293858</td><td>-1.6203977</td><td>53.322712</td><td>-1.6501671</td></tr><tr><td>CP5</td><td>E4R</td><td>53.293858</td><td>-1.6203977</td><td>53.30916</td><td>-1.627766</td></tr><tr><td>CP5</td><td>E5</td><td>53.293858</td><td>-1.6203977</td><td>53.29749</td><td>-1.6323686</td></tr><tr><td>CP5</td><td>E6</td><td>53.293858</td><td>-1.6203977</td><td>53.281303</td><td>-1.6310076</td></tr><tr><td>CP5</td><td>E7U</td><td>53.293858</td><td>-1.6203977</td><td>53.27853</td><td>-1.607036</td></tr><tr><td>CP5</td><td>E8</td><td>53.293858</td><td>-1.6203977</td><td>53.266933</td><td>-1.6341299</td></tr><tr><td>CP5</td><td>E9U</td><td>53.293858</td><td>-1.6203977</td><td>53.310913</td><td>-1.6142431</td></tr><tr><td>CP5</td><td>Finish</td><td>53.293858</td><td>-1.6203977</td><td>53.323578</td><td>-1.6396511</td></tr><tr><td>CP5</td><td>Start</td><td>53.293858</td><td>-1.6203977</td><td>53.297432</td><td>-1.6143645</td></tr><tr><td>CP6</td><td>CP1</td><td>53.303757</td><td>-1.6248118</td><td>53.31724</td><td>-1.6246936</td></tr><tr><td>CP6</td><td>CP2</td><td>53.303757</td><td>-1.6248118</td><td>53.317173</td><td>-1.6036792</td></tr><tr><td>CP6</td><td>CP3</td><td>53.303757</td><td>-1.6248118</td><td>53.30637</td><td>-1.5992771</td></tr><tr><td>CP6</td><td>CP4</td><td>53.303757</td><td>-1.6248118</td><td>53.26865</td><td>-1.6086259</td></tr><tr><td>CP6</td><td>CP5</td><td>53.303757</td><td>-1.6248118</td><td>53.293858</td><td>-1.6203977</td></tr><tr><td>CP6</td><td>CP7</td><td>53.303757</td><td>-1.6248118</td><td>53.31726</td><td>-1.6306977</td></tr><tr><td>CP6</td><td>E1</td><td>53.303757</td><td>-1.6248118</td><td>53.32263</td><td>-1.6246463</td></tr><tr><td>CP6</td><td>E10U</td><td>53.303757</td><td>-1.6248118</td><td>53.331615</td><td>-1.623066</td></tr><tr><td>CP6</td><td>E2R</td><td>53.303757</td><td>-1.6248118</td><td>53.32881</td><td>-1.5900581</td></tr><tr><td>CP6</td><td>E3</td><td>53.303757</td><td>-1.6248118</td><td>53.322712</td><td>-1.6501671</td></tr><tr><td>CP6</td><td>E4R</td><td>53.303757</td><td>-1.6248118</td><td>53.30916</td><td>-1.627766</td></tr><tr><td>CP6</td><td>E5</td><td>53.303757</td><td>-1.6248118</td><td>53.29749</td><td>-1.6323686</td></tr><tr><td>CP6</td><td>E6</td><td>53.303757</td><td>-1.6248118</td><td>53.281303</td><td>-1.6310076</td></tr><tr><td>CP6</td><td>E7U</td><td>53.303757</td><td>-1.6248118</td><td>53.27853</td><td>-1.607036</td></tr><tr><td>CP6</td><td>E8</td><td>53.303757</td><td>-1.6248118</td><td>53.266933</td><td>-1.6341299</td></tr><tr><td>CP6</td><td>E9U</td><td>53.303757</td><td>-1.6248118</td><td>53.310913</td><td>-1.6142431</td></tr><tr><td>CP6</td><td>Finish</td><td>53.303757</td><td>-1.6248118</td><td>53.323578</td><td>-1.6396511</td></tr><tr><td>CP6</td><td>Start</td><td>53.303757</td><td>-1.6248118</td><td>53.297432</td><td>-1.6143645</td></tr><tr><td>CP7</td><td>CP1</td><td>53.31726</td><td>-1.6306977</td><td>53.31724</td><td>-1.6246936</td></tr><tr><td>CP7</td><td>CP2</td><td>53.31726</td><td>-1.6306977</td><td>53.317173</td><td>-1.6036792</td></tr><tr><td>CP7</td><td>CP3</td><td>53.31726</td><td>-1.6306977</td><td>53.30637</td><td>-1.5992771</td></tr><tr><td>CP7</td><td>CP4</td><td>53.31726</td><td>-1.6306977</td><td>53.26865</td><td>-1.6086259</td></tr><tr><td>CP7</td><td>CP5</td><td>53.31726</td><td>-1.6306977</td><td>53.293858</td><td>-1.6203977</td></tr><tr><td>CP7</td><td>CP6</td><td>53.31726</td><td>-1.6306977</td><td>53.303757</td><td>-1.6248118</td></tr><tr><td>CP7</td><td>E1</td><td>53.31726</td><td>-1.6306977</td><td>53.32263</td><td>-1.6246463</td></tr><tr><td>CP7</td><td>E10U</td><td>53.31726</td><td>-1.6306977</td><td>53.331615</td><td>-1.623066</td></tr><tr><td>CP7</td><td>E2R</td><td>53.31726</td><td>-1.6306977</td><td>53.32881</td><td>-1.5900581</td></tr><tr><td>CP7</td><td>E3</td><td>53.31726</td><td>-1.6306977</td><td>53.322712</td><td>-1.6501671</td></tr><tr><td>CP7</td><td>E4R</td><td>53.31726</td><td>-1.6306977</td><td>53.30916</td><td>-1.627766</td></tr><tr><td>CP7</td><td>E5</td><td>53.31726</td><td>-1.6306977</td><td>53.29749</td><td>-1.6323686</td></tr><tr><td>CP7</td><td>E6</td><td>53.31726</td><td>-1.6306977</td><td>53.281303</td><td>-1.6310076</td></tr><tr><td>CP7</td><td>E7U</td><td>53.31726</td><td>-1.6306977</td><td>53.27853</td><td>-1.607036</td></tr><tr><td>CP7</td><td>E8</td><td>53.31726</td><td>-1.6306977</td><td>53.266933</td><td>-1.6341299</td></tr><tr><td>CP7</td><td>E9U</td><td>53.31726</td><td>-1.6306977</td><td>53.310913</td><td>-1.6142431</td></tr><tr><td>CP7</td><td>Finish</td><td>53.31726</td><td>-1.6306977</td><td>53.323578</td><td>-1.6396511</td></tr><tr><td>CP7</td><td>Start</td><td>53.31726</td><td>-1.6306977</td><td>53.297432</td><td>-1.6143645</td></tr><tr><td>E1</td><td>CP1</td><td>53.32263</td><td>-1.6246463</td><td>53.31724</td><td>-1.6246936</td></tr><tr><td>E1</td><td>CP2</td><td>53.32263</td><td>-1.6246463</td><td>53.317173</td><td>-1.6036792</td></tr><tr><td>E1</td><td>CP3</td><td>53.32263</td><td>-1.6246463</td><td>53.30637</td><td>-1.5992771</td></tr><tr><td>E1</td><td>CP4</td><td>53.32263</td><td>-1.6246463</td><td>53.26865</td><td>-1.6086259</td></tr><tr><td>E1</td><td>CP5</td><td>53.32263</td><td>-1.6246463</td><td>53.293858</td><td>-1.6203977</td></tr><tr><td>E1</td><td>CP6</td><td>53.32263</td><td>-1.6246463</td><td>53.303757</td><td>-1.6248118</td></tr><tr><td>E1</td><td>CP7</td><td>53.32263</td><td>-1.6246463</td><td>53.31726</td><td>-1.6306977</td></tr><tr><td>E1</td><td>E10U</td><td>53.32263</td><td>-1.6246463</td><td>53.331615</td><td>-1.623066</td></tr><tr><td>E1</td><td>E2R</td><td>53.32263</td><td>-1.6246463</td><td>53.32881</td><td>-1.5900581</td></tr><tr><td>E1</td><td>E3</td><td>53.32263</td><td>-1.6246463</td><td>53.322712</td><td>-1.6501671</td></tr><tr><td>E1</td><td>E4R</td><td>53.32263</td><td>-1.6246463</td><td>53.30916</td><td>-1.627766</td></tr><tr><td>E1</td><td>E5</td><td>53.32263</td><td>-1.6246463</td><td>53.29749</td><td>-1.6323686</td></tr><tr><td>E1</td><td>E6</td><td>53.32263</td><td>-1.6246463</td><td>53.281303</td><td>-1.6310076</td></tr><tr><td>E1</td><td>E7U</td><td>53.32263</td><td>-1.6246463</td><td>53.27853</td><td>-1.607036</td></tr><tr><td>E1</td><td>E8</td><td>53.32263</td><td>-1.6246463</td><td>53.266933</td><td>-1.6341299</td></tr><tr><td>E1</td><td>E9U</td><td>53.32263</td><td>-1.6246463</td><td>53.310913</td><td>-1.6142431</td></tr><tr><td>E1</td><td>Finish</td><td>53.32263</td><td>-1.6246463</td><td>53.323578</td><td>-1.6396511</td></tr><tr><td>E1</td><td>Start</td><td>53.32263</td><td>-1.6246463</td><td>53.297432</td><td>-1.6143645</td></tr><tr><td>E10U</td><td>CP1</td><td>53.331615</td><td>-1.623066</td><td>53.31724</td><td>-1.6246936</td></tr><tr><td>E10U</td><td>CP2</td><td>53.331615</td><td>-1.623066</td><td>53.317173</td><td>-1.6036792</td></tr><tr><td>E10U</td><td>CP3</td><td>53.331615</td><td>-1.623066</td><td>53.30637</td><td>-1.5992771</td></tr><tr><td>E10U</td><td>CP4</td><td>53.331615</td><td>-1.623066</td><td>53.26865</td><td>-1.6086259</td></tr><tr><td>E10U</td><td>CP5</td><td>53.331615</td><td>-1.623066</td><td>53.293858</td><td>-1.6203977</td></tr><tr><td>E10U</td><td>CP6</td><td>53.331615</td><td>-1.623066</td><td>53.303757</td><td>-1.6248118</td></tr><tr><td>E10U</td><td>CP7</td><td>53.331615</td><td>-1.623066</td><td>53.31726</td><td>-1.6306977</td></tr><tr><td>E10U</td><td>E1</td><td>53.331615</td><td>-1.623066</td><td>53.32263</td><td>-1.6246463</td></tr><tr><td>E10U</td><td>E2R</td><td>53.331615</td><td>-1.623066</td><td>53.32881</td><td>-1.5900581</td></tr><tr><td>E10U</td><td>E3</td><td>53.331615</td><td>-1.623066</td><td>53.322712</td><td>-1.6501671</td></tr><tr><td>E10U</td><td>E4R</td><td>53.331615</td><td>-1.623066</td><td>53.30916</td><td>-1.627766</td></tr><tr><td>E10U</td><td>E5</td><td>53.331615</td><td>-1.623066</td><td>53.29749</td><td>-1.6323686</td></tr><tr><td>E10U</td><td>E6</td><td>53.331615</td><td>-1.623066</td><td>53.281303</td><td>-1.6310076</td></tr><tr><td>E10U</td><td>E7U</td><td>53.331615</td><td>-1.623066</td><td>53.27853</td><td>-1.607036</td></tr><tr><td>E10U</td><td>E8</td><td>53.331615</td><td>-1.623066</td><td>53.266933</td><td>-1.6341299</td></tr><tr><td>E10U</td><td>E9U</td><td>53.331615</td><td>-1.623066</td><td>53.310913</td><td>-1.6142431</td></tr><tr><td>E10U</td><td>Finish</td><td>53.331615</td><td>-1.623066</td><td>53.323578</td><td>-1.6396511</td></tr><tr><td>E10U</td><td>Start</td><td>53.331615</td><td>-1.623066</td><td>53.297432</td><td>-1.6143645</td></tr><tr><td>E2R</td><td>CP1</td><td>53.32881</td><td>-1.5900581</td><td>53.31724</td><td>-1.6246936</td></tr><tr><td>E2R</td><td>CP2</td><td>53.32881</td><td>-1.5900581</td><td>53.317173</td><td>-1.6036792</td></tr><tr><td>E2R</td><td>CP3</td><td>53.32881</td><td>-1.5900581</td><td>53.30637</td><td>-1.5992771</td></tr><tr><td>E2R</td><td>CP4</td><td>53.32881</td><td>-1.5900581</td><td>53.26865</td><td>-1.6086259</td></tr><tr><td>E2R</td><td>CP5</td><td>53.32881</td><td>-1.5900581</td><td>53.293858</td><td>-1.6203977</td></tr><tr><td>E2R</td><td>CP6</td><td>53.32881</td><td>-1.5900581</td><td>53.303757</td><td>-1.6248118</td></tr><tr><td>E2R</td><td>CP7</td><td>53.32881</td><td>-1.5900581</td><td>53.31726</td><td>-1.6306977</td></tr><tr><td>E2R</td><td>E1</td><td>53.32881</td><td>-1.5900581</td><td>53.32263</td><td>-1.6246463</td></tr><tr><td>E2R</td><td>E10U</td><td>53.32881</td><td>-1.5900581</td><td>53.331615</td><td>-1.623066</td></tr><tr><td>E2R</td><td>E3</td><td>53.32881</td><td>-1.5900581</td><td>53.322712</td><td>-1.6501671</td></tr><tr><td>E2R</td><td>E4R</td><td>53.32881</td><td>-1.5900581</td><td>53.30916</td><td>-1.627766</td></tr><tr><td>E2R</td><td>E5</td><td>53.32881</td><td>-1.5900581</td><td>53.29749</td><td>-1.6323686</td></tr><tr><td>E2R</td><td>E6</td><td>53.32881</td><td>-1.5900581</td><td>53.281303</td><td>-1.6310076</td></tr><tr><td>E2R</td><td>E7U</td><td>53.32881</td><td>-1.5900581</td><td>53.27853</td><td>-1.607036</td></tr><tr><td>E2R</td><td>E8</td><td>53.32881</td><td>-1.5900581</td><td>53.266933</td><td>-1.6341299</td></tr><tr><td>E2R</td><td>E9U</td><td>53.32881</td><td>-1.5900581</td><td>53.310913</td><td>-1.6142431</td></tr><tr><td>E2R</td><td>Finish</td><td>53.32881</td><td>-1.5900581</td><td>53.323578</td><td>-1.6396511</td></tr><tr><td>E2R</td><td>Start</td><td>53.32881</td><td>-1.5900581</td><td>53.297432</td><td>-1.6143645</td></tr><tr><td>E3</td><td>CP1</td><td>53.322712</td><td>-1.6501671</td><td>53.31724</td><td>-1.6246936</td></tr><tr><td>E3</td><td>CP2</td><td>53.322712</td><td>-1.6501671</td><td>53.317173</td><td>-1.6036792</td></tr><tr><td>E3</td><td>CP3</td><td>53.322712</td><td>-1.6501671</td><td>53.30637</td><td>-1.5992771</td></tr><tr><td>E3</td><td>CP4</td><td>53.322712</td><td>-1.6501671</td><td>53.26865</td><td>-1.6086259</td></tr><tr><td>E3</td><td>CP5</td><td>53.322712</td><td>-1.6501671</td><td>53.293858</td><td>-1.6203977</td></tr><tr><td>E3</td><td>CP6</td><td>53.322712</td><td>-1.6501671</td><td>53.303757</td><td>-1.6248118</td></tr><tr><td>E3</td><td>CP7</td><td>53.322712</td><td>-1.6501671</td><td>53.31726</td><td>-1.6306977</td></tr><tr><td>E3</td><td>E1</td><td>53.322712</td><td>-1.6501671</td><td>53.32263</td><td>-1.6246463</td></tr><tr><td>E3</td><td>E10U</td><td>53.322712</td><td>-1.6501671</td><td>53.331615</td><td>-1.623066</td></tr><tr><td>E3</td><td>E2R</td><td>53.322712</td><td>-1.6501671</td><td>53.32881</td><td>-1.5900581</td></tr><tr><td>E3</td><td>E4R</td><td>53.322712</td><td>-1.6501671</td><td>53.30916</td><td>-1.627766</td></tr><tr><td>E3</td><td>E5</td><td>53.322712</td><td>-1.6501671</td><td>53.29749</td><td>-1.6323686</td></tr><tr><td>E3</td><td>E6</td><td>53.322712</td><td>-1.6501671</td><td>53.281303</td><td>-1.6310076</td></tr><tr><td>E3</td><td>E7U</td><td>53.322712</td><td>-1.6501671</td><td>53.27853</td><td>-1.607036</td></tr><tr><td>E3</td><td>E8</td><td>53.322712</td><td>-1.6501671</td><td>53.266933</td><td>-1.6341299</td></tr><tr><td>E3</td><td>E9U</td><td>53.322712</td><td>-1.6501671</td><td>53.310913</td><td>-1.6142431</td></tr><tr><td>E3</td><td>Finish</td><td>53.322712</td><td>-1.6501671</td><td>53.323578</td><td>-1.6396511</td></tr><tr><td>E3</td><td>Start</td><td>53.322712</td><td>-1.6501671</td><td>53.297432</td><td>-1.6143645</td></tr><tr><td>E4R</td><td>CP1</td><td>53.30916</td><td>-1.627766</td><td>53.31724</td><td>-1.6246936</td></tr><tr><td>E4R</td><td>CP2</td><td>53.30916</td><td>-1.627766</td><td>53.317173</td><td>-1.6036792</td></tr><tr><td>E4R</td><td>CP3</td><td>53.30916</td><td>-1.627766</td><td>53.30637</td><td>-1.5992771</td></tr><tr><td>E4R</td><td>CP4</td><td>53.30916</td><td>-1.627766</td><td>53.26865</td><td>-1.6086259</td></tr><tr><td>E4R</td><td>CP5</td><td>53.30916</td><td>-1.627766</td><td>53.293858</td><td>-1.6203977</td></tr><tr><td>E4R</td><td>CP6</td><td>53.30916</td><td>-1.627766</td><td>53.303757</td><td>-1.6248118</td></tr><tr><td>E4R</td><td>CP7</td><td>53.30916</td><td>-1.627766</td><td>53.31726</td><td>-1.6306977</td></tr><tr><td>E4R</td><td>E1</td><td>53.30916</td><td>-1.627766</td><td>53.32263</td><td>-1.6246463</td></tr><tr><td>E4R</td><td>E10U</td><td>53.30916</td><td>-1.627766</td><td>53.331615</td><td>-1.623066</td></tr><tr><td>E4R</td><td>E2R</td><td>53.30916</td><td>-1.627766</td><td>53.32881</td><td>-1.5900581</td></tr><tr><td>E4R</td><td>E3</td><td>53.30916</td><td>-1.627766</td><td>53.322712</td><td>-1.6501671</td></tr><tr><td>E4R</td><td>E5</td><td>53.30916</td><td>-1.627766</td><td>53.29749</td><td>-1.6323686</td></tr><tr><td>E4R</td><td>E6</td><td>53.30916</td><td>-1.627766</td><td>53.281303</td><td>-1.6310076</td></tr><tr><td>E4R</td><td>E7U</td><td>53.30916</td><td>-1.627766</td><td>53.27853</td><td>-1.607036</td></tr><tr><td>E4R</td><td>E8</td><td>53.30916</td><td>-1.627766</td><td>53.266933</td><td>-1.6341299</td></tr><tr><td>E4R</td><td>E9U</td><td>53.30916</td><td>-1.627766</td><td>53.310913</td><td>-1.6142431</td></tr><tr><td>E4R</td><td>Finish</td><td>53.30916</td><td>-1.627766</td><td>53.323578</td><td>-1.6396511</td></tr><tr><td>E4R</td><td>Start</td><td>53.30916</td><td>-1.627766</td><td>53.297432</td><td>-1.6143645</td></tr><tr><td>E5</td><td>CP1</td><td>53.29749</td><td>-1.6323686</td><td>53.31724</td><td>-1.6246936</td></tr><tr><td>E5</td><td>CP2</td><td>53.29749</td><td>-1.6323686</td><td>53.317173</td><td>-1.6036792</td></tr><tr><td>E5</td><td>CP3</td><td>53.29749</td><td>-1.6323686</td><td>53.30637</td><td>-1.5992771</td></tr><tr><td>E5</td><td>CP4</td><td>53.29749</td><td>-1.6323686</td><td>53.26865</td><td>-1.6086259</td></tr><tr><td>E5</td><td>CP5</td><td>53.29749</td><td>-1.6323686</td><td>53.293858</td><td>-1.6203977</td></tr><tr><td>E5</td><td>CP6</td><td>53.29749</td><td>-1.6323686</td><td>53.303757</td><td>-1.6248118</td></tr><tr><td>E5</td><td>CP7</td><td>53.29749</td><td>-1.6323686</td><td>53.31726</td><td>-1.6306977</td></tr><tr><td>E5</td><td>E1</td><td>53.29749</td><td>-1.6323686</td><td>53.32263</td><td>-1.6246463</td></tr><tr><td>E5</td><td>E10U</td><td>53.29749</td><td>-1.6323686</td><td>53.331615</td><td>-1.623066</td></tr><tr><td>E5</td><td>E2R</td><td>53.29749</td><td>-1.6323686</td><td>53.32881</td><td>-1.5900581</td></tr><tr><td>E5</td><td>E3</td><td>53.29749</td><td>-1.6323686</td><td>53.322712</td><td>-1.6501671</td></tr><tr><td>E5</td><td>E4R</td><td>53.29749</td><td>-1.6323686</td><td>53.30916</td><td>-1.627766</td></tr><tr><td>E5</td><td>E6</td><td>53.29749</td><td>-1.6323686</td><td>53.281303</td><td>-1.6310076</td></tr><tr><td>E5</td><td>E7U</td><td>53.29749</td><td>-1.6323686</td><td>53.27853</td><td>-1.607036</td></tr><tr><td>E5</td><td>E8</td><td>53.29749</td><td>-1.6323686</td><td>53.266933</td><td>-1.6341299</td></tr><tr><td>E5</td><td>E9U</td><td>53.29749</td><td>-1.6323686</td><td>53.310913</td><td>-1.6142431</td></tr><tr><td>E5</td><td>Finish</td><td>53.29749</td><td>-1.6323686</td><td>53.323578</td><td>-1.6396511</td></tr><tr><td>E5</td><td>Start</td><td>53.29749</td><td>-1.6323686</td><td>53.297432</td><td>-1.6143645</td></tr><tr><td>E6</td><td>CP1</td><td>53.281303</td><td>-1.6310076</td><td>53.31724</td><td>-1.6246936</td></tr><tr><td>E6</td><td>CP2</td><td>53.281303</td><td>-1.6310076</td><td>53.317173</td><td>-1.6036792</td></tr><tr><td>E6</td><td>CP3</td><td>53.281303</td><td>-1.6310076</td><td>53.30637</td><td>-1.5992771</td></tr><tr><td>E6</td><td>CP4</td><td>53.281303</td><td>-1.6310076</td><td>53.26865</td><td>-1.6086259</td></tr><tr><td>E6</td><td>CP5</td><td>53.281303</td><td>-1.6310076</td><td>53.293858</td><td>-1.6203977</td></tr><tr><td>E6</td><td>CP6</td><td>53.281303</td><td>-1.6310076</td><td>53.303757</td><td>-1.6248118</td></tr><tr><td>E6</td><td>CP7</td><td>53.281303</td><td>-1.6310076</td><td>53.31726</td><td>-1.6306977</td></tr><tr><td>E6</td><td>E1</td><td>53.281303</td><td>-1.6310076</td><td>53.32263</td><td>-1.6246463</td></tr><tr><td>E6</td><td>E10U</td><td>53.281303</td><td>-1.6310076</td><td>53.331615</td><td>-1.623066</td></tr><tr><td>E6</td><td>E2R</td><td>53.281303</td><td>-1.6310076</td><td>53.32881</td><td>-1.5900581</td></tr><tr><td>E6</td><td>E3</td><td>53.281303</td><td>-1.6310076</td><td>53.322712</td><td>-1.6501671</td></tr><tr><td>E6</td><td>E4R</td><td>53.281303</td><td>-1.6310076</td><td>53.30916</td><td>-1.627766</td></tr><tr><td>E6</td><td>E5</td><td>53.281303</td><td>-1.6310076</td><td>53.29749</td><td>-1.6323686</td></tr><tr><td>E6</td><td>E7U</td><td>53.281303</td><td>-1.6310076</td><td>53.27853</td><td>-1.607036</td></tr><tr><td>E6</td><td>E8</td><td>53.281303</td><td>-1.6310076</td><td>53.266933</td><td>-1.6341299</td></tr><tr><td>E6</td><td>E9U</td><td>53.281303</td><td>-1.6310076</td><td>53.310913</td><td>-1.6142431</td></tr><tr><td>E6</td><td>Finish</td><td>53.281303</td><td>-1.6310076</td><td>53.323578</td><td>-1.6396511</td></tr><tr><td>E6</td><td>Start</td><td>53.281303</td><td>-1.6310076</td><td>53.297432</td><td>-1.6143645</td></tr><tr><td>E7U</td><td>CP1</td><td>53.27853</td><td>-1.607036</td><td>53.31724</td><td>-1.6246936</td></tr><tr><td>E7U</td><td>CP2</td><td>53.27853</td><td>-1.607036</td><td>53.317173</td><td>-1.6036792</td></tr><tr><td>E7U</td><td>CP3</td><td>53.27853</td><td>-1.607036</td><td>53.30637</td><td>-1.5992771</td></tr><tr><td>E7U</td><td>CP4</td><td>53.27853</td><td>-1.607036</td><td>53.26865</td><td>-1.6086259</td></tr><tr><td>E7U</td><td>CP5</td><td>53.27853</td><td>-1.607036</td><td>53.293858</td><td>-1.6203977</td></tr><tr><td>E7U</td><td>CP6</td><td>53.27853</td><td>-1.607036</td><td>53.303757</td><td>-1.6248118</td></tr><tr><td>E7U</td><td>CP7</td><td>53.27853</td><td>-1.607036</td><td>53.31726</td><td>-1.6306977</td></tr><tr><td>E7U</td><td>E1</td><td>53.27853</td><td>-1.607036</td><td>53.32263</td><td>-1.6246463</td></tr><tr><td>E7U</td><td>E10U</td><td>53.27853</td><td>-1.607036</td><td>53.331615</td><td>-1.623066</td></tr><tr><td>E7U</td><td>E2R</td><td>53.27853</td><td>-1.607036</td><td>53.32881</td><td>-1.5900581</td></tr><tr><td>E7U</td><td>E3</td><td>53.27853</td><td>-1.607036</td><td>53.322712</td><td>-1.6501671</td></tr><tr><td>E7U</td><td>E4R</td><td>53.27853</td><td>-1.607036</td><td>53.30916</td><td>-1.627766</td></tr><tr><td>E7U</td><td>E5</td><td>53.27853</td><td>-1.607036</td><td>53.29749</td><td>-1.6323686</td></tr><tr><td>E7U</td><td>E6</td><td>53.27853</td><td>-1.607036</td><td>53.281303</td><td>-1.6310076</td></tr><tr><td>E7U</td><td>E8</td><td>53.27853</td><td>-1.607036</td><td>53.266933</td><td>-1.6341299</td></tr><tr><td>E7U</td><td>E9U</td><td>53.27853</td><td>-1.607036</td><td>53.310913</td><td>-1.6142431</td></tr><tr><td>E7U</td><td>Finish</td><td>53.27853</td><td>-1.607036</td><td>53.323578</td><td>-1.6396511</td></tr><tr><td>E7U</td><td>Start</td><td>53.27853</td><td>-1.607036</td><td>53.297432</td><td>-1.6143645</td></tr><tr><td>E8</td><td>CP1</td><td>53.266933</td><td>-1.6341299</td><td>53.31724</td><td>-1.6246936</td></tr><tr><td>E8</td><td>CP2</td><td>53.266933</td><td>-1.6341299</td><td>53.317173</td><td>-1.6036792</td></tr><tr><td>E8</td><td>CP3</td><td>53.266933</td><td>-1.6341299</td><td>53.30637</td><td>-1.5992771</td></tr><tr><td>E8</td><td>CP4</td><td>53.266933</td><td>-1.6341299</td><td>53.26865</td><td>-1.6086259</td></tr><tr><td>E8</td><td>CP5</td><td>53.266933</td><td>-1.6341299</td><td>53.293858</td><td>-1.6203977</td></tr><tr><td>E8</td><td>CP6</td><td>53.266933</td><td>-1.6341299</td><td>53.303757</td><td>-1.6248118</td></tr><tr><td>E8</td><td>CP7</td><td>53.266933</td><td>-1.6341299</td><td>53.31726</td><td>-1.6306977</td></tr><tr><td>E8</td><td>E1</td><td>53.266933</td><td>-1.6341299</td><td>53.32263</td><td>-1.6246463</td></tr><tr><td>E8</td><td>E10U</td><td>53.266933</td><td>-1.6341299</td><td>53.331615</td><td>-1.623066</td></tr><tr><td>E8</td><td>E2R</td><td>53.266933</td><td>-1.6341299</td><td>53.32881</td><td>-1.5900581</td></tr><tr><td>E8</td><td>E3</td><td>53.266933</td><td>-1.6341299</td><td>53.322712</td><td>-1.6501671</td></tr><tr><td>E8</td><td>E4R</td><td>53.266933</td><td>-1.6341299</td><td>53.30916</td><td>-1.627766</td></tr><tr><td>E8</td><td>E5</td><td>53.266933</td><td>-1.6341299</td><td>53.29749</td><td>-1.6323686</td></tr><tr><td>E8</td><td>E6</td><td>53.266933</td><td>-1.6341299</td><td>53.281303</td><td>-1.6310076</td></tr><tr><td>E8</td><td>E7U</td><td>53.266933</td><td>-1.6341299</td><td>53.27853</td><td>-1.607036</td></tr><tr><td>E8</td><td>E9U</td><td>53.266933</td><td>-1.6341299</td><td>53.310913</td><td>-1.6142431</td></tr><tr><td>E8</td><td>Finish</td><td>53.266933</td><td>-1.6341299</td><td>53.323578</td><td>-1.6396511</td></tr><tr><td>E8</td><td>Start</td><td>53.266933</td><td>-1.6341299</td><td>53.297432</td><td>-1.6143645</td></tr><tr><td>E9U</td><td>CP1</td><td>53.310913</td><td>-1.6142431</td><td>53.31724</td><td>-1.6246936</td></tr><tr><td>E9U</td><td>CP2</td><td>53.310913</td><td>-1.6142431</td><td>53.317173</td><td>-1.6036792</td></tr><tr><td>E9U</td><td>CP3</td><td>53.310913</td><td>-1.6142431</td><td>53.30637</td><td>-1.5992771</td></tr><tr><td>E9U</td><td>CP4</td><td>53.310913</td><td>-1.6142431</td><td>53.26865</td><td>-1.6086259</td></tr><tr><td>E9U</td><td>CP5</td><td>53.310913</td><td>-1.6142431</td><td>53.293858</td><td>-1.6203977</td></tr><tr><td>E9U</td><td>CP6</td><td>53.310913</td><td>-1.6142431</td><td>53.303757</td><td>-1.6248118</td></tr><tr><td>E9U</td><td>CP7</td><td>53.310913</td><td>-1.6142431</td><td>53.31726</td><td>-1.6306977</td></tr><tr><td>E9U</td><td>E1</td><td>53.310913</td><td>-1.6142431</td><td>53.32263</td><td>-1.6246463</td></tr><tr><td>E9U</td><td>E10U</td><td>53.310913</td><td>-1.6142431</td><td>53.331615</td><td>-1.623066</td></tr><tr><td>E9U</td><td>E2R</td><td>53.310913</td><td>-1.6142431</td><td>53.32881</td><td>-1.5900581</td></tr><tr><td>E9U</td><td>E3</td><td>53.310913</td><td>-1.6142431</td><td>53.322712</td><td>-1.6501671</td></tr><tr><td>E9U</td><td>E4R</td><td>53.310913</td><td>-1.6142431</td><td>53.30916</td><td>-1.627766</td></tr><tr><td>E9U</td><td>E5</td><td>53.310913</td><td>-1.6142431</td><td>53.29749</td><td>-1.6323686</td></tr><tr><td>E9U</td><td>E6</td><td>53.310913</td><td>-1.6142431</td><td>53.281303</td><td>-1.6310076</td></tr><tr><td>E9U</td><td>E7U</td><td>53.310913</td><td>-1.6142431</td><td>53.27853</td><td>-1.607036</td></tr><tr><td>E9U</td><td>E8</td><td>53.310913</td><td>-1.6142431</td><td>53.266933</td><td>-1.6341299</td></tr><tr><td>E9U</td><td>Finish</td><td>53.310913</td><td>-1.6142431</td><td>53.323578</td><td>-1.6396511</td></tr><tr><td>E9U</td><td>Start</td><td>53.310913</td><td>-1.6142431</td><td>53.297432</td><td>-1.6143645</td></tr><tr><td>Finish</td><td>CP1</td><td>53.323578</td><td>-1.6396511</td><td>53.31724</td><td>-1.6246936</td></tr><tr><td>Finish</td><td>CP2</td><td>53.323578</td><td>-1.6396511</td><td>53.317173</td><td>-1.6036792</td></tr><tr><td>Finish</td><td>CP3</td><td>53.323578</td><td>-1.6396511</td><td>53.30637</td><td>-1.5992771</td></tr><tr><td>Finish</td><td>CP4</td><td>53.323578</td><td>-1.6396511</td><td>53.26865</td><td>-1.6086259</td></tr><tr><td>Finish</td><td>CP5</td><td>53.323578</td><td>-1.6396511</td><td>53.293858</td><td>-1.6203977</td></tr><tr><td>Finish</td><td>CP6</td><td>53.323578</td><td>-1.6396511</td><td>53.303757</td><td>-1.6248118</td></tr><tr><td>Finish</td><td>CP7</td><td>53.323578</td><td>-1.6396511</td><td>53.31726</td><td>-1.6306977</td></tr><tr><td>Finish</td><td>E1</td><td>53.323578</td><td>-1.6396511</td><td>53.32263</td><td>-1.6246463</td></tr><tr><td>Finish</td><td>E10U</td><td>53.323578</td><td>-1.6396511</td><td>53.331615</td><td>-1.623066</td></tr><tr><td>Finish</td><td>E2R</td><td>53.323578</td><td>-1.6396511</td><td>53.32881</td><td>-1.5900581</td></tr><tr><td>Finish</td><td>E3</td><td>53.323578</td><td>-1.6396511</td><td>53.322712</td><td>-1.6501671</td></tr><tr><td>Finish</td><td>E4R</td><td>53.323578</td><td>-1.6396511</td><td>53.30916</td><td>-1.627766</td></tr><tr><td>Finish</td><td>E5</td><td>53.323578</td><td>-1.6396511</td><td>53.29749</td><td>-1.6323686</td></tr><tr><td>Finish</td><td>E6</td><td>53.323578</td><td>-1.6396511</td><td>53.281303</td><td>-1.6310076</td></tr><tr><td>Finish</td><td>E7U</td><td>53.323578</td><td>-1.6396511</td><td>53.27853</td><td>-1.607036</td></tr><tr><td>Finish</td><td>E8</td><td>53.323578</td><td>-1.6396511</td><td>53.266933</td><td>-1.6341299</td></tr><tr><td>Finish</td><td>E9U</td><td>53.323578</td><td>-1.6396511</td><td>53.310913</td><td>-1.6142431</td></tr><tr><td>Finish</td><td>Start</td><td>53.323578</td><td>-1.6396511</td><td>53.297432</td><td>-1.6143645</td></tr><tr><td>Start</td><td>CP1</td><td>53.297432</td><td>-1.6143645</td><td>53.31724</td><td>-1.6246936</td></tr><tr><td>Start</td><td>CP2</td><td>53.297432</td><td>-1.6143645</td><td>53.317173</td><td>-1.6036792</td></tr><tr><td>Start</td><td>CP3</td><td>53.297432</td><td>-1.6143645</td><td>53.30637</td><td>-1.5992771</td></tr><tr><td>Start</td><td>CP4</td><td>53.297432</td><td>-1.6143645</td><td>53.26865</td><td>-1.6086259</td></tr><tr><td>Start</td><td>CP5</td><td>53.297432</td><td>-1.6143645</td><td>53.293858</td><td>-1.6203977</td></tr><tr><td>Start</td><td>CP6</td><td>53.297432</td><td>-1.6143645</td><td>53.303757</td><td>-1.6248118</td></tr><tr><td>Start</td><td>CP7</td><td>53.297432</td><td>-1.6143645</td><td>53.31726</td><td>-1.6306977</td></tr><tr><td>Start</td><td>E1</td><td>53.297432</td><td>-1.6143645</td><td>53.32263</td><td>-1.6246463</td></tr><tr><td>Start</td><td>E10U</td><td>53.297432</td><td>-1.6143645</td><td>53.331615</td><td>-1.623066</td></tr><tr><td>Start</td><td>E2R</td><td>53.297432</td><td>-1.6143645</td><td>53.32881</td><td>-1.5900581</td></tr><tr><td>Start</td><td>E3</td><td>53.297432</td><td>-1.6143645</td><td>53.322712</td><td>-1.6501671</td></tr><tr><td>Start</td><td>E4R</td><td>53.297432</td><td>-1.6143645</td><td>53.30916</td><td>-1.627766</td></tr><tr><td>Start</td><td>E5</td><td>53.297432</td><td>-1.6143645</td><td>53.29749</td><td>-1.6323686</td></tr><tr><td>Start</td><td>E6</td><td>53.297432</td><td>-1.6143645</td><td>53.281303</td><td>-1.6310076</td></tr><tr><td>Start</td><td>E7U</td><td>53.297432</td><td>-1.6143645</td><td>53.27853</td><td>-1.607036</td></tr><tr><td>Start</td><td>E8</td><td>53.297432</td><td>-1.6143645</td><td>53.266933</td><td>-1.6341299</td></tr><tr><td>Start</td><td>E9U</td><td>53.297432</td><td>-1.6143645</td><td>53.310913</td><td>-1.6142431</td></tr><tr><td>Start</td><td>Finish</td><td>53.297432</td><td>-1.6143645</td><td>53.323578</td><td>-1.6396511</td></tr></tbody></table></div>"
      ]
     },
     "metadata": {
      "application/vnd.databricks.v1+output": {
       "addedWidgets": {},
       "aggData": [],
       "aggError": "",
       "aggOverflow": false,
       "aggSchema": [],
       "aggSeriesLimitReached": false,
       "aggType": "",
       "arguments": {},
       "columnCustomDisplayInfos": {},
       "data": [
        [
         "CP1",
         "CP2",
         53.31724,
         -1.6246936,
         53.317173,
         -1.6036792
        ],
        [
         "CP1",
         "CP3",
         53.31724,
         -1.6246936,
         53.30637,
         -1.5992771
        ],
        [
         "CP1",
         "CP4",
         53.31724,
         -1.6246936,
         53.26865,
         -1.6086259
        ],
        [
         "CP1",
         "CP5",
         53.31724,
         -1.6246936,
         53.293858,
         -1.6203977
        ],
        [
         "CP1",
         "CP6",
         53.31724,
         -1.6246936,
         53.303757,
         -1.6248118
        ],
        [
         "CP1",
         "CP7",
         53.31724,
         -1.6246936,
         53.31726,
         -1.6306977
        ],
        [
         "CP1",
         "E1",
         53.31724,
         -1.6246936,
         53.32263,
         -1.6246463
        ],
        [
         "CP1",
         "E10U",
         53.31724,
         -1.6246936,
         53.331615,
         -1.623066
        ],
        [
         "CP1",
         "E2R",
         53.31724,
         -1.6246936,
         53.32881,
         -1.5900581
        ],
        [
         "CP1",
         "E3",
         53.31724,
         -1.6246936,
         53.322712,
         -1.6501671
        ],
        [
         "CP1",
         "E4R",
         53.31724,
         -1.6246936,
         53.30916,
         -1.627766
        ],
        [
         "CP1",
         "E5",
         53.31724,
         -1.6246936,
         53.29749,
         -1.6323686
        ],
        [
         "CP1",
         "E6",
         53.31724,
         -1.6246936,
         53.281303,
         -1.6310076
        ],
        [
         "CP1",
         "E7U",
         53.31724,
         -1.6246936,
         53.27853,
         -1.607036
        ],
        [
         "CP1",
         "E8",
         53.31724,
         -1.6246936,
         53.266933,
         -1.6341299
        ],
        [
         "CP1",
         "E9U",
         53.31724,
         -1.6246936,
         53.310913,
         -1.6142431
        ],
        [
         "CP1",
         "Finish",
         53.31724,
         -1.6246936,
         53.323578,
         -1.6396511
        ],
        [
         "CP1",
         "Start",
         53.31724,
         -1.6246936,
         53.297432,
         -1.6143645
        ],
        [
         "CP2",
         "CP1",
         53.317173,
         -1.6036792,
         53.31724,
         -1.6246936
        ],
        [
         "CP2",
         "CP3",
         53.317173,
         -1.6036792,
         53.30637,
         -1.5992771
        ],
        [
         "CP2",
         "CP4",
         53.317173,
         -1.6036792,
         53.26865,
         -1.6086259
        ],
        [
         "CP2",
         "CP5",
         53.317173,
         -1.6036792,
         53.293858,
         -1.6203977
        ],
        [
         "CP2",
         "CP6",
         53.317173,
         -1.6036792,
         53.303757,
         -1.6248118
        ],
        [
         "CP2",
         "CP7",
         53.317173,
         -1.6036792,
         53.31726,
         -1.6306977
        ],
        [
         "CP2",
         "E1",
         53.317173,
         -1.6036792,
         53.32263,
         -1.6246463
        ],
        [
         "CP2",
         "E10U",
         53.317173,
         -1.6036792,
         53.331615,
         -1.623066
        ],
        [
         "CP2",
         "E2R",
         53.317173,
         -1.6036792,
         53.32881,
         -1.5900581
        ],
        [
         "CP2",
         "E3",
         53.317173,
         -1.6036792,
         53.322712,
         -1.6501671
        ],
        [
         "CP2",
         "E4R",
         53.317173,
         -1.6036792,
         53.30916,
         -1.627766
        ],
        [
         "CP2",
         "E5",
         53.317173,
         -1.6036792,
         53.29749,
         -1.6323686
        ],
        [
         "CP2",
         "E6",
         53.317173,
         -1.6036792,
         53.281303,
         -1.6310076
        ],
        [
         "CP2",
         "E7U",
         53.317173,
         -1.6036792,
         53.27853,
         -1.607036
        ],
        [
         "CP2",
         "E8",
         53.317173,
         -1.6036792,
         53.266933,
         -1.6341299
        ],
        [
         "CP2",
         "E9U",
         53.317173,
         -1.6036792,
         53.310913,
         -1.6142431
        ],
        [
         "CP2",
         "Finish",
         53.317173,
         -1.6036792,
         53.323578,
         -1.6396511
        ],
        [
         "CP2",
         "Start",
         53.317173,
         -1.6036792,
         53.297432,
         -1.6143645
        ],
        [
         "CP3",
         "CP1",
         53.30637,
         -1.5992771,
         53.31724,
         -1.6246936
        ],
        [
         "CP3",
         "CP2",
         53.30637,
         -1.5992771,
         53.317173,
         -1.6036792
        ],
        [
         "CP3",
         "CP4",
         53.30637,
         -1.5992771,
         53.26865,
         -1.6086259
        ],
        [
         "CP3",
         "CP5",
         53.30637,
         -1.5992771,
         53.293858,
         -1.6203977
        ],
        [
         "CP3",
         "CP6",
         53.30637,
         -1.5992771,
         53.303757,
         -1.6248118
        ],
        [
         "CP3",
         "CP7",
         53.30637,
         -1.5992771,
         53.31726,
         -1.6306977
        ],
        [
         "CP3",
         "E1",
         53.30637,
         -1.5992771,
         53.32263,
         -1.6246463
        ],
        [
         "CP3",
         "E10U",
         53.30637,
         -1.5992771,
         53.331615,
         -1.623066
        ],
        [
         "CP3",
         "E2R",
         53.30637,
         -1.5992771,
         53.32881,
         -1.5900581
        ],
        [
         "CP3",
         "E3",
         53.30637,
         -1.5992771,
         53.322712,
         -1.6501671
        ],
        [
         "CP3",
         "E4R",
         53.30637,
         -1.5992771,
         53.30916,
         -1.627766
        ],
        [
         "CP3",
         "E5",
         53.30637,
         -1.5992771,
         53.29749,
         -1.6323686
        ],
        [
         "CP3",
         "E6",
         53.30637,
         -1.5992771,
         53.281303,
         -1.6310076
        ],
        [
         "CP3",
         "E7U",
         53.30637,
         -1.5992771,
         53.27853,
         -1.607036
        ],
        [
         "CP3",
         "E8",
         53.30637,
         -1.5992771,
         53.266933,
         -1.6341299
        ],
        [
         "CP3",
         "E9U",
         53.30637,
         -1.5992771,
         53.310913,
         -1.6142431
        ],
        [
         "CP3",
         "Finish",
         53.30637,
         -1.5992771,
         53.323578,
         -1.6396511
        ],
        [
         "CP3",
         "Start",
         53.30637,
         -1.5992771,
         53.297432,
         -1.6143645
        ],
        [
         "CP4",
         "CP1",
         53.26865,
         -1.6086259,
         53.31724,
         -1.6246936
        ],
        [
         "CP4",
         "CP2",
         53.26865,
         -1.6086259,
         53.317173,
         -1.6036792
        ],
        [
         "CP4",
         "CP3",
         53.26865,
         -1.6086259,
         53.30637,
         -1.5992771
        ],
        [
         "CP4",
         "CP5",
         53.26865,
         -1.6086259,
         53.293858,
         -1.6203977
        ],
        [
         "CP4",
         "CP6",
         53.26865,
         -1.6086259,
         53.303757,
         -1.6248118
        ],
        [
         "CP4",
         "CP7",
         53.26865,
         -1.6086259,
         53.31726,
         -1.6306977
        ],
        [
         "CP4",
         "E1",
         53.26865,
         -1.6086259,
         53.32263,
         -1.6246463
        ],
        [
         "CP4",
         "E10U",
         53.26865,
         -1.6086259,
         53.331615,
         -1.623066
        ],
        [
         "CP4",
         "E2R",
         53.26865,
         -1.6086259,
         53.32881,
         -1.5900581
        ],
        [
         "CP4",
         "E3",
         53.26865,
         -1.6086259,
         53.322712,
         -1.6501671
        ],
        [
         "CP4",
         "E4R",
         53.26865,
         -1.6086259,
         53.30916,
         -1.627766
        ],
        [
         "CP4",
         "E5",
         53.26865,
         -1.6086259,
         53.29749,
         -1.6323686
        ],
        [
         "CP4",
         "E6",
         53.26865,
         -1.6086259,
         53.281303,
         -1.6310076
        ],
        [
         "CP4",
         "E7U",
         53.26865,
         -1.6086259,
         53.27853,
         -1.607036
        ],
        [
         "CP4",
         "E8",
         53.26865,
         -1.6086259,
         53.266933,
         -1.6341299
        ],
        [
         "CP4",
         "E9U",
         53.26865,
         -1.6086259,
         53.310913,
         -1.6142431
        ],
        [
         "CP4",
         "Finish",
         53.26865,
         -1.6086259,
         53.323578,
         -1.6396511
        ],
        [
         "CP4",
         "Start",
         53.26865,
         -1.6086259,
         53.297432,
         -1.6143645
        ],
        [
         "CP5",
         "CP1",
         53.293858,
         -1.6203977,
         53.31724,
         -1.6246936
        ],
        [
         "CP5",
         "CP2",
         53.293858,
         -1.6203977,
         53.317173,
         -1.6036792
        ],
        [
         "CP5",
         "CP3",
         53.293858,
         -1.6203977,
         53.30637,
         -1.5992771
        ],
        [
         "CP5",
         "CP4",
         53.293858,
         -1.6203977,
         53.26865,
         -1.6086259
        ],
        [
         "CP5",
         "CP6",
         53.293858,
         -1.6203977,
         53.303757,
         -1.6248118
        ],
        [
         "CP5",
         "CP7",
         53.293858,
         -1.6203977,
         53.31726,
         -1.6306977
        ],
        [
         "CP5",
         "E1",
         53.293858,
         -1.6203977,
         53.32263,
         -1.6246463
        ],
        [
         "CP5",
         "E10U",
         53.293858,
         -1.6203977,
         53.331615,
         -1.623066
        ],
        [
         "CP5",
         "E2R",
         53.293858,
         -1.6203977,
         53.32881,
         -1.5900581
        ],
        [
         "CP5",
         "E3",
         53.293858,
         -1.6203977,
         53.322712,
         -1.6501671
        ],
        [
         "CP5",
         "E4R",
         53.293858,
         -1.6203977,
         53.30916,
         -1.627766
        ],
        [
         "CP5",
         "E5",
         53.293858,
         -1.6203977,
         53.29749,
         -1.6323686
        ],
        [
         "CP5",
         "E6",
         53.293858,
         -1.6203977,
         53.281303,
         -1.6310076
        ],
        [
         "CP5",
         "E7U",
         53.293858,
         -1.6203977,
         53.27853,
         -1.607036
        ],
        [
         "CP5",
         "E8",
         53.293858,
         -1.6203977,
         53.266933,
         -1.6341299
        ],
        [
         "CP5",
         "E9U",
         53.293858,
         -1.6203977,
         53.310913,
         -1.6142431
        ],
        [
         "CP5",
         "Finish",
         53.293858,
         -1.6203977,
         53.323578,
         -1.6396511
        ],
        [
         "CP5",
         "Start",
         53.293858,
         -1.6203977,
         53.297432,
         -1.6143645
        ],
        [
         "CP6",
         "CP1",
         53.303757,
         -1.6248118,
         53.31724,
         -1.6246936
        ],
        [
         "CP6",
         "CP2",
         53.303757,
         -1.6248118,
         53.317173,
         -1.6036792
        ],
        [
         "CP6",
         "CP3",
         53.303757,
         -1.6248118,
         53.30637,
         -1.5992771
        ],
        [
         "CP6",
         "CP4",
         53.303757,
         -1.6248118,
         53.26865,
         -1.6086259
        ],
        [
         "CP6",
         "CP5",
         53.303757,
         -1.6248118,
         53.293858,
         -1.6203977
        ],
        [
         "CP6",
         "CP7",
         53.303757,
         -1.6248118,
         53.31726,
         -1.6306977
        ],
        [
         "CP6",
         "E1",
         53.303757,
         -1.6248118,
         53.32263,
         -1.6246463
        ],
        [
         "CP6",
         "E10U",
         53.303757,
         -1.6248118,
         53.331615,
         -1.623066
        ],
        [
         "CP6",
         "E2R",
         53.303757,
         -1.6248118,
         53.32881,
         -1.5900581
        ],
        [
         "CP6",
         "E3",
         53.303757,
         -1.6248118,
         53.322712,
         -1.6501671
        ],
        [
         "CP6",
         "E4R",
         53.303757,
         -1.6248118,
         53.30916,
         -1.627766
        ],
        [
         "CP6",
         "E5",
         53.303757,
         -1.6248118,
         53.29749,
         -1.6323686
        ],
        [
         "CP6",
         "E6",
         53.303757,
         -1.6248118,
         53.281303,
         -1.6310076
        ],
        [
         "CP6",
         "E7U",
         53.303757,
         -1.6248118,
         53.27853,
         -1.607036
        ],
        [
         "CP6",
         "E8",
         53.303757,
         -1.6248118,
         53.266933,
         -1.6341299
        ],
        [
         "CP6",
         "E9U",
         53.303757,
         -1.6248118,
         53.310913,
         -1.6142431
        ],
        [
         "CP6",
         "Finish",
         53.303757,
         -1.6248118,
         53.323578,
         -1.6396511
        ],
        [
         "CP6",
         "Start",
         53.303757,
         -1.6248118,
         53.297432,
         -1.6143645
        ],
        [
         "CP7",
         "CP1",
         53.31726,
         -1.6306977,
         53.31724,
         -1.6246936
        ],
        [
         "CP7",
         "CP2",
         53.31726,
         -1.6306977,
         53.317173,
         -1.6036792
        ],
        [
         "CP7",
         "CP3",
         53.31726,
         -1.6306977,
         53.30637,
         -1.5992771
        ],
        [
         "CP7",
         "CP4",
         53.31726,
         -1.6306977,
         53.26865,
         -1.6086259
        ],
        [
         "CP7",
         "CP5",
         53.31726,
         -1.6306977,
         53.293858,
         -1.6203977
        ],
        [
         "CP7",
         "CP6",
         53.31726,
         -1.6306977,
         53.303757,
         -1.6248118
        ],
        [
         "CP7",
         "E1",
         53.31726,
         -1.6306977,
         53.32263,
         -1.6246463
        ],
        [
         "CP7",
         "E10U",
         53.31726,
         -1.6306977,
         53.331615,
         -1.623066
        ],
        [
         "CP7",
         "E2R",
         53.31726,
         -1.6306977,
         53.32881,
         -1.5900581
        ],
        [
         "CP7",
         "E3",
         53.31726,
         -1.6306977,
         53.322712,
         -1.6501671
        ],
        [
         "CP7",
         "E4R",
         53.31726,
         -1.6306977,
         53.30916,
         -1.627766
        ],
        [
         "CP7",
         "E5",
         53.31726,
         -1.6306977,
         53.29749,
         -1.6323686
        ],
        [
         "CP7",
         "E6",
         53.31726,
         -1.6306977,
         53.281303,
         -1.6310076
        ],
        [
         "CP7",
         "E7U",
         53.31726,
         -1.6306977,
         53.27853,
         -1.607036
        ],
        [
         "CP7",
         "E8",
         53.31726,
         -1.6306977,
         53.266933,
         -1.6341299
        ],
        [
         "CP7",
         "E9U",
         53.31726,
         -1.6306977,
         53.310913,
         -1.6142431
        ],
        [
         "CP7",
         "Finish",
         53.31726,
         -1.6306977,
         53.323578,
         -1.6396511
        ],
        [
         "CP7",
         "Start",
         53.31726,
         -1.6306977,
         53.297432,
         -1.6143645
        ],
        [
         "E1",
         "CP1",
         53.32263,
         -1.6246463,
         53.31724,
         -1.6246936
        ],
        [
         "E1",
         "CP2",
         53.32263,
         -1.6246463,
         53.317173,
         -1.6036792
        ],
        [
         "E1",
         "CP3",
         53.32263,
         -1.6246463,
         53.30637,
         -1.5992771
        ],
        [
         "E1",
         "CP4",
         53.32263,
         -1.6246463,
         53.26865,
         -1.6086259
        ],
        [
         "E1",
         "CP5",
         53.32263,
         -1.6246463,
         53.293858,
         -1.6203977
        ],
        [
         "E1",
         "CP6",
         53.32263,
         -1.6246463,
         53.303757,
         -1.6248118
        ],
        [
         "E1",
         "CP7",
         53.32263,
         -1.6246463,
         53.31726,
         -1.6306977
        ],
        [
         "E1",
         "E10U",
         53.32263,
         -1.6246463,
         53.331615,
         -1.623066
        ],
        [
         "E1",
         "E2R",
         53.32263,
         -1.6246463,
         53.32881,
         -1.5900581
        ],
        [
         "E1",
         "E3",
         53.32263,
         -1.6246463,
         53.322712,
         -1.6501671
        ],
        [
         "E1",
         "E4R",
         53.32263,
         -1.6246463,
         53.30916,
         -1.627766
        ],
        [
         "E1",
         "E5",
         53.32263,
         -1.6246463,
         53.29749,
         -1.6323686
        ],
        [
         "E1",
         "E6",
         53.32263,
         -1.6246463,
         53.281303,
         -1.6310076
        ],
        [
         "E1",
         "E7U",
         53.32263,
         -1.6246463,
         53.27853,
         -1.607036
        ],
        [
         "E1",
         "E8",
         53.32263,
         -1.6246463,
         53.266933,
         -1.6341299
        ],
        [
         "E1",
         "E9U",
         53.32263,
         -1.6246463,
         53.310913,
         -1.6142431
        ],
        [
         "E1",
         "Finish",
         53.32263,
         -1.6246463,
         53.323578,
         -1.6396511
        ],
        [
         "E1",
         "Start",
         53.32263,
         -1.6246463,
         53.297432,
         -1.6143645
        ],
        [
         "E10U",
         "CP1",
         53.331615,
         -1.623066,
         53.31724,
         -1.6246936
        ],
        [
         "E10U",
         "CP2",
         53.331615,
         -1.623066,
         53.317173,
         -1.6036792
        ],
        [
         "E10U",
         "CP3",
         53.331615,
         -1.623066,
         53.30637,
         -1.5992771
        ],
        [
         "E10U",
         "CP4",
         53.331615,
         -1.623066,
         53.26865,
         -1.6086259
        ],
        [
         "E10U",
         "CP5",
         53.331615,
         -1.623066,
         53.293858,
         -1.6203977
        ],
        [
         "E10U",
         "CP6",
         53.331615,
         -1.623066,
         53.303757,
         -1.6248118
        ],
        [
         "E10U",
         "CP7",
         53.331615,
         -1.623066,
         53.31726,
         -1.6306977
        ],
        [
         "E10U",
         "E1",
         53.331615,
         -1.623066,
         53.32263,
         -1.6246463
        ],
        [
         "E10U",
         "E2R",
         53.331615,
         -1.623066,
         53.32881,
         -1.5900581
        ],
        [
         "E10U",
         "E3",
         53.331615,
         -1.623066,
         53.322712,
         -1.6501671
        ],
        [
         "E10U",
         "E4R",
         53.331615,
         -1.623066,
         53.30916,
         -1.627766
        ],
        [
         "E10U",
         "E5",
         53.331615,
         -1.623066,
         53.29749,
         -1.6323686
        ],
        [
         "E10U",
         "E6",
         53.331615,
         -1.623066,
         53.281303,
         -1.6310076
        ],
        [
         "E10U",
         "E7U",
         53.331615,
         -1.623066,
         53.27853,
         -1.607036
        ],
        [
         "E10U",
         "E8",
         53.331615,
         -1.623066,
         53.266933,
         -1.6341299
        ],
        [
         "E10U",
         "E9U",
         53.331615,
         -1.623066,
         53.310913,
         -1.6142431
        ],
        [
         "E10U",
         "Finish",
         53.331615,
         -1.623066,
         53.323578,
         -1.6396511
        ],
        [
         "E10U",
         "Start",
         53.331615,
         -1.623066,
         53.297432,
         -1.6143645
        ],
        [
         "E2R",
         "CP1",
         53.32881,
         -1.5900581,
         53.31724,
         -1.6246936
        ],
        [
         "E2R",
         "CP2",
         53.32881,
         -1.5900581,
         53.317173,
         -1.6036792
        ],
        [
         "E2R",
         "CP3",
         53.32881,
         -1.5900581,
         53.30637,
         -1.5992771
        ],
        [
         "E2R",
         "CP4",
         53.32881,
         -1.5900581,
         53.26865,
         -1.6086259
        ],
        [
         "E2R",
         "CP5",
         53.32881,
         -1.5900581,
         53.293858,
         -1.6203977
        ],
        [
         "E2R",
         "CP6",
         53.32881,
         -1.5900581,
         53.303757,
         -1.6248118
        ],
        [
         "E2R",
         "CP7",
         53.32881,
         -1.5900581,
         53.31726,
         -1.6306977
        ],
        [
         "E2R",
         "E1",
         53.32881,
         -1.5900581,
         53.32263,
         -1.6246463
        ],
        [
         "E2R",
         "E10U",
         53.32881,
         -1.5900581,
         53.331615,
         -1.623066
        ],
        [
         "E2R",
         "E3",
         53.32881,
         -1.5900581,
         53.322712,
         -1.6501671
        ],
        [
         "E2R",
         "E4R",
         53.32881,
         -1.5900581,
         53.30916,
         -1.627766
        ],
        [
         "E2R",
         "E5",
         53.32881,
         -1.5900581,
         53.29749,
         -1.6323686
        ],
        [
         "E2R",
         "E6",
         53.32881,
         -1.5900581,
         53.281303,
         -1.6310076
        ],
        [
         "E2R",
         "E7U",
         53.32881,
         -1.5900581,
         53.27853,
         -1.607036
        ],
        [
         "E2R",
         "E8",
         53.32881,
         -1.5900581,
         53.266933,
         -1.6341299
        ],
        [
         "E2R",
         "E9U",
         53.32881,
         -1.5900581,
         53.310913,
         -1.6142431
        ],
        [
         "E2R",
         "Finish",
         53.32881,
         -1.5900581,
         53.323578,
         -1.6396511
        ],
        [
         "E2R",
         "Start",
         53.32881,
         -1.5900581,
         53.297432,
         -1.6143645
        ],
        [
         "E3",
         "CP1",
         53.322712,
         -1.6501671,
         53.31724,
         -1.6246936
        ],
        [
         "E3",
         "CP2",
         53.322712,
         -1.6501671,
         53.317173,
         -1.6036792
        ],
        [
         "E3",
         "CP3",
         53.322712,
         -1.6501671,
         53.30637,
         -1.5992771
        ],
        [
         "E3",
         "CP4",
         53.322712,
         -1.6501671,
         53.26865,
         -1.6086259
        ],
        [
         "E3",
         "CP5",
         53.322712,
         -1.6501671,
         53.293858,
         -1.6203977
        ],
        [
         "E3",
         "CP6",
         53.322712,
         -1.6501671,
         53.303757,
         -1.6248118
        ],
        [
         "E3",
         "CP7",
         53.322712,
         -1.6501671,
         53.31726,
         -1.6306977
        ],
        [
         "E3",
         "E1",
         53.322712,
         -1.6501671,
         53.32263,
         -1.6246463
        ],
        [
         "E3",
         "E10U",
         53.322712,
         -1.6501671,
         53.331615,
         -1.623066
        ],
        [
         "E3",
         "E2R",
         53.322712,
         -1.6501671,
         53.32881,
         -1.5900581
        ],
        [
         "E3",
         "E4R",
         53.322712,
         -1.6501671,
         53.30916,
         -1.627766
        ],
        [
         "E3",
         "E5",
         53.322712,
         -1.6501671,
         53.29749,
         -1.6323686
        ],
        [
         "E3",
         "E6",
         53.322712,
         -1.6501671,
         53.281303,
         -1.6310076
        ],
        [
         "E3",
         "E7U",
         53.322712,
         -1.6501671,
         53.27853,
         -1.607036
        ],
        [
         "E3",
         "E8",
         53.322712,
         -1.6501671,
         53.266933,
         -1.6341299
        ],
        [
         "E3",
         "E9U",
         53.322712,
         -1.6501671,
         53.310913,
         -1.6142431
        ],
        [
         "E3",
         "Finish",
         53.322712,
         -1.6501671,
         53.323578,
         -1.6396511
        ],
        [
         "E3",
         "Start",
         53.322712,
         -1.6501671,
         53.297432,
         -1.6143645
        ],
        [
         "E4R",
         "CP1",
         53.30916,
         -1.627766,
         53.31724,
         -1.6246936
        ],
        [
         "E4R",
         "CP2",
         53.30916,
         -1.627766,
         53.317173,
         -1.6036792
        ],
        [
         "E4R",
         "CP3",
         53.30916,
         -1.627766,
         53.30637,
         -1.5992771
        ],
        [
         "E4R",
         "CP4",
         53.30916,
         -1.627766,
         53.26865,
         -1.6086259
        ],
        [
         "E4R",
         "CP5",
         53.30916,
         -1.627766,
         53.293858,
         -1.6203977
        ],
        [
         "E4R",
         "CP6",
         53.30916,
         -1.627766,
         53.303757,
         -1.6248118
        ],
        [
         "E4R",
         "CP7",
         53.30916,
         -1.627766,
         53.31726,
         -1.6306977
        ],
        [
         "E4R",
         "E1",
         53.30916,
         -1.627766,
         53.32263,
         -1.6246463
        ],
        [
         "E4R",
         "E10U",
         53.30916,
         -1.627766,
         53.331615,
         -1.623066
        ],
        [
         "E4R",
         "E2R",
         53.30916,
         -1.627766,
         53.32881,
         -1.5900581
        ],
        [
         "E4R",
         "E3",
         53.30916,
         -1.627766,
         53.322712,
         -1.6501671
        ],
        [
         "E4R",
         "E5",
         53.30916,
         -1.627766,
         53.29749,
         -1.6323686
        ],
        [
         "E4R",
         "E6",
         53.30916,
         -1.627766,
         53.281303,
         -1.6310076
        ],
        [
         "E4R",
         "E7U",
         53.30916,
         -1.627766,
         53.27853,
         -1.607036
        ],
        [
         "E4R",
         "E8",
         53.30916,
         -1.627766,
         53.266933,
         -1.6341299
        ],
        [
         "E4R",
         "E9U",
         53.30916,
         -1.627766,
         53.310913,
         -1.6142431
        ],
        [
         "E4R",
         "Finish",
         53.30916,
         -1.627766,
         53.323578,
         -1.6396511
        ],
        [
         "E4R",
         "Start",
         53.30916,
         -1.627766,
         53.297432,
         -1.6143645
        ],
        [
         "E5",
         "CP1",
         53.29749,
         -1.6323686,
         53.31724,
         -1.6246936
        ],
        [
         "E5",
         "CP2",
         53.29749,
         -1.6323686,
         53.317173,
         -1.6036792
        ],
        [
         "E5",
         "CP3",
         53.29749,
         -1.6323686,
         53.30637,
         -1.5992771
        ],
        [
         "E5",
         "CP4",
         53.29749,
         -1.6323686,
         53.26865,
         -1.6086259
        ],
        [
         "E5",
         "CP5",
         53.29749,
         -1.6323686,
         53.293858,
         -1.6203977
        ],
        [
         "E5",
         "CP6",
         53.29749,
         -1.6323686,
         53.303757,
         -1.6248118
        ],
        [
         "E5",
         "CP7",
         53.29749,
         -1.6323686,
         53.31726,
         -1.6306977
        ],
        [
         "E5",
         "E1",
         53.29749,
         -1.6323686,
         53.32263,
         -1.6246463
        ],
        [
         "E5",
         "E10U",
         53.29749,
         -1.6323686,
         53.331615,
         -1.623066
        ],
        [
         "E5",
         "E2R",
         53.29749,
         -1.6323686,
         53.32881,
         -1.5900581
        ],
        [
         "E5",
         "E3",
         53.29749,
         -1.6323686,
         53.322712,
         -1.6501671
        ],
        [
         "E5",
         "E4R",
         53.29749,
         -1.6323686,
         53.30916,
         -1.627766
        ],
        [
         "E5",
         "E6",
         53.29749,
         -1.6323686,
         53.281303,
         -1.6310076
        ],
        [
         "E5",
         "E7U",
         53.29749,
         -1.6323686,
         53.27853,
         -1.607036
        ],
        [
         "E5",
         "E8",
         53.29749,
         -1.6323686,
         53.266933,
         -1.6341299
        ],
        [
         "E5",
         "E9U",
         53.29749,
         -1.6323686,
         53.310913,
         -1.6142431
        ],
        [
         "E5",
         "Finish",
         53.29749,
         -1.6323686,
         53.323578,
         -1.6396511
        ],
        [
         "E5",
         "Start",
         53.29749,
         -1.6323686,
         53.297432,
         -1.6143645
        ],
        [
         "E6",
         "CP1",
         53.281303,
         -1.6310076,
         53.31724,
         -1.6246936
        ],
        [
         "E6",
         "CP2",
         53.281303,
         -1.6310076,
         53.317173,
         -1.6036792
        ],
        [
         "E6",
         "CP3",
         53.281303,
         -1.6310076,
         53.30637,
         -1.5992771
        ],
        [
         "E6",
         "CP4",
         53.281303,
         -1.6310076,
         53.26865,
         -1.6086259
        ],
        [
         "E6",
         "CP5",
         53.281303,
         -1.6310076,
         53.293858,
         -1.6203977
        ],
        [
         "E6",
         "CP6",
         53.281303,
         -1.6310076,
         53.303757,
         -1.6248118
        ],
        [
         "E6",
         "CP7",
         53.281303,
         -1.6310076,
         53.31726,
         -1.6306977
        ],
        [
         "E6",
         "E1",
         53.281303,
         -1.6310076,
         53.32263,
         -1.6246463
        ],
        [
         "E6",
         "E10U",
         53.281303,
         -1.6310076,
         53.331615,
         -1.623066
        ],
        [
         "E6",
         "E2R",
         53.281303,
         -1.6310076,
         53.32881,
         -1.5900581
        ],
        [
         "E6",
         "E3",
         53.281303,
         -1.6310076,
         53.322712,
         -1.6501671
        ],
        [
         "E6",
         "E4R",
         53.281303,
         -1.6310076,
         53.30916,
         -1.627766
        ],
        [
         "E6",
         "E5",
         53.281303,
         -1.6310076,
         53.29749,
         -1.6323686
        ],
        [
         "E6",
         "E7U",
         53.281303,
         -1.6310076,
         53.27853,
         -1.607036
        ],
        [
         "E6",
         "E8",
         53.281303,
         -1.6310076,
         53.266933,
         -1.6341299
        ],
        [
         "E6",
         "E9U",
         53.281303,
         -1.6310076,
         53.310913,
         -1.6142431
        ],
        [
         "E6",
         "Finish",
         53.281303,
         -1.6310076,
         53.323578,
         -1.6396511
        ],
        [
         "E6",
         "Start",
         53.281303,
         -1.6310076,
         53.297432,
         -1.6143645
        ],
        [
         "E7U",
         "CP1",
         53.27853,
         -1.607036,
         53.31724,
         -1.6246936
        ],
        [
         "E7U",
         "CP2",
         53.27853,
         -1.607036,
         53.317173,
         -1.6036792
        ],
        [
         "E7U",
         "CP3",
         53.27853,
         -1.607036,
         53.30637,
         -1.5992771
        ],
        [
         "E7U",
         "CP4",
         53.27853,
         -1.607036,
         53.26865,
         -1.6086259
        ],
        [
         "E7U",
         "CP5",
         53.27853,
         -1.607036,
         53.293858,
         -1.6203977
        ],
        [
         "E7U",
         "CP6",
         53.27853,
         -1.607036,
         53.303757,
         -1.6248118
        ],
        [
         "E7U",
         "CP7",
         53.27853,
         -1.607036,
         53.31726,
         -1.6306977
        ],
        [
         "E7U",
         "E1",
         53.27853,
         -1.607036,
         53.32263,
         -1.6246463
        ],
        [
         "E7U",
         "E10U",
         53.27853,
         -1.607036,
         53.331615,
         -1.623066
        ],
        [
         "E7U",
         "E2R",
         53.27853,
         -1.607036,
         53.32881,
         -1.5900581
        ],
        [
         "E7U",
         "E3",
         53.27853,
         -1.607036,
         53.322712,
         -1.6501671
        ],
        [
         "E7U",
         "E4R",
         53.27853,
         -1.607036,
         53.30916,
         -1.627766
        ],
        [
         "E7U",
         "E5",
         53.27853,
         -1.607036,
         53.29749,
         -1.6323686
        ],
        [
         "E7U",
         "E6",
         53.27853,
         -1.607036,
         53.281303,
         -1.6310076
        ],
        [
         "E7U",
         "E8",
         53.27853,
         -1.607036,
         53.266933,
         -1.6341299
        ],
        [
         "E7U",
         "E9U",
         53.27853,
         -1.607036,
         53.310913,
         -1.6142431
        ],
        [
         "E7U",
         "Finish",
         53.27853,
         -1.607036,
         53.323578,
         -1.6396511
        ],
        [
         "E7U",
         "Start",
         53.27853,
         -1.607036,
         53.297432,
         -1.6143645
        ],
        [
         "E8",
         "CP1",
         53.266933,
         -1.6341299,
         53.31724,
         -1.6246936
        ],
        [
         "E8",
         "CP2",
         53.266933,
         -1.6341299,
         53.317173,
         -1.6036792
        ],
        [
         "E8",
         "CP3",
         53.266933,
         -1.6341299,
         53.30637,
         -1.5992771
        ],
        [
         "E8",
         "CP4",
         53.266933,
         -1.6341299,
         53.26865,
         -1.6086259
        ],
        [
         "E8",
         "CP5",
         53.266933,
         -1.6341299,
         53.293858,
         -1.6203977
        ],
        [
         "E8",
         "CP6",
         53.266933,
         -1.6341299,
         53.303757,
         -1.6248118
        ],
        [
         "E8",
         "CP7",
         53.266933,
         -1.6341299,
         53.31726,
         -1.6306977
        ],
        [
         "E8",
         "E1",
         53.266933,
         -1.6341299,
         53.32263,
         -1.6246463
        ],
        [
         "E8",
         "E10U",
         53.266933,
         -1.6341299,
         53.331615,
         -1.623066
        ],
        [
         "E8",
         "E2R",
         53.266933,
         -1.6341299,
         53.32881,
         -1.5900581
        ],
        [
         "E8",
         "E3",
         53.266933,
         -1.6341299,
         53.322712,
         -1.6501671
        ],
        [
         "E8",
         "E4R",
         53.266933,
         -1.6341299,
         53.30916,
         -1.627766
        ],
        [
         "E8",
         "E5",
         53.266933,
         -1.6341299,
         53.29749,
         -1.6323686
        ],
        [
         "E8",
         "E6",
         53.266933,
         -1.6341299,
         53.281303,
         -1.6310076
        ],
        [
         "E8",
         "E7U",
         53.266933,
         -1.6341299,
         53.27853,
         -1.607036
        ],
        [
         "E8",
         "E9U",
         53.266933,
         -1.6341299,
         53.310913,
         -1.6142431
        ],
        [
         "E8",
         "Finish",
         53.266933,
         -1.6341299,
         53.323578,
         -1.6396511
        ],
        [
         "E8",
         "Start",
         53.266933,
         -1.6341299,
         53.297432,
         -1.6143645
        ],
        [
         "E9U",
         "CP1",
         53.310913,
         -1.6142431,
         53.31724,
         -1.6246936
        ],
        [
         "E9U",
         "CP2",
         53.310913,
         -1.6142431,
         53.317173,
         -1.6036792
        ],
        [
         "E9U",
         "CP3",
         53.310913,
         -1.6142431,
         53.30637,
         -1.5992771
        ],
        [
         "E9U",
         "CP4",
         53.310913,
         -1.6142431,
         53.26865,
         -1.6086259
        ],
        [
         "E9U",
         "CP5",
         53.310913,
         -1.6142431,
         53.293858,
         -1.6203977
        ],
        [
         "E9U",
         "CP6",
         53.310913,
         -1.6142431,
         53.303757,
         -1.6248118
        ],
        [
         "E9U",
         "CP7",
         53.310913,
         -1.6142431,
         53.31726,
         -1.6306977
        ],
        [
         "E9U",
         "E1",
         53.310913,
         -1.6142431,
         53.32263,
         -1.6246463
        ],
        [
         "E9U",
         "E10U",
         53.310913,
         -1.6142431,
         53.331615,
         -1.623066
        ],
        [
         "E9U",
         "E2R",
         53.310913,
         -1.6142431,
         53.32881,
         -1.5900581
        ],
        [
         "E9U",
         "E3",
         53.310913,
         -1.6142431,
         53.322712,
         -1.6501671
        ],
        [
         "E9U",
         "E4R",
         53.310913,
         -1.6142431,
         53.30916,
         -1.627766
        ],
        [
         "E9U",
         "E5",
         53.310913,
         -1.6142431,
         53.29749,
         -1.6323686
        ],
        [
         "E9U",
         "E6",
         53.310913,
         -1.6142431,
         53.281303,
         -1.6310076
        ],
        [
         "E9U",
         "E7U",
         53.310913,
         -1.6142431,
         53.27853,
         -1.607036
        ],
        [
         "E9U",
         "E8",
         53.310913,
         -1.6142431,
         53.266933,
         -1.6341299
        ],
        [
         "E9U",
         "Finish",
         53.310913,
         -1.6142431,
         53.323578,
         -1.6396511
        ],
        [
         "E9U",
         "Start",
         53.310913,
         -1.6142431,
         53.297432,
         -1.6143645
        ],
        [
         "Finish",
         "CP1",
         53.323578,
         -1.6396511,
         53.31724,
         -1.6246936
        ],
        [
         "Finish",
         "CP2",
         53.323578,
         -1.6396511,
         53.317173,
         -1.6036792
        ],
        [
         "Finish",
         "CP3",
         53.323578,
         -1.6396511,
         53.30637,
         -1.5992771
        ],
        [
         "Finish",
         "CP4",
         53.323578,
         -1.6396511,
         53.26865,
         -1.6086259
        ],
        [
         "Finish",
         "CP5",
         53.323578,
         -1.6396511,
         53.293858,
         -1.6203977
        ],
        [
         "Finish",
         "CP6",
         53.323578,
         -1.6396511,
         53.303757,
         -1.6248118
        ],
        [
         "Finish",
         "CP7",
         53.323578,
         -1.6396511,
         53.31726,
         -1.6306977
        ],
        [
         "Finish",
         "E1",
         53.323578,
         -1.6396511,
         53.32263,
         -1.6246463
        ],
        [
         "Finish",
         "E10U",
         53.323578,
         -1.6396511,
         53.331615,
         -1.623066
        ],
        [
         "Finish",
         "E2R",
         53.323578,
         -1.6396511,
         53.32881,
         -1.5900581
        ],
        [
         "Finish",
         "E3",
         53.323578,
         -1.6396511,
         53.322712,
         -1.6501671
        ],
        [
         "Finish",
         "E4R",
         53.323578,
         -1.6396511,
         53.30916,
         -1.627766
        ],
        [
         "Finish",
         "E5",
         53.323578,
         -1.6396511,
         53.29749,
         -1.6323686
        ],
        [
         "Finish",
         "E6",
         53.323578,
         -1.6396511,
         53.281303,
         -1.6310076
        ],
        [
         "Finish",
         "E7U",
         53.323578,
         -1.6396511,
         53.27853,
         -1.607036
        ],
        [
         "Finish",
         "E8",
         53.323578,
         -1.6396511,
         53.266933,
         -1.6341299
        ],
        [
         "Finish",
         "E9U",
         53.323578,
         -1.6396511,
         53.310913,
         -1.6142431
        ],
        [
         "Finish",
         "Start",
         53.323578,
         -1.6396511,
         53.297432,
         -1.6143645
        ],
        [
         "Start",
         "CP1",
         53.297432,
         -1.6143645,
         53.31724,
         -1.6246936
        ],
        [
         "Start",
         "CP2",
         53.297432,
         -1.6143645,
         53.317173,
         -1.6036792
        ],
        [
         "Start",
         "CP3",
         53.297432,
         -1.6143645,
         53.30637,
         -1.5992771
        ],
        [
         "Start",
         "CP4",
         53.297432,
         -1.6143645,
         53.26865,
         -1.6086259
        ],
        [
         "Start",
         "CP5",
         53.297432,
         -1.6143645,
         53.293858,
         -1.6203977
        ],
        [
         "Start",
         "CP6",
         53.297432,
         -1.6143645,
         53.303757,
         -1.6248118
        ],
        [
         "Start",
         "CP7",
         53.297432,
         -1.6143645,
         53.31726,
         -1.6306977
        ],
        [
         "Start",
         "E1",
         53.297432,
         -1.6143645,
         53.32263,
         -1.6246463
        ],
        [
         "Start",
         "E10U",
         53.297432,
         -1.6143645,
         53.331615,
         -1.623066
        ],
        [
         "Start",
         "E2R",
         53.297432,
         -1.6143645,
         53.32881,
         -1.5900581
        ],
        [
         "Start",
         "E3",
         53.297432,
         -1.6143645,
         53.322712,
         -1.6501671
        ],
        [
         "Start",
         "E4R",
         53.297432,
         -1.6143645,
         53.30916,
         -1.627766
        ],
        [
         "Start",
         "E5",
         53.297432,
         -1.6143645,
         53.29749,
         -1.6323686
        ],
        [
         "Start",
         "E6",
         53.297432,
         -1.6143645,
         53.281303,
         -1.6310076
        ],
        [
         "Start",
         "E7U",
         53.297432,
         -1.6143645,
         53.27853,
         -1.607036
        ],
        [
         "Start",
         "E8",
         53.297432,
         -1.6143645,
         53.266933,
         -1.6341299
        ],
        [
         "Start",
         "E9U",
         53.297432,
         -1.6143645,
         53.310913,
         -1.6142431
        ],
        [
         "Start",
         "Finish",
         53.297432,
         -1.6143645,
         53.323578,
         -1.6396511
        ]
       ],
       "datasetInfos": [],
       "dbfsResultPath": null,
       "isJsonSchema": true,
       "metadata": {},
       "overflow": false,
       "plotOptions": {
        "customPlotOptions": {},
        "displayType": "table",
        "pivotAggregation": null,
        "pivotColumns": null,
        "xColumns": null,
        "yColumns": null
       },
       "removedWidgets": [],
       "schema": [
        {
         "metadata": "{}",
         "name": "StartCP",
         "type": "\"string\""
        },
        {
         "metadata": "{}",
         "name": "FinishCP",
         "type": "\"string\""
        },
        {
         "metadata": "{}",
         "name": "StartLatitude",
         "type": "\"float\""
        },
        {
         "metadata": "{}",
         "name": "StartLongitude",
         "type": "\"float\""
        },
        {
         "metadata": "{}",
         "name": "FinishLatitude",
         "type": "\"float\""
        },
        {
         "metadata": "{}",
         "name": "FinishLongitude",
         "type": "\"float\""
        }
       ],
       "type": "table"
      }
     },
     "output_type": "display_data"
    }
   ],
   "source": [
    "# So this isn't the best way to do this, i realise, but it is reused code from another part of the project and doesn't take too long so we may as well just get every combination and run it through the api\n",
    "\n",
    "StartCPs = openings_df.select(\"CP\").withColumnRenamed(\"CP\",\"StartCP\")\n",
    "FinishCPs = openings_df.select(\"CP\").withColumnRenamed(\"CP\",\"FinishCP\")\n",
    "CP_Combinations_DF = StartCPs.crossJoin(FinishCPs)\n",
    "\n",
    "StartCPs.unpersist\n",
    "FinishCPs.unpersist\n",
    "\n",
    "CP_Combinations_DF = CP_Combinations_DF.alias(\"df\").join(openings_df.select(\"CP\", \"Latitude\", \"Longitude\").withColumnRenamed('Latitude','StartLatitude').withColumnRenamed('Longitude','StartLongitude'), CP_Combinations_DF.StartCP == openings_df.CP).drop(\"CP\")\n",
    "\n",
    "CP_Combinations_DF = CP_Combinations_DF.alias(\"df\").join(openings_df.select(\"CP\", \"Latitude\", \"Longitude\").withColumnRenamed('Latitude','FinishLatitude').withColumnRenamed('Longitude','FinishLongitude'), CP_Combinations_DF.FinishCP == openings_df.CP).drop(\"CP\")\n",
    "\n",
    "CP_Combinations_DF = CP_Combinations_DF.filter(CP_Combinations_DF.StartCP != CP_Combinations_DF.FinishCP)\n",
    "display(CP_Combinations_DF)"
   ]
  },
  {
   "cell_type": "markdown",
   "metadata": {
    "application/vnd.databricks.v1+cell": {
     "cellMetadata": {
      "byteLimit": 2048000,
      "rowLimit": 10000
     },
     "inputWidgets": {},
     "nuid": "d89816f9-c35d-4b50-a6a7-472a390cf875",
     "showTitle": false,
     "tableResultSettingsMap": {},
     "title": ""
    },
    "id": "gDmfNLF2ahSL"
   },
   "source": [
    "### Fetch Distances & Elevations from Google Maps API"
   ]
  },
  {
   "cell_type": "code",
   "execution_count": 0,
   "metadata": {
    "application/vnd.databricks.v1+cell": {
     "cellMetadata": {
      "byteLimit": 2048000,
      "rowLimit": 10000
     },
     "inputWidgets": {},
     "nuid": "30283d9b-8cc2-48c9-add1-6d46f231ec1c",
     "showTitle": false,
     "tableResultSettingsMap": {},
     "title": ""
    },
    "id": "CijR4BV7ZOjp",
    "outputId": "233e7bb8-c44a-4ea6-e2b1-18204daa1db9"
   },
   "outputs": [
    {
     "output_type": "stream",
     "name": "stdout",
     "output_type": "stream",
     "text": [
      "Skipping Google Maps Cell, selected service: Bing Maps\n"
     ]
    }
   ],
   "source": [
    "if API_Service == \"Google Maps\":\n",
    "\n",
    "  CP_Combinations_List = CP_Combinations_DF.collect()\n",
    "\n",
    "  Distances_DF = spark.createDataFrame(\n",
    "      [(1, 1.0, 1.0, 1)],\n",
    "      schema='StartCP string, FinishCP string, Distance float, Height_Gain int'\n",
    "  )\n",
    "  Distances_DF = Distances_DF.filter(\"1!=1\")\n",
    "\n",
    "  def make_request(method, url, **kwargs):\n",
    "      \"\"\"Helper function to handle API requests with 429 retry logic.\"\"\"\n",
    "      while True:\n",
    "          response = requests.request(method, url, **kwargs)\n",
    "          if response.status_code == 429:\n",
    "              print(\"Rate limit exceeded (429). Waiting 60 seconds before retrying...\")\n",
    "              time.sleep(60)\n",
    "          else:\n",
    "              return response  # Return response if successful\n",
    "\n",
    "  for row in CP_Combinations_List:\n",
    "      wp1 = f\"{row.StartLongitude},{row.StartLatitude}\"\n",
    "      wp2 = f\"{row.FinishLongitude},{row.FinishLatitude}\"\n",
    "\n",
    "      # Route API Call with Retry Handling\n",
    "      route_url = \"https://routes.googleapis.com/directions/v2:computeRoutes\"\n",
    "      route_params = {\n",
    "    \"origin\":{\n",
    "      \"location\":{\n",
    "        \"latLng\":{\n",
    "          \"latitude\": row.StartLatitude,\n",
    "          \"longitude\": row.StartLongitude\n",
    "        }\n",
    "      }\n",
    "    },\n",
    "    \"destination\":{\n",
    "      \"location\":{\n",
    "        \"latLng\":{\n",
    "          \"latitude\": row.FinishLatitude,\n",
    "          \"longitude\": row.FinishLongitude\n",
    "        }\n",
    "      }\n",
    "    },\n",
    "    \"travelMode\": \"WALK\",\n",
    "    \"languageCode\": \"en-GB\",\n",
    "    \"units\": \"METRIC\"\n",
    "  }\n",
    "      route_headers = {\n",
    "          \"X-Goog-Api-Key\": GoogleMapsAPIKey,\n",
    "          \"X-Goog-FieldMask\": \"routes.duration,routes.distanceMeters,routes.polyline,routes.legs\"\n",
    "      }\n",
    "\n",
    "      route_resp = make_request(\"POST\", route_url, headers=route_headers, json=route_params)\n",
    "      route_json_resp = route_resp.json()\n",
    "\n",
    "      travel_distance = float(route_json_resp[\"routes\"][0][\"legs\"][0][\"distanceMeters\"]) / 1000\n",
    "      StartCP, FinishCP = row[\"StartCP\"], row[\"FinishCP\"]\n",
    "\n",
    "      # Prepare height points for elevation request\n",
    "      height_polyline = route_json_resp[\"routes\"][0][\"polyline\"][\"encodedPolyline\"]\n",
    "\n",
    "\n",
    "      # Elevation API Call with Retry Handling\n",
    "      elevations_url = \"https://maps.googleapis.com/maps/api/elevation/json\"\n",
    "      elevations_params = {\n",
    "          \"path\": \"enc:\"+height_polyline,\n",
    "          \"samples\": 100,\n",
    "          \"key\": GoogleMapsAPIKey\n",
    "      }\n",
    "\n",
    "      elevations_resp = make_request(\"GET\", elevations_url, params=elevations_params)\n",
    "      elevation_json_resp = elevations_resp.json()\n",
    "      elevations = [point[\"elevation\"] for point in elevation_json_resp[\"results\"]]\n",
    "      differences = [builtins.max(0, elevations[i+1] - elevations[i]) for i in range(len(elevations)-1)]\n",
    "      height_gain = float(sum(differences))\n",
    "\n",
    "      # Append to Spark DataFrame\n",
    "      df = spark.createDataFrame(\n",
    "          [(StartCP, FinishCP, travel_distance, height_gain)],\n",
    "          'StartCP string, FinishCP string, Distance float, Height_Gain float'\n",
    "      )\n",
    "      Distances_DF = Distances_DF.union(df)\n",
    "\n",
    "  #   time.sleep(2.0)  # Keep a delay between requests to reduce rate limits\n",
    "\n",
    "  display(Distances_DF)\n",
    "\n",
    "else:\n",
    "    print(f\"Skipping Google Maps Cell, selected service: {API_Service}\")"
   ]
  },
  {
   "cell_type": "markdown",
   "metadata": {
    "application/vnd.databricks.v1+cell": {
     "cellMetadata": {
      "byteLimit": 2048000,
      "rowLimit": 10000
     },
     "inputWidgets": {},
     "nuid": "95e86e26-53ba-4586-975f-c687702d967c",
     "showTitle": false,
     "tableResultSettingsMap": {},
     "title": ""
    },
    "id": "Nm5X7PahDxOP"
   },
   "source": [
    "### Fetch Distances & Elevations from Azure Maps and OpenTopoData APIs"
   ]
  },
  {
   "cell_type": "code",
   "execution_count": 0,
   "metadata": {
    "application/vnd.databricks.v1+cell": {
     "cellMetadata": {
      "byteLimit": 2048000,
      "rowLimit": 10000
     },
     "inputWidgets": {},
     "nuid": "f7828cd5-89b9-4f71-b685-f83d83287c86",
     "showTitle": false,
     "tableResultSettingsMap": {},
     "title": ""
    },
    "id": "-99WdniFDwHp"
   },
   "outputs": [
    {
     "output_type": "stream",
     "name": "stdout",
     "output_type": "stream",
     "text": [
      "Skipping Azure Maps Cell, selected service: Bing Maps\n"
     ]
    }
   ],
   "source": [
    "# Takes ~17 minutes due to OpenTopoData API limits 1 per second\n",
    "if API_Service == \"Azure Maps & OpenTopoData\":\n",
    "\n",
    "    CP_Combinations_List = CP_Combinations_DF.collect()\n",
    "\n",
    "    Distances_DF = spark.createDataFrame(\n",
    "        [(1, 1.0, 1.0, 1)],\n",
    "        schema='StartCP string, FinishCP string, Distance float, Height_Gain int'\n",
    "    )\n",
    "    Distances_DF = Distances_DF.filter(\"1!=1\")\n",
    "\n",
    "    MAX_LOCATIONS = 100  # OpenTopoData API limit\n",
    "\n",
    "    for row in CP_Combinations_List:\n",
    "        wp1 = f\"{row.StartLatitude},{row.StartLongitude}\"\n",
    "        wp2 = f\"{row.FinishLatitude},{row.FinishLongitude}\"\n",
    "\n",
    "        # Azure Maps Routing API\n",
    "        route_url = \"https://atlas.microsoft.com/route/directions/json\"\n",
    "        route_params = {\n",
    "            \"subscription-key\": AzureMapsAPIKey,\n",
    "            \"api-version\": \"1.0\",\n",
    "            \"query\": f\"{wp1}:{wp2}\",\n",
    "            \"travelMode\": \"pedestrian\",\n",
    "            \"routeType\": \"shortest\",\n",
    "            \"traffic\": \"false\",\n",
    "            \"computeBestOrder\": \"false\",\n",
    "            \"computeTravelTimeFor\": \"all\",\n",
    "        }\n",
    "        route_resp = requests.get(route_url, params=route_params)\n",
    "        route_json_resp = json.loads(route_resp.text)\n",
    "\n",
    "        travel_distance = float(route_json_resp['routes'][0]['summary']['lengthInMeters']) / 1000  # Convert meters to km\n",
    "        StartCP = row[\"StartCP\"]\n",
    "        FinishCP = row[\"FinishCP\"]\n",
    "\n",
    "        # Extract route coordinates\n",
    "        height_points = route_json_resp['routes'][0]['legs'][0]['points']\n",
    "        coordinates = [f\"{pt['latitude']},{pt['longitude']}\" for pt in height_points]\n",
    "\n",
    "        # Batch coordinates into chunks of 100\n",
    "        elevation_results = []\n",
    "        for i in range(0, len(coordinates), MAX_LOCATIONS):\n",
    "            chunk = \"|\".join(coordinates[i:i + MAX_LOCATIONS])  # Format chunk\n",
    "\n",
    "            # OpenTopoData API call\n",
    "            opentopo_url = \"https://api.opentopodata.org/v1/eudem25m\"  # Example dataset\n",
    "            opentopo_params = {\"locations\": chunk}\n",
    "            elevations_resp = requests.get(opentopo_url, params=opentopo_params)\n",
    "            elevations_json_resp = json.loads(elevations_resp.text)\n",
    "\n",
    "            # Extract elevations\n",
    "            if 'results' in elevations_json_resp:\n",
    "                elevation_results.extend([result['elevation'] for result in elevations_json_resp['results']])\n",
    "\n",
    "            time.sleep(1)\n",
    "\n",
    "        # Calculate height gain\n",
    "        differences = [max(0, elevation_results[i+1] - elevation_results[i]) for i in range(len(elevation_results)-1)]\n",
    "        height_gain = float(sum(differences))\n",
    "\n",
    "        df = spark.createDataFrame(\n",
    "            [(StartCP, FinishCP, travel_distance, height_gain)],\n",
    "            'StartCP string, FinishCP string, Distance float, Height_Gain float'\n",
    "        )\n",
    "        Distances_DF = Distances_DF.union(df)\n",
    "\n",
    "    display(Distances_DF)\n",
    "\n",
    "else:\n",
    "    print(f\"Skipping Azure Maps Cell, selected service: {API_Service}\")\n"
   ]
  },
  {
   "cell_type": "markdown",
   "metadata": {
    "application/vnd.databricks.v1+cell": {
     "cellMetadata": {
      "byteLimit": 2048000,
      "rowLimit": 10000
     },
     "inputWidgets": {},
     "nuid": "d0aa6010-cebe-41e4-93a2-0bc7121af680",
     "showTitle": false,
     "tableResultSettingsMap": {},
     "title": ""
    },
    "id": "hEiYF_NZa0DX"
   },
   "source": [
    "### Fetch Distances & Elevations from OpenRouteService API"
   ]
  },
  {
   "cell_type": "code",
   "execution_count": 0,
   "metadata": {
    "application/vnd.databricks.v1+cell": {
     "cellMetadata": {
      "byteLimit": 2048000,
      "rowLimit": 10000
     },
     "inputWidgets": {},
     "nuid": "db3c134e-3e16-4d50-bc85-5faa2b84dac8",
     "showTitle": false,
     "tableResultSettingsMap": {},
     "title": ""
    },
    "id": "IBg4evZ5ZOjq",
    "outputId": "413f3c90-65ba-4db1-b3c3-a35cf41469ed"
   },
   "outputs": [
    {
     "output_type": "stream",
     "name": "stdout",
     "output_type": "stream",
     "text": [
      "Skipping OpenRouteService Cell, selected service: Bing Maps\n"
     ]
    }
   ],
   "source": [
    "if API_Service == \"OpenRouteService\":\n",
    "\n",
    "    CP_Combinations_List = CP_Combinations_DF.collect()\n",
    "\n",
    "    Distances_DF = spark.createDataFrame(\n",
    "        [(1, 1.0, 1.0, 1)],\n",
    "        schema='StartCP string, FinishCP string, Distance float, Height_Gain int'\n",
    "    )\n",
    "    Distances_DF = Distances_DF.filter(\"1!=1\")\n",
    "\n",
    "    def make_request(method, url, **kwargs):\n",
    "        \"\"\"Helper function to handle API requests with 429 retry logic.\"\"\"\n",
    "        while True:\n",
    "            response = requests.request(method, url, **kwargs)\n",
    "            if response.status_code == 429:\n",
    "                print(\"Rate limit exceeded (429). Waiting 60 seconds before retrying...\")\n",
    "                time.sleep(60)\n",
    "            else:\n",
    "                return response  # Return response if successful\n",
    "\n",
    "    for row in CP_Combinations_List:\n",
    "        wp1 = f\"{row.StartLongitude},{row.StartLatitude}\"\n",
    "        wp2 = f\"{row.FinishLongitude},{row.FinishLatitude}\"\n",
    "\n",
    "        # Route API Call with Retry Handling\n",
    "        route_url = \"https://api.openrouteservice.org/v2/directions/foot-hiking\"\n",
    "        route_params = {\n",
    "            \"start\": wp1,\n",
    "            \"end\": wp2,\n",
    "            \"api_key\": OpenRouteServiceAPIKey\n",
    "        }\n",
    "        route_resp = make_request(\"GET\", route_url, params=route_params)\n",
    "        route_json_resp = route_resp.json()\n",
    "\n",
    "        travel_distance = float(route_json_resp[\"features\"][0][\"properties\"][\"summary\"][\"distance\"]) / 1000\n",
    "        StartCP, FinishCP = row[\"StartCP\"], row[\"FinishCP\"]\n",
    "\n",
    "        # Prepare height points for elevation request\n",
    "        height_points = route_json_resp[\"features\"][0][\"geometry\"][\"coordinates\"]\n",
    "        flattened_height_points = \",\".join([f\"{lon},{lat}\" for lon, lat in height_points])\n",
    "\n",
    "        # Elevation API Call with Retry Handling\n",
    "        elevations_url = \"https://api.openrouteservice.org/elevation/line\"\n",
    "        elevations_params = {\n",
    "            \"format_in\": \"polyline\",\n",
    "            \"format_out\": \"polyline\",\n",
    "            \"dataset\": \"srtm\",\n",
    "            \"geometry\": height_points\n",
    "        }\n",
    "        elevations_headers = {\n",
    "            \"Authorization\": OpenRouteServiceAPIKey,\n",
    "            \"Content-Type\": \"application/json\"\n",
    "        }\n",
    "        elevations_resp = make_request(\"POST\", elevations_url, headers=elevations_headers, json=elevations_params)\n",
    "        elevation_json_resp = elevations_resp.json()\n",
    "        elevation_coordinates = elevation_json_resp[\"geometry\"]\n",
    "        elevations = [elev for _, _, elev in elevation_coordinates]\n",
    "        differences = [builtins.max(0, elevations[i+1] - elevations[i]) for i in range(len(elevations)-1)]\n",
    "        height_gain = sum(differences)\n",
    "\n",
    "        # Append to Spark DataFrame\n",
    "        df = spark.createDataFrame(\n",
    "            [(StartCP, FinishCP, travel_distance, height_gain)],\n",
    "            'StartCP string, FinishCP string, Distance float, Height_Gain float'\n",
    "        )\n",
    "        Distances_DF = Distances_DF.union(df)\n",
    "\n",
    "        time.sleep(2.0)  # Keep a delay between requests to reduce rate limits\n",
    "\n",
    "    display(Distances_DF)\n",
    "\n",
    "else:\n",
    "    print(f\"Skipping OpenRouteService Cell, selected service: {API_Service}\")"
   ]
  },
  {
   "cell_type": "markdown",
   "metadata": {
    "application/vnd.databricks.v1+cell": {
     "cellMetadata": {
      "byteLimit": 2048000,
      "rowLimit": 10000
     },
     "inputWidgets": {},
     "nuid": "8a5d2b85-ede0-4853-91d8-409962eceee4",
     "showTitle": false,
     "tableResultSettingsMap": {},
     "title": ""
    },
    "id": "KTNhw6YTa5I2"
   },
   "source": [
    "### Fetch Distances & Elevations from Bing Maps API"
   ]
  },
  {
   "cell_type": "code",
   "execution_count": 0,
   "metadata": {
    "application/vnd.databricks.v1+cell": {
     "cellMetadata": {
      "byteLimit": 2048000,
      "rowLimit": 10000
     },
     "inputWidgets": {},
     "nuid": "157932ad-5f46-409f-b9cb-08e5a8f8b199",
     "showTitle": false,
     "tableResultSettingsMap": {},
     "title": ""
    },
    "id": "G4qfCSi8ZOjq",
    "outputId": "dba55492-beba-475f-ab35-8854bdbba8ea"
   },
   "outputs": [
    {
     "output_type": "display_data",
     "data": {
      "text/html": [
       "<style scoped>\n",
       "  .table-result-container {\n",
       "    max-height: 300px;\n",
       "    overflow: auto;\n",
       "  }\n",
       "  table, th, td {\n",
       "    border: 1px solid black;\n",
       "    border-collapse: collapse;\n",
       "  }\n",
       "  th, td {\n",
       "    padding: 5px;\n",
       "  }\n",
       "  th {\n",
       "    text-align: left;\n",
       "  }\n",
       "</style><div class='table-result-container'><table class='table-result'><thead style='background-color: white'><tr><th>StartCP</th><th>FinishCP</th><th>Distance</th><th>Height_Gain</th></tr></thead><tbody><tr><td>CP1</td><td>CP2</td><td>1.755</td><td>59</td></tr><tr><td>CP1</td><td>CP3</td><td>2.729</td><td>97</td></tr><tr><td>CP1</td><td>CP4</td><td>6.986</td><td>197</td></tr><tr><td>CP1</td><td>CP5</td><td>3.443</td><td>98</td></tr><tr><td>CP1</td><td>CP6</td><td>2.036</td><td>9</td></tr><tr><td>CP1</td><td>CP7</td><td>0.765</td><td>4</td></tr><tr><td>CP1</td><td>E1</td><td>0.747</td><td>69</td></tr><tr><td>CP1</td><td>E10U</td><td>1.894</td><td>83</td></tr><tr><td>CP1</td><td>E2R</td><td>3.42</td><td>133</td></tr><tr><td>CP1</td><td>E3</td><td>2.678</td><td>41</td></tr><tr><td>CP1</td><td>E4R</td><td>1.315</td><td>2</td></tr><tr><td>CP1</td><td>E5</td><td>2.923</td><td>19</td></tr><tr><td>CP1</td><td>E6</td><td>4.912</td><td>88</td></tr><tr><td>CP1</td><td>E7U</td><td>5.696</td><td>184</td></tr><tr><td>CP1</td><td>E8</td><td>6.911</td><td>91</td></tr><tr><td>CP1</td><td>E9U</td><td>1.459</td><td>25</td></tr><tr><td>CP1</td><td>Finish</td><td>1.556</td><td>44</td></tr><tr><td>CP1</td><td>Start</td><td>3.194</td><td>105</td></tr><tr><td>CP2</td><td>CP1</td><td>1.755</td><td>39</td></tr><tr><td>CP2</td><td>CP3</td><td>1.319</td><td>39</td></tr><tr><td>CP2</td><td>CP4</td><td>6.364</td><td>99</td></tr><tr><td>CP2</td><td>CP5</td><td>3.251</td><td>20</td></tr><tr><td>CP2</td><td>CP6</td><td>2.316</td><td>5</td></tr><tr><td>CP2</td><td>CP7</td><td>2.308</td><td>36</td></tr><tr><td>CP2</td><td>E1</td><td>2.186</td><td>103</td></tr><tr><td>CP2</td><td>E10U</td><td>2.545</td><td>90</td></tr><tr><td>CP2</td><td>E2R</td><td>1.715</td><td>95</td></tr><tr><td>CP2</td><td>E3</td><td>4.36</td><td>36</td></tr><tr><td>CP2</td><td>E4R</td><td>2.203</td><td>25</td></tr><tr><td>CP2</td><td>E5</td><td>3.254</td><td>5</td></tr><tr><td>CP2</td><td>E6</td><td>5.023</td><td>14</td></tr><tr><td>CP2</td><td>E7U</td><td>4.871</td><td>96</td></tr><tr><td>CP2</td><td>E8</td><td>7.022</td><td>17</td></tr><tr><td>CP2</td><td>E9U</td><td>1.117</td><td>1</td></tr><tr><td>CP2</td><td>Finish</td><td>3.238</td><td>39</td></tr><tr><td>CP2</td><td>Start</td><td>2.493</td><td>9</td></tr><tr><td>CP3</td><td>CP1</td><td>2.729</td><td>48</td></tr><tr><td>CP3</td><td>CP2</td><td>1.319</td><td>10</td></tr><tr><td>CP3</td><td>CP4</td><td>5.14</td><td>64</td></tr><tr><td>CP3</td><td>CP5</td><td>2.464</td><td>11</td></tr><tr><td>CP3</td><td>CP6</td><td>1.981</td><td>1</td></tr><tr><td>CP3</td><td>CP7</td><td>3.211</td><td>54</td></tr><tr><td>CP3</td><td>E1</td><td>3.16</td><td>113</td></tr><tr><td>CP3</td><td>E10U</td><td>3.831</td><td>94</td></tr><tr><td>CP3</td><td>E2R</td><td>2.872</td><td>89</td></tr><tr><td>CP3</td><td>E3</td><td>5.136</td><td>54</td></tr><tr><td>CP3</td><td>E4R</td><td>2.425</td><td>24</td></tr><tr><td>CP3</td><td>E5</td><td>2.919</td><td>1</td></tr><tr><td>CP3</td><td>E6</td><td>4.236</td><td>6</td></tr><tr><td>CP3</td><td>E7U</td><td>3.647</td><td>61</td></tr><tr><td>CP3</td><td>E8</td><td>6.235</td><td>9</td></tr><tr><td>CP3</td><td>E9U</td><td>1.269</td><td>1</td></tr><tr><td>CP3</td><td>Finish</td><td>4.212</td><td>48</td></tr><tr><td>CP3</td><td>Start</td><td>1.706</td><td>0</td></tr><tr><td>CP4</td><td>CP1</td><td>6.986</td><td>197</td></tr><tr><td>CP4</td><td>CP2</td><td>6.364</td><td>119</td></tr><tr><td>CP4</td><td>CP3</td><td>5.14</td><td>113</td></tr><tr><td>CP4</td><td>CP5</td><td>3.542</td><td>64</td></tr><tr><td>CP4</td><td>CP6</td><td>5.174</td><td>85</td></tr><tr><td>CP4</td><td>CP7</td><td>6.942</td><td>180</td></tr><tr><td>CP4</td><td>E1</td><td>7.615</td><td>267</td></tr><tr><td>CP4</td><td>E10U</td><td>8.624</td><td>279</td></tr><tr><td>CP4</td><td>E2R</td><td>7.909</td><td>198</td></tr><tr><td>CP4</td><td>E3</td><td>7.892</td><td>98</td></tr><tr><td>CP4</td><td>E4R</td><td>5.875</td><td>160</td></tr><tr><td>CP4</td><td>E5</td><td>4.357</td><td>40</td></tr><tr><td>CP4</td><td>E6</td><td>2.308</td><td>28</td></tr><tr><td>CP4</td><td>E7U</td><td>1.492</td><td>52</td></tr><tr><td>CP4</td><td>E8</td><td>1.828</td><td>2</td></tr><tr><td>CP4</td><td>E9U</td><td>6.04</td><td>146</td></tr><tr><td>CP4</td><td>Finish</td><td>7.621</td><td>162</td></tr><tr><td>CP4</td><td>Start</td><td>4.353</td><td>107</td></tr><tr><td>CP5</td><td>CP1</td><td>3.443</td><td>132</td></tr><tr><td>CP5</td><td>CP2</td><td>3.251</td><td>74</td></tr><tr><td>CP5</td><td>CP3</td><td>2.464</td><td>94</td></tr><tr><td>CP5</td><td>CP4</td><td>3.542</td><td>98</td></tr><tr><td>CP5</td><td>CP6</td><td>1.631</td><td>20</td></tr><tr><td>CP5</td><td>CP7</td><td>3.399</td><td>115</td></tr><tr><td>CP5</td><td>E1</td><td>4.072</td><td>202</td></tr><tr><td>CP5</td><td>E10U</td><td>5.081</td><td>214</td></tr><tr><td>CP5</td><td>E2R</td><td>4.967</td><td>169</td></tr><tr><td>CP5</td><td>E3</td><td>4.918</td><td>68</td></tr><tr><td>CP5</td><td>E4R</td><td>2.332</td><td>96</td></tr><tr><td>CP5</td><td>E5</td><td>1.631</td><td>13</td></tr><tr><td>CP5</td><td>E6</td><td>1.829</td><td>20</td></tr><tr><td>CP5</td><td>E7U</td><td>2.697</td><td>106</td></tr><tr><td>CP5</td><td>E8</td><td>3.828</td><td>23</td></tr><tr><td>CP5</td><td>E9U</td><td>2.497</td><td>81</td></tr><tr><td>CP5</td><td>Finish</td><td>4.253</td><td>109</td></tr><tr><td>CP5</td><td>Start</td><td>0.81</td><td>42</td></tr><tr><td>CP6</td><td>CP1</td><td>2.036</td><td>123</td></tr><tr><td>CP6</td><td>CP2</td><td>2.316</td><td>139</td></tr><tr><td>CP6</td><td>CP3</td><td>1.981</td><td>164</td></tr><tr><td>CP6</td><td>CP4</td><td>5.174</td><td>199</td></tr><tr><td>CP6</td><td>CP5</td><td>1.631</td><td>100</td></tr><tr><td>CP6</td><td>CP7</td><td>1.992</td><td>106</td></tr><tr><td>CP6</td><td>E1</td><td>2.665</td><td>193</td></tr><tr><td>CP6</td><td>E10U</td><td>3.674</td><td>205</td></tr><tr><td>CP6</td><td>E2R</td><td>4.032</td><td>234</td></tr><tr><td>CP6</td><td>E3</td><td>3.511</td><td>59</td></tr><tr><td>CP6</td><td>E4R</td><td>0.925</td><td>88</td></tr><tr><td>CP6</td><td>E5</td><td>0.938</td><td>0</td></tr><tr><td>CP6</td><td>E6</td><td>3.1</td><td>90</td></tr><tr><td>CP6</td><td>E7U</td><td>3.884</td><td>186</td></tr><tr><td>CP6</td><td>E8</td><td>4.997</td><td>91</td></tr><tr><td>CP6</td><td>E9U</td><td>1.241</td><td>96</td></tr><tr><td>CP6</td><td>Finish</td><td>2.846</td><td>100</td></tr><tr><td>CP6</td><td>Start</td><td>1.382</td><td>107</td></tr><tr><td>CP7</td><td>CP1</td><td>0.765</td><td>33</td></tr><tr><td>CP7</td><td>CP2</td><td>2.308</td><td>85</td></tr><tr><td>CP7</td><td>CP3</td><td>3.211</td><td>132</td></tr><tr><td>CP7</td><td>CP4</td><td>6.881</td><td>233</td></tr><tr><td>CP7</td><td>CP5</td><td>3.338</td><td>134</td></tr><tr><td>CP7</td><td>CP6</td><td>1.931</td><td>46</td></tr><tr><td>CP7</td><td>E1</td><td>1.045</td><td>95</td></tr><tr><td>CP7</td><td>E10U</td><td>1.937</td><td>97</td></tr><tr><td>CP7</td><td>E2R</td><td>3.933</td><td>178</td></tr><tr><td>CP7</td><td>E3</td><td>2.193</td><td>8</td></tr><tr><td>CP7</td><td>E4R</td><td>1.005</td><td>9</td></tr><tr><td>CP7</td><td>E5</td><td>2.731</td><td>26</td></tr><tr><td>CP7</td><td>E6</td><td>4.807</td><td>125</td></tr><tr><td>CP7</td><td>E7U</td><td>5.591</td><td>220</td></tr><tr><td>CP7</td><td>E8</td><td>6.806</td><td>127</td></tr><tr><td>CP7</td><td>E9U</td><td>2.026</td><td>61</td></tr><tr><td>CP7</td><td>Finish</td><td>1.149</td><td>21</td></tr><tr><td>CP7</td><td>Start</td><td>3.089</td><td>141</td></tr><tr><td>E1</td><td>CP1</td><td>0.747</td><td>3</td></tr><tr><td>E1</td><td>CP2</td><td>2.186</td><td>57</td></tr><tr><td>E1</td><td>CP3</td><td>3.16</td><td>96</td></tr><tr><td>E1</td><td>CP4</td><td>7.615</td><td>201</td></tr><tr><td>E1</td><td>CP5</td><td>4.072</td><td>102</td></tr><tr><td>E1</td><td>CP6</td><td>2.665</td><td>13</td></tr><tr><td>E1</td><td>CP7</td><td>1.045</td><td>0</td></tr><tr><td>E1</td><td>E10U</td><td>1.147</td><td>14</td></tr><tr><td>E1</td><td>E2R</td><td>3.371</td><td>133</td></tr><tr><td>E1</td><td>E3</td><td>2.445</td><td>5</td></tr><tr><td>E1</td><td>E4R</td><td>1.851</td><td>3</td></tr><tr><td>E1</td><td>E5</td><td>3.459</td><td>21</td></tr><tr><td>E1</td><td>E6</td><td>5.541</td><td>92</td></tr><tr><td>E1</td><td>E7U</td><td>6.325</td><td>188</td></tr><tr><td>E1</td><td>E8</td><td>7.54</td><td>95</td></tr><tr><td>E1</td><td>E9U</td><td>1.89</td><td>24</td></tr><tr><td>E1</td><td>Finish</td><td>1.323</td><td>8</td></tr><tr><td>E1</td><td>Start</td><td>3.73</td><td>55</td></tr><tr><td>E10U</td><td>CP1</td><td>1.894</td><td>35</td></tr><tr><td>E10U</td><td>CP2</td><td>2.545</td><td>62</td></tr><tr><td>E10U</td><td>CP3</td><td>3.831</td><td>95</td></tr><tr><td>E10U</td><td>CP4</td><td>8.624</td><td>231</td></tr><tr><td>E10U</td><td>CP5</td><td>5.081</td><td>132</td></tr><tr><td>E10U</td><td>CP6</td><td>3.674</td><td>43</td></tr><tr><td>E10U</td><td>CP7</td><td>1.937</td><td>20</td></tr><tr><td>E10U</td><td>E1</td><td>1.147</td><td>32</td></tr><tr><td>E10U</td><td>E2R</td><td>2.845</td><td>132</td></tr><tr><td>E10U</td><td>E3</td><td>2.831</td><td>6</td></tr><tr><td>E10U</td><td>E4R</td><td>2.86</td><td>33</td></tr><tr><td>E10U</td><td>E5</td><td>4.468</td><td>51</td></tr><tr><td>E10U</td><td>E6</td><td>6.55</td><td>122</td></tr><tr><td>E10U</td><td>E7U</td><td>7.334</td><td>218</td></tr><tr><td>E10U</td><td>E8</td><td>8.549</td><td>125</td></tr><tr><td>E10U</td><td>E9U</td><td>3.037</td><td>55</td></tr><tr><td>E10U</td><td>Finish</td><td>1.713</td><td>5</td></tr><tr><td>E10U</td><td>Start</td><td>4.832</td><td>139</td></tr><tr><td>E2R</td><td>CP1</td><td>3.42</td><td>18</td></tr><tr><td>E2R</td><td>CP2</td><td>1.715</td><td>0</td></tr><tr><td>E2R</td><td>CP3</td><td>2.872</td><td>23</td></tr><tr><td>E2R</td><td>CP4</td><td>7.909</td><td>83</td></tr><tr><td>E2R</td><td>CP5</td><td>4.967</td><td>20</td></tr><tr><td>E2R</td><td>CP6</td><td>4.032</td><td>5</td></tr><tr><td>E2R</td><td>CP7</td><td>3.933</td><td>34</td></tr><tr><td>E2R</td><td>E1</td><td>3.371</td><td>84</td></tr><tr><td>E2R</td><td>E10U</td><td>2.845</td><td>65</td></tr><tr><td>E2R</td><td>E3</td><td>5.56</td><td>83</td></tr><tr><td>E2R</td><td>E4R</td><td>3.893</td><td>20</td></tr><tr><td>E2R</td><td>E5</td><td>4.97</td><td>5</td></tr><tr><td>E2R</td><td>E6</td><td>6.739</td><td>14</td></tr><tr><td>E2R</td><td>E7U</td><td>6.416</td><td>80</td></tr><tr><td>E2R</td><td>E8</td><td>8.738</td><td>17</td></tr><tr><td>E2R</td><td>E9U</td><td>2.833</td><td>1</td></tr><tr><td>E2R</td><td>Finish</td><td>4.442</td><td>82</td></tr><tr><td>E2R</td><td>Start</td><td>4.209</td><td>9</td></tr><tr><td>E3</td><td>CP1</td><td>2.678</td><td>212</td></tr><tr><td>E3</td><td>CP2</td><td>4.36</td><td>227</td></tr><tr><td>E3</td><td>CP3</td><td>5.136</td><td>274</td></tr><tr><td>E3</td><td>CP4</td><td>7.892</td><td>269</td></tr><tr><td>E3</td><td>CP5</td><td>4.918</td><td>205</td></tr><tr><td>E3</td><td>CP6</td><td>3.511</td><td>116</td></tr><tr><td>E3</td><td>CP7</td><td>2.193</td><td>150</td></tr><tr><td>E3</td><td>E1</td><td>2.445</td><td>242</td></tr><tr><td>E3</td><td>E10U</td><td>2.846</td><td>224</td></tr><tr><td>E3</td><td>E2R</td><td>5.592</td><td>368</td></tr><tr><td>E3</td><td>E4R</td><td>2.93</td><td>151</td></tr><tr><td>E3</td><td>E5</td><td>3.725</td><td>60</td></tr><tr><td>E3</td><td>E6</td><td>5.721</td><td>135</td></tr><tr><td>E3</td><td>E7U</td><td>7.171</td><td>291</td></tr><tr><td>E3</td><td>E8</td><td>7.413</td><td>104</td></tr><tr><td>E3</td><td>E9U</td><td>3.951</td><td>203</td></tr><tr><td>E3</td><td>Finish</td><td>1.14</td><td>105</td></tr><tr><td>E3</td><td>Start</td><td>4.669</td><td>211</td></tr><tr><td>E4R</td><td>CP1</td><td>1.315</td><td>65</td></tr><tr><td>E4R</td><td>CP2</td><td>2.203</td><td>108</td></tr><tr><td>E4R</td><td>CP3</td><td>2.425</td><td>136</td></tr><tr><td>E4R</td><td>CP4</td><td>5.875</td><td>223</td></tr><tr><td>E4R</td><td>CP5</td><td>2.332</td><td>125</td></tr><tr><td>E4R</td><td>CP6</td><td>0.925</td><td>37</td></tr><tr><td>E4R</td><td>CP7</td><td>1.005</td><td>43</td></tr><tr><td>E4R</td><td>E1</td><td>1.851</td><td>132</td></tr><tr><td>E4R</td><td>E10U</td><td>2.86</td><td>144</td></tr><tr><td>E4R</td><td>E2R</td><td>3.893</td><td>198</td></tr><tr><td>E4R</td><td>E3</td><td>2.93</td><td>43</td></tr><tr><td>E4R</td><td>E5</td><td>1.725</td><td>19</td></tr><tr><td>E4R</td><td>E6</td><td>3.801</td><td>115</td></tr><tr><td>E4R</td><td>E7U</td><td>4.585</td><td>211</td></tr><tr><td>E4R</td><td>E8</td><td>5.8</td><td>118</td></tr><tr><td>E4R</td><td>E9U</td><td>1.24</td><td>65</td></tr><tr><td>E4R</td><td>Finish</td><td>2.078</td><td>58</td></tr><tr><td>E4R</td><td>Start</td><td>2.083</td><td>132</td></tr><tr><td>E5</td><td>CP1</td><td>2.953</td><td>188</td></tr><tr><td>E5</td><td>CP2</td><td>3.254</td><td>200</td></tr><tr><td>E5</td><td>CP3</td><td>2.919</td><td>225</td></tr><tr><td>E5</td><td>CP4</td><td>4.357</td><td>215</td></tr><tr><td>E5</td><td>CP5</td><td>1.631</td><td>154</td></tr><tr><td>E5</td><td>CP6</td><td>0.938</td><td>61</td></tr><tr><td>E5</td><td>CP7</td><td>2.754</td><td>158</td></tr><tr><td>E5</td><td>E1</td><td>3.459</td><td>262</td></tr><tr><td>E5</td><td>E10U</td><td>4.468</td><td>274</td></tr><tr><td>E5</td><td>E2R</td><td>4.97</td><td>295</td></tr><tr><td>E5</td><td>E3</td><td>3.725</td><td>64</td></tr><tr><td>E5</td><td>E4R</td><td>1.725</td><td>131</td></tr><tr><td>E5</td><td>E6</td><td>2.186</td><td>78</td></tr><tr><td>E5</td><td>E7U</td><td>3.884</td><td>240</td></tr><tr><td>E5</td><td>E8</td><td>4.127</td><td>87</td></tr><tr><td>E5</td><td>E9U</td><td>2.179</td><td>157</td></tr><tr><td>E5</td><td>Finish</td><td>3.38</td><td>124</td></tr><tr><td>E5</td><td>Start</td><td>1.419</td><td>166</td></tr><tr><td>E6</td><td>CP1</td><td>4.912</td><td>224</td></tr><tr><td>E6</td><td>CP2</td><td>5.023</td><td>170</td></tr><tr><td>E6</td><td>CP3</td><td>4.236</td><td>191</td></tr><tr><td>E6</td><td>CP4</td><td>2.308</td><td>164</td></tr><tr><td>E6</td><td>CP5</td><td>1.829</td><td>122</td></tr><tr><td>E6</td><td>CP6</td><td>3.1</td><td>112</td></tr><tr><td>E6</td><td>CP7</td><td>4.824</td><td>195</td></tr><tr><td>E6</td><td>E1</td><td>5.541</td><td>294</td></tr><tr><td>E6</td><td>E10U</td><td>6.55</td><td>306</td></tr><tr><td>E6</td><td>E2R</td><td>6.739</td><td>265</td></tr><tr><td>E6</td><td>E3</td><td>5.721</td><td>100</td></tr><tr><td>E6</td><td>E4R</td><td>3.801</td><td>188</td></tr><tr><td>E6</td><td>E5</td><td>2.186</td><td>39</td></tr><tr><td>E6</td><td>E7U</td><td>2.334</td><td>195</td></tr><tr><td>E6</td><td>E8</td><td>2.045</td><td>9</td></tr><tr><td>E6</td><td>E9U</td><td>4.03</td><td>191</td></tr><tr><td>E6</td><td>Finish</td><td>5.45</td><td>161</td></tr><tr><td>E6</td><td>Start</td><td>2.562</td><td>136</td></tr><tr><td>E7U</td><td>CP1</td><td>5.696</td><td>135</td></tr><tr><td>E7U</td><td>CP2</td><td>4.871</td><td>67</td></tr><tr><td>E7U</td><td>CP3</td><td>3.647</td><td>61</td></tr><tr><td>E7U</td><td>CP4</td><td>1.492</td><td>3</td></tr><tr><td>E7U</td><td>CP5</td><td>2.697</td><td>23</td></tr><tr><td>E7U</td><td>CP6</td><td>3.884</td><td>23</td></tr><tr><td>E7U</td><td>CP7</td><td>5.652</td><td>118</td></tr><tr><td>E7U</td><td>E1</td><td>6.325</td><td>205</td></tr><tr><td>E7U</td><td>E10U</td><td>7.334</td><td>217</td></tr><tr><td>E7U</td><td>E2R</td><td>6.416</td><td>146</td></tr><tr><td>E7U</td><td>E3</td><td>7.171</td><td>71</td></tr><tr><td>E7U</td><td>E4R</td><td>4.585</td><td>99</td></tr><tr><td>E7U</td><td>E5</td><td>3.884</td><td>16</td></tr><tr><td>E7U</td><td>E6</td><td>2.334</td><td>10</td></tr><tr><td>E7U</td><td>E8</td><td>3.094</td><td>23</td></tr><tr><td>E7U</td><td>E9U</td><td>4.662</td><td>58</td></tr><tr><td>E7U</td><td>Finish</td><td>6.506</td><td>112</td></tr><tr><td>E7U</td><td>Start</td><td>2.915</td><td>39</td></tr><tr><td>E8</td><td>CP1</td><td>6.911</td><td>275</td></tr><tr><td>E8</td><td>CP2</td><td>7.022</td><td>221</td></tr><tr><td>E8</td><td>CP3</td><td>6.235</td><td>242</td></tr><tr><td>E8</td><td>CP4</td><td>1.828</td><td>186</td></tr><tr><td>E8</td><td>CP5</td><td>3.828</td><td>173</td></tr><tr><td>E8</td><td>CP6</td><td>4.997</td><td>161</td></tr><tr><td>E8</td><td>CP7</td><td>6.765</td><td>252</td></tr><tr><td>E8</td><td>E1</td><td>7.54</td><td>345</td></tr><tr><td>E8</td><td>E10U</td><td>8.549</td><td>357</td></tr><tr><td>E8</td><td>E2R</td><td>8.738</td><td>316</td></tr><tr><td>E8</td><td>E3</td><td>7.413</td><td>117</td></tr><tr><td>E8</td><td>E4R</td><td>5.8</td><td>239</td></tr><tr><td>E8</td><td>E5</td><td>4.127</td><td>96</td></tr><tr><td>E8</td><td>E6</td><td>2.045</td><td>57</td></tr><tr><td>E8</td><td>E7U</td><td>3.094</td><td>256</td></tr><tr><td>E8</td><td>E9U</td><td>6.029</td><td>242</td></tr><tr><td>E8</td><td>Finish</td><td>7.391</td><td>218</td></tr><tr><td>E8</td><td>Start</td><td>4.561</td><td>187</td></tr><tr><td>E9U</td><td>CP1</td><td>1.459</td><td>47</td></tr><tr><td>E9U</td><td>CP2</td><td>1.117</td><td>43</td></tr><tr><td>E9U</td><td>CP3</td><td>1.269</td><td>72</td></tr><tr><td>E9U</td><td>CP4</td><td>6.04</td><td>168</td></tr><tr><td>E9U</td><td>CP5</td><td>2.497</td><td>69</td></tr><tr><td>E9U</td><td>CP6</td><td>1.241</td><td>4</td></tr><tr><td>E9U</td><td>CP7</td><td>2.026</td><td>54</td></tr><tr><td>E9U</td><td>E1</td><td>1.89</td><td>112</td></tr><tr><td>E9U</td><td>E10U</td><td>3.037</td><td>125</td></tr><tr><td>E9U</td><td>E2R</td><td>2.833</td><td>138</td></tr><tr><td>E9U</td><td>E3</td><td>3.951</td><td>54</td></tr><tr><td>E9U</td><td>E4R</td><td>1.24</td><td>24</td></tr><tr><td>E9U</td><td>E5</td><td>2.179</td><td>4</td></tr><tr><td>E9U</td><td>E6</td><td>4.03</td><td>77</td></tr><tr><td>E9U</td><td>E7U</td><td>4.662</td><td>129</td></tr><tr><td>E9U</td><td>E8</td><td>6.029</td><td>80</td></tr><tr><td>E9U</td><td>Finish</td><td>2.942</td><td>47</td></tr><tr><td>E9U</td><td>Start</td><td>1.839</td><td>32</td></tr><tr><td>Finish</td><td>CP1</td><td>1.556</td><td>111</td></tr><tr><td>Finish</td><td>CP2</td><td>3.238</td><td>126</td></tr><tr><td>Finish</td><td>CP3</td><td>4.212</td><td>164</td></tr><tr><td>Finish</td><td>CP4</td><td>7.621</td><td>229</td></tr><tr><td>Finish</td><td>CP5</td><td>4.253</td><td>142</td></tr><tr><td>Finish</td><td>CP6</td><td>2.846</td><td>53</td></tr><tr><td>Finish</td><td>CP7</td><td>1.149</td><td>59</td></tr><tr><td>Finish</td><td>E1</td><td>1.323</td><td>141</td></tr><tr><td>Finish</td><td>E10U</td><td>1.713</td><td>120</td></tr><tr><td>Finish</td><td>E2R</td><td>4.442</td><td>264</td></tr><tr><td>Finish</td><td>E3</td><td>1.14</td><td>1</td></tr><tr><td>Finish</td><td>E4R</td><td>2.078</td><td>62</td></tr><tr><td>Finish</td><td>E5</td><td>3.38</td><td>16</td></tr><tr><td>Finish</td><td>E6</td><td>5.45</td><td>92</td></tr><tr><td>Finish</td><td>E7U</td><td>6.506</td><td>228</td></tr><tr><td>Finish</td><td>E8</td><td>7.391</td><td>101</td></tr><tr><td>Finish</td><td>E9U</td><td>2.942</td><td>92</td></tr><tr><td>Finish</td><td>Start</td><td>4.004</td><td>148</td></tr><tr><td>Start</td><td>CP1</td><td>3.194</td><td>116</td></tr><tr><td>Start</td><td>CP2</td><td>2.493</td><td>40</td></tr><tr><td>Start</td><td>CP3</td><td>1.706</td><td>60</td></tr><tr><td>Start</td><td>CP4</td><td>4.353</td><td>118</td></tr><tr><td>Start</td><td>CP5</td><td>0.81</td><td>19</td></tr><tr><td>Start</td><td>CP6</td><td>1.382</td><td>4</td></tr><tr><td>Start</td><td>CP7</td><td>3.15</td><td>99</td></tr><tr><td>Start</td><td>E1</td><td>3.73</td><td>132</td></tr><tr><td>Start</td><td>E10U</td><td>4.832</td><td>198</td></tr><tr><td>Start</td><td>E2R</td><td>4.209</td><td>135</td></tr><tr><td>Start</td><td>E3</td><td>4.669</td><td>51</td></tr><tr><td>Start</td><td>E4R</td><td>2.083</td><td>80</td></tr><tr><td>Start</td><td>E5</td><td>1.419</td><td>2</td></tr><tr><td>Start</td><td>E6</td><td>2.562</td><td>11</td></tr><tr><td>Start</td><td>E7U</td><td>2.915</td><td>99</td></tr><tr><td>Start</td><td>E8</td><td>4.561</td><td>14</td></tr><tr><td>Start</td><td>E9U</td><td>1.839</td><td>21</td></tr><tr><td>Start</td><td>Finish</td><td>4.004</td><td>92</td></tr></tbody></table></div>"
      ]
     },
     "metadata": {
      "application/vnd.databricks.v1+output": {
       "addedWidgets": {},
       "aggData": [],
       "aggError": "",
       "aggOverflow": false,
       "aggSchema": [],
       "aggSeriesLimitReached": false,
       "aggType": "",
       "arguments": {},
       "columnCustomDisplayInfos": {},
       "data": [
        [
         "CP1",
         "CP2",
         1.755,
         59
        ],
        [
         "CP1",
         "CP3",
         2.729,
         97
        ],
        [
         "CP1",
         "CP4",
         6.986,
         197
        ],
        [
         "CP1",
         "CP5",
         3.443,
         98
        ],
        [
         "CP1",
         "CP6",
         2.036,
         9
        ],
        [
         "CP1",
         "CP7",
         0.765,
         4
        ],
        [
         "CP1",
         "E1",
         0.747,
         69
        ],
        [
         "CP1",
         "E10U",
         1.894,
         83
        ],
        [
         "CP1",
         "E2R",
         3.42,
         133
        ],
        [
         "CP1",
         "E3",
         2.678,
         41
        ],
        [
         "CP1",
         "E4R",
         1.315,
         2
        ],
        [
         "CP1",
         "E5",
         2.923,
         19
        ],
        [
         "CP1",
         "E6",
         4.912,
         88
        ],
        [
         "CP1",
         "E7U",
         5.696,
         184
        ],
        [
         "CP1",
         "E8",
         6.911,
         91
        ],
        [
         "CP1",
         "E9U",
         1.459,
         25
        ],
        [
         "CP1",
         "Finish",
         1.556,
         44
        ],
        [
         "CP1",
         "Start",
         3.194,
         105
        ],
        [
         "CP2",
         "CP1",
         1.755,
         39
        ],
        [
         "CP2",
         "CP3",
         1.319,
         39
        ],
        [
         "CP2",
         "CP4",
         6.364,
         99
        ],
        [
         "CP2",
         "CP5",
         3.251,
         20
        ],
        [
         "CP2",
         "CP6",
         2.316,
         5
        ],
        [
         "CP2",
         "CP7",
         2.308,
         36
        ],
        [
         "CP2",
         "E1",
         2.186,
         103
        ],
        [
         "CP2",
         "E10U",
         2.545,
         90
        ],
        [
         "CP2",
         "E2R",
         1.715,
         95
        ],
        [
         "CP2",
         "E3",
         4.36,
         36
        ],
        [
         "CP2",
         "E4R",
         2.203,
         25
        ],
        [
         "CP2",
         "E5",
         3.254,
         5
        ],
        [
         "CP2",
         "E6",
         5.023,
         14
        ],
        [
         "CP2",
         "E7U",
         4.871,
         96
        ],
        [
         "CP2",
         "E8",
         7.022,
         17
        ],
        [
         "CP2",
         "E9U",
         1.117,
         1
        ],
        [
         "CP2",
         "Finish",
         3.238,
         39
        ],
        [
         "CP2",
         "Start",
         2.493,
         9
        ],
        [
         "CP3",
         "CP1",
         2.729,
         48
        ],
        [
         "CP3",
         "CP2",
         1.319,
         10
        ],
        [
         "CP3",
         "CP4",
         5.14,
         64
        ],
        [
         "CP3",
         "CP5",
         2.464,
         11
        ],
        [
         "CP3",
         "CP6",
         1.981,
         1
        ],
        [
         "CP3",
         "CP7",
         3.211,
         54
        ],
        [
         "CP3",
         "E1",
         3.16,
         113
        ],
        [
         "CP3",
         "E10U",
         3.831,
         94
        ],
        [
         "CP3",
         "E2R",
         2.872,
         89
        ],
        [
         "CP3",
         "E3",
         5.136,
         54
        ],
        [
         "CP3",
         "E4R",
         2.425,
         24
        ],
        [
         "CP3",
         "E5",
         2.919,
         1
        ],
        [
         "CP3",
         "E6",
         4.236,
         6
        ],
        [
         "CP3",
         "E7U",
         3.647,
         61
        ],
        [
         "CP3",
         "E8",
         6.235,
         9
        ],
        [
         "CP3",
         "E9U",
         1.269,
         1
        ],
        [
         "CP3",
         "Finish",
         4.212,
         48
        ],
        [
         "CP3",
         "Start",
         1.706,
         0
        ],
        [
         "CP4",
         "CP1",
         6.986,
         197
        ],
        [
         "CP4",
         "CP2",
         6.364,
         119
        ],
        [
         "CP4",
         "CP3",
         5.14,
         113
        ],
        [
         "CP4",
         "CP5",
         3.542,
         64
        ],
        [
         "CP4",
         "CP6",
         5.174,
         85
        ],
        [
         "CP4",
         "CP7",
         6.942,
         180
        ],
        [
         "CP4",
         "E1",
         7.615,
         267
        ],
        [
         "CP4",
         "E10U",
         8.624,
         279
        ],
        [
         "CP4",
         "E2R",
         7.909,
         198
        ],
        [
         "CP4",
         "E3",
         7.892,
         98
        ],
        [
         "CP4",
         "E4R",
         5.875,
         160
        ],
        [
         "CP4",
         "E5",
         4.357,
         40
        ],
        [
         "CP4",
         "E6",
         2.308,
         28
        ],
        [
         "CP4",
         "E7U",
         1.492,
         52
        ],
        [
         "CP4",
         "E8",
         1.828,
         2
        ],
        [
         "CP4",
         "E9U",
         6.04,
         146
        ],
        [
         "CP4",
         "Finish",
         7.621,
         162
        ],
        [
         "CP4",
         "Start",
         4.353,
         107
        ],
        [
         "CP5",
         "CP1",
         3.443,
         132
        ],
        [
         "CP5",
         "CP2",
         3.251,
         74
        ],
        [
         "CP5",
         "CP3",
         2.464,
         94
        ],
        [
         "CP5",
         "CP4",
         3.542,
         98
        ],
        [
         "CP5",
         "CP6",
         1.631,
         20
        ],
        [
         "CP5",
         "CP7",
         3.399,
         115
        ],
        [
         "CP5",
         "E1",
         4.072,
         202
        ],
        [
         "CP5",
         "E10U",
         5.081,
         214
        ],
        [
         "CP5",
         "E2R",
         4.967,
         169
        ],
        [
         "CP5",
         "E3",
         4.918,
         68
        ],
        [
         "CP5",
         "E4R",
         2.332,
         96
        ],
        [
         "CP5",
         "E5",
         1.631,
         13
        ],
        [
         "CP5",
         "E6",
         1.829,
         20
        ],
        [
         "CP5",
         "E7U",
         2.697,
         106
        ],
        [
         "CP5",
         "E8",
         3.828,
         23
        ],
        [
         "CP5",
         "E9U",
         2.497,
         81
        ],
        [
         "CP5",
         "Finish",
         4.253,
         109
        ],
        [
         "CP5",
         "Start",
         0.81,
         42
        ],
        [
         "CP6",
         "CP1",
         2.036,
         123
        ],
        [
         "CP6",
         "CP2",
         2.316,
         139
        ],
        [
         "CP6",
         "CP3",
         1.981,
         164
        ],
        [
         "CP6",
         "CP4",
         5.174,
         199
        ],
        [
         "CP6",
         "CP5",
         1.631,
         100
        ],
        [
         "CP6",
         "CP7",
         1.992,
         106
        ],
        [
         "CP6",
         "E1",
         2.665,
         193
        ],
        [
         "CP6",
         "E10U",
         3.674,
         205
        ],
        [
         "CP6",
         "E2R",
         4.032,
         234
        ],
        [
         "CP6",
         "E3",
         3.511,
         59
        ],
        [
         "CP6",
         "E4R",
         0.925,
         88
        ],
        [
         "CP6",
         "E5",
         0.938,
         0
        ],
        [
         "CP6",
         "E6",
         3.1,
         90
        ],
        [
         "CP6",
         "E7U",
         3.884,
         186
        ],
        [
         "CP6",
         "E8",
         4.997,
         91
        ],
        [
         "CP6",
         "E9U",
         1.241,
         96
        ],
        [
         "CP6",
         "Finish",
         2.846,
         100
        ],
        [
         "CP6",
         "Start",
         1.382,
         107
        ],
        [
         "CP7",
         "CP1",
         0.765,
         33
        ],
        [
         "CP7",
         "CP2",
         2.308,
         85
        ],
        [
         "CP7",
         "CP3",
         3.211,
         132
        ],
        [
         "CP7",
         "CP4",
         6.881,
         233
        ],
        [
         "CP7",
         "CP5",
         3.338,
         134
        ],
        [
         "CP7",
         "CP6",
         1.931,
         46
        ],
        [
         "CP7",
         "E1",
         1.045,
         95
        ],
        [
         "CP7",
         "E10U",
         1.937,
         97
        ],
        [
         "CP7",
         "E2R",
         3.933,
         178
        ],
        [
         "CP7",
         "E3",
         2.193,
         8
        ],
        [
         "CP7",
         "E4R",
         1.005,
         9
        ],
        [
         "CP7",
         "E5",
         2.731,
         26
        ],
        [
         "CP7",
         "E6",
         4.807,
         125
        ],
        [
         "CP7",
         "E7U",
         5.591,
         220
        ],
        [
         "CP7",
         "E8",
         6.806,
         127
        ],
        [
         "CP7",
         "E9U",
         2.026,
         61
        ],
        [
         "CP7",
         "Finish",
         1.149,
         21
        ],
        [
         "CP7",
         "Start",
         3.089,
         141
        ],
        [
         "E1",
         "CP1",
         0.747,
         3
        ],
        [
         "E1",
         "CP2",
         2.186,
         57
        ],
        [
         "E1",
         "CP3",
         3.16,
         96
        ],
        [
         "E1",
         "CP4",
         7.615,
         201
        ],
        [
         "E1",
         "CP5",
         4.072,
         102
        ],
        [
         "E1",
         "CP6",
         2.665,
         13
        ],
        [
         "E1",
         "CP7",
         1.045,
         0
        ],
        [
         "E1",
         "E10U",
         1.147,
         14
        ],
        [
         "E1",
         "E2R",
         3.371,
         133
        ],
        [
         "E1",
         "E3",
         2.445,
         5
        ],
        [
         "E1",
         "E4R",
         1.851,
         3
        ],
        [
         "E1",
         "E5",
         3.459,
         21
        ],
        [
         "E1",
         "E6",
         5.541,
         92
        ],
        [
         "E1",
         "E7U",
         6.325,
         188
        ],
        [
         "E1",
         "E8",
         7.54,
         95
        ],
        [
         "E1",
         "E9U",
         1.89,
         24
        ],
        [
         "E1",
         "Finish",
         1.323,
         8
        ],
        [
         "E1",
         "Start",
         3.73,
         55
        ],
        [
         "E10U",
         "CP1",
         1.894,
         35
        ],
        [
         "E10U",
         "CP2",
         2.545,
         62
        ],
        [
         "E10U",
         "CP3",
         3.831,
         95
        ],
        [
         "E10U",
         "CP4",
         8.624,
         231
        ],
        [
         "E10U",
         "CP5",
         5.081,
         132
        ],
        [
         "E10U",
         "CP6",
         3.674,
         43
        ],
        [
         "E10U",
         "CP7",
         1.937,
         20
        ],
        [
         "E10U",
         "E1",
         1.147,
         32
        ],
        [
         "E10U",
         "E2R",
         2.845,
         132
        ],
        [
         "E10U",
         "E3",
         2.831,
         6
        ],
        [
         "E10U",
         "E4R",
         2.86,
         33
        ],
        [
         "E10U",
         "E5",
         4.468,
         51
        ],
        [
         "E10U",
         "E6",
         6.55,
         122
        ],
        [
         "E10U",
         "E7U",
         7.334,
         218
        ],
        [
         "E10U",
         "E8",
         8.549,
         125
        ],
        [
         "E10U",
         "E9U",
         3.037,
         55
        ],
        [
         "E10U",
         "Finish",
         1.713,
         5
        ],
        [
         "E10U",
         "Start",
         4.832,
         139
        ],
        [
         "E2R",
         "CP1",
         3.42,
         18
        ],
        [
         "E2R",
         "CP2",
         1.715,
         0
        ],
        [
         "E2R",
         "CP3",
         2.872,
         23
        ],
        [
         "E2R",
         "CP4",
         7.909,
         83
        ],
        [
         "E2R",
         "CP5",
         4.967,
         20
        ],
        [
         "E2R",
         "CP6",
         4.032,
         5
        ],
        [
         "E2R",
         "CP7",
         3.933,
         34
        ],
        [
         "E2R",
         "E1",
         3.371,
         84
        ],
        [
         "E2R",
         "E10U",
         2.845,
         65
        ],
        [
         "E2R",
         "E3",
         5.56,
         83
        ],
        [
         "E2R",
         "E4R",
         3.893,
         20
        ],
        [
         "E2R",
         "E5",
         4.97,
         5
        ],
        [
         "E2R",
         "E6",
         6.739,
         14
        ],
        [
         "E2R",
         "E7U",
         6.416,
         80
        ],
        [
         "E2R",
         "E8",
         8.738,
         17
        ],
        [
         "E2R",
         "E9U",
         2.833,
         1
        ],
        [
         "E2R",
         "Finish",
         4.442,
         82
        ],
        [
         "E2R",
         "Start",
         4.209,
         9
        ],
        [
         "E3",
         "CP1",
         2.678,
         212
        ],
        [
         "E3",
         "CP2",
         4.36,
         227
        ],
        [
         "E3",
         "CP3",
         5.136,
         274
        ],
        [
         "E3",
         "CP4",
         7.892,
         269
        ],
        [
         "E3",
         "CP5",
         4.918,
         205
        ],
        [
         "E3",
         "CP6",
         3.511,
         116
        ],
        [
         "E3",
         "CP7",
         2.193,
         150
        ],
        [
         "E3",
         "E1",
         2.445,
         242
        ],
        [
         "E3",
         "E10U",
         2.846,
         224
        ],
        [
         "E3",
         "E2R",
         5.592,
         368
        ],
        [
         "E3",
         "E4R",
         2.93,
         151
        ],
        [
         "E3",
         "E5",
         3.725,
         60
        ],
        [
         "E3",
         "E6",
         5.721,
         135
        ],
        [
         "E3",
         "E7U",
         7.171,
         291
        ],
        [
         "E3",
         "E8",
         7.413,
         104
        ],
        [
         "E3",
         "E9U",
         3.951,
         203
        ],
        [
         "E3",
         "Finish",
         1.14,
         105
        ],
        [
         "E3",
         "Start",
         4.669,
         211
        ],
        [
         "E4R",
         "CP1",
         1.315,
         65
        ],
        [
         "E4R",
         "CP2",
         2.203,
         108
        ],
        [
         "E4R",
         "CP3",
         2.425,
         136
        ],
        [
         "E4R",
         "CP4",
         5.875,
         223
        ],
        [
         "E4R",
         "CP5",
         2.332,
         125
        ],
        [
         "E4R",
         "CP6",
         0.925,
         37
        ],
        [
         "E4R",
         "CP7",
         1.005,
         43
        ],
        [
         "E4R",
         "E1",
         1.851,
         132
        ],
        [
         "E4R",
         "E10U",
         2.86,
         144
        ],
        [
         "E4R",
         "E2R",
         3.893,
         198
        ],
        [
         "E4R",
         "E3",
         2.93,
         43
        ],
        [
         "E4R",
         "E5",
         1.725,
         19
        ],
        [
         "E4R",
         "E6",
         3.801,
         115
        ],
        [
         "E4R",
         "E7U",
         4.585,
         211
        ],
        [
         "E4R",
         "E8",
         5.8,
         118
        ],
        [
         "E4R",
         "E9U",
         1.24,
         65
        ],
        [
         "E4R",
         "Finish",
         2.078,
         58
        ],
        [
         "E4R",
         "Start",
         2.083,
         132
        ],
        [
         "E5",
         "CP1",
         2.953,
         188
        ],
        [
         "E5",
         "CP2",
         3.254,
         200
        ],
        [
         "E5",
         "CP3",
         2.919,
         225
        ],
        [
         "E5",
         "CP4",
         4.357,
         215
        ],
        [
         "E5",
         "CP5",
         1.631,
         154
        ],
        [
         "E5",
         "CP6",
         0.938,
         61
        ],
        [
         "E5",
         "CP7",
         2.754,
         158
        ],
        [
         "E5",
         "E1",
         3.459,
         262
        ],
        [
         "E5",
         "E10U",
         4.468,
         274
        ],
        [
         "E5",
         "E2R",
         4.97,
         295
        ],
        [
         "E5",
         "E3",
         3.725,
         64
        ],
        [
         "E5",
         "E4R",
         1.725,
         131
        ],
        [
         "E5",
         "E6",
         2.186,
         78
        ],
        [
         "E5",
         "E7U",
         3.884,
         240
        ],
        [
         "E5",
         "E8",
         4.127,
         87
        ],
        [
         "E5",
         "E9U",
         2.179,
         157
        ],
        [
         "E5",
         "Finish",
         3.38,
         124
        ],
        [
         "E5",
         "Start",
         1.419,
         166
        ],
        [
         "E6",
         "CP1",
         4.912,
         224
        ],
        [
         "E6",
         "CP2",
         5.023,
         170
        ],
        [
         "E6",
         "CP3",
         4.236,
         191
        ],
        [
         "E6",
         "CP4",
         2.308,
         164
        ],
        [
         "E6",
         "CP5",
         1.829,
         122
        ],
        [
         "E6",
         "CP6",
         3.1,
         112
        ],
        [
         "E6",
         "CP7",
         4.824,
         195
        ],
        [
         "E6",
         "E1",
         5.541,
         294
        ],
        [
         "E6",
         "E10U",
         6.55,
         306
        ],
        [
         "E6",
         "E2R",
         6.739,
         265
        ],
        [
         "E6",
         "E3",
         5.721,
         100
        ],
        [
         "E6",
         "E4R",
         3.801,
         188
        ],
        [
         "E6",
         "E5",
         2.186,
         39
        ],
        [
         "E6",
         "E7U",
         2.334,
         195
        ],
        [
         "E6",
         "E8",
         2.045,
         9
        ],
        [
         "E6",
         "E9U",
         4.03,
         191
        ],
        [
         "E6",
         "Finish",
         5.45,
         161
        ],
        [
         "E6",
         "Start",
         2.562,
         136
        ],
        [
         "E7U",
         "CP1",
         5.696,
         135
        ],
        [
         "E7U",
         "CP2",
         4.871,
         67
        ],
        [
         "E7U",
         "CP3",
         3.647,
         61
        ],
        [
         "E7U",
         "CP4",
         1.492,
         3
        ],
        [
         "E7U",
         "CP5",
         2.697,
         23
        ],
        [
         "E7U",
         "CP6",
         3.884,
         23
        ],
        [
         "E7U",
         "CP7",
         5.652,
         118
        ],
        [
         "E7U",
         "E1",
         6.325,
         205
        ],
        [
         "E7U",
         "E10U",
         7.334,
         217
        ],
        [
         "E7U",
         "E2R",
         6.416,
         146
        ],
        [
         "E7U",
         "E3",
         7.171,
         71
        ],
        [
         "E7U",
         "E4R",
         4.585,
         99
        ],
        [
         "E7U",
         "E5",
         3.884,
         16
        ],
        [
         "E7U",
         "E6",
         2.334,
         10
        ],
        [
         "E7U",
         "E8",
         3.094,
         23
        ],
        [
         "E7U",
         "E9U",
         4.662,
         58
        ],
        [
         "E7U",
         "Finish",
         6.506,
         112
        ],
        [
         "E7U",
         "Start",
         2.915,
         39
        ],
        [
         "E8",
         "CP1",
         6.911,
         275
        ],
        [
         "E8",
         "CP2",
         7.022,
         221
        ],
        [
         "E8",
         "CP3",
         6.235,
         242
        ],
        [
         "E8",
         "CP4",
         1.828,
         186
        ],
        [
         "E8",
         "CP5",
         3.828,
         173
        ],
        [
         "E8",
         "CP6",
         4.997,
         161
        ],
        [
         "E8",
         "CP7",
         6.765,
         252
        ],
        [
         "E8",
         "E1",
         7.54,
         345
        ],
        [
         "E8",
         "E10U",
         8.549,
         357
        ],
        [
         "E8",
         "E2R",
         8.738,
         316
        ],
        [
         "E8",
         "E3",
         7.413,
         117
        ],
        [
         "E8",
         "E4R",
         5.8,
         239
        ],
        [
         "E8",
         "E5",
         4.127,
         96
        ],
        [
         "E8",
         "E6",
         2.045,
         57
        ],
        [
         "E8",
         "E7U",
         3.094,
         256
        ],
        [
         "E8",
         "E9U",
         6.029,
         242
        ],
        [
         "E8",
         "Finish",
         7.391,
         218
        ],
        [
         "E8",
         "Start",
         4.561,
         187
        ],
        [
         "E9U",
         "CP1",
         1.459,
         47
        ],
        [
         "E9U",
         "CP2",
         1.117,
         43
        ],
        [
         "E9U",
         "CP3",
         1.269,
         72
        ],
        [
         "E9U",
         "CP4",
         6.04,
         168
        ],
        [
         "E9U",
         "CP5",
         2.497,
         69
        ],
        [
         "E9U",
         "CP6",
         1.241,
         4
        ],
        [
         "E9U",
         "CP7",
         2.026,
         54
        ],
        [
         "E9U",
         "E1",
         1.89,
         112
        ],
        [
         "E9U",
         "E10U",
         3.037,
         125
        ],
        [
         "E9U",
         "E2R",
         2.833,
         138
        ],
        [
         "E9U",
         "E3",
         3.951,
         54
        ],
        [
         "E9U",
         "E4R",
         1.24,
         24
        ],
        [
         "E9U",
         "E5",
         2.179,
         4
        ],
        [
         "E9U",
         "E6",
         4.03,
         77
        ],
        [
         "E9U",
         "E7U",
         4.662,
         129
        ],
        [
         "E9U",
         "E8",
         6.029,
         80
        ],
        [
         "E9U",
         "Finish",
         2.942,
         47
        ],
        [
         "E9U",
         "Start",
         1.839,
         32
        ],
        [
         "Finish",
         "CP1",
         1.556,
         111
        ],
        [
         "Finish",
         "CP2",
         3.238,
         126
        ],
        [
         "Finish",
         "CP3",
         4.212,
         164
        ],
        [
         "Finish",
         "CP4",
         7.621,
         229
        ],
        [
         "Finish",
         "CP5",
         4.253,
         142
        ],
        [
         "Finish",
         "CP6",
         2.846,
         53
        ],
        [
         "Finish",
         "CP7",
         1.149,
         59
        ],
        [
         "Finish",
         "E1",
         1.323,
         141
        ],
        [
         "Finish",
         "E10U",
         1.713,
         120
        ],
        [
         "Finish",
         "E2R",
         4.442,
         264
        ],
        [
         "Finish",
         "E3",
         1.14,
         1
        ],
        [
         "Finish",
         "E4R",
         2.078,
         62
        ],
        [
         "Finish",
         "E5",
         3.38,
         16
        ],
        [
         "Finish",
         "E6",
         5.45,
         92
        ],
        [
         "Finish",
         "E7U",
         6.506,
         228
        ],
        [
         "Finish",
         "E8",
         7.391,
         101
        ],
        [
         "Finish",
         "E9U",
         2.942,
         92
        ],
        [
         "Finish",
         "Start",
         4.004,
         148
        ],
        [
         "Start",
         "CP1",
         3.194,
         116
        ],
        [
         "Start",
         "CP2",
         2.493,
         40
        ],
        [
         "Start",
         "CP3",
         1.706,
         60
        ],
        [
         "Start",
         "CP4",
         4.353,
         118
        ],
        [
         "Start",
         "CP5",
         0.81,
         19
        ],
        [
         "Start",
         "CP6",
         1.382,
         4
        ],
        [
         "Start",
         "CP7",
         3.15,
         99
        ],
        [
         "Start",
         "E1",
         3.73,
         132
        ],
        [
         "Start",
         "E10U",
         4.832,
         198
        ],
        [
         "Start",
         "E2R",
         4.209,
         135
        ],
        [
         "Start",
         "E3",
         4.669,
         51
        ],
        [
         "Start",
         "E4R",
         2.083,
         80
        ],
        [
         "Start",
         "E5",
         1.419,
         2
        ],
        [
         "Start",
         "E6",
         2.562,
         11
        ],
        [
         "Start",
         "E7U",
         2.915,
         99
        ],
        [
         "Start",
         "E8",
         4.561,
         14
        ],
        [
         "Start",
         "E9U",
         1.839,
         21
        ],
        [
         "Start",
         "Finish",
         4.004,
         92
        ]
       ],
       "datasetInfos": [],
       "dbfsResultPath": null,
       "isJsonSchema": true,
       "metadata": {},
       "overflow": false,
       "plotOptions": {
        "customPlotOptions": {},
        "displayType": "table",
        "pivotAggregation": null,
        "pivotColumns": null,
        "xColumns": null,
        "yColumns": null
       },
       "removedWidgets": [],
       "schema": [
        {
         "metadata": "{}",
         "name": "StartCP",
         "type": "\"string\""
        },
        {
         "metadata": "{}",
         "name": "FinishCP",
         "type": "\"string\""
        },
        {
         "metadata": "{}",
         "name": "Distance",
         "type": "\"float\""
        },
        {
         "metadata": "{}",
         "name": "Height_Gain",
         "type": "\"integer\""
        }
       ],
       "type": "table"
      }
     },
     "output_type": "display_data"
    }
   ],
   "source": [
    "%python\n",
    "if API_Service == \"Bing Maps\":\n",
    "\n",
    "    CP_Combinations_List = CP_Combinations_DF.collect()\n",
    "\n",
    "    Distances_DF = spark.createDataFrame(\n",
    "        [(1, 1.0, 1.0, 1)],\n",
    "        schema='StartCP string, FinishCP string, Distance float, Height_Gain int'\n",
    "    )\n",
    "    Distances_DF = Distances_DF.filter(\"1!=1\")\n",
    "\n",
    "    for row in CP_Combinations_List:\n",
    "        wp1 = str(row.StartLatitude) + ',' + str(row.StartLongitude)\n",
    "        wp2 = str(row.FinishLatitude) + ',' + str(row.FinishLongitude)\n",
    "\n",
    "        route_url = \"http://dev.virtualearth.net/REST/v1/Routes/walking\"\n",
    "        route_params = {\n",
    "            \"wayPoint.1\": wp1,\n",
    "            \"waypoint.2\": wp2,\n",
    "            \"optimize\": \"distance\",\n",
    "            \"avoid\": \"ferry\",\n",
    "            \"routeAttributes\": \"routePath,excludeItinerary\",\n",
    "            \"distanceUnit\": \"km\",\n",
    "            \"key\": BingMapsAPIKey\n",
    "        }\n",
    "        route_resp = requests.get(route_url, params=route_params)\n",
    "        route_json_resp = json.loads(route_resp.text)\n",
    "        travel_distance = float(route_json_resp['resourceSets'][0]['resources'][0]['travelDistance'])\n",
    "        StartCP = row[\"StartCP\"]\n",
    "        FinishCP = row[\"FinishCP\"]\n",
    "\n",
    "        height_points = route_json_resp['resourceSets'][0]['resources'][0]['routePath']['line']['coordinates']\n",
    "        flattened_height_points = \",\".join([f\"{lat},{lon}\" for lat, lon in height_points])  # Fix formatting\n",
    "\n",
    "        elevations_url = \"http://dev.virtualearth.net/REST/v1/Elevation/List\"\n",
    "        elevations_params = {\n",
    "            \"points\": flattened_height_points,\n",
    "            \"heights\": \"ellipsoid\",\n",
    "            \"key\": BingMapsAPIKey\n",
    "        }\n",
    "        elevations_resp = requests.get(elevations_url, params=elevations_params)\n",
    "        elevations_json_resp = json.loads(elevations_resp.text)\n",
    "        elevations = elevations_json_resp['resourceSets'][0]['resources'][0]['elevations']\n",
    "        differences = [builtins.max(0, elevations[i+1] - elevations[i]) for i in range(len(elevations)-1)]\n",
    "        height_gain = sum(differences)\n",
    "\n",
    "        df = spark.createDataFrame(\n",
    "            [(StartCP, FinishCP, travel_distance, height_gain)],\n",
    "            'StartCP string, FinishCP string, Distance float, Height_Gain int'\n",
    "        )\n",
    "        Distances_DF = Distances_DF.union(df)\n",
    "\n",
    "    display(Distances_DF)\n",
    "\n",
    "else:\n",
    "    print(f\"Skipping BingMaps Cell, selected service: {API_Service}\")"
   ]
  },
  {
   "cell_type": "markdown",
   "metadata": {
    "application/vnd.databricks.v1+cell": {
     "cellMetadata": {
      "byteLimit": 2048000,
      "rowLimit": 10000
     },
     "inputWidgets": {},
     "nuid": "8b04d483-5e90-491b-8e64-a2388295b727",
     "showTitle": false,
     "tableResultSettingsMap": {},
     "title": ""
    }
   },
   "source": [
    "### Fetch Distances & Elevations from Azure Maps & OpenTopoData"
   ]
  },
  {
   "cell_type": "code",
   "execution_count": 0,
   "metadata": {
    "application/vnd.databricks.v1+cell": {
     "cellMetadata": {
      "byteLimit": 2048000,
      "rowLimit": 10000
     },
     "inputWidgets": {},
     "nuid": "67bb3a3a-191e-49b1-9de7-d6038c2fbed5",
     "showTitle": false,
     "tableResultSettingsMap": {},
     "title": ""
    }
   },
   "outputs": [
    {
     "output_type": "stream",
     "name": "stdout",
     "output_type": "stream",
     "text": [
      "Skipping Azure Maps Cell, selected service: Bing Maps\n"
     ]
    }
   ],
   "source": [
    "# Takes ~17 minutes due to OpenTopoData API limits 1 per second\n",
    "if API_Service == \"Azure Maps & OpenTopoData\":\n",
    "\n",
    "    CP_Combinations_List = CP_Combinations_DF.collect()\n",
    "\n",
    "    Distances_DF = spark.createDataFrame(\n",
    "        [(1, 1.0, 1.0, 1)],\n",
    "        schema='StartCP string, FinishCP string, Distance float, Height_Gain int'\n",
    "    )\n",
    "    Distances_DF = Distances_DF.filter(\"1!=1\")\n",
    "\n",
    "    MAX_LOCATIONS = 100  # OpenTopoData API limit\n",
    "\n",
    "    for row in CP_Combinations_List:\n",
    "        wp1 = f\"{row.StartLatitude},{row.StartLongitude}\"\n",
    "        wp2 = f\"{row.FinishLatitude},{row.FinishLongitude}\"\n",
    "\n",
    "        # Azure Maps Routing API\n",
    "        route_url = \"https://atlas.microsoft.com/route/directions/json\"\n",
    "        route_params = {\n",
    "            \"subscription-key\": AzureMapsAPIKey,\n",
    "            \"api-version\": \"1.0\",\n",
    "            \"query\": f\"{wp1}:{wp2}\",\n",
    "            \"travelMode\": \"pedestrian\",\n",
    "            \"routeType\": \"shortest\",\n",
    "            \"traffic\": \"false\",\n",
    "            \"computeBestOrder\": \"false\",\n",
    "            \"computeTravelTimeFor\": \"all\",\n",
    "        }\n",
    "        route_resp = requests.get(route_url, params=route_params)\n",
    "        route_json_resp = json.loads(route_resp.text)\n",
    "\n",
    "        travel_distance = float(route_json_resp['routes'][0]['summary']['lengthInMeters']) / 1000  # Convert meters to km\n",
    "        StartCP = row[\"StartCP\"]\n",
    "        FinishCP = row[\"FinishCP\"]\n",
    "\n",
    "        # Extract route coordinates\n",
    "        height_points = route_json_resp['routes'][0]['legs'][0]['points']\n",
    "        coordinates = [f\"{pt['latitude']},{pt['longitude']}\" for pt in height_points]\n",
    "\n",
    "        # Batch coordinates into chunks of 100\n",
    "        elevation_results = []\n",
    "        for i in range(0, len(coordinates), MAX_LOCATIONS):\n",
    "            chunk = \"|\".join(coordinates[i:i + MAX_LOCATIONS])  # Format chunk\n",
    "\n",
    "            # OpenTopoData API call\n",
    "            opentopo_url = \"https://api.opentopodata.org/v1/eudem25m\"  # Example dataset\n",
    "            opentopo_params = {\"locations\": chunk}\n",
    "            elevations_resp = requests.get(opentopo_url, params=opentopo_params)\n",
    "            elevations_json_resp = json.loads(elevations_resp.text)\n",
    "\n",
    "            # Extract elevations\n",
    "            if 'results' in elevations_json_resp:\n",
    "                elevation_results.extend([result['elevation'] for result in elevations_json_resp['results']])\n",
    "\n",
    "            time.sleep(1)\n",
    "\n",
    "        # Calculate height gain\n",
    "        differences = [max(0, elevation_results[i+1] - elevation_results[i]) for i in range(len(elevation_results)-1)]\n",
    "        height_gain = float(sum(differences))\n",
    "\n",
    "        df = spark.createDataFrame(\n",
    "            [(StartCP, FinishCP, travel_distance, height_gain)],\n",
    "            'StartCP string, FinishCP string, Distance float, Height_Gain float'\n",
    "        )\n",
    "        Distances_DF = Distances_DF.union(df)\n",
    "\n",
    "    display(Distances_DF)\n",
    "\n",
    "else:\n",
    "    print(f\"Skipping Azure Maps Cell, selected service: {API_Service}\")\n"
   ]
  },
  {
   "cell_type": "markdown",
   "metadata": {
    "application/vnd.databricks.v1+cell": {
     "cellMetadata": {
      "byteLimit": 2048000,
      "rowLimit": 10000
     },
     "inputWidgets": {},
     "nuid": "eaf113fa-2ca9-45fb-bda2-0d6785c2bdcd",
     "showTitle": false,
     "tableResultSettingsMap": {},
     "title": ""
    },
    "id": "hep6o1SxH3q3"
   },
   "source": [
    "### Save Distances_DF as csv in memory"
   ]
  },
  {
   "cell_type": "code",
   "execution_count": 0,
   "metadata": {
    "application/vnd.databricks.v1+cell": {
     "cellMetadata": {
      "byteLimit": 2048000,
      "rowLimit": 10000
     },
     "inputWidgets": {},
     "nuid": "0892570f-6d04-4ab3-a298-0c96ca30a84a",
     "showTitle": false,
     "tableResultSettingsMap": {},
     "title": ""
    },
    "id": "3aSO3PBKH1K4"
   },
   "outputs": [],
   "source": [
    "# 🔹 Save image to an in-memory buffer\n",
    "buf = BytesIO()\n",
    "Distances_DF.toPandas().to_csv(buf, index=False)\n",
    "buf.seek(0)  # Move to start of buffer\n",
    "\n",
    "# 🔹 Convert buffer to Base64\n",
    "encoded_content = base64.b64encode(buf.read()).decode(\"utf-8\")\n",
    "\n",
    "filename = f\"Distances_DF_{Competition_Year}_{API_Service}_{datetime.today().date()}.csv\""
   ]
  },
  {
   "cell_type": "markdown",
   "metadata": {
    "application/vnd.databricks.v1+cell": {
     "cellMetadata": {
      "byteLimit": 2048000,
      "rowLimit": 10000
     },
     "inputWidgets": {},
     "nuid": "d5435621-b167-466b-8e7b-3c1494332e2d",
     "showTitle": false,
     "tableResultSettingsMap": {},
     "title": ""
    },
    "id": "oMV1YQAeH8-F"
   },
   "source": [
    "### Upload Distances_DF csv to GitHub filestore"
   ]
  },
  {
   "cell_type": "code",
   "execution_count": 0,
   "metadata": {
    "application/vnd.databricks.v1+cell": {
     "cellMetadata": {
      "byteLimit": 2048000,
      "rowLimit": 10000
     },
     "inputWidgets": {},
     "nuid": "d78d845d-183c-4361-8c3b-0dfe82f02b62",
     "showTitle": false,
     "tableResultSettingsMap": {},
     "title": ""
    },
    "id": "X9QXGu2xH8p8"
   },
   "outputs": [
    {
     "output_type": "stream",
     "name": "stdout",
     "output_type": "stream",
     "text": [
      "✅ Distances_DF_2025_Bing Maps_2025-02-25.csv uploaded successfully to Dovetrek/DataFrames (Filestore branch)!\n"
     ]
    }
   ],
   "source": [
    "# 🔹 GitHub API URL\n",
    "url = f\"https://api.github.com/repos/liamj-f/Dovetrek/contents/DataFrames/{filename}\"\n",
    "\n",
    "# Get the latest SHA (if the file exists)\n",
    "response = requests.get(url, headers={\"Authorization\": f\"token {DovetrekRepoPAT}\"})\n",
    "sha = response.json().get(\"sha\") if response.status_code == 200 else None\n",
    "\n",
    "# 🔹 Upload file to GitHub\n",
    "payload = {\n",
    "    \"message\": f\"Auto-upload {filename} from notebook run\",\n",
    "    \"content\": encoded_content,\n",
    "    \"branch\": \"FileStore\"\n",
    "}\n",
    "if sha:\n",
    "    payload[\"sha\"] = sha  # Required if updating an existing file\n",
    "\n",
    "response = requests.put(url, headers={\"Authorization\": f\"token {DovetrekRepoPAT}\"}, json=payload)\n",
    "\n",
    "if response.status_code in [200, 201]:\n",
    "    print(f\"✅ {filename} uploaded successfully to Dovetrek/DataFrames (Filestore branch)!\")\n",
    "else:\n",
    "    print(f\"❌ Error: {response.status_code} - {response.text}\")"
   ]
  }
 ],
 "metadata": {
  "application/vnd.databricks.v1+notebook": {
   "computePreferences": null,
   "dashboards": [],
   "environmentMetadata": {
    "base_environment": "",
    "environment_version": "2"
   },
   "language": "python",
   "notebookMetadata": {
    "pythonIndentUnit": 2,
    "widgetLayout": [
     {
      "breakBefore": false,
      "name": "API_Service",
      "width": 190
     },
     {
      "breakBefore": false,
      "name": "Competition_Year",
      "width": 190
     },
     {
      "breakBefore": false,
      "name": "Dwell",
      "width": 190
     },
     {
      "breakBefore": false,
      "name": "Naismith",
      "width": 190
     },
     {
      "breakBefore": false,
      "name": "Speed",
      "width": 190
     }
    ]
   },
   "notebookName": "Dovetrek Distances Calculator",
   "widgets": {
    "API_Service": {
     "currentValue": "Bing Maps",
     "nuid": "4af94965-bf6a-4581-9869-4c3791367508",
     "typedWidgetInfo": {
      "autoCreated": false,
      "defaultValue": "Google Maps",
      "label": null,
      "name": "API_Service",
      "options": {
       "widgetDisplayType": "Dropdown",
       "choices": [
        "Bing Maps",
        "Google Maps",
        "OpenRouteService",
        "Azure Maps & OpenTopoData"
       ],
       "fixedDomain": true,
       "multiselect": false
      },
      "parameterDataType": "String"
     },
     "widgetInfo": {
      "widgetType": "dropdown",
      "defaultValue": "Google Maps",
      "label": null,
      "name": "API_Service",
      "options": {
       "widgetType": "dropdown",
       "autoCreated": null,
       "choices": [
        "Bing Maps",
        "Google Maps",
        "OpenRouteService",
        "Azure Maps & OpenTopoData"
       ]
      }
     }
    },
    "Competition_Year": {
     "currentValue": "2025",
     "nuid": "fa25c94e-f505-4fec-9214-3aa56df90164",
     "typedWidgetInfo": {
      "autoCreated": false,
      "defaultValue": "2025",
      "label": null,
      "name": "Competition_Year",
      "options": {
       "widgetDisplayType": "Dropdown",
       "choices": [
        "2025",
        "2024",
        "2019",
        "2018",
        "2017"
       ],
       "fixedDomain": true,
       "multiselect": false
      },
      "parameterDataType": "String"
     },
     "widgetInfo": {
      "widgetType": "dropdown",
      "defaultValue": "2025",
      "label": null,
      "name": "Competition_Year",
      "options": {
       "widgetType": "dropdown",
       "autoCreated": null,
       "choices": [
        "2025",
        "2024",
        "2019",
        "2018",
        "2017"
       ]
      }
     }
    }
   }
  },
  "colab": {
   "provenance": [],
   "toc_visible": true
  },
  "kernelspec": {
   "display_name": "Python 3",
   "name": "python3"
  },
  "language_info": {
   "name": "python"
  }
 },
 "nbformat": 4,
 "nbformat_minor": 0
}